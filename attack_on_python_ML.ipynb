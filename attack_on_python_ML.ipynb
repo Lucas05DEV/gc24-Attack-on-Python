{
 "cells": [
  {
   "cell_type": "markdown",
   "id": "0ef864ca-0570-4a6b-8ed3-fbd1b2c7e35d",
   "metadata": {},
   "source": [
    "#### Dividir os dados em conjuntos de treino, teste e validação (se necessário)."
   ]
  },
  {
   "cell_type": "code",
   "execution_count": 5,
   "id": "e48c4f20-b22d-4a04-872a-1c2ec33b8586",
   "metadata": {},
   "outputs": [
    {
     "data": {
      "text/plain": [
       "Index(['magnitude', 'data', 'hora', 'periodo', 'subnational', 'city', 'depth',\n",
       "       'felt', 'continent', 'latitude', 'longitude', 'mmi', 'cdi', 'impacto',\n",
       "       'magnitude_range', 'media por magnitude', 'label_periodo',\n",
       "       'label_continente', 'label_impacto', 'magnitude_por_depth',\n",
       "       'factor_magnitude_depth', 'magnitude_quadrada'],\n",
       "      dtype='object')"
      ]
     },
     "execution_count": 5,
     "metadata": {},
     "output_type": "execute_result"
    }
   ],
   "source": [
    "import pandas as pd\n",
    "import matplotlib.pyplot as plt\n",
    "import seaborn as sns\n",
    "\n",
    "df = pd.read_csv('data_root/df_normalizado.csv',index_col=0)\n",
    "df.columns"
   ]
  },
  {
   "cell_type": "code",
   "execution_count": 4,
   "id": "b9d61e71-6b7e-443c-a01e-bc0613b8e7ba",
   "metadata": {},
   "outputs": [],
   "source": [
    "features = ['label_continente','magnitude','longitude','magnitude_range', 'magnitude_quadrada']\n",
    "target = 'label_impacto'"
   ]
  }
 ],
 "metadata": {
  "kernelspec": {
   "display_name": "Python 3 (ipykernel)",
   "language": "python",
   "name": "python3"
  },
  "language_info": {
   "codemirror_mode": {
    "name": "ipython",
    "version": 3
   },
   "file_extension": ".py",
   "mimetype": "text/x-python",
   "name": "python",
   "nbconvert_exporter": "python",
   "pygments_lexer": "ipython3",
   "version": "3.9.11"
  }
 },
 "nbformat": 4,
 "nbformat_minor": 5
}
