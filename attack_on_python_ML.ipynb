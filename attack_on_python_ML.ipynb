{
 "cells": [
  {
<<<<<<< HEAD
   "cell_type": "markdown",
   "id": "0ef864ca-0570-4a6b-8ed3-fbd1b2c7e35d",
   "metadata": {},
   "source": [
    "#### Dividir os dados em conjuntos de treino, teste e validação (se necessário)."
=======
   "cell_type": "code",
   "execution_count": 9,
   "id": "b848c3f9-1181-40ee-b133-a2db7c692645",
   "metadata": {},
   "outputs": [],
   "source": [
    "import pandas as pd\n",
    "import numpy as np\n",
    "import seaborn as sns\n",
    "import matplotlib.pyplot as plt\n",
    "from sklearn.model_selection import GridSearchCV\n",
    "from sklearn.model_selection import train_test_split\n",
    "from sklearn.ensemble import RandomForestRegressor\n",
    "from sklearn.metrics import mean_squared_error, mean_absolute_error, r2_score\n",
    "from sklearn.metrics import confusion_matrix, ConfusionMatrixDisplay"
>>>>>>> feature-S04T05/Gerar_gráficos_de_desempenho
   ]
  },
  {
   "cell_type": "code",
<<<<<<< HEAD
   "execution_count": 5,
   "id": "e48c4f20-b22d-4a04-872a-1c2ec33b8586",
=======
   "execution_count": 10,
   "id": "78480c69-adc0-448c-9d7f-fbf25ce82565",
>>>>>>> feature-S04T05/Gerar_gráficos_de_desempenho
   "metadata": {},
   "outputs": [
    {
     "data": {
<<<<<<< HEAD
      "text/plain": [
       "Index(['magnitude', 'data', 'hora', 'periodo', 'subnational', 'city', 'depth',\n",
       "       'felt', 'continent', 'latitude', 'longitude', 'mmi', 'cdi', 'impacto',\n",
       "       'magnitude_range', 'media por magnitude', 'label_periodo',\n",
       "       'label_continente', 'label_impacto', 'magnitude_por_depth',\n",
       "       'factor_magnitude_depth', 'magnitude_quadrada'],\n",
       "      dtype='object')"
      ]
     },
     "execution_count": 5,
     "metadata": {},
     "output_type": "execute_result"
    }
   ],
   "source": [
    "import pandas as pd\n",
    "import matplotlib.pyplot as plt\n",
    "import seaborn as sns\n",
    "\n",
    "df = pd.read_csv('data_root/df_normalizado.csv',index_col=0)\n",
    "df.columns"
=======
      "text/html": [
       "<div>\n",
       "<style scoped>\n",
       "    .dataframe tbody tr th:only-of-type {\n",
       "        vertical-align: middle;\n",
       "    }\n",
       "\n",
       "    .dataframe tbody tr th {\n",
       "        vertical-align: top;\n",
       "    }\n",
       "\n",
       "    .dataframe thead th {\n",
       "        text-align: right;\n",
       "    }\n",
       "</style>\n",
       "<table border=\"1\" class=\"dataframe\">\n",
       "  <thead>\n",
       "    <tr style=\"text-align: right;\">\n",
       "      <th></th>\n",
       "      <th>magnitude</th>\n",
       "      <th>data</th>\n",
       "      <th>hora</th>\n",
       "      <th>periodo</th>\n",
       "      <th>depth</th>\n",
       "      <th>felt</th>\n",
       "      <th>continent</th>\n",
       "      <th>latitude</th>\n",
       "      <th>longitude</th>\n",
       "      <th>mmi</th>\n",
       "      <th>cdi</th>\n",
       "      <th>impacto</th>\n",
       "      <th>magnitude_range</th>\n",
       "      <th>media por magnitude</th>\n",
       "    </tr>\n",
       "  </thead>\n",
       "  <tbody>\n",
       "    <tr>\n",
       "      <th>0</th>\n",
       "      <td>4.8</td>\n",
       "      <td>2024-09-17</td>\n",
       "      <td>00:49:42</td>\n",
       "      <td>Noite</td>\n",
       "      <td>4.0440</td>\n",
       "      <td>1893</td>\n",
       "      <td>North America</td>\n",
       "      <td>32.3984</td>\n",
       "      <td>-102.0440</td>\n",
       "      <td>5</td>\n",
       "      <td>6</td>\n",
       "      <td>Baixo</td>\n",
       "      <td>4-5</td>\n",
       "      <td>13.948079</td>\n",
       "    </tr>\n",
       "    <tr>\n",
       "      <th>1</th>\n",
       "      <td>5.1</td>\n",
       "      <td>2024-09-17</td>\n",
       "      <td>00:49:42</td>\n",
       "      <td>Noite</td>\n",
       "      <td>6.1279</td>\n",
       "      <td>2042</td>\n",
       "      <td>North America</td>\n",
       "      <td>32.4140</td>\n",
       "      <td>-102.0570</td>\n",
       "      <td>5</td>\n",
       "      <td>6</td>\n",
       "      <td>Médio</td>\n",
       "      <td>5-6</td>\n",
       "      <td>47.337353</td>\n",
       "    </tr>\n",
       "    <tr>\n",
       "      <th>2</th>\n",
       "      <td>3.7</td>\n",
       "      <td>2024-09-16</td>\n",
       "      <td>11:22:08</td>\n",
       "      <td>Manhã</td>\n",
       "      <td>10.9000</td>\n",
       "      <td>1580</td>\n",
       "      <td>North America</td>\n",
       "      <td>34.0678</td>\n",
       "      <td>-118.8070</td>\n",
       "      <td>4</td>\n",
       "      <td>4</td>\n",
       "      <td>Baixo</td>\n",
       "      <td>3-4</td>\n",
       "      <td>9.475134</td>\n",
       "    </tr>\n",
       "    <tr>\n",
       "      <th>3</th>\n",
       "      <td>3.9</td>\n",
       "      <td>2024-09-14</td>\n",
       "      <td>17:01:06</td>\n",
       "      <td>Tarde</td>\n",
       "      <td>6.2024</td>\n",
       "      <td>5</td>\n",
       "      <td>North America</td>\n",
       "      <td>31.6470</td>\n",
       "      <td>-104.4500</td>\n",
       "      <td>4</td>\n",
       "      <td>3</td>\n",
       "      <td>Baixo</td>\n",
       "      <td>3-4</td>\n",
       "      <td>9.475134</td>\n",
       "    </tr>\n",
       "    <tr>\n",
       "      <th>4</th>\n",
       "      <td>4.1</td>\n",
       "      <td>2024-09-14</td>\n",
       "      <td>17:01:06</td>\n",
       "      <td>Tarde</td>\n",
       "      <td>8.8140</td>\n",
       "      <td>4</td>\n",
       "      <td>North America</td>\n",
       "      <td>31.6323</td>\n",
       "      <td>-104.4730</td>\n",
       "      <td>4</td>\n",
       "      <td>3</td>\n",
       "      <td>Baixo</td>\n",
       "      <td>4-5</td>\n",
       "      <td>13.948079</td>\n",
       "    </tr>\n",
       "    <tr>\n",
       "      <th>...</th>\n",
       "      <td>...</td>\n",
       "      <td>...</td>\n",
       "      <td>...</td>\n",
       "      <td>...</td>\n",
       "      <td>...</td>\n",
       "      <td>...</td>\n",
       "      <td>...</td>\n",
       "      <td>...</td>\n",
       "      <td>...</td>\n",
       "      <td>...</td>\n",
       "      <td>...</td>\n",
       "      <td>...</td>\n",
       "      <td>...</td>\n",
       "      <td>...</td>\n",
       "    </tr>\n",
       "    <tr>\n",
       "      <th>946</th>\n",
       "      <td>6.4</td>\n",
       "      <td>2024-01-11</td>\n",
       "      <td>09:20:26</td>\n",
       "      <td>Manhã</td>\n",
       "      <td>204.0000</td>\n",
       "      <td>111</td>\n",
       "      <td>Asia</td>\n",
       "      <td>36.5061</td>\n",
       "      <td>70.5994</td>\n",
       "      <td>4</td>\n",
       "      <td>5</td>\n",
       "      <td>Alto</td>\n",
       "      <td>6-7</td>\n",
       "      <td>112.842579</td>\n",
       "    </tr>\n",
       "    <tr>\n",
       "      <th>947</th>\n",
       "      <td>5.1</td>\n",
       "      <td>2023-12-18</td>\n",
       "      <td>10:18:52</td>\n",
       "      <td>Manhã</td>\n",
       "      <td>10.0000</td>\n",
       "      <td>8</td>\n",
       "      <td>Asia</td>\n",
       "      <td>33.2109</td>\n",
       "      <td>76.7733</td>\n",
       "      <td>6</td>\n",
       "      <td>5</td>\n",
       "      <td>Médio</td>\n",
       "      <td>5-6</td>\n",
       "      <td>47.337353</td>\n",
       "    </tr>\n",
       "    <tr>\n",
       "      <th>948</th>\n",
       "      <td>5.2</td>\n",
       "      <td>2023-10-22</td>\n",
       "      <td>01:54:21</td>\n",
       "      <td>Noite</td>\n",
       "      <td>25.7060</td>\n",
       "      <td>87</td>\n",
       "      <td>Asia</td>\n",
       "      <td>27.8679</td>\n",
       "      <td>84.7191</td>\n",
       "      <td>5</td>\n",
       "      <td>4</td>\n",
       "      <td>Médio</td>\n",
       "      <td>5-6</td>\n",
       "      <td>47.337353</td>\n",
       "    </tr>\n",
       "    <tr>\n",
       "      <th>949</th>\n",
       "      <td>5.0</td>\n",
       "      <td>2023-10-17</td>\n",
       "      <td>08:22:11</td>\n",
       "      <td>Manhã</td>\n",
       "      <td>10.0000</td>\n",
       "      <td>2</td>\n",
       "      <td>Asia</td>\n",
       "      <td>27.6888</td>\n",
       "      <td>56.0903</td>\n",
       "      <td>6</td>\n",
       "      <td>5</td>\n",
       "      <td>Baixo</td>\n",
       "      <td>4-5</td>\n",
       "      <td>13.948079</td>\n",
       "    </tr>\n",
       "    <tr>\n",
       "      <th>950</th>\n",
       "      <td>5.8</td>\n",
       "      <td>2023-08-05</td>\n",
       "      <td>16:01:49</td>\n",
       "      <td>Tarde</td>\n",
       "      <td>209.0000</td>\n",
       "      <td>25</td>\n",
       "      <td>Asia</td>\n",
       "      <td>36.4512</td>\n",
       "      <td>70.7023</td>\n",
       "      <td>4</td>\n",
       "      <td>5</td>\n",
       "      <td>Médio</td>\n",
       "      <td>5-6</td>\n",
       "      <td>47.337353</td>\n",
       "    </tr>\n",
       "  </tbody>\n",
       "</table>\n",
       "<p>951 rows × 14 columns</p>\n",
       "</div>"
      ],
      "text/plain": [
       "     magnitude        data      hora periodo     depth  felt      continent  \\\n",
       "0          4.8  2024-09-17  00:49:42   Noite    4.0440  1893  North America   \n",
       "1          5.1  2024-09-17  00:49:42   Noite    6.1279  2042  North America   \n",
       "2          3.7  2024-09-16  11:22:08   Manhã   10.9000  1580  North America   \n",
       "3          3.9  2024-09-14  17:01:06   Tarde    6.2024     5  North America   \n",
       "4          4.1  2024-09-14  17:01:06   Tarde    8.8140     4  North America   \n",
       "..         ...         ...       ...     ...       ...   ...            ...   \n",
       "946        6.4  2024-01-11  09:20:26   Manhã  204.0000   111           Asia   \n",
       "947        5.1  2023-12-18  10:18:52   Manhã   10.0000     8           Asia   \n",
       "948        5.2  2023-10-22  01:54:21   Noite   25.7060    87           Asia   \n",
       "949        5.0  2023-10-17  08:22:11   Manhã   10.0000     2           Asia   \n",
       "950        5.8  2023-08-05  16:01:49   Tarde  209.0000    25           Asia   \n",
       "\n",
       "     latitude  longitude  mmi  cdi impacto magnitude_range  \\\n",
       "0     32.3984  -102.0440    5    6   Baixo             4-5   \n",
       "1     32.4140  -102.0570    5    6   Médio             5-6   \n",
       "2     34.0678  -118.8070    4    4   Baixo             3-4   \n",
       "3     31.6470  -104.4500    4    3   Baixo             3-4   \n",
       "4     31.6323  -104.4730    4    3   Baixo             4-5   \n",
       "..        ...        ...  ...  ...     ...             ...   \n",
       "946   36.5061    70.5994    4    5    Alto             6-7   \n",
       "947   33.2109    76.7733    6    5   Médio             5-6   \n",
       "948   27.8679    84.7191    5    4   Médio             5-6   \n",
       "949   27.6888    56.0903    6    5   Baixo             4-5   \n",
       "950   36.4512    70.7023    4    5   Médio             5-6   \n",
       "\n",
       "     media por magnitude  \n",
       "0              13.948079  \n",
       "1              47.337353  \n",
       "2               9.475134  \n",
       "3               9.475134  \n",
       "4              13.948079  \n",
       "..                   ...  \n",
       "946           112.842579  \n",
       "947            47.337353  \n",
       "948            47.337353  \n",
       "949            13.948079  \n",
       "950            47.337353  \n",
       "\n",
       "[951 rows x 14 columns]"
      ]
     },
     "metadata": {},
     "output_type": "display_data"
    }
   ],
   "source": [
    "df = pd.read_csv(\"data_root/df_limpo_refatorado.csv\", index_col=0)\n",
    "display(df)"
>>>>>>> feature-S04T05/Gerar_gráficos_de_desempenho
   ]
  },
  {
   "cell_type": "code",
<<<<<<< HEAD
   "execution_count": 4,
   "id": "b9d61e71-6b7e-443c-a01e-bc0613b8e7ba",
   "metadata": {},
   "outputs": [],
   "source": [
    "features = ['label_continente','magnitude','longitude','magnitude_range', 'magnitude_quadrada']\n",
    "target = 'label_impacto'"
   ]
=======
   "execution_count": 11,
   "id": "23024f06-1c07-4b32-bfc6-47f0ed47bd54",
   "metadata": {},
   "outputs": [],
   "source": [
    "features = ['depth', 'latitude', 'longitude', 'mmi', 'cdi']\n",
    "target = 'magnitude'\n",
    "\n",
    "X = df[features]\n",
    "y = df[target]\n",
    "\n",
    "y = np.ravel(y)"
   ]
  },
  {
   "cell_type": "code",
   "execution_count": 12,
   "id": "bda9179c-4c09-404e-84bd-0b7ab04408b8",
   "metadata": {},
   "outputs": [],
   "source": [
    "X_train, X_test, y_train, y_test = train_test_split(X, y, test_size=0.3, random_state=42)"
   ]
  },
  {
   "cell_type": "code",
   "execution_count": 13,
   "id": "44b5e71d-b5d2-4f3b-9173-d144ee54da9e",
   "metadata": {},
   "outputs": [
    {
     "name": "stdout",
     "output_type": "stream",
     "text": [
      "665 286 665 286\n"
     ]
    }
   ],
   "source": [
    "print(len(X_train), len(X_test), len(y_train), len(y_test))"
   ]
  },
  {
   "cell_type": "code",
   "execution_count": 15,
   "id": "870d9c79-deae-48d1-b438-e95abfad52c1",
   "metadata": {},
   "outputs": [
    {
     "name": "stdout",
     "output_type": "stream",
     "text": [
      "Coeficiente de determinação: 0.9361286964187041\n",
      "Erro quadrático médio: 0.06495237685314693\n",
      "Erro absoluto médio: 0.1452286713286717\n"
     ]
    }
   ],
   "source": [
    "# Fzendo o modelo Random Forest\n",
    "model = RandomForestRegressor(random_state=42)\n",
    "model.fit(X_train, y_train)\n",
    "\n",
    "# Fazendo previsôes no conjunto de teste\n",
    "y_pred = model.predict(X_test)\n",
    "\n",
    "# Avaliando modelo calculando MSE\n",
    "\n",
    "r2 = r2_score(y_test, y_pred)\n",
    "mse = mean_squared_error(y_test, y_pred)\n",
    "mae = mean_absolute_error(y_test, y_pred)\n",
    "\n",
    "print(f\"Coeficiente de determinação:\", r2)\n",
    "print(f\"Erro quadrático médio:\", mse)\n",
    "print(f\"Erro absoluto médio:\", mae)"
   ]
  },
  {
   "cell_type": "code",
   "execution_count": 16,
   "id": "10eec532-8685-416f-91ec-25a44390c7cd",
   "metadata": {},
   "outputs": [
    {
     "data": {
      "image/png": "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",
      "text/plain": [
       "<Figure size 640x480 with 1 Axes>"
      ]
     },
     "metadata": {},
     "output_type": "display_data"
    }
   ],
   "source": [
    "plt.scatter(y_test, y_pred)\n",
    "plt.plot([min(y_test), max(y_test)], [min(y_test), max(y_test)], color='red')\n",
    "plt.xlabel('Valores Reais')\n",
    "plt.ylabel('Valores Preditos')\n",
    "plt.title('Reais vs Preditos')\n",
    "plt.show()"
   ]
  },
  {
   "cell_type": "code",
   "execution_count": null,
   "id": "34bd8fd1-933f-44f6-b305-cd8932214aa3",
   "metadata": {},
   "outputs": [],
   "source": []
>>>>>>> feature-S04T05/Gerar_gráficos_de_desempenho
  }
 ],
 "metadata": {
  "kernelspec": {
   "display_name": "Python 3 (ipykernel)",
   "language": "python",
   "name": "python3"
  },
  "language_info": {
   "codemirror_mode": {
    "name": "ipython",
    "version": 3
   },
   "file_extension": ".py",
   "mimetype": "text/x-python",
   "name": "python",
   "nbconvert_exporter": "python",
   "pygments_lexer": "ipython3",
<<<<<<< HEAD
   "version": "3.9.11"
=======
   "version": "3.12.4"
>>>>>>> feature-S04T05/Gerar_gráficos_de_desempenho
  }
 },
 "nbformat": 4,
 "nbformat_minor": 5
}
