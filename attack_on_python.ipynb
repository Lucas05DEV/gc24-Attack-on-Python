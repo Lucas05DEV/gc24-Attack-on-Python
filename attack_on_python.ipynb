{
 "cells": [
  {
   "cell_type": "code",
   "execution_count": 310,
   "id": "d54306a3-a4d6-40f4-875a-1773bc85a9ce",
   "metadata": {},
   "outputs": [],
   "source": [
    "import pandas as pd\n",
    "import plotly.express as px"
   ]
  },
  {
   "cell_type": "markdown",
   "id": "7137a1b3-f8fe-46bf-a6a2-26b0efb23105",
   "metadata": {},
   "source": [
    "# Calcular estatísticas descritivas (média, mediana, desvio padrão)."
   ]
  },
  {
   "cell_type": "code",
   "execution_count": 311,
   "id": "3da8d2dd-b4ca-46f2-a057-a16731186d21",
   "metadata": {},
   "outputs": [
    {
     "data": {
      "text/html": [
       "<div>\n",
       "<style scoped>\n",
       "    .dataframe tbody tr th:only-of-type {\n",
       "        vertical-align: middle;\n",
       "    }\n",
       "\n",
       "    .dataframe tbody tr th {\n",
       "        vertical-align: top;\n",
       "    }\n",
       "\n",
       "    .dataframe thead th {\n",
       "        text-align: right;\n",
       "    }\n",
       "</style>\n",
       "<table border=\"1\" class=\"dataframe\">\n",
       "  <thead>\n",
       "    <tr style=\"text-align: right;\">\n",
       "      <th></th>\n",
       "      <th>id</th>\n",
       "      <th>magnitude</th>\n",
       "      <th>type</th>\n",
       "      <th>title</th>\n",
       "      <th>date</th>\n",
       "      <th>time</th>\n",
       "      <th>updated</th>\n",
       "      <th>url</th>\n",
       "      <th>detailUrl</th>\n",
       "      <th>felt</th>\n",
       "      <th>...</th>\n",
       "      <th>location</th>\n",
       "      <th>continent</th>\n",
       "      <th>country</th>\n",
       "      <th>subnational</th>\n",
       "      <th>city</th>\n",
       "      <th>locality</th>\n",
       "      <th>postcode</th>\n",
       "      <th>what3words</th>\n",
       "      <th>timezone</th>\n",
       "      <th>locationDetails</th>\n",
       "    </tr>\n",
       "  </thead>\n",
       "  <tbody>\n",
       "    <tr>\n",
       "      <th>0</th>\n",
       "      <td>us7000necw</td>\n",
       "      <td>4.8</td>\n",
       "      <td>earthquake</td>\n",
       "      <td>M 4.8 - 33 km WSW of Ackerly, Texas</td>\n",
       "      <td>2024-09-17T00:49:42</td>\n",
       "      <td>1726534182289</td>\n",
       "      <td>1726583895255</td>\n",
       "      <td>https://earthquake.usgs.gov/earthquakes/eventp...</td>\n",
       "      <td>https://earthquake.usgs.gov/earthquakes/feed/v...</td>\n",
       "      <td>1893</td>\n",
       "      <td>...</td>\n",
       "      <td>Ackerly, Texas</td>\n",
       "      <td>North America</td>\n",
       "      <td>United States of America (the)</td>\n",
       "      <td>Texas</td>\n",
       "      <td>Tarzan-Lenorah</td>\n",
       "      <td>Tarzan-Lenorah</td>\n",
       "      <td>79783.0</td>\n",
       "      <td>landmass.perkily.affords</td>\n",
       "      <td>-300</td>\n",
       "      <td>[{'id': '80684', 'wikidataId': '', 'name': '79...</td>\n",
       "    </tr>\n",
       "    <tr>\n",
       "      <th>1</th>\n",
       "      <td>tx2024shcj</td>\n",
       "      <td>5.1</td>\n",
       "      <td>earthquake</td>\n",
       "      <td>M 5.1 - 34 km WSW of Ackerly, Texas</td>\n",
       "      <td>2024-09-17T00:49:42</td>\n",
       "      <td>1726534182183</td>\n",
       "      <td>1726672002991</td>\n",
       "      <td>https://earthquake.usgs.gov/earthquakes/eventp...</td>\n",
       "      <td>https://earthquake.usgs.gov/fdsnws/event/1/que...</td>\n",
       "      <td>2042</td>\n",
       "      <td>...</td>\n",
       "      <td>Ackerly, Texas</td>\n",
       "      <td>North America</td>\n",
       "      <td>United States of America (the)</td>\n",
       "      <td>Texas</td>\n",
       "      <td>Tarzan-Lenorah</td>\n",
       "      <td>Tarzan-Lenorah</td>\n",
       "      <td>79331.0</td>\n",
       "      <td>escalator.grownups.dwell</td>\n",
       "      <td>-300</td>\n",
       "      <td>[{'id': '89341', 'wikidataId': '', 'name': '48...</td>\n",
       "    </tr>\n",
       "    <tr>\n",
       "      <th>2</th>\n",
       "      <td>ci40734823</td>\n",
       "      <td>3.7</td>\n",
       "      <td>earthquake</td>\n",
       "      <td>M 3.7 - 6 km N of Malibu, CA</td>\n",
       "      <td>2024-09-16T11:22:08</td>\n",
       "      <td>1726485728190</td>\n",
       "      <td>1726637414586</td>\n",
       "      <td>https://earthquake.usgs.gov/earthquakes/eventp...</td>\n",
       "      <td>https://earthquake.usgs.gov/fdsnws/event/1/que...</td>\n",
       "      <td>1580</td>\n",
       "      <td>...</td>\n",
       "      <td>Malibu, CA</td>\n",
       "      <td>North America</td>\n",
       "      <td>United States of America (the)</td>\n",
       "      <td>California</td>\n",
       "      <td>Los Angeles</td>\n",
       "      <td>Agoura Hills-Malibu</td>\n",
       "      <td>90265.0</td>\n",
       "      <td>clocking.uploaded.issuer</td>\n",
       "      <td>-420</td>\n",
       "      <td>[{'id': '93478', 'wikidataId': 'Q844837', 'nam...</td>\n",
       "    </tr>\n",
       "    <tr>\n",
       "      <th>3</th>\n",
       "      <td>tx2024scvz</td>\n",
       "      <td>3.9</td>\n",
       "      <td>earthquake</td>\n",
       "      <td>M 3.9 - 58 km S of Whites City, New Mexico</td>\n",
       "      <td>2024-09-14T17:01:06</td>\n",
       "      <td>1726333266539</td>\n",
       "      <td>1726584426218</td>\n",
       "      <td>https://earthquake.usgs.gov/earthquakes/eventp...</td>\n",
       "      <td>https://earthquake.usgs.gov/fdsnws/event/1/que...</td>\n",
       "      <td>5</td>\n",
       "      <td>...</td>\n",
       "      <td>Whites City, New Mexico</td>\n",
       "      <td>North America</td>\n",
       "      <td>United States of America (the)</td>\n",
       "      <td>Texas</td>\n",
       "      <td>Van Horn</td>\n",
       "      <td>Van Horn</td>\n",
       "      <td>NaN</td>\n",
       "      <td>sailboats.sawn.speeding</td>\n",
       "      <td>-300</td>\n",
       "      <td>[{'id': '9', 'wikidataId': 'Q49', 'name': 'Nor...</td>\n",
       "    </tr>\n",
       "    <tr>\n",
       "      <th>4</th>\n",
       "      <td>us7000ndte</td>\n",
       "      <td>4.1</td>\n",
       "      <td>earthquake</td>\n",
       "      <td>M 4.1 - 60 km S of Whites City, New Mexico</td>\n",
       "      <td>2024-09-14T17:01:06</td>\n",
       "      <td>1726333266382</td>\n",
       "      <td>1726334616179</td>\n",
       "      <td>https://earthquake.usgs.gov/earthquakes/eventp...</td>\n",
       "      <td>https://earthquake.usgs.gov/earthquakes/feed/v...</td>\n",
       "      <td>4</td>\n",
       "      <td>...</td>\n",
       "      <td>Whites City, New Mexico</td>\n",
       "      <td>North America</td>\n",
       "      <td>United States of America (the)</td>\n",
       "      <td>Texas</td>\n",
       "      <td>Van Horn</td>\n",
       "      <td>Van Horn</td>\n",
       "      <td>NaN</td>\n",
       "      <td>spinners.downtime.computes</td>\n",
       "      <td>-300</td>\n",
       "      <td>[{'id': '9', 'wikidataId': 'Q49', 'name': 'Nor...</td>\n",
       "    </tr>\n",
       "  </tbody>\n",
       "</table>\n",
       "<p>5 rows × 43 columns</p>\n",
       "</div>"
      ],
      "text/plain": [
       "           id  magnitude        type  \\\n",
       "0  us7000necw        4.8  earthquake   \n",
       "1  tx2024shcj        5.1  earthquake   \n",
       "2  ci40734823        3.7  earthquake   \n",
       "3  tx2024scvz        3.9  earthquake   \n",
       "4  us7000ndte        4.1  earthquake   \n",
       "\n",
       "                                        title                 date  \\\n",
       "0         M 4.8 - 33 km WSW of Ackerly, Texas  2024-09-17T00:49:42   \n",
       "1         M 5.1 - 34 km WSW of Ackerly, Texas  2024-09-17T00:49:42   \n",
       "2                M 3.7 - 6 km N of Malibu, CA  2024-09-16T11:22:08   \n",
       "3  M 3.9 - 58 km S of Whites City, New Mexico  2024-09-14T17:01:06   \n",
       "4  M 4.1 - 60 km S of Whites City, New Mexico  2024-09-14T17:01:06   \n",
       "\n",
       "            time        updated  \\\n",
       "0  1726534182289  1726583895255   \n",
       "1  1726534182183  1726672002991   \n",
       "2  1726485728190  1726637414586   \n",
       "3  1726333266539  1726584426218   \n",
       "4  1726333266382  1726334616179   \n",
       "\n",
       "                                                 url  \\\n",
       "0  https://earthquake.usgs.gov/earthquakes/eventp...   \n",
       "1  https://earthquake.usgs.gov/earthquakes/eventp...   \n",
       "2  https://earthquake.usgs.gov/earthquakes/eventp...   \n",
       "3  https://earthquake.usgs.gov/earthquakes/eventp...   \n",
       "4  https://earthquake.usgs.gov/earthquakes/eventp...   \n",
       "\n",
       "                                           detailUrl  felt  ...  \\\n",
       "0  https://earthquake.usgs.gov/earthquakes/feed/v...  1893  ...   \n",
       "1  https://earthquake.usgs.gov/fdsnws/event/1/que...  2042  ...   \n",
       "2  https://earthquake.usgs.gov/fdsnws/event/1/que...  1580  ...   \n",
       "3  https://earthquake.usgs.gov/fdsnws/event/1/que...     5  ...   \n",
       "4  https://earthquake.usgs.gov/earthquakes/feed/v...     4  ...   \n",
       "\n",
       "                  location      continent                         country  \\\n",
       "0           Ackerly, Texas  North America  United States of America (the)   \n",
       "1           Ackerly, Texas  North America  United States of America (the)   \n",
       "2               Malibu, CA  North America  United States of America (the)   \n",
       "3  Whites City, New Mexico  North America  United States of America (the)   \n",
       "4  Whites City, New Mexico  North America  United States of America (the)   \n",
       "\n",
       "  subnational            city             locality postcode  \\\n",
       "0       Texas  Tarzan-Lenorah       Tarzan-Lenorah  79783.0   \n",
       "1       Texas  Tarzan-Lenorah       Tarzan-Lenorah  79331.0   \n",
       "2  California     Los Angeles  Agoura Hills-Malibu  90265.0   \n",
       "3       Texas        Van Horn             Van Horn      NaN   \n",
       "4       Texas        Van Horn             Van Horn      NaN   \n",
       "\n",
       "                   what3words timezone  \\\n",
       "0    landmass.perkily.affords     -300   \n",
       "1    escalator.grownups.dwell     -300   \n",
       "2    clocking.uploaded.issuer     -420   \n",
       "3     sailboats.sawn.speeding     -300   \n",
       "4  spinners.downtime.computes     -300   \n",
       "\n",
       "                                     locationDetails  \n",
       "0  [{'id': '80684', 'wikidataId': '', 'name': '79...  \n",
       "1  [{'id': '89341', 'wikidataId': '', 'name': '48...  \n",
       "2  [{'id': '93478', 'wikidataId': 'Q844837', 'nam...  \n",
       "3  [{'id': '9', 'wikidataId': 'Q49', 'name': 'Nor...  \n",
       "4  [{'id': '9', 'wikidataId': 'Q49', 'name': 'Nor...  \n",
       "\n",
       "[5 rows x 43 columns]"
      ]
     },
     "execution_count": 311,
     "metadata": {},
     "output_type": "execute_result"
    }
   ],
   "source": [
    "csv_path = \"data_root/earthquakes.csv\"\n",
    "df = pd.read_csv(csv_path)\n",
    "df.head()"
   ]
  },
  {
   "cell_type": "code",
   "execution_count": 312,
   "id": "47529a4e-a12e-41e8-9845-202cf1150d28",
   "metadata": {},
   "outputs": [
    {
     "data": {
      "text/html": [
       "<div>\n",
       "<style scoped>\n",
       "    .dataframe tbody tr th:only-of-type {\n",
       "        vertical-align: middle;\n",
       "    }\n",
       "\n",
       "    .dataframe tbody tr th {\n",
       "        vertical-align: top;\n",
       "    }\n",
       "\n",
       "    .dataframe thead th {\n",
       "        text-align: right;\n",
       "    }\n",
       "</style>\n",
       "<table border=\"1\" class=\"dataframe\">\n",
       "  <thead>\n",
       "    <tr style=\"text-align: right;\">\n",
       "      <th></th>\n",
       "      <th>id</th>\n",
       "      <th>magnitude</th>\n",
       "      <th>type</th>\n",
       "      <th>title</th>\n",
       "      <th>date</th>\n",
       "      <th>felt</th>\n",
       "      <th>cdi</th>\n",
       "      <th>mmi</th>\n",
       "      <th>alert</th>\n",
       "      <th>status</th>\n",
       "      <th>...</th>\n",
       "      <th>location</th>\n",
       "      <th>continent</th>\n",
       "      <th>country</th>\n",
       "      <th>subnational</th>\n",
       "      <th>city</th>\n",
       "      <th>locality</th>\n",
       "      <th>postcode</th>\n",
       "      <th>what3words</th>\n",
       "      <th>timezone</th>\n",
       "      <th>locationDetails</th>\n",
       "    </tr>\n",
       "  </thead>\n",
       "  <tbody>\n",
       "    <tr>\n",
       "      <th>0</th>\n",
       "      <td>us7000necw</td>\n",
       "      <td>4.8</td>\n",
       "      <td>earthquake</td>\n",
       "      <td>M 4.8 - 33 km WSW of Ackerly, Texas</td>\n",
       "      <td>2024-09-17T00:49:42</td>\n",
       "      <td>1893</td>\n",
       "      <td>6</td>\n",
       "      <td>5</td>\n",
       "      <td>green</td>\n",
       "      <td>reviewed</td>\n",
       "      <td>...</td>\n",
       "      <td>Ackerly, Texas</td>\n",
       "      <td>North America</td>\n",
       "      <td>United States of America (the)</td>\n",
       "      <td>Texas</td>\n",
       "      <td>Tarzan-Lenorah</td>\n",
       "      <td>Tarzan-Lenorah</td>\n",
       "      <td>79783.0</td>\n",
       "      <td>landmass.perkily.affords</td>\n",
       "      <td>-300</td>\n",
       "      <td>[{'id': '80684', 'wikidataId': '', 'name': '79...</td>\n",
       "    </tr>\n",
       "    <tr>\n",
       "      <th>1</th>\n",
       "      <td>tx2024shcj</td>\n",
       "      <td>5.1</td>\n",
       "      <td>earthquake</td>\n",
       "      <td>M 5.1 - 34 km WSW of Ackerly, Texas</td>\n",
       "      <td>2024-09-17T00:49:42</td>\n",
       "      <td>2042</td>\n",
       "      <td>6</td>\n",
       "      <td>5</td>\n",
       "      <td>green</td>\n",
       "      <td>reviewed</td>\n",
       "      <td>...</td>\n",
       "      <td>Ackerly, Texas</td>\n",
       "      <td>North America</td>\n",
       "      <td>United States of America (the)</td>\n",
       "      <td>Texas</td>\n",
       "      <td>Tarzan-Lenorah</td>\n",
       "      <td>Tarzan-Lenorah</td>\n",
       "      <td>79331.0</td>\n",
       "      <td>escalator.grownups.dwell</td>\n",
       "      <td>-300</td>\n",
       "      <td>[{'id': '89341', 'wikidataId': '', 'name': '48...</td>\n",
       "    </tr>\n",
       "    <tr>\n",
       "      <th>2</th>\n",
       "      <td>ci40734823</td>\n",
       "      <td>3.7</td>\n",
       "      <td>earthquake</td>\n",
       "      <td>M 3.7 - 6 km N of Malibu, CA</td>\n",
       "      <td>2024-09-16T11:22:08</td>\n",
       "      <td>1580</td>\n",
       "      <td>4</td>\n",
       "      <td>4</td>\n",
       "      <td>NaN</td>\n",
       "      <td>reviewed</td>\n",
       "      <td>...</td>\n",
       "      <td>Malibu, CA</td>\n",
       "      <td>North America</td>\n",
       "      <td>United States of America (the)</td>\n",
       "      <td>California</td>\n",
       "      <td>Los Angeles</td>\n",
       "      <td>Agoura Hills-Malibu</td>\n",
       "      <td>90265.0</td>\n",
       "      <td>clocking.uploaded.issuer</td>\n",
       "      <td>-420</td>\n",
       "      <td>[{'id': '93478', 'wikidataId': 'Q844837', 'nam...</td>\n",
       "    </tr>\n",
       "    <tr>\n",
       "      <th>3</th>\n",
       "      <td>tx2024scvz</td>\n",
       "      <td>3.9</td>\n",
       "      <td>earthquake</td>\n",
       "      <td>M 3.9 - 58 km S of Whites City, New Mexico</td>\n",
       "      <td>2024-09-14T17:01:06</td>\n",
       "      <td>5</td>\n",
       "      <td>3</td>\n",
       "      <td>4</td>\n",
       "      <td>green</td>\n",
       "      <td>reviewed</td>\n",
       "      <td>...</td>\n",
       "      <td>Whites City, New Mexico</td>\n",
       "      <td>North America</td>\n",
       "      <td>United States of America (the)</td>\n",
       "      <td>Texas</td>\n",
       "      <td>Van Horn</td>\n",
       "      <td>Van Horn</td>\n",
       "      <td>NaN</td>\n",
       "      <td>sailboats.sawn.speeding</td>\n",
       "      <td>-300</td>\n",
       "      <td>[{'id': '9', 'wikidataId': 'Q49', 'name': 'Nor...</td>\n",
       "    </tr>\n",
       "    <tr>\n",
       "      <th>4</th>\n",
       "      <td>us7000ndte</td>\n",
       "      <td>4.1</td>\n",
       "      <td>earthquake</td>\n",
       "      <td>M 4.1 - 60 km S of Whites City, New Mexico</td>\n",
       "      <td>2024-09-14T17:01:06</td>\n",
       "      <td>4</td>\n",
       "      <td>3</td>\n",
       "      <td>4</td>\n",
       "      <td>green</td>\n",
       "      <td>reviewed</td>\n",
       "      <td>...</td>\n",
       "      <td>Whites City, New Mexico</td>\n",
       "      <td>North America</td>\n",
       "      <td>United States of America (the)</td>\n",
       "      <td>Texas</td>\n",
       "      <td>Van Horn</td>\n",
       "      <td>Van Horn</td>\n",
       "      <td>NaN</td>\n",
       "      <td>spinners.downtime.computes</td>\n",
       "      <td>-300</td>\n",
       "      <td>[{'id': '9', 'wikidataId': 'Q49', 'name': 'Nor...</td>\n",
       "    </tr>\n",
       "  </tbody>\n",
       "</table>\n",
       "<p>5 rows × 36 columns</p>\n",
       "</div>"
      ],
      "text/plain": [
       "           id  magnitude        type  \\\n",
       "0  us7000necw        4.8  earthquake   \n",
       "1  tx2024shcj        5.1  earthquake   \n",
       "2  ci40734823        3.7  earthquake   \n",
       "3  tx2024scvz        3.9  earthquake   \n",
       "4  us7000ndte        4.1  earthquake   \n",
       "\n",
       "                                        title                 date  felt  cdi  \\\n",
       "0         M 4.8 - 33 km WSW of Ackerly, Texas  2024-09-17T00:49:42  1893    6   \n",
       "1         M 5.1 - 34 km WSW of Ackerly, Texas  2024-09-17T00:49:42  2042    6   \n",
       "2                M 3.7 - 6 km N of Malibu, CA  2024-09-16T11:22:08  1580    4   \n",
       "3  M 3.9 - 58 km S of Whites City, New Mexico  2024-09-14T17:01:06     5    3   \n",
       "4  M 4.1 - 60 km S of Whites City, New Mexico  2024-09-14T17:01:06     4    3   \n",
       "\n",
       "   mmi  alert    status  ...                 location      continent  \\\n",
       "0    5  green  reviewed  ...           Ackerly, Texas  North America   \n",
       "1    5  green  reviewed  ...           Ackerly, Texas  North America   \n",
       "2    4    NaN  reviewed  ...               Malibu, CA  North America   \n",
       "3    4  green  reviewed  ...  Whites City, New Mexico  North America   \n",
       "4    4  green  reviewed  ...  Whites City, New Mexico  North America   \n",
       "\n",
       "                          country subnational            city  \\\n",
       "0  United States of America (the)       Texas  Tarzan-Lenorah   \n",
       "1  United States of America (the)       Texas  Tarzan-Lenorah   \n",
       "2  United States of America (the)  California     Los Angeles   \n",
       "3  United States of America (the)       Texas        Van Horn   \n",
       "4  United States of America (the)       Texas        Van Horn   \n",
       "\n",
       "              locality  postcode                  what3words timezone  \\\n",
       "0       Tarzan-Lenorah   79783.0    landmass.perkily.affords     -300   \n",
       "1       Tarzan-Lenorah   79331.0    escalator.grownups.dwell     -300   \n",
       "2  Agoura Hills-Malibu   90265.0    clocking.uploaded.issuer     -420   \n",
       "3             Van Horn       NaN     sailboats.sawn.speeding     -300   \n",
       "4             Van Horn       NaN  spinners.downtime.computes     -300   \n",
       "\n",
       "                                     locationDetails  \n",
       "0  [{'id': '80684', 'wikidataId': '', 'name': '79...  \n",
       "1  [{'id': '89341', 'wikidataId': '', 'name': '48...  \n",
       "2  [{'id': '93478', 'wikidataId': 'Q844837', 'nam...  \n",
       "3  [{'id': '9', 'wikidataId': 'Q49', 'name': 'Nor...  \n",
       "4  [{'id': '9', 'wikidataId': 'Q49', 'name': 'Nor...  \n",
       "\n",
       "[5 rows x 36 columns]"
      ]
     },
     "execution_count": 312,
     "metadata": {},
     "output_type": "execute_result"
    }
   ],
   "source": [
    "df_dropped = df.drop(columns=[\"time\",\"updated\", \"url\", \"detailUrl\", \"code\", \"ids\", \"types\"])\n",
    "df_dropped.head()"
   ]
  },
  {
   "cell_type": "code",
   "execution_count": 313,
   "id": "a69d100e-7a6c-4f62-a079-f9b8eff7882e",
   "metadata": {},
   "outputs": [
    {
     "name": "stdout",
     "output_type": "stream",
     "text": [
      "A média da magnitude é: 4.86\n"
     ]
    }
   ],
   "source": [
    "# Média\n",
    "df_media = df_dropped[\"magnitude\"].mean()\n",
    "print(f\"A média da magnitude é: {df_media:.2f}\")"
   ]
  },
  {
   "cell_type": "code",
   "execution_count": 314,
   "id": "9af6bb37-f64b-4dee-a2fa-5a1f1040afbc",
   "metadata": {},
   "outputs": [
    {
     "name": "stdout",
     "output_type": "stream",
     "text": [
      "A mediana da magnitude é: 5.30\n"
     ]
    }
   ],
   "source": [
    "# Mediana\n",
    "df_mediana = df_dropped[\"magnitude\"].median()\n",
    "print(f\"A mediana da magnitude é: {df_mediana:.2f}\")"
   ]
  },
  {
   "cell_type": "code",
   "execution_count": 315,
   "id": "b702d947-5954-4e49-b552-880215df5a0d",
   "metadata": {},
   "outputs": [
    {
     "name": "stdout",
     "output_type": "stream",
     "text": [
      "O Desvio Padrão da magnitude é: 1.05\n"
     ]
    }
   ],
   "source": [
    "# Desvio Padrão\n",
    "df_desvio_padrao = df_dropped[\"magnitude\"].std()\n",
    "print(f\"O Desvio Padrão da magnitude é: {df_desvio_padrao:.2f}\")"
   ]
  },
  {
   "cell_type": "code",
   "execution_count": 316,
   "id": "2b376217-7683-47cb-9078-f66817c56271",
   "metadata": {},
   "outputs": [],
   "source": [
    "# criando novas colunas para separar data e hora\n",
    "df_dropped['data'] = df_dropped['date'].str.split('T').str[0]\n",
    "df_dropped['hora'] = df_dropped['date'].str.split('T').str[1]\n",
    "\n",
    "# Converter a hora para dattime epara facilitar manipulação\n",
    "df_dropped['hora'] = pd.to_datetime(df_dropped['hora'], format='%H:%M:%S').dt.time\n",
    "\n",
    "# Função para categorizar o período do dia\n",
    "def categorizar_periodo(hora):\n",
    "    if 5 <= hora.hour < 12:\n",
    "        return 'Manhã'\n",
    "    elif 12 <= hora.hour < 18:\n",
    "        return 'Tarde'\n",
    "    else:\n",
    "        return 'Noite'\n",
    "\n",
    "# Aplicar a função e criar a nova coluna 'periodo'\n",
    "df_dropped['periodo'] = df_dropped['hora'].apply(categorizar_periodo)\n",
    "\n",
    "#print(df_dropped)"
   ]
  },
  {
   "cell_type": "code",
   "execution_count": 317,
   "id": "7da01118-974b-4c95-9f3b-1f89c454be99",
   "metadata": {},
   "outputs": [
    {
     "data": {
      "application/vnd.plotly.v1+json": {
       "config": {
        "plotlyServerURL": "https://plot.ly"
       },
       "data": [
        {
         "hovertemplate": "Data=%{x}<br>Quantidade=%{y}<extra></extra>",
         "legendgroup": "",
         "line": {
          "color": "#636efa",
          "dash": "solid"
         },
         "marker": {
          "symbol": "circle"
         },
         "mode": "lines",
         "name": "",
         "orientation": "v",
         "showlegend": false,
         "type": "scatter",
         "x": [
          "2023-06-23",
          "2023-06-27",
          "2023-06-30",
          "2023-07-03",
          "2023-07-06",
          "2023-07-08",
          "2023-07-09",
          "2023-07-17",
          "2023-07-25",
          "2023-07-28",
          "2023-08-04",
          "2023-08-05",
          "2023-08-06",
          "2023-08-08",
          "2023-08-10",
          "2023-08-11",
          "2023-08-14",
          "2023-08-17",
          "2023-08-18",
          "2023-08-21",
          "2023-08-23",
          "2023-08-24",
          "2023-08-28",
          "2023-08-31",
          "2023-09-06",
          "2023-09-08",
          "2023-09-09",
          "2023-09-11",
          "2023-09-12",
          "2023-09-15",
          "2023-09-18",
          "2023-09-19",
          "2023-09-21",
          "2023-09-25",
          "2023-09-26",
          "2023-09-28",
          "2023-10-02",
          "2023-10-03",
          "2023-10-04",
          "2023-10-05",
          "2023-10-06",
          "2023-10-07",
          "2023-10-08",
          "2023-10-10",
          "2023-10-11",
          "2023-10-14",
          "2023-10-15",
          "2023-10-16",
          "2023-10-17",
          "2023-10-19",
          "2023-10-22",
          "2023-10-23",
          "2023-10-24",
          "2023-10-26",
          "2023-10-28",
          "2023-10-31",
          "2023-11-01",
          "2023-11-02",
          "2023-11-03",
          "2023-11-07",
          "2023-11-08",
          "2023-11-10",
          "2023-11-11",
          "2023-11-12",
          "2023-11-15",
          "2023-11-17",
          "2023-11-19",
          "2023-11-21",
          "2023-11-22",
          "2023-12-01",
          "2023-12-02",
          "2023-12-03",
          "2023-12-04",
          "2023-12-05",
          "2023-12-06",
          "2023-12-07",
          "2023-12-10",
          "2023-12-11",
          "2023-12-18",
          "2023-12-20",
          "2023-12-21",
          "2023-12-24",
          "2023-12-27",
          "2023-12-28",
          "2023-12-31",
          "2024-01-01",
          "2024-01-02",
          "2024-01-03",
          "2024-01-08",
          "2024-01-09",
          "2024-01-11",
          "2024-01-13",
          "2024-01-17",
          "2024-01-20",
          "2024-01-21",
          "2024-01-22",
          "2024-01-23",
          "2024-01-24",
          "2024-01-25",
          "2024-01-26",
          "2024-01-27",
          "2024-01-28",
          "2024-01-29",
          "2024-02-03",
          "2024-02-08",
          "2024-02-10",
          "2024-02-11",
          "2024-02-12",
          "2024-02-13",
          "2024-02-14",
          "2024-02-15",
          "2024-02-17",
          "2024-02-22",
          "2024-02-23",
          "2024-02-24",
          "2024-02-25",
          "2024-02-26",
          "2024-02-27",
          "2024-02-29",
          "2024-03-01",
          "2024-03-03",
          "2024-03-04",
          "2024-03-05",
          "2024-03-07",
          "2024-03-08",
          "2024-03-13",
          "2024-03-14",
          "2024-03-15",
          "2024-03-17",
          "2024-03-18",
          "2024-03-19",
          "2024-03-22",
          "2024-03-24",
          "2024-03-29",
          "2024-04-01",
          "2024-04-02",
          "2024-04-03",
          "2024-04-04",
          "2024-04-05",
          "2024-04-06",
          "2024-04-07",
          "2024-04-09",
          "2024-04-10",
          "2024-04-13",
          "2024-04-15",
          "2024-04-17",
          "2024-04-18",
          "2024-04-21",
          "2024-04-22",
          "2024-04-23",
          "2024-04-24",
          "2024-04-25",
          "2024-04-26",
          "2024-04-27",
          "2024-05-03",
          "2024-05-05",
          "2024-05-06",
          "2024-05-07",
          "2024-05-10",
          "2024-05-12",
          "2024-05-16",
          "2024-05-20",
          "2024-05-21",
          "2024-05-22",
          "2024-05-28",
          "2024-05-29",
          "2024-06-01",
          "2024-06-02",
          "2024-06-05",
          "2024-06-11",
          "2024-06-12",
          "2024-06-15",
          "2024-06-16",
          "2024-06-18",
          "2024-06-19",
          "2024-06-23",
          "2024-06-24",
          "2024-06-25",
          "2024-06-26",
          "2024-06-28",
          "2024-06-29",
          "2024-06-30",
          "2024-07-02",
          "2024-07-03",
          "2024-07-04",
          "2024-07-05",
          "2024-07-06",
          "2024-07-07",
          "2024-07-08",
          "2024-07-10",
          "2024-07-11",
          "2024-07-12",
          "2024-07-13",
          "2024-07-14",
          "2024-07-15",
          "2024-07-16",
          "2024-07-17",
          "2024-07-18",
          "2024-07-19",
          "2024-07-20",
          "2024-07-21",
          "2024-07-22",
          "2024-07-23",
          "2024-07-24",
          "2024-07-25",
          "2024-07-26",
          "2024-07-27",
          "2024-07-28",
          "2024-07-29",
          "2024-07-30",
          "2024-07-31",
          "2024-08-01",
          "2024-08-02",
          "2024-08-03",
          "2024-08-04",
          "2024-08-05",
          "2024-08-07",
          "2024-08-08",
          "2024-08-09",
          "2024-08-10",
          "2024-08-11",
          "2024-08-12",
          "2024-08-13",
          "2024-08-14",
          "2024-08-15",
          "2024-08-16",
          "2024-08-18",
          "2024-08-19",
          "2024-08-20",
          "2024-08-21",
          "2024-08-22",
          "2024-08-23",
          "2024-08-24",
          "2024-08-25",
          "2024-08-26",
          "2024-08-27",
          "2024-08-28",
          "2024-08-29",
          "2024-08-30",
          "2024-08-31",
          "2024-09-01",
          "2024-09-02",
          "2024-09-03",
          "2024-09-04",
          "2024-09-05",
          "2024-09-06",
          "2024-09-07",
          "2024-09-08",
          "2024-09-09",
          "2024-09-10",
          "2024-09-11",
          "2024-09-12",
          "2024-09-13",
          "2024-09-14",
          "2024-09-15",
          "2024-09-16",
          "2024-09-17",
          "2024-09-18"
         ],
         "xaxis": "x",
         "y": [
          4,
          4,
          1,
          3,
          3,
          1,
          7,
          2,
          2,
          1,
          1,
          6,
          4,
          1,
          4,
          4,
          1,
          1,
          1,
          1,
          3,
          3,
          5,
          1,
          2,
          4,
          2,
          4,
          3,
          3,
          8,
          5,
          4,
          1,
          1,
          3,
          1,
          10,
          21,
          20,
          8,
          8,
          8,
          6,
          2,
          1,
          4,
          4,
          6,
          1,
          2,
          4,
          1,
          3,
          2,
          2,
          1,
          1,
          2,
          2,
          3,
          6,
          1,
          1,
          2,
          2,
          4,
          1,
          1,
          1,
          26,
          11,
          5,
          6,
          1,
          4,
          2,
          3,
          2,
          1,
          3,
          2,
          1,
          3,
          1,
          25,
          4,
          2,
          1,
          7,
          3,
          3,
          1,
          1,
          3,
          12,
          2,
          4,
          2,
          4,
          1,
          1,
          2,
          3,
          1,
          2,
          2,
          5,
          2,
          2,
          1,
          16,
          6,
          4,
          2,
          4,
          1,
          1,
          2,
          1,
          6,
          4,
          7,
          2,
          1,
          1,
          8,
          4,
          1,
          4,
          4,
          4,
          1,
          5,
          4,
          4,
          16,
          4,
          3,
          4,
          1,
          1,
          4,
          2,
          6,
          5,
          4,
          2,
          16,
          2,
          4,
          6,
          4,
          2,
          5,
          2,
          4,
          6,
          6,
          1,
          2,
          2,
          6,
          1,
          7,
          5,
          1,
          8,
          4,
          1,
          1,
          1,
          5,
          1,
          2,
          1,
          1,
          6,
          2,
          1,
          5,
          2,
          10,
          8,
          2,
          2,
          2,
          2,
          8,
          2,
          5,
          4,
          2,
          2,
          3,
          1,
          3,
          7,
          13,
          1,
          3,
          1,
          17,
          10,
          6,
          4,
          7,
          2,
          10,
          4,
          3,
          3,
          4,
          13,
          2,
          2,
          22,
          12,
          4,
          11,
          3,
          3,
          3,
          10,
          16,
          1,
          1,
          3,
          1,
          3,
          2,
          18,
          8,
          4,
          7,
          4,
          7,
          2,
          2,
          17,
          6,
          3,
          2,
          8,
          6,
          5,
          12,
          10,
          6,
          5,
          8,
          8,
          6,
          10,
          5,
          12,
          6,
          2
         ],
         "yaxis": "y"
        }
       ],
       "layout": {
        "autosize": true,
        "legend": {
         "tracegroupgap": 0
        },
        "template": {
         "data": {
          "bar": [
           {
            "error_x": {
             "color": "#2a3f5f"
            },
            "error_y": {
             "color": "#2a3f5f"
            },
            "marker": {
             "line": {
              "color": "#E5ECF6",
              "width": 0.5
             },
             "pattern": {
              "fillmode": "overlay",
              "size": 10,
              "solidity": 0.2
             }
            },
            "type": "bar"
           }
          ],
          "barpolar": [
           {
            "marker": {
             "line": {
              "color": "#E5ECF6",
              "width": 0.5
             },
             "pattern": {
              "fillmode": "overlay",
              "size": 10,
              "solidity": 0.2
             }
            },
            "type": "barpolar"
           }
          ],
          "carpet": [
           {
            "aaxis": {
             "endlinecolor": "#2a3f5f",
             "gridcolor": "white",
             "linecolor": "white",
             "minorgridcolor": "white",
             "startlinecolor": "#2a3f5f"
            },
            "baxis": {
             "endlinecolor": "#2a3f5f",
             "gridcolor": "white",
             "linecolor": "white",
             "minorgridcolor": "white",
             "startlinecolor": "#2a3f5f"
            },
            "type": "carpet"
           }
          ],
          "choropleth": [
           {
            "colorbar": {
             "outlinewidth": 0,
             "ticks": ""
            },
            "type": "choropleth"
           }
          ],
          "contour": [
           {
            "colorbar": {
             "outlinewidth": 0,
             "ticks": ""
            },
            "colorscale": [
             [
              0,
              "#0d0887"
             ],
             [
              0.1111111111111111,
              "#46039f"
             ],
             [
              0.2222222222222222,
              "#7201a8"
             ],
             [
              0.3333333333333333,
              "#9c179e"
             ],
             [
              0.4444444444444444,
              "#bd3786"
             ],
             [
              0.5555555555555556,
              "#d8576b"
             ],
             [
              0.6666666666666666,
              "#ed7953"
             ],
             [
              0.7777777777777778,
              "#fb9f3a"
             ],
             [
              0.8888888888888888,
              "#fdca26"
             ],
             [
              1,
              "#f0f921"
             ]
            ],
            "type": "contour"
           }
          ],
          "contourcarpet": [
           {
            "colorbar": {
             "outlinewidth": 0,
             "ticks": ""
            },
            "type": "contourcarpet"
           }
          ],
          "heatmap": [
           {
            "colorbar": {
             "outlinewidth": 0,
             "ticks": ""
            },
            "colorscale": [
             [
              0,
              "#0d0887"
             ],
             [
              0.1111111111111111,
              "#46039f"
             ],
             [
              0.2222222222222222,
              "#7201a8"
             ],
             [
              0.3333333333333333,
              "#9c179e"
             ],
             [
              0.4444444444444444,
              "#bd3786"
             ],
             [
              0.5555555555555556,
              "#d8576b"
             ],
             [
              0.6666666666666666,
              "#ed7953"
             ],
             [
              0.7777777777777778,
              "#fb9f3a"
             ],
             [
              0.8888888888888888,
              "#fdca26"
             ],
             [
              1,
              "#f0f921"
             ]
            ],
            "type": "heatmap"
           }
          ],
          "heatmapgl": [
           {
            "colorbar": {
             "outlinewidth": 0,
             "ticks": ""
            },
            "colorscale": [
             [
              0,
              "#0d0887"
             ],
             [
              0.1111111111111111,
              "#46039f"
             ],
             [
              0.2222222222222222,
              "#7201a8"
             ],
             [
              0.3333333333333333,
              "#9c179e"
             ],
             [
              0.4444444444444444,
              "#bd3786"
             ],
             [
              0.5555555555555556,
              "#d8576b"
             ],
             [
              0.6666666666666666,
              "#ed7953"
             ],
             [
              0.7777777777777778,
              "#fb9f3a"
             ],
             [
              0.8888888888888888,
              "#fdca26"
             ],
             [
              1,
              "#f0f921"
             ]
            ],
            "type": "heatmapgl"
           }
          ],
          "histogram": [
           {
            "marker": {
             "pattern": {
              "fillmode": "overlay",
              "size": 10,
              "solidity": 0.2
             }
            },
            "type": "histogram"
           }
          ],
          "histogram2d": [
           {
            "colorbar": {
             "outlinewidth": 0,
             "ticks": ""
            },
            "colorscale": [
             [
              0,
              "#0d0887"
             ],
             [
              0.1111111111111111,
              "#46039f"
             ],
             [
              0.2222222222222222,
              "#7201a8"
             ],
             [
              0.3333333333333333,
              "#9c179e"
             ],
             [
              0.4444444444444444,
              "#bd3786"
             ],
             [
              0.5555555555555556,
              "#d8576b"
             ],
             [
              0.6666666666666666,
              "#ed7953"
             ],
             [
              0.7777777777777778,
              "#fb9f3a"
             ],
             [
              0.8888888888888888,
              "#fdca26"
             ],
             [
              1,
              "#f0f921"
             ]
            ],
            "type": "histogram2d"
           }
          ],
          "histogram2dcontour": [
           {
            "colorbar": {
             "outlinewidth": 0,
             "ticks": ""
            },
            "colorscale": [
             [
              0,
              "#0d0887"
             ],
             [
              0.1111111111111111,
              "#46039f"
             ],
             [
              0.2222222222222222,
              "#7201a8"
             ],
             [
              0.3333333333333333,
              "#9c179e"
             ],
             [
              0.4444444444444444,
              "#bd3786"
             ],
             [
              0.5555555555555556,
              "#d8576b"
             ],
             [
              0.6666666666666666,
              "#ed7953"
             ],
             [
              0.7777777777777778,
              "#fb9f3a"
             ],
             [
              0.8888888888888888,
              "#fdca26"
             ],
             [
              1,
              "#f0f921"
             ]
            ],
            "type": "histogram2dcontour"
           }
          ],
          "mesh3d": [
           {
            "colorbar": {
             "outlinewidth": 0,
             "ticks": ""
            },
            "type": "mesh3d"
           }
          ],
          "parcoords": [
           {
            "line": {
             "colorbar": {
              "outlinewidth": 0,
              "ticks": ""
             }
            },
            "type": "parcoords"
           }
          ],
          "pie": [
           {
            "automargin": true,
            "type": "pie"
           }
          ],
          "scatter": [
           {
            "fillpattern": {
             "fillmode": "overlay",
             "size": 10,
             "solidity": 0.2
            },
            "type": "scatter"
           }
          ],
          "scatter3d": [
           {
            "line": {
             "colorbar": {
              "outlinewidth": 0,
              "ticks": ""
             }
            },
            "marker": {
             "colorbar": {
              "outlinewidth": 0,
              "ticks": ""
             }
            },
            "type": "scatter3d"
           }
          ],
          "scattercarpet": [
           {
            "marker": {
             "colorbar": {
              "outlinewidth": 0,
              "ticks": ""
             }
            },
            "type": "scattercarpet"
           }
          ],
          "scattergeo": [
           {
            "marker": {
             "colorbar": {
              "outlinewidth": 0,
              "ticks": ""
             }
            },
            "type": "scattergeo"
           }
          ],
          "scattergl": [
           {
            "marker": {
             "colorbar": {
              "outlinewidth": 0,
              "ticks": ""
             }
            },
            "type": "scattergl"
           }
          ],
          "scattermapbox": [
           {
            "marker": {
             "colorbar": {
              "outlinewidth": 0,
              "ticks": ""
             }
            },
            "type": "scattermapbox"
           }
          ],
          "scatterpolar": [
           {
            "marker": {
             "colorbar": {
              "outlinewidth": 0,
              "ticks": ""
             }
            },
            "type": "scatterpolar"
           }
          ],
          "scatterpolargl": [
           {
            "marker": {
             "colorbar": {
              "outlinewidth": 0,
              "ticks": ""
             }
            },
            "type": "scatterpolargl"
           }
          ],
          "scatterternary": [
           {
            "marker": {
             "colorbar": {
              "outlinewidth": 0,
              "ticks": ""
             }
            },
            "type": "scatterternary"
           }
          ],
          "surface": [
           {
            "colorbar": {
             "outlinewidth": 0,
             "ticks": ""
            },
            "colorscale": [
             [
              0,
              "#0d0887"
             ],
             [
              0.1111111111111111,
              "#46039f"
             ],
             [
              0.2222222222222222,
              "#7201a8"
             ],
             [
              0.3333333333333333,
              "#9c179e"
             ],
             [
              0.4444444444444444,
              "#bd3786"
             ],
             [
              0.5555555555555556,
              "#d8576b"
             ],
             [
              0.6666666666666666,
              "#ed7953"
             ],
             [
              0.7777777777777778,
              "#fb9f3a"
             ],
             [
              0.8888888888888888,
              "#fdca26"
             ],
             [
              1,
              "#f0f921"
             ]
            ],
            "type": "surface"
           }
          ],
          "table": [
           {
            "cells": {
             "fill": {
              "color": "#EBF0F8"
             },
             "line": {
              "color": "white"
             }
            },
            "header": {
             "fill": {
              "color": "#C8D4E3"
             },
             "line": {
              "color": "white"
             }
            },
            "type": "table"
           }
          ]
         },
         "layout": {
          "annotationdefaults": {
           "arrowcolor": "#2a3f5f",
           "arrowhead": 0,
           "arrowwidth": 1
          },
          "autotypenumbers": "strict",
          "coloraxis": {
           "colorbar": {
            "outlinewidth": 0,
            "ticks": ""
           }
          },
          "colorscale": {
           "diverging": [
            [
             0,
             "#8e0152"
            ],
            [
             0.1,
             "#c51b7d"
            ],
            [
             0.2,
             "#de77ae"
            ],
            [
             0.3,
             "#f1b6da"
            ],
            [
             0.4,
             "#fde0ef"
            ],
            [
             0.5,
             "#f7f7f7"
            ],
            [
             0.6,
             "#e6f5d0"
            ],
            [
             0.7,
             "#b8e186"
            ],
            [
             0.8,
             "#7fbc41"
            ],
            [
             0.9,
             "#4d9221"
            ],
            [
             1,
             "#276419"
            ]
           ],
           "sequential": [
            [
             0,
             "#0d0887"
            ],
            [
             0.1111111111111111,
             "#46039f"
            ],
            [
             0.2222222222222222,
             "#7201a8"
            ],
            [
             0.3333333333333333,
             "#9c179e"
            ],
            [
             0.4444444444444444,
             "#bd3786"
            ],
            [
             0.5555555555555556,
             "#d8576b"
            ],
            [
             0.6666666666666666,
             "#ed7953"
            ],
            [
             0.7777777777777778,
             "#fb9f3a"
            ],
            [
             0.8888888888888888,
             "#fdca26"
            ],
            [
             1,
             "#f0f921"
            ]
           ],
           "sequentialminus": [
            [
             0,
             "#0d0887"
            ],
            [
             0.1111111111111111,
             "#46039f"
            ],
            [
             0.2222222222222222,
             "#7201a8"
            ],
            [
             0.3333333333333333,
             "#9c179e"
            ],
            [
             0.4444444444444444,
             "#bd3786"
            ],
            [
             0.5555555555555556,
             "#d8576b"
            ],
            [
             0.6666666666666666,
             "#ed7953"
            ],
            [
             0.7777777777777778,
             "#fb9f3a"
            ],
            [
             0.8888888888888888,
             "#fdca26"
            ],
            [
             1,
             "#f0f921"
            ]
           ]
          },
          "colorway": [
           "#636efa",
           "#EF553B",
           "#00cc96",
           "#ab63fa",
           "#FFA15A",
           "#19d3f3",
           "#FF6692",
           "#B6E880",
           "#FF97FF",
           "#FECB52"
          ],
          "font": {
           "color": "#2a3f5f"
          },
          "geo": {
           "bgcolor": "white",
           "lakecolor": "white",
           "landcolor": "#E5ECF6",
           "showlakes": true,
           "showland": true,
           "subunitcolor": "white"
          },
          "hoverlabel": {
           "align": "left"
          },
          "hovermode": "closest",
          "mapbox": {
           "style": "light"
          },
          "paper_bgcolor": "white",
          "plot_bgcolor": "#E5ECF6",
          "polar": {
           "angularaxis": {
            "gridcolor": "white",
            "linecolor": "white",
            "ticks": ""
           },
           "bgcolor": "#E5ECF6",
           "radialaxis": {
            "gridcolor": "white",
            "linecolor": "white",
            "ticks": ""
           }
          },
          "scene": {
           "xaxis": {
            "backgroundcolor": "#E5ECF6",
            "gridcolor": "white",
            "gridwidth": 2,
            "linecolor": "white",
            "showbackground": true,
            "ticks": "",
            "zerolinecolor": "white"
           },
           "yaxis": {
            "backgroundcolor": "#E5ECF6",
            "gridcolor": "white",
            "gridwidth": 2,
            "linecolor": "white",
            "showbackground": true,
            "ticks": "",
            "zerolinecolor": "white"
           },
           "zaxis": {
            "backgroundcolor": "#E5ECF6",
            "gridcolor": "white",
            "gridwidth": 2,
            "linecolor": "white",
            "showbackground": true,
            "ticks": "",
            "zerolinecolor": "white"
           }
          },
          "shapedefaults": {
           "line": {
            "color": "#2a3f5f"
           }
          },
          "ternary": {
           "aaxis": {
            "gridcolor": "white",
            "linecolor": "white",
            "ticks": ""
           },
           "baxis": {
            "gridcolor": "white",
            "linecolor": "white",
            "ticks": ""
           },
           "bgcolor": "#E5ECF6",
           "caxis": {
            "gridcolor": "white",
            "linecolor": "white",
            "ticks": ""
           }
          },
          "title": {
           "x": 0.05
          },
          "xaxis": {
           "automargin": true,
           "gridcolor": "white",
           "linecolor": "white",
           "ticks": "",
           "title": {
            "standoff": 15
           },
           "zerolinecolor": "white",
           "zerolinewidth": 2
          },
          "yaxis": {
           "automargin": true,
           "gridcolor": "white",
           "linecolor": "white",
           "ticks": "",
           "title": {
            "standoff": 15
           },
           "zerolinecolor": "white",
           "zerolinewidth": 2
          }
         }
        },
        "title": {
         "text": "Eventos por Dia - Linha"
        },
        "xaxis": {
         "anchor": "y",
         "autorange": true,
         "domain": [
          0,
          1
         ],
         "range": [
          "2023-06-23",
          "2024-09-18"
         ],
         "title": {
          "text": "Data"
         },
         "type": "date"
        },
        "yaxis": {
         "anchor": "x",
         "autorange": true,
         "domain": [
          0,
          1
         ],
         "range": [
          -0.38888888888888884,
          27.38888888888889
         ],
         "title": {
          "text": "Quantidade"
         },
         "type": "linear"
        }
       }
      },
      "text/html": [
       "<div>                            <div id=\"aff08a0e-ca5b-473c-b873-e5654d405352\" class=\"plotly-graph-div\" style=\"height:525px; width:100%;\"></div>            <script type=\"text/javascript\">                require([\"plotly\"], function(Plotly) {                    window.PLOTLYENV=window.PLOTLYENV || {};                                    if (document.getElementById(\"aff08a0e-ca5b-473c-b873-e5654d405352\")) {                    Plotly.newPlot(                        \"aff08a0e-ca5b-473c-b873-e5654d405352\",                        [{\"hovertemplate\":\"Data=%{x}\\u003cbr\\u003eQuantidade=%{y}\\u003cextra\\u003e\\u003c\\u002fextra\\u003e\",\"legendgroup\":\"\",\"line\":{\"color\":\"#636efa\",\"dash\":\"solid\"},\"marker\":{\"symbol\":\"circle\"},\"mode\":\"lines\",\"name\":\"\",\"orientation\":\"v\",\"showlegend\":false,\"x\":[\"2023-06-23\",\"2023-06-27\",\"2023-06-30\",\"2023-07-03\",\"2023-07-06\",\"2023-07-08\",\"2023-07-09\",\"2023-07-17\",\"2023-07-25\",\"2023-07-28\",\"2023-08-04\",\"2023-08-05\",\"2023-08-06\",\"2023-08-08\",\"2023-08-10\",\"2023-08-11\",\"2023-08-14\",\"2023-08-17\",\"2023-08-18\",\"2023-08-21\",\"2023-08-23\",\"2023-08-24\",\"2023-08-28\",\"2023-08-31\",\"2023-09-06\",\"2023-09-08\",\"2023-09-09\",\"2023-09-11\",\"2023-09-12\",\"2023-09-15\",\"2023-09-18\",\"2023-09-19\",\"2023-09-21\",\"2023-09-25\",\"2023-09-26\",\"2023-09-28\",\"2023-10-02\",\"2023-10-03\",\"2023-10-04\",\"2023-10-05\",\"2023-10-06\",\"2023-10-07\",\"2023-10-08\",\"2023-10-10\",\"2023-10-11\",\"2023-10-14\",\"2023-10-15\",\"2023-10-16\",\"2023-10-17\",\"2023-10-19\",\"2023-10-22\",\"2023-10-23\",\"2023-10-24\",\"2023-10-26\",\"2023-10-28\",\"2023-10-31\",\"2023-11-01\",\"2023-11-02\",\"2023-11-03\",\"2023-11-07\",\"2023-11-08\",\"2023-11-10\",\"2023-11-11\",\"2023-11-12\",\"2023-11-15\",\"2023-11-17\",\"2023-11-19\",\"2023-11-21\",\"2023-11-22\",\"2023-12-01\",\"2023-12-02\",\"2023-12-03\",\"2023-12-04\",\"2023-12-05\",\"2023-12-06\",\"2023-12-07\",\"2023-12-10\",\"2023-12-11\",\"2023-12-18\",\"2023-12-20\",\"2023-12-21\",\"2023-12-24\",\"2023-12-27\",\"2023-12-28\",\"2023-12-31\",\"2024-01-01\",\"2024-01-02\",\"2024-01-03\",\"2024-01-08\",\"2024-01-09\",\"2024-01-11\",\"2024-01-13\",\"2024-01-17\",\"2024-01-20\",\"2024-01-21\",\"2024-01-22\",\"2024-01-23\",\"2024-01-24\",\"2024-01-25\",\"2024-01-26\",\"2024-01-27\",\"2024-01-28\",\"2024-01-29\",\"2024-02-03\",\"2024-02-08\",\"2024-02-10\",\"2024-02-11\",\"2024-02-12\",\"2024-02-13\",\"2024-02-14\",\"2024-02-15\",\"2024-02-17\",\"2024-02-22\",\"2024-02-23\",\"2024-02-24\",\"2024-02-25\",\"2024-02-26\",\"2024-02-27\",\"2024-02-29\",\"2024-03-01\",\"2024-03-03\",\"2024-03-04\",\"2024-03-05\",\"2024-03-07\",\"2024-03-08\",\"2024-03-13\",\"2024-03-14\",\"2024-03-15\",\"2024-03-17\",\"2024-03-18\",\"2024-03-19\",\"2024-03-22\",\"2024-03-24\",\"2024-03-29\",\"2024-04-01\",\"2024-04-02\",\"2024-04-03\",\"2024-04-04\",\"2024-04-05\",\"2024-04-06\",\"2024-04-07\",\"2024-04-09\",\"2024-04-10\",\"2024-04-13\",\"2024-04-15\",\"2024-04-17\",\"2024-04-18\",\"2024-04-21\",\"2024-04-22\",\"2024-04-23\",\"2024-04-24\",\"2024-04-25\",\"2024-04-26\",\"2024-04-27\",\"2024-05-03\",\"2024-05-05\",\"2024-05-06\",\"2024-05-07\",\"2024-05-10\",\"2024-05-12\",\"2024-05-16\",\"2024-05-20\",\"2024-05-21\",\"2024-05-22\",\"2024-05-28\",\"2024-05-29\",\"2024-06-01\",\"2024-06-02\",\"2024-06-05\",\"2024-06-11\",\"2024-06-12\",\"2024-06-15\",\"2024-06-16\",\"2024-06-18\",\"2024-06-19\",\"2024-06-23\",\"2024-06-24\",\"2024-06-25\",\"2024-06-26\",\"2024-06-28\",\"2024-06-29\",\"2024-06-30\",\"2024-07-02\",\"2024-07-03\",\"2024-07-04\",\"2024-07-05\",\"2024-07-06\",\"2024-07-07\",\"2024-07-08\",\"2024-07-10\",\"2024-07-11\",\"2024-07-12\",\"2024-07-13\",\"2024-07-14\",\"2024-07-15\",\"2024-07-16\",\"2024-07-17\",\"2024-07-18\",\"2024-07-19\",\"2024-07-20\",\"2024-07-21\",\"2024-07-22\",\"2024-07-23\",\"2024-07-24\",\"2024-07-25\",\"2024-07-26\",\"2024-07-27\",\"2024-07-28\",\"2024-07-29\",\"2024-07-30\",\"2024-07-31\",\"2024-08-01\",\"2024-08-02\",\"2024-08-03\",\"2024-08-04\",\"2024-08-05\",\"2024-08-07\",\"2024-08-08\",\"2024-08-09\",\"2024-08-10\",\"2024-08-11\",\"2024-08-12\",\"2024-08-13\",\"2024-08-14\",\"2024-08-15\",\"2024-08-16\",\"2024-08-18\",\"2024-08-19\",\"2024-08-20\",\"2024-08-21\",\"2024-08-22\",\"2024-08-23\",\"2024-08-24\",\"2024-08-25\",\"2024-08-26\",\"2024-08-27\",\"2024-08-28\",\"2024-08-29\",\"2024-08-30\",\"2024-08-31\",\"2024-09-01\",\"2024-09-02\",\"2024-09-03\",\"2024-09-04\",\"2024-09-05\",\"2024-09-06\",\"2024-09-07\",\"2024-09-08\",\"2024-09-09\",\"2024-09-10\",\"2024-09-11\",\"2024-09-12\",\"2024-09-13\",\"2024-09-14\",\"2024-09-15\",\"2024-09-16\",\"2024-09-17\",\"2024-09-18\"],\"xaxis\":\"x\",\"y\":[4,4,1,3,3,1,7,2,2,1,1,6,4,1,4,4,1,1,1,1,3,3,5,1,2,4,2,4,3,3,8,5,4,1,1,3,1,10,21,20,8,8,8,6,2,1,4,4,6,1,2,4,1,3,2,2,1,1,2,2,3,6,1,1,2,2,4,1,1,1,26,11,5,6,1,4,2,3,2,1,3,2,1,3,1,25,4,2,1,7,3,3,1,1,3,12,2,4,2,4,1,1,2,3,1,2,2,5,2,2,1,16,6,4,2,4,1,1,2,1,6,4,7,2,1,1,8,4,1,4,4,4,1,5,4,4,16,4,3,4,1,1,4,2,6,5,4,2,16,2,4,6,4,2,5,2,4,6,6,1,2,2,6,1,7,5,1,8,4,1,1,1,5,1,2,1,1,6,2,1,5,2,10,8,2,2,2,2,8,2,5,4,2,2,3,1,3,7,13,1,3,1,17,10,6,4,7,2,10,4,3,3,4,13,2,2,22,12,4,11,3,3,3,10,16,1,1,3,1,3,2,18,8,4,7,4,7,2,2,17,6,3,2,8,6,5,12,10,6,5,8,8,6,10,5,12,6,2],\"yaxis\":\"y\",\"type\":\"scatter\"}],                        {\"template\":{\"data\":{\"histogram2dcontour\":[{\"type\":\"histogram2dcontour\",\"colorbar\":{\"outlinewidth\":0,\"ticks\":\"\"},\"colorscale\":[[0.0,\"#0d0887\"],[0.1111111111111111,\"#46039f\"],[0.2222222222222222,\"#7201a8\"],[0.3333333333333333,\"#9c179e\"],[0.4444444444444444,\"#bd3786\"],[0.5555555555555556,\"#d8576b\"],[0.6666666666666666,\"#ed7953\"],[0.7777777777777778,\"#fb9f3a\"],[0.8888888888888888,\"#fdca26\"],[1.0,\"#f0f921\"]]}],\"choropleth\":[{\"type\":\"choropleth\",\"colorbar\":{\"outlinewidth\":0,\"ticks\":\"\"}}],\"histogram2d\":[{\"type\":\"histogram2d\",\"colorbar\":{\"outlinewidth\":0,\"ticks\":\"\"},\"colorscale\":[[0.0,\"#0d0887\"],[0.1111111111111111,\"#46039f\"],[0.2222222222222222,\"#7201a8\"],[0.3333333333333333,\"#9c179e\"],[0.4444444444444444,\"#bd3786\"],[0.5555555555555556,\"#d8576b\"],[0.6666666666666666,\"#ed7953\"],[0.7777777777777778,\"#fb9f3a\"],[0.8888888888888888,\"#fdca26\"],[1.0,\"#f0f921\"]]}],\"heatmap\":[{\"type\":\"heatmap\",\"colorbar\":{\"outlinewidth\":0,\"ticks\":\"\"},\"colorscale\":[[0.0,\"#0d0887\"],[0.1111111111111111,\"#46039f\"],[0.2222222222222222,\"#7201a8\"],[0.3333333333333333,\"#9c179e\"],[0.4444444444444444,\"#bd3786\"],[0.5555555555555556,\"#d8576b\"],[0.6666666666666666,\"#ed7953\"],[0.7777777777777778,\"#fb9f3a\"],[0.8888888888888888,\"#fdca26\"],[1.0,\"#f0f921\"]]}],\"heatmapgl\":[{\"type\":\"heatmapgl\",\"colorbar\":{\"outlinewidth\":0,\"ticks\":\"\"},\"colorscale\":[[0.0,\"#0d0887\"],[0.1111111111111111,\"#46039f\"],[0.2222222222222222,\"#7201a8\"],[0.3333333333333333,\"#9c179e\"],[0.4444444444444444,\"#bd3786\"],[0.5555555555555556,\"#d8576b\"],[0.6666666666666666,\"#ed7953\"],[0.7777777777777778,\"#fb9f3a\"],[0.8888888888888888,\"#fdca26\"],[1.0,\"#f0f921\"]]}],\"contourcarpet\":[{\"type\":\"contourcarpet\",\"colorbar\":{\"outlinewidth\":0,\"ticks\":\"\"}}],\"contour\":[{\"type\":\"contour\",\"colorbar\":{\"outlinewidth\":0,\"ticks\":\"\"},\"colorscale\":[[0.0,\"#0d0887\"],[0.1111111111111111,\"#46039f\"],[0.2222222222222222,\"#7201a8\"],[0.3333333333333333,\"#9c179e\"],[0.4444444444444444,\"#bd3786\"],[0.5555555555555556,\"#d8576b\"],[0.6666666666666666,\"#ed7953\"],[0.7777777777777778,\"#fb9f3a\"],[0.8888888888888888,\"#fdca26\"],[1.0,\"#f0f921\"]]}],\"surface\":[{\"type\":\"surface\",\"colorbar\":{\"outlinewidth\":0,\"ticks\":\"\"},\"colorscale\":[[0.0,\"#0d0887\"],[0.1111111111111111,\"#46039f\"],[0.2222222222222222,\"#7201a8\"],[0.3333333333333333,\"#9c179e\"],[0.4444444444444444,\"#bd3786\"],[0.5555555555555556,\"#d8576b\"],[0.6666666666666666,\"#ed7953\"],[0.7777777777777778,\"#fb9f3a\"],[0.8888888888888888,\"#fdca26\"],[1.0,\"#f0f921\"]]}],\"mesh3d\":[{\"type\":\"mesh3d\",\"colorbar\":{\"outlinewidth\":0,\"ticks\":\"\"}}],\"scatter\":[{\"fillpattern\":{\"fillmode\":\"overlay\",\"size\":10,\"solidity\":0.2},\"type\":\"scatter\"}],\"parcoords\":[{\"type\":\"parcoords\",\"line\":{\"colorbar\":{\"outlinewidth\":0,\"ticks\":\"\"}}}],\"scatterpolargl\":[{\"type\":\"scatterpolargl\",\"marker\":{\"colorbar\":{\"outlinewidth\":0,\"ticks\":\"\"}}}],\"bar\":[{\"error_x\":{\"color\":\"#2a3f5f\"},\"error_y\":{\"color\":\"#2a3f5f\"},\"marker\":{\"line\":{\"color\":\"#E5ECF6\",\"width\":0.5},\"pattern\":{\"fillmode\":\"overlay\",\"size\":10,\"solidity\":0.2}},\"type\":\"bar\"}],\"scattergeo\":[{\"type\":\"scattergeo\",\"marker\":{\"colorbar\":{\"outlinewidth\":0,\"ticks\":\"\"}}}],\"scatterpolar\":[{\"type\":\"scatterpolar\",\"marker\":{\"colorbar\":{\"outlinewidth\":0,\"ticks\":\"\"}}}],\"histogram\":[{\"marker\":{\"pattern\":{\"fillmode\":\"overlay\",\"size\":10,\"solidity\":0.2}},\"type\":\"histogram\"}],\"scattergl\":[{\"type\":\"scattergl\",\"marker\":{\"colorbar\":{\"outlinewidth\":0,\"ticks\":\"\"}}}],\"scatter3d\":[{\"type\":\"scatter3d\",\"line\":{\"colorbar\":{\"outlinewidth\":0,\"ticks\":\"\"}},\"marker\":{\"colorbar\":{\"outlinewidth\":0,\"ticks\":\"\"}}}],\"scattermapbox\":[{\"type\":\"scattermapbox\",\"marker\":{\"colorbar\":{\"outlinewidth\":0,\"ticks\":\"\"}}}],\"scatterternary\":[{\"type\":\"scatterternary\",\"marker\":{\"colorbar\":{\"outlinewidth\":0,\"ticks\":\"\"}}}],\"scattercarpet\":[{\"type\":\"scattercarpet\",\"marker\":{\"colorbar\":{\"outlinewidth\":0,\"ticks\":\"\"}}}],\"carpet\":[{\"aaxis\":{\"endlinecolor\":\"#2a3f5f\",\"gridcolor\":\"white\",\"linecolor\":\"white\",\"minorgridcolor\":\"white\",\"startlinecolor\":\"#2a3f5f\"},\"baxis\":{\"endlinecolor\":\"#2a3f5f\",\"gridcolor\":\"white\",\"linecolor\":\"white\",\"minorgridcolor\":\"white\",\"startlinecolor\":\"#2a3f5f\"},\"type\":\"carpet\"}],\"table\":[{\"cells\":{\"fill\":{\"color\":\"#EBF0F8\"},\"line\":{\"color\":\"white\"}},\"header\":{\"fill\":{\"color\":\"#C8D4E3\"},\"line\":{\"color\":\"white\"}},\"type\":\"table\"}],\"barpolar\":[{\"marker\":{\"line\":{\"color\":\"#E5ECF6\",\"width\":0.5},\"pattern\":{\"fillmode\":\"overlay\",\"size\":10,\"solidity\":0.2}},\"type\":\"barpolar\"}],\"pie\":[{\"automargin\":true,\"type\":\"pie\"}]},\"layout\":{\"autotypenumbers\":\"strict\",\"colorway\":[\"#636efa\",\"#EF553B\",\"#00cc96\",\"#ab63fa\",\"#FFA15A\",\"#19d3f3\",\"#FF6692\",\"#B6E880\",\"#FF97FF\",\"#FECB52\"],\"font\":{\"color\":\"#2a3f5f\"},\"hovermode\":\"closest\",\"hoverlabel\":{\"align\":\"left\"},\"paper_bgcolor\":\"white\",\"plot_bgcolor\":\"#E5ECF6\",\"polar\":{\"bgcolor\":\"#E5ECF6\",\"angularaxis\":{\"gridcolor\":\"white\",\"linecolor\":\"white\",\"ticks\":\"\"},\"radialaxis\":{\"gridcolor\":\"white\",\"linecolor\":\"white\",\"ticks\":\"\"}},\"ternary\":{\"bgcolor\":\"#E5ECF6\",\"aaxis\":{\"gridcolor\":\"white\",\"linecolor\":\"white\",\"ticks\":\"\"},\"baxis\":{\"gridcolor\":\"white\",\"linecolor\":\"white\",\"ticks\":\"\"},\"caxis\":{\"gridcolor\":\"white\",\"linecolor\":\"white\",\"ticks\":\"\"}},\"coloraxis\":{\"colorbar\":{\"outlinewidth\":0,\"ticks\":\"\"}},\"colorscale\":{\"sequential\":[[0.0,\"#0d0887\"],[0.1111111111111111,\"#46039f\"],[0.2222222222222222,\"#7201a8\"],[0.3333333333333333,\"#9c179e\"],[0.4444444444444444,\"#bd3786\"],[0.5555555555555556,\"#d8576b\"],[0.6666666666666666,\"#ed7953\"],[0.7777777777777778,\"#fb9f3a\"],[0.8888888888888888,\"#fdca26\"],[1.0,\"#f0f921\"]],\"sequentialminus\":[[0.0,\"#0d0887\"],[0.1111111111111111,\"#46039f\"],[0.2222222222222222,\"#7201a8\"],[0.3333333333333333,\"#9c179e\"],[0.4444444444444444,\"#bd3786\"],[0.5555555555555556,\"#d8576b\"],[0.6666666666666666,\"#ed7953\"],[0.7777777777777778,\"#fb9f3a\"],[0.8888888888888888,\"#fdca26\"],[1.0,\"#f0f921\"]],\"diverging\":[[0,\"#8e0152\"],[0.1,\"#c51b7d\"],[0.2,\"#de77ae\"],[0.3,\"#f1b6da\"],[0.4,\"#fde0ef\"],[0.5,\"#f7f7f7\"],[0.6,\"#e6f5d0\"],[0.7,\"#b8e186\"],[0.8,\"#7fbc41\"],[0.9,\"#4d9221\"],[1,\"#276419\"]]},\"xaxis\":{\"gridcolor\":\"white\",\"linecolor\":\"white\",\"ticks\":\"\",\"title\":{\"standoff\":15},\"zerolinecolor\":\"white\",\"automargin\":true,\"zerolinewidth\":2},\"yaxis\":{\"gridcolor\":\"white\",\"linecolor\":\"white\",\"ticks\":\"\",\"title\":{\"standoff\":15},\"zerolinecolor\":\"white\",\"automargin\":true,\"zerolinewidth\":2},\"scene\":{\"xaxis\":{\"backgroundcolor\":\"#E5ECF6\",\"gridcolor\":\"white\",\"linecolor\":\"white\",\"showbackground\":true,\"ticks\":\"\",\"zerolinecolor\":\"white\",\"gridwidth\":2},\"yaxis\":{\"backgroundcolor\":\"#E5ECF6\",\"gridcolor\":\"white\",\"linecolor\":\"white\",\"showbackground\":true,\"ticks\":\"\",\"zerolinecolor\":\"white\",\"gridwidth\":2},\"zaxis\":{\"backgroundcolor\":\"#E5ECF6\",\"gridcolor\":\"white\",\"linecolor\":\"white\",\"showbackground\":true,\"ticks\":\"\",\"zerolinecolor\":\"white\",\"gridwidth\":2}},\"shapedefaults\":{\"line\":{\"color\":\"#2a3f5f\"}},\"annotationdefaults\":{\"arrowcolor\":\"#2a3f5f\",\"arrowhead\":0,\"arrowwidth\":1},\"geo\":{\"bgcolor\":\"white\",\"landcolor\":\"#E5ECF6\",\"subunitcolor\":\"white\",\"showland\":true,\"showlakes\":true,\"lakecolor\":\"white\"},\"title\":{\"x\":0.05},\"mapbox\":{\"style\":\"light\"}}},\"xaxis\":{\"anchor\":\"y\",\"domain\":[0.0,1.0],\"title\":{\"text\":\"Data\"}},\"yaxis\":{\"anchor\":\"x\",\"domain\":[0.0,1.0],\"title\":{\"text\":\"Quantidade\"}},\"legend\":{\"tracegroupgap\":0},\"title\":{\"text\":\"Eventos por Dia - Linha\"}},                        {\"responsive\": true}                    ).then(function(){\n",
       "                            \n",
       "var gd = document.getElementById('aff08a0e-ca5b-473c-b873-e5654d405352');\n",
       "var x = new MutationObserver(function (mutations, observer) {{\n",
       "        var display = window.getComputedStyle(gd).display;\n",
       "        if (!display || display === 'none') {{\n",
       "            console.log([gd, 'removed!']);\n",
       "            Plotly.purge(gd);\n",
       "            observer.disconnect();\n",
       "        }}\n",
       "}});\n",
       "\n",
       "// Listen for the removal of the full notebook cells\n",
       "var notebookContainer = gd.closest('#notebook-container');\n",
       "if (notebookContainer) {{\n",
       "    x.observe(notebookContainer, {childList: true});\n",
       "}}\n",
       "\n",
       "// Listen for the clearing of the current output cell\n",
       "var outputEl = gd.closest('.output');\n",
       "if (outputEl) {{\n",
       "    x.observe(outputEl, {childList: true});\n",
       "}}\n",
       "\n",
       "                        })                };                });            </script>        </div>"
      ]
     },
     "metadata": {},
     "output_type": "display_data"
    },
    {
     "data": {
      "application/vnd.plotly.v1+json": {
       "config": {
        "plotlyServerURL": "https://plot.ly"
       },
       "data": [
        {
         "alignmentgroup": "True",
         "bingroup": "x",
         "histfunc": "sum",
         "hovertemplate": "Data=%{x}<br>sum of Quantidade=%{y}<extra></extra>",
         "legendgroup": "",
         "marker": {
          "color": "#636efa",
          "pattern": {
           "shape": ""
          }
         },
         "name": "",
         "offsetgroup": "",
         "orientation": "v",
         "showlegend": false,
         "type": "histogram",
         "x": [
          "2023-06-23",
          "2023-06-27",
          "2023-06-30",
          "2023-07-03",
          "2023-07-06",
          "2023-07-08",
          "2023-07-09",
          "2023-07-17",
          "2023-07-25",
          "2023-07-28",
          "2023-08-04",
          "2023-08-05",
          "2023-08-06",
          "2023-08-08",
          "2023-08-10",
          "2023-08-11",
          "2023-08-14",
          "2023-08-17",
          "2023-08-18",
          "2023-08-21",
          "2023-08-23",
          "2023-08-24",
          "2023-08-28",
          "2023-08-31",
          "2023-09-06",
          "2023-09-08",
          "2023-09-09",
          "2023-09-11",
          "2023-09-12",
          "2023-09-15",
          "2023-09-18",
          "2023-09-19",
          "2023-09-21",
          "2023-09-25",
          "2023-09-26",
          "2023-09-28",
          "2023-10-02",
          "2023-10-03",
          "2023-10-04",
          "2023-10-05",
          "2023-10-06",
          "2023-10-07",
          "2023-10-08",
          "2023-10-10",
          "2023-10-11",
          "2023-10-14",
          "2023-10-15",
          "2023-10-16",
          "2023-10-17",
          "2023-10-19",
          "2023-10-22",
          "2023-10-23",
          "2023-10-24",
          "2023-10-26",
          "2023-10-28",
          "2023-10-31",
          "2023-11-01",
          "2023-11-02",
          "2023-11-03",
          "2023-11-07",
          "2023-11-08",
          "2023-11-10",
          "2023-11-11",
          "2023-11-12",
          "2023-11-15",
          "2023-11-17",
          "2023-11-19",
          "2023-11-21",
          "2023-11-22",
          "2023-12-01",
          "2023-12-02",
          "2023-12-03",
          "2023-12-04",
          "2023-12-05",
          "2023-12-06",
          "2023-12-07",
          "2023-12-10",
          "2023-12-11",
          "2023-12-18",
          "2023-12-20",
          "2023-12-21",
          "2023-12-24",
          "2023-12-27",
          "2023-12-28",
          "2023-12-31",
          "2024-01-01",
          "2024-01-02",
          "2024-01-03",
          "2024-01-08",
          "2024-01-09",
          "2024-01-11",
          "2024-01-13",
          "2024-01-17",
          "2024-01-20",
          "2024-01-21",
          "2024-01-22",
          "2024-01-23",
          "2024-01-24",
          "2024-01-25",
          "2024-01-26",
          "2024-01-27",
          "2024-01-28",
          "2024-01-29",
          "2024-02-03",
          "2024-02-08",
          "2024-02-10",
          "2024-02-11",
          "2024-02-12",
          "2024-02-13",
          "2024-02-14",
          "2024-02-15",
          "2024-02-17",
          "2024-02-22",
          "2024-02-23",
          "2024-02-24",
          "2024-02-25",
          "2024-02-26",
          "2024-02-27",
          "2024-02-29",
          "2024-03-01",
          "2024-03-03",
          "2024-03-04",
          "2024-03-05",
          "2024-03-07",
          "2024-03-08",
          "2024-03-13",
          "2024-03-14",
          "2024-03-15",
          "2024-03-17",
          "2024-03-18",
          "2024-03-19",
          "2024-03-22",
          "2024-03-24",
          "2024-03-29",
          "2024-04-01",
          "2024-04-02",
          "2024-04-03",
          "2024-04-04",
          "2024-04-05",
          "2024-04-06",
          "2024-04-07",
          "2024-04-09",
          "2024-04-10",
          "2024-04-13",
          "2024-04-15",
          "2024-04-17",
          "2024-04-18",
          "2024-04-21",
          "2024-04-22",
          "2024-04-23",
          "2024-04-24",
          "2024-04-25",
          "2024-04-26",
          "2024-04-27",
          "2024-05-03",
          "2024-05-05",
          "2024-05-06",
          "2024-05-07",
          "2024-05-10",
          "2024-05-12",
          "2024-05-16",
          "2024-05-20",
          "2024-05-21",
          "2024-05-22",
          "2024-05-28",
          "2024-05-29",
          "2024-06-01",
          "2024-06-02",
          "2024-06-05",
          "2024-06-11",
          "2024-06-12",
          "2024-06-15",
          "2024-06-16",
          "2024-06-18",
          "2024-06-19",
          "2024-06-23",
          "2024-06-24",
          "2024-06-25",
          "2024-06-26",
          "2024-06-28",
          "2024-06-29",
          "2024-06-30",
          "2024-07-02",
          "2024-07-03",
          "2024-07-04",
          "2024-07-05",
          "2024-07-06",
          "2024-07-07",
          "2024-07-08",
          "2024-07-10",
          "2024-07-11",
          "2024-07-12",
          "2024-07-13",
          "2024-07-14",
          "2024-07-15",
          "2024-07-16",
          "2024-07-17",
          "2024-07-18",
          "2024-07-19",
          "2024-07-20",
          "2024-07-21",
          "2024-07-22",
          "2024-07-23",
          "2024-07-24",
          "2024-07-25",
          "2024-07-26",
          "2024-07-27",
          "2024-07-28",
          "2024-07-29",
          "2024-07-30",
          "2024-07-31",
          "2024-08-01",
          "2024-08-02",
          "2024-08-03",
          "2024-08-04",
          "2024-08-05",
          "2024-08-07",
          "2024-08-08",
          "2024-08-09",
          "2024-08-10",
          "2024-08-11",
          "2024-08-12",
          "2024-08-13",
          "2024-08-14",
          "2024-08-15",
          "2024-08-16",
          "2024-08-18",
          "2024-08-19",
          "2024-08-20",
          "2024-08-21",
          "2024-08-22",
          "2024-08-23",
          "2024-08-24",
          "2024-08-25",
          "2024-08-26",
          "2024-08-27",
          "2024-08-28",
          "2024-08-29",
          "2024-08-30",
          "2024-08-31",
          "2024-09-01",
          "2024-09-02",
          "2024-09-03",
          "2024-09-04",
          "2024-09-05",
          "2024-09-06",
          "2024-09-07",
          "2024-09-08",
          "2024-09-09",
          "2024-09-10",
          "2024-09-11",
          "2024-09-12",
          "2024-09-13",
          "2024-09-14",
          "2024-09-15",
          "2024-09-16",
          "2024-09-17",
          "2024-09-18"
         ],
         "xaxis": "x",
         "y": [
          4,
          4,
          1,
          3,
          3,
          1,
          7,
          2,
          2,
          1,
          1,
          6,
          4,
          1,
          4,
          4,
          1,
          1,
          1,
          1,
          3,
          3,
          5,
          1,
          2,
          4,
          2,
          4,
          3,
          3,
          8,
          5,
          4,
          1,
          1,
          3,
          1,
          10,
          21,
          20,
          8,
          8,
          8,
          6,
          2,
          1,
          4,
          4,
          6,
          1,
          2,
          4,
          1,
          3,
          2,
          2,
          1,
          1,
          2,
          2,
          3,
          6,
          1,
          1,
          2,
          2,
          4,
          1,
          1,
          1,
          26,
          11,
          5,
          6,
          1,
          4,
          2,
          3,
          2,
          1,
          3,
          2,
          1,
          3,
          1,
          25,
          4,
          2,
          1,
          7,
          3,
          3,
          1,
          1,
          3,
          12,
          2,
          4,
          2,
          4,
          1,
          1,
          2,
          3,
          1,
          2,
          2,
          5,
          2,
          2,
          1,
          16,
          6,
          4,
          2,
          4,
          1,
          1,
          2,
          1,
          6,
          4,
          7,
          2,
          1,
          1,
          8,
          4,
          1,
          4,
          4,
          4,
          1,
          5,
          4,
          4,
          16,
          4,
          3,
          4,
          1,
          1,
          4,
          2,
          6,
          5,
          4,
          2,
          16,
          2,
          4,
          6,
          4,
          2,
          5,
          2,
          4,
          6,
          6,
          1,
          2,
          2,
          6,
          1,
          7,
          5,
          1,
          8,
          4,
          1,
          1,
          1,
          5,
          1,
          2,
          1,
          1,
          6,
          2,
          1,
          5,
          2,
          10,
          8,
          2,
          2,
          2,
          2,
          8,
          2,
          5,
          4,
          2,
          2,
          3,
          1,
          3,
          7,
          13,
          1,
          3,
          1,
          17,
          10,
          6,
          4,
          7,
          2,
          10,
          4,
          3,
          3,
          4,
          13,
          2,
          2,
          22,
          12,
          4,
          11,
          3,
          3,
          3,
          10,
          16,
          1,
          1,
          3,
          1,
          3,
          2,
          18,
          8,
          4,
          7,
          4,
          7,
          2,
          2,
          17,
          6,
          3,
          2,
          8,
          6,
          5,
          12,
          10,
          6,
          5,
          8,
          8,
          6,
          10,
          5,
          12,
          6,
          2
         ],
         "yaxis": "y"
        }
       ],
       "layout": {
        "autosize": true,
        "bargap": 0.1,
        "barmode": "relative",
        "legend": {
         "tracegroupgap": 0
        },
        "template": {
         "data": {
          "bar": [
           {
            "error_x": {
             "color": "#2a3f5f"
            },
            "error_y": {
             "color": "#2a3f5f"
            },
            "marker": {
             "line": {
              "color": "#E5ECF6",
              "width": 0.5
             },
             "pattern": {
              "fillmode": "overlay",
              "size": 10,
              "solidity": 0.2
             }
            },
            "type": "bar"
           }
          ],
          "barpolar": [
           {
            "marker": {
             "line": {
              "color": "#E5ECF6",
              "width": 0.5
             },
             "pattern": {
              "fillmode": "overlay",
              "size": 10,
              "solidity": 0.2
             }
            },
            "type": "barpolar"
           }
          ],
          "carpet": [
           {
            "aaxis": {
             "endlinecolor": "#2a3f5f",
             "gridcolor": "white",
             "linecolor": "white",
             "minorgridcolor": "white",
             "startlinecolor": "#2a3f5f"
            },
            "baxis": {
             "endlinecolor": "#2a3f5f",
             "gridcolor": "white",
             "linecolor": "white",
             "minorgridcolor": "white",
             "startlinecolor": "#2a3f5f"
            },
            "type": "carpet"
           }
          ],
          "choropleth": [
           {
            "colorbar": {
             "outlinewidth": 0,
             "ticks": ""
            },
            "type": "choropleth"
           }
          ],
          "contour": [
           {
            "colorbar": {
             "outlinewidth": 0,
             "ticks": ""
            },
            "colorscale": [
             [
              0,
              "#0d0887"
             ],
             [
              0.1111111111111111,
              "#46039f"
             ],
             [
              0.2222222222222222,
              "#7201a8"
             ],
             [
              0.3333333333333333,
              "#9c179e"
             ],
             [
              0.4444444444444444,
              "#bd3786"
             ],
             [
              0.5555555555555556,
              "#d8576b"
             ],
             [
              0.6666666666666666,
              "#ed7953"
             ],
             [
              0.7777777777777778,
              "#fb9f3a"
             ],
             [
              0.8888888888888888,
              "#fdca26"
             ],
             [
              1,
              "#f0f921"
             ]
            ],
            "type": "contour"
           }
          ],
          "contourcarpet": [
           {
            "colorbar": {
             "outlinewidth": 0,
             "ticks": ""
            },
            "type": "contourcarpet"
           }
          ],
          "heatmap": [
           {
            "colorbar": {
             "outlinewidth": 0,
             "ticks": ""
            },
            "colorscale": [
             [
              0,
              "#0d0887"
             ],
             [
              0.1111111111111111,
              "#46039f"
             ],
             [
              0.2222222222222222,
              "#7201a8"
             ],
             [
              0.3333333333333333,
              "#9c179e"
             ],
             [
              0.4444444444444444,
              "#bd3786"
             ],
             [
              0.5555555555555556,
              "#d8576b"
             ],
             [
              0.6666666666666666,
              "#ed7953"
             ],
             [
              0.7777777777777778,
              "#fb9f3a"
             ],
             [
              0.8888888888888888,
              "#fdca26"
             ],
             [
              1,
              "#f0f921"
             ]
            ],
            "type": "heatmap"
           }
          ],
          "heatmapgl": [
           {
            "colorbar": {
             "outlinewidth": 0,
             "ticks": ""
            },
            "colorscale": [
             [
              0,
              "#0d0887"
             ],
             [
              0.1111111111111111,
              "#46039f"
             ],
             [
              0.2222222222222222,
              "#7201a8"
             ],
             [
              0.3333333333333333,
              "#9c179e"
             ],
             [
              0.4444444444444444,
              "#bd3786"
             ],
             [
              0.5555555555555556,
              "#d8576b"
             ],
             [
              0.6666666666666666,
              "#ed7953"
             ],
             [
              0.7777777777777778,
              "#fb9f3a"
             ],
             [
              0.8888888888888888,
              "#fdca26"
             ],
             [
              1,
              "#f0f921"
             ]
            ],
            "type": "heatmapgl"
           }
          ],
          "histogram": [
           {
            "marker": {
             "pattern": {
              "fillmode": "overlay",
              "size": 10,
              "solidity": 0.2
             }
            },
            "type": "histogram"
           }
          ],
          "histogram2d": [
           {
            "colorbar": {
             "outlinewidth": 0,
             "ticks": ""
            },
            "colorscale": [
             [
              0,
              "#0d0887"
             ],
             [
              0.1111111111111111,
              "#46039f"
             ],
             [
              0.2222222222222222,
              "#7201a8"
             ],
             [
              0.3333333333333333,
              "#9c179e"
             ],
             [
              0.4444444444444444,
              "#bd3786"
             ],
             [
              0.5555555555555556,
              "#d8576b"
             ],
             [
              0.6666666666666666,
              "#ed7953"
             ],
             [
              0.7777777777777778,
              "#fb9f3a"
             ],
             [
              0.8888888888888888,
              "#fdca26"
             ],
             [
              1,
              "#f0f921"
             ]
            ],
            "type": "histogram2d"
           }
          ],
          "histogram2dcontour": [
           {
            "colorbar": {
             "outlinewidth": 0,
             "ticks": ""
            },
            "colorscale": [
             [
              0,
              "#0d0887"
             ],
             [
              0.1111111111111111,
              "#46039f"
             ],
             [
              0.2222222222222222,
              "#7201a8"
             ],
             [
              0.3333333333333333,
              "#9c179e"
             ],
             [
              0.4444444444444444,
              "#bd3786"
             ],
             [
              0.5555555555555556,
              "#d8576b"
             ],
             [
              0.6666666666666666,
              "#ed7953"
             ],
             [
              0.7777777777777778,
              "#fb9f3a"
             ],
             [
              0.8888888888888888,
              "#fdca26"
             ],
             [
              1,
              "#f0f921"
             ]
            ],
            "type": "histogram2dcontour"
           }
          ],
          "mesh3d": [
           {
            "colorbar": {
             "outlinewidth": 0,
             "ticks": ""
            },
            "type": "mesh3d"
           }
          ],
          "parcoords": [
           {
            "line": {
             "colorbar": {
              "outlinewidth": 0,
              "ticks": ""
             }
            },
            "type": "parcoords"
           }
          ],
          "pie": [
           {
            "automargin": true,
            "type": "pie"
           }
          ],
          "scatter": [
           {
            "fillpattern": {
             "fillmode": "overlay",
             "size": 10,
             "solidity": 0.2
            },
            "type": "scatter"
           }
          ],
          "scatter3d": [
           {
            "line": {
             "colorbar": {
              "outlinewidth": 0,
              "ticks": ""
             }
            },
            "marker": {
             "colorbar": {
              "outlinewidth": 0,
              "ticks": ""
             }
            },
            "type": "scatter3d"
           }
          ],
          "scattercarpet": [
           {
            "marker": {
             "colorbar": {
              "outlinewidth": 0,
              "ticks": ""
             }
            },
            "type": "scattercarpet"
           }
          ],
          "scattergeo": [
           {
            "marker": {
             "colorbar": {
              "outlinewidth": 0,
              "ticks": ""
             }
            },
            "type": "scattergeo"
           }
          ],
          "scattergl": [
           {
            "marker": {
             "colorbar": {
              "outlinewidth": 0,
              "ticks": ""
             }
            },
            "type": "scattergl"
           }
          ],
          "scattermapbox": [
           {
            "marker": {
             "colorbar": {
              "outlinewidth": 0,
              "ticks": ""
             }
            },
            "type": "scattermapbox"
           }
          ],
          "scatterpolar": [
           {
            "marker": {
             "colorbar": {
              "outlinewidth": 0,
              "ticks": ""
             }
            },
            "type": "scatterpolar"
           }
          ],
          "scatterpolargl": [
           {
            "marker": {
             "colorbar": {
              "outlinewidth": 0,
              "ticks": ""
             }
            },
            "type": "scatterpolargl"
           }
          ],
          "scatterternary": [
           {
            "marker": {
             "colorbar": {
              "outlinewidth": 0,
              "ticks": ""
             }
            },
            "type": "scatterternary"
           }
          ],
          "surface": [
           {
            "colorbar": {
             "outlinewidth": 0,
             "ticks": ""
            },
            "colorscale": [
             [
              0,
              "#0d0887"
             ],
             [
              0.1111111111111111,
              "#46039f"
             ],
             [
              0.2222222222222222,
              "#7201a8"
             ],
             [
              0.3333333333333333,
              "#9c179e"
             ],
             [
              0.4444444444444444,
              "#bd3786"
             ],
             [
              0.5555555555555556,
              "#d8576b"
             ],
             [
              0.6666666666666666,
              "#ed7953"
             ],
             [
              0.7777777777777778,
              "#fb9f3a"
             ],
             [
              0.8888888888888888,
              "#fdca26"
             ],
             [
              1,
              "#f0f921"
             ]
            ],
            "type": "surface"
           }
          ],
          "table": [
           {
            "cells": {
             "fill": {
              "color": "#EBF0F8"
             },
             "line": {
              "color": "white"
             }
            },
            "header": {
             "fill": {
              "color": "#C8D4E3"
             },
             "line": {
              "color": "white"
             }
            },
            "type": "table"
           }
          ]
         },
         "layout": {
          "annotationdefaults": {
           "arrowcolor": "#2a3f5f",
           "arrowhead": 0,
           "arrowwidth": 1
          },
          "autotypenumbers": "strict",
          "coloraxis": {
           "colorbar": {
            "outlinewidth": 0,
            "ticks": ""
           }
          },
          "colorscale": {
           "diverging": [
            [
             0,
             "#8e0152"
            ],
            [
             0.1,
             "#c51b7d"
            ],
            [
             0.2,
             "#de77ae"
            ],
            [
             0.3,
             "#f1b6da"
            ],
            [
             0.4,
             "#fde0ef"
            ],
            [
             0.5,
             "#f7f7f7"
            ],
            [
             0.6,
             "#e6f5d0"
            ],
            [
             0.7,
             "#b8e186"
            ],
            [
             0.8,
             "#7fbc41"
            ],
            [
             0.9,
             "#4d9221"
            ],
            [
             1,
             "#276419"
            ]
           ],
           "sequential": [
            [
             0,
             "#0d0887"
            ],
            [
             0.1111111111111111,
             "#46039f"
            ],
            [
             0.2222222222222222,
             "#7201a8"
            ],
            [
             0.3333333333333333,
             "#9c179e"
            ],
            [
             0.4444444444444444,
             "#bd3786"
            ],
            [
             0.5555555555555556,
             "#d8576b"
            ],
            [
             0.6666666666666666,
             "#ed7953"
            ],
            [
             0.7777777777777778,
             "#fb9f3a"
            ],
            [
             0.8888888888888888,
             "#fdca26"
            ],
            [
             1,
             "#f0f921"
            ]
           ],
           "sequentialminus": [
            [
             0,
             "#0d0887"
            ],
            [
             0.1111111111111111,
             "#46039f"
            ],
            [
             0.2222222222222222,
             "#7201a8"
            ],
            [
             0.3333333333333333,
             "#9c179e"
            ],
            [
             0.4444444444444444,
             "#bd3786"
            ],
            [
             0.5555555555555556,
             "#d8576b"
            ],
            [
             0.6666666666666666,
             "#ed7953"
            ],
            [
             0.7777777777777778,
             "#fb9f3a"
            ],
            [
             0.8888888888888888,
             "#fdca26"
            ],
            [
             1,
             "#f0f921"
            ]
           ]
          },
          "colorway": [
           "#636efa",
           "#EF553B",
           "#00cc96",
           "#ab63fa",
           "#FFA15A",
           "#19d3f3",
           "#FF6692",
           "#B6E880",
           "#FF97FF",
           "#FECB52"
          ],
          "font": {
           "color": "#2a3f5f"
          },
          "geo": {
           "bgcolor": "white",
           "lakecolor": "white",
           "landcolor": "#E5ECF6",
           "showlakes": true,
           "showland": true,
           "subunitcolor": "white"
          },
          "hoverlabel": {
           "align": "left"
          },
          "hovermode": "closest",
          "mapbox": {
           "style": "light"
          },
          "paper_bgcolor": "white",
          "plot_bgcolor": "#E5ECF6",
          "polar": {
           "angularaxis": {
            "gridcolor": "white",
            "linecolor": "white",
            "ticks": ""
           },
           "bgcolor": "#E5ECF6",
           "radialaxis": {
            "gridcolor": "white",
            "linecolor": "white",
            "ticks": ""
           }
          },
          "scene": {
           "xaxis": {
            "backgroundcolor": "#E5ECF6",
            "gridcolor": "white",
            "gridwidth": 2,
            "linecolor": "white",
            "showbackground": true,
            "ticks": "",
            "zerolinecolor": "white"
           },
           "yaxis": {
            "backgroundcolor": "#E5ECF6",
            "gridcolor": "white",
            "gridwidth": 2,
            "linecolor": "white",
            "showbackground": true,
            "ticks": "",
            "zerolinecolor": "white"
           },
           "zaxis": {
            "backgroundcolor": "#E5ECF6",
            "gridcolor": "white",
            "gridwidth": 2,
            "linecolor": "white",
            "showbackground": true,
            "ticks": "",
            "zerolinecolor": "white"
           }
          },
          "shapedefaults": {
           "line": {
            "color": "#2a3f5f"
           }
          },
          "ternary": {
           "aaxis": {
            "gridcolor": "white",
            "linecolor": "white",
            "ticks": ""
           },
           "baxis": {
            "gridcolor": "white",
            "linecolor": "white",
            "ticks": ""
           },
           "bgcolor": "#E5ECF6",
           "caxis": {
            "gridcolor": "white",
            "linecolor": "white",
            "ticks": ""
           }
          },
          "title": {
           "x": 0.05
          },
          "xaxis": {
           "automargin": true,
           "gridcolor": "white",
           "linecolor": "white",
           "ticks": "",
           "title": {
            "standoff": 15
           },
           "zerolinecolor": "white",
           "zerolinewidth": 2
          },
          "yaxis": {
           "automargin": true,
           "gridcolor": "white",
           "linecolor": "white",
           "ticks": "",
           "title": {
            "standoff": 15
           },
           "zerolinecolor": "white",
           "zerolinewidth": 2
          }
         }
        },
        "title": {
         "text": "Eventos por Mes - Histograma"
        },
        "xaxis": {
         "anchor": "y",
         "autorange": true,
         "domain": [
          0,
          1
         ],
         "range": [
          "2023-05-31 12:00",
          "2024-09-30 12:00"
         ],
         "title": {
          "text": "Data"
         },
         "type": "date"
        },
        "yaxis": {
         "anchor": "x",
         "autorange": true,
         "domain": [
          0,
          1
         ],
         "range": [
          0,
          197.89473684210526
         ],
         "title": {
          "text": "sum of Quantidade"
         },
         "type": "linear"
        }
       }
      },
      "text/html": [
       "<div>                            <div id=\"a12e3d9e-eee6-458d-9e57-406d73c9fb5a\" class=\"plotly-graph-div\" style=\"height:525px; width:100%;\"></div>            <script type=\"text/javascript\">                require([\"plotly\"], function(Plotly) {                    window.PLOTLYENV=window.PLOTLYENV || {};                                    if (document.getElementById(\"a12e3d9e-eee6-458d-9e57-406d73c9fb5a\")) {                    Plotly.newPlot(                        \"a12e3d9e-eee6-458d-9e57-406d73c9fb5a\",                        [{\"alignmentgroup\":\"True\",\"bingroup\":\"x\",\"histfunc\":\"sum\",\"hovertemplate\":\"Data=%{x}\\u003cbr\\u003esum of Quantidade=%{y}\\u003cextra\\u003e\\u003c\\u002fextra\\u003e\",\"legendgroup\":\"\",\"marker\":{\"color\":\"#636efa\",\"pattern\":{\"shape\":\"\"}},\"name\":\"\",\"offsetgroup\":\"\",\"orientation\":\"v\",\"showlegend\":false,\"x\":[\"2023-06-23\",\"2023-06-27\",\"2023-06-30\",\"2023-07-03\",\"2023-07-06\",\"2023-07-08\",\"2023-07-09\",\"2023-07-17\",\"2023-07-25\",\"2023-07-28\",\"2023-08-04\",\"2023-08-05\",\"2023-08-06\",\"2023-08-08\",\"2023-08-10\",\"2023-08-11\",\"2023-08-14\",\"2023-08-17\",\"2023-08-18\",\"2023-08-21\",\"2023-08-23\",\"2023-08-24\",\"2023-08-28\",\"2023-08-31\",\"2023-09-06\",\"2023-09-08\",\"2023-09-09\",\"2023-09-11\",\"2023-09-12\",\"2023-09-15\",\"2023-09-18\",\"2023-09-19\",\"2023-09-21\",\"2023-09-25\",\"2023-09-26\",\"2023-09-28\",\"2023-10-02\",\"2023-10-03\",\"2023-10-04\",\"2023-10-05\",\"2023-10-06\",\"2023-10-07\",\"2023-10-08\",\"2023-10-10\",\"2023-10-11\",\"2023-10-14\",\"2023-10-15\",\"2023-10-16\",\"2023-10-17\",\"2023-10-19\",\"2023-10-22\",\"2023-10-23\",\"2023-10-24\",\"2023-10-26\",\"2023-10-28\",\"2023-10-31\",\"2023-11-01\",\"2023-11-02\",\"2023-11-03\",\"2023-11-07\",\"2023-11-08\",\"2023-11-10\",\"2023-11-11\",\"2023-11-12\",\"2023-11-15\",\"2023-11-17\",\"2023-11-19\",\"2023-11-21\",\"2023-11-22\",\"2023-12-01\",\"2023-12-02\",\"2023-12-03\",\"2023-12-04\",\"2023-12-05\",\"2023-12-06\",\"2023-12-07\",\"2023-12-10\",\"2023-12-11\",\"2023-12-18\",\"2023-12-20\",\"2023-12-21\",\"2023-12-24\",\"2023-12-27\",\"2023-12-28\",\"2023-12-31\",\"2024-01-01\",\"2024-01-02\",\"2024-01-03\",\"2024-01-08\",\"2024-01-09\",\"2024-01-11\",\"2024-01-13\",\"2024-01-17\",\"2024-01-20\",\"2024-01-21\",\"2024-01-22\",\"2024-01-23\",\"2024-01-24\",\"2024-01-25\",\"2024-01-26\",\"2024-01-27\",\"2024-01-28\",\"2024-01-29\",\"2024-02-03\",\"2024-02-08\",\"2024-02-10\",\"2024-02-11\",\"2024-02-12\",\"2024-02-13\",\"2024-02-14\",\"2024-02-15\",\"2024-02-17\",\"2024-02-22\",\"2024-02-23\",\"2024-02-24\",\"2024-02-25\",\"2024-02-26\",\"2024-02-27\",\"2024-02-29\",\"2024-03-01\",\"2024-03-03\",\"2024-03-04\",\"2024-03-05\",\"2024-03-07\",\"2024-03-08\",\"2024-03-13\",\"2024-03-14\",\"2024-03-15\",\"2024-03-17\",\"2024-03-18\",\"2024-03-19\",\"2024-03-22\",\"2024-03-24\",\"2024-03-29\",\"2024-04-01\",\"2024-04-02\",\"2024-04-03\",\"2024-04-04\",\"2024-04-05\",\"2024-04-06\",\"2024-04-07\",\"2024-04-09\",\"2024-04-10\",\"2024-04-13\",\"2024-04-15\",\"2024-04-17\",\"2024-04-18\",\"2024-04-21\",\"2024-04-22\",\"2024-04-23\",\"2024-04-24\",\"2024-04-25\",\"2024-04-26\",\"2024-04-27\",\"2024-05-03\",\"2024-05-05\",\"2024-05-06\",\"2024-05-07\",\"2024-05-10\",\"2024-05-12\",\"2024-05-16\",\"2024-05-20\",\"2024-05-21\",\"2024-05-22\",\"2024-05-28\",\"2024-05-29\",\"2024-06-01\",\"2024-06-02\",\"2024-06-05\",\"2024-06-11\",\"2024-06-12\",\"2024-06-15\",\"2024-06-16\",\"2024-06-18\",\"2024-06-19\",\"2024-06-23\",\"2024-06-24\",\"2024-06-25\",\"2024-06-26\",\"2024-06-28\",\"2024-06-29\",\"2024-06-30\",\"2024-07-02\",\"2024-07-03\",\"2024-07-04\",\"2024-07-05\",\"2024-07-06\",\"2024-07-07\",\"2024-07-08\",\"2024-07-10\",\"2024-07-11\",\"2024-07-12\",\"2024-07-13\",\"2024-07-14\",\"2024-07-15\",\"2024-07-16\",\"2024-07-17\",\"2024-07-18\",\"2024-07-19\",\"2024-07-20\",\"2024-07-21\",\"2024-07-22\",\"2024-07-23\",\"2024-07-24\",\"2024-07-25\",\"2024-07-26\",\"2024-07-27\",\"2024-07-28\",\"2024-07-29\",\"2024-07-30\",\"2024-07-31\",\"2024-08-01\",\"2024-08-02\",\"2024-08-03\",\"2024-08-04\",\"2024-08-05\",\"2024-08-07\",\"2024-08-08\",\"2024-08-09\",\"2024-08-10\",\"2024-08-11\",\"2024-08-12\",\"2024-08-13\",\"2024-08-14\",\"2024-08-15\",\"2024-08-16\",\"2024-08-18\",\"2024-08-19\",\"2024-08-20\",\"2024-08-21\",\"2024-08-22\",\"2024-08-23\",\"2024-08-24\",\"2024-08-25\",\"2024-08-26\",\"2024-08-27\",\"2024-08-28\",\"2024-08-29\",\"2024-08-30\",\"2024-08-31\",\"2024-09-01\",\"2024-09-02\",\"2024-09-03\",\"2024-09-04\",\"2024-09-05\",\"2024-09-06\",\"2024-09-07\",\"2024-09-08\",\"2024-09-09\",\"2024-09-10\",\"2024-09-11\",\"2024-09-12\",\"2024-09-13\",\"2024-09-14\",\"2024-09-15\",\"2024-09-16\",\"2024-09-17\",\"2024-09-18\"],\"xaxis\":\"x\",\"y\":[4,4,1,3,3,1,7,2,2,1,1,6,4,1,4,4,1,1,1,1,3,3,5,1,2,4,2,4,3,3,8,5,4,1,1,3,1,10,21,20,8,8,8,6,2,1,4,4,6,1,2,4,1,3,2,2,1,1,2,2,3,6,1,1,2,2,4,1,1,1,26,11,5,6,1,4,2,3,2,1,3,2,1,3,1,25,4,2,1,7,3,3,1,1,3,12,2,4,2,4,1,1,2,3,1,2,2,5,2,2,1,16,6,4,2,4,1,1,2,1,6,4,7,2,1,1,8,4,1,4,4,4,1,5,4,4,16,4,3,4,1,1,4,2,6,5,4,2,16,2,4,6,4,2,5,2,4,6,6,1,2,2,6,1,7,5,1,8,4,1,1,1,5,1,2,1,1,6,2,1,5,2,10,8,2,2,2,2,8,2,5,4,2,2,3,1,3,7,13,1,3,1,17,10,6,4,7,2,10,4,3,3,4,13,2,2,22,12,4,11,3,3,3,10,16,1,1,3,1,3,2,18,8,4,7,4,7,2,2,17,6,3,2,8,6,5,12,10,6,5,8,8,6,10,5,12,6,2],\"yaxis\":\"y\",\"type\":\"histogram\"}],                        {\"template\":{\"data\":{\"histogram2dcontour\":[{\"type\":\"histogram2dcontour\",\"colorbar\":{\"outlinewidth\":0,\"ticks\":\"\"},\"colorscale\":[[0.0,\"#0d0887\"],[0.1111111111111111,\"#46039f\"],[0.2222222222222222,\"#7201a8\"],[0.3333333333333333,\"#9c179e\"],[0.4444444444444444,\"#bd3786\"],[0.5555555555555556,\"#d8576b\"],[0.6666666666666666,\"#ed7953\"],[0.7777777777777778,\"#fb9f3a\"],[0.8888888888888888,\"#fdca26\"],[1.0,\"#f0f921\"]]}],\"choropleth\":[{\"type\":\"choropleth\",\"colorbar\":{\"outlinewidth\":0,\"ticks\":\"\"}}],\"histogram2d\":[{\"type\":\"histogram2d\",\"colorbar\":{\"outlinewidth\":0,\"ticks\":\"\"},\"colorscale\":[[0.0,\"#0d0887\"],[0.1111111111111111,\"#46039f\"],[0.2222222222222222,\"#7201a8\"],[0.3333333333333333,\"#9c179e\"],[0.4444444444444444,\"#bd3786\"],[0.5555555555555556,\"#d8576b\"],[0.6666666666666666,\"#ed7953\"],[0.7777777777777778,\"#fb9f3a\"],[0.8888888888888888,\"#fdca26\"],[1.0,\"#f0f921\"]]}],\"heatmap\":[{\"type\":\"heatmap\",\"colorbar\":{\"outlinewidth\":0,\"ticks\":\"\"},\"colorscale\":[[0.0,\"#0d0887\"],[0.1111111111111111,\"#46039f\"],[0.2222222222222222,\"#7201a8\"],[0.3333333333333333,\"#9c179e\"],[0.4444444444444444,\"#bd3786\"],[0.5555555555555556,\"#d8576b\"],[0.6666666666666666,\"#ed7953\"],[0.7777777777777778,\"#fb9f3a\"],[0.8888888888888888,\"#fdca26\"],[1.0,\"#f0f921\"]]}],\"heatmapgl\":[{\"type\":\"heatmapgl\",\"colorbar\":{\"outlinewidth\":0,\"ticks\":\"\"},\"colorscale\":[[0.0,\"#0d0887\"],[0.1111111111111111,\"#46039f\"],[0.2222222222222222,\"#7201a8\"],[0.3333333333333333,\"#9c179e\"],[0.4444444444444444,\"#bd3786\"],[0.5555555555555556,\"#d8576b\"],[0.6666666666666666,\"#ed7953\"],[0.7777777777777778,\"#fb9f3a\"],[0.8888888888888888,\"#fdca26\"],[1.0,\"#f0f921\"]]}],\"contourcarpet\":[{\"type\":\"contourcarpet\",\"colorbar\":{\"outlinewidth\":0,\"ticks\":\"\"}}],\"contour\":[{\"type\":\"contour\",\"colorbar\":{\"outlinewidth\":0,\"ticks\":\"\"},\"colorscale\":[[0.0,\"#0d0887\"],[0.1111111111111111,\"#46039f\"],[0.2222222222222222,\"#7201a8\"],[0.3333333333333333,\"#9c179e\"],[0.4444444444444444,\"#bd3786\"],[0.5555555555555556,\"#d8576b\"],[0.6666666666666666,\"#ed7953\"],[0.7777777777777778,\"#fb9f3a\"],[0.8888888888888888,\"#fdca26\"],[1.0,\"#f0f921\"]]}],\"surface\":[{\"type\":\"surface\",\"colorbar\":{\"outlinewidth\":0,\"ticks\":\"\"},\"colorscale\":[[0.0,\"#0d0887\"],[0.1111111111111111,\"#46039f\"],[0.2222222222222222,\"#7201a8\"],[0.3333333333333333,\"#9c179e\"],[0.4444444444444444,\"#bd3786\"],[0.5555555555555556,\"#d8576b\"],[0.6666666666666666,\"#ed7953\"],[0.7777777777777778,\"#fb9f3a\"],[0.8888888888888888,\"#fdca26\"],[1.0,\"#f0f921\"]]}],\"mesh3d\":[{\"type\":\"mesh3d\",\"colorbar\":{\"outlinewidth\":0,\"ticks\":\"\"}}],\"scatter\":[{\"fillpattern\":{\"fillmode\":\"overlay\",\"size\":10,\"solidity\":0.2},\"type\":\"scatter\"}],\"parcoords\":[{\"type\":\"parcoords\",\"line\":{\"colorbar\":{\"outlinewidth\":0,\"ticks\":\"\"}}}],\"scatterpolargl\":[{\"type\":\"scatterpolargl\",\"marker\":{\"colorbar\":{\"outlinewidth\":0,\"ticks\":\"\"}}}],\"bar\":[{\"error_x\":{\"color\":\"#2a3f5f\"},\"error_y\":{\"color\":\"#2a3f5f\"},\"marker\":{\"line\":{\"color\":\"#E5ECF6\",\"width\":0.5},\"pattern\":{\"fillmode\":\"overlay\",\"size\":10,\"solidity\":0.2}},\"type\":\"bar\"}],\"scattergeo\":[{\"type\":\"scattergeo\",\"marker\":{\"colorbar\":{\"outlinewidth\":0,\"ticks\":\"\"}}}],\"scatterpolar\":[{\"type\":\"scatterpolar\",\"marker\":{\"colorbar\":{\"outlinewidth\":0,\"ticks\":\"\"}}}],\"histogram\":[{\"marker\":{\"pattern\":{\"fillmode\":\"overlay\",\"size\":10,\"solidity\":0.2}},\"type\":\"histogram\"}],\"scattergl\":[{\"type\":\"scattergl\",\"marker\":{\"colorbar\":{\"outlinewidth\":0,\"ticks\":\"\"}}}],\"scatter3d\":[{\"type\":\"scatter3d\",\"line\":{\"colorbar\":{\"outlinewidth\":0,\"ticks\":\"\"}},\"marker\":{\"colorbar\":{\"outlinewidth\":0,\"ticks\":\"\"}}}],\"scattermapbox\":[{\"type\":\"scattermapbox\",\"marker\":{\"colorbar\":{\"outlinewidth\":0,\"ticks\":\"\"}}}],\"scatterternary\":[{\"type\":\"scatterternary\",\"marker\":{\"colorbar\":{\"outlinewidth\":0,\"ticks\":\"\"}}}],\"scattercarpet\":[{\"type\":\"scattercarpet\",\"marker\":{\"colorbar\":{\"outlinewidth\":0,\"ticks\":\"\"}}}],\"carpet\":[{\"aaxis\":{\"endlinecolor\":\"#2a3f5f\",\"gridcolor\":\"white\",\"linecolor\":\"white\",\"minorgridcolor\":\"white\",\"startlinecolor\":\"#2a3f5f\"},\"baxis\":{\"endlinecolor\":\"#2a3f5f\",\"gridcolor\":\"white\",\"linecolor\":\"white\",\"minorgridcolor\":\"white\",\"startlinecolor\":\"#2a3f5f\"},\"type\":\"carpet\"}],\"table\":[{\"cells\":{\"fill\":{\"color\":\"#EBF0F8\"},\"line\":{\"color\":\"white\"}},\"header\":{\"fill\":{\"color\":\"#C8D4E3\"},\"line\":{\"color\":\"white\"}},\"type\":\"table\"}],\"barpolar\":[{\"marker\":{\"line\":{\"color\":\"#E5ECF6\",\"width\":0.5},\"pattern\":{\"fillmode\":\"overlay\",\"size\":10,\"solidity\":0.2}},\"type\":\"barpolar\"}],\"pie\":[{\"automargin\":true,\"type\":\"pie\"}]},\"layout\":{\"autotypenumbers\":\"strict\",\"colorway\":[\"#636efa\",\"#EF553B\",\"#00cc96\",\"#ab63fa\",\"#FFA15A\",\"#19d3f3\",\"#FF6692\",\"#B6E880\",\"#FF97FF\",\"#FECB52\"],\"font\":{\"color\":\"#2a3f5f\"},\"hovermode\":\"closest\",\"hoverlabel\":{\"align\":\"left\"},\"paper_bgcolor\":\"white\",\"plot_bgcolor\":\"#E5ECF6\",\"polar\":{\"bgcolor\":\"#E5ECF6\",\"angularaxis\":{\"gridcolor\":\"white\",\"linecolor\":\"white\",\"ticks\":\"\"},\"radialaxis\":{\"gridcolor\":\"white\",\"linecolor\":\"white\",\"ticks\":\"\"}},\"ternary\":{\"bgcolor\":\"#E5ECF6\",\"aaxis\":{\"gridcolor\":\"white\",\"linecolor\":\"white\",\"ticks\":\"\"},\"baxis\":{\"gridcolor\":\"white\",\"linecolor\":\"white\",\"ticks\":\"\"},\"caxis\":{\"gridcolor\":\"white\",\"linecolor\":\"white\",\"ticks\":\"\"}},\"coloraxis\":{\"colorbar\":{\"outlinewidth\":0,\"ticks\":\"\"}},\"colorscale\":{\"sequential\":[[0.0,\"#0d0887\"],[0.1111111111111111,\"#46039f\"],[0.2222222222222222,\"#7201a8\"],[0.3333333333333333,\"#9c179e\"],[0.4444444444444444,\"#bd3786\"],[0.5555555555555556,\"#d8576b\"],[0.6666666666666666,\"#ed7953\"],[0.7777777777777778,\"#fb9f3a\"],[0.8888888888888888,\"#fdca26\"],[1.0,\"#f0f921\"]],\"sequentialminus\":[[0.0,\"#0d0887\"],[0.1111111111111111,\"#46039f\"],[0.2222222222222222,\"#7201a8\"],[0.3333333333333333,\"#9c179e\"],[0.4444444444444444,\"#bd3786\"],[0.5555555555555556,\"#d8576b\"],[0.6666666666666666,\"#ed7953\"],[0.7777777777777778,\"#fb9f3a\"],[0.8888888888888888,\"#fdca26\"],[1.0,\"#f0f921\"]],\"diverging\":[[0,\"#8e0152\"],[0.1,\"#c51b7d\"],[0.2,\"#de77ae\"],[0.3,\"#f1b6da\"],[0.4,\"#fde0ef\"],[0.5,\"#f7f7f7\"],[0.6,\"#e6f5d0\"],[0.7,\"#b8e186\"],[0.8,\"#7fbc41\"],[0.9,\"#4d9221\"],[1,\"#276419\"]]},\"xaxis\":{\"gridcolor\":\"white\",\"linecolor\":\"white\",\"ticks\":\"\",\"title\":{\"standoff\":15},\"zerolinecolor\":\"white\",\"automargin\":true,\"zerolinewidth\":2},\"yaxis\":{\"gridcolor\":\"white\",\"linecolor\":\"white\",\"ticks\":\"\",\"title\":{\"standoff\":15},\"zerolinecolor\":\"white\",\"automargin\":true,\"zerolinewidth\":2},\"scene\":{\"xaxis\":{\"backgroundcolor\":\"#E5ECF6\",\"gridcolor\":\"white\",\"linecolor\":\"white\",\"showbackground\":true,\"ticks\":\"\",\"zerolinecolor\":\"white\",\"gridwidth\":2},\"yaxis\":{\"backgroundcolor\":\"#E5ECF6\",\"gridcolor\":\"white\",\"linecolor\":\"white\",\"showbackground\":true,\"ticks\":\"\",\"zerolinecolor\":\"white\",\"gridwidth\":2},\"zaxis\":{\"backgroundcolor\":\"#E5ECF6\",\"gridcolor\":\"white\",\"linecolor\":\"white\",\"showbackground\":true,\"ticks\":\"\",\"zerolinecolor\":\"white\",\"gridwidth\":2}},\"shapedefaults\":{\"line\":{\"color\":\"#2a3f5f\"}},\"annotationdefaults\":{\"arrowcolor\":\"#2a3f5f\",\"arrowhead\":0,\"arrowwidth\":1},\"geo\":{\"bgcolor\":\"white\",\"landcolor\":\"#E5ECF6\",\"subunitcolor\":\"white\",\"showland\":true,\"showlakes\":true,\"lakecolor\":\"white\"},\"title\":{\"x\":0.05},\"mapbox\":{\"style\":\"light\"}}},\"xaxis\":{\"anchor\":\"y\",\"domain\":[0.0,1.0],\"title\":{\"text\":\"Data\"}},\"yaxis\":{\"anchor\":\"x\",\"domain\":[0.0,1.0],\"title\":{\"text\":\"sum of Quantidade\"}},\"legend\":{\"tracegroupgap\":0},\"title\":{\"text\":\"Eventos por Mes - Histograma\"},\"barmode\":\"relative\",\"bargap\":0.1},                        {\"responsive\": true}                    ).then(function(){\n",
       "                            \n",
       "var gd = document.getElementById('a12e3d9e-eee6-458d-9e57-406d73c9fb5a');\n",
       "var x = new MutationObserver(function (mutations, observer) {{\n",
       "        var display = window.getComputedStyle(gd).display;\n",
       "        if (!display || display === 'none') {{\n",
       "            console.log([gd, 'removed!']);\n",
       "            Plotly.purge(gd);\n",
       "            observer.disconnect();\n",
       "        }}\n",
       "}});\n",
       "\n",
       "// Listen for the removal of the full notebook cells\n",
       "var notebookContainer = gd.closest('#notebook-container');\n",
       "if (notebookContainer) {{\n",
       "    x.observe(notebookContainer, {childList: true});\n",
       "}}\n",
       "\n",
       "// Listen for the clearing of the current output cell\n",
       "var outputEl = gd.closest('.output');\n",
       "if (outputEl) {{\n",
       "    x.observe(outputEl, {childList: true});\n",
       "}}\n",
       "\n",
       "                        })                };                });            </script>        </div>"
      ]
     },
     "metadata": {},
     "output_type": "display_data"
    }
   ],
   "source": [
    "# Converter para formato datetime\n",
    "df_dropped['data'] = pd.to_datetime(df_dropped['data'])\n",
    "\n",
    "\n",
    "df_agrupado_data = df_dropped.groupby(df_dropped['data'].dt.date).size().reset_index(name='quantidade')\n",
    "\n",
    "fig_por_dia = px.line(df_agrupado_data, x='data', y='quantidade', title='Eventos por Dia - Linha', labels={'data': 'Data', 'quantidade': 'Quantidade'})\n",
    "fig_por_dia.show()\n",
    "\n",
    "\n",
    "fig_por_mes = px.histogram(df_agrupado_data, x='data', y='quantidade', title='Eventos por Mes - Histograma', labels={'data': 'Data', 'quantidade': 'Quantidade'})\n",
    "fig_por_mes.update_layout(bargap=0.1)  \n",
    "fig_por_mes.show()"
   ]
  },
  {
   "cell_type": "code",
   "execution_count": 318,
   "id": "31fcec6f-b618-47f5-aa30-ebff8616c211",
   "metadata": {},
   "outputs": [
    {
     "data": {
      "application/vnd.plotly.v1+json": {
       "config": {
        "plotlyServerURL": "https://plot.ly"
       },
       "data": [
        {
         "alignmentgroup": "True",
         "hovertemplate": "Continente=%{x}<br>Quantidade de Eventos=%{y}<extra></extra>",
         "legendgroup": "Africa",
         "marker": {
          "color": "#636efa",
          "pattern": {
           "shape": ""
          }
         },
         "name": "Africa",
         "offsetgroup": "Africa",
         "orientation": "v",
         "showlegend": true,
         "textposition": "auto",
         "type": "bar",
         "x": [
          "Africa"
         ],
         "xaxis": "x",
         "y": [
          3
         ],
         "yaxis": "y"
        },
        {
         "alignmentgroup": "True",
         "hovertemplate": "Continente=%{x}<br>Quantidade de Eventos=%{y}<extra></extra>",
         "legendgroup": "Asia",
         "marker": {
          "color": "#EF553B",
          "pattern": {
           "shape": ""
          }
         },
         "name": "Asia",
         "offsetgroup": "Asia",
         "orientation": "v",
         "showlegend": true,
         "textposition": "auto",
         "type": "bar",
         "x": [
          "Asia"
         ],
         "xaxis": "x",
         "y": [
          333
         ],
         "yaxis": "y"
        },
        {
         "alignmentgroup": "True",
         "hovertemplate": "Continente=%{x}<br>Quantidade de Eventos=%{y}<extra></extra>",
         "legendgroup": "Europe",
         "marker": {
          "color": "#00cc96",
          "pattern": {
           "shape": ""
          }
         },
         "name": "Europe",
         "offsetgroup": "Europe",
         "orientation": "v",
         "showlegend": true,
         "textposition": "auto",
         "type": "bar",
         "x": [
          "Europe"
         ],
         "xaxis": "x",
         "y": [
          7
         ],
         "yaxis": "y"
        },
        {
         "alignmentgroup": "True",
         "hovertemplate": "Continente=%{x}<br>Quantidade de Eventos=%{y}<extra></extra>",
         "legendgroup": "Insluar Oceania",
         "marker": {
          "color": "#ab63fa",
          "pattern": {
           "shape": ""
          }
         },
         "name": "Insluar Oceania",
         "offsetgroup": "Insluar Oceania",
         "orientation": "v",
         "showlegend": true,
         "textposition": "auto",
         "type": "bar",
         "x": [
          "Insluar Oceania"
         ],
         "xaxis": "x",
         "y": [
          1
         ],
         "yaxis": "y"
        },
        {
         "alignmentgroup": "True",
         "hovertemplate": "Continente=%{x}<br>Quantidade de Eventos=%{y}<extra></extra>",
         "legendgroup": "Insular Oceania",
         "marker": {
          "color": "#FFA15A",
          "pattern": {
           "shape": ""
          }
         },
         "name": "Insular Oceania",
         "offsetgroup": "Insular Oceania",
         "orientation": "v",
         "showlegend": true,
         "textposition": "auto",
         "type": "bar",
         "x": [
          "Insular Oceania"
         ],
         "xaxis": "x",
         "y": [
          1
         ],
         "yaxis": "y"
        },
        {
         "alignmentgroup": "True",
         "hovertemplate": "Continente=%{x}<br>Quantidade de Eventos=%{y}<extra></extra>",
         "legendgroup": "North America",
         "marker": {
          "color": "#19d3f3",
          "pattern": {
           "shape": ""
          }
         },
         "name": "North America",
         "offsetgroup": "North America",
         "orientation": "v",
         "showlegend": true,
         "textposition": "auto",
         "type": "bar",
         "x": [
          "North America"
         ],
         "xaxis": "x",
         "y": [
          446
         ],
         "yaxis": "y"
        },
        {
         "alignmentgroup": "True",
         "hovertemplate": "Continente=%{x}<br>Quantidade de Eventos=%{y}<extra></extra>",
         "legendgroup": "Oceania",
         "marker": {
          "color": "#FF6692",
          "pattern": {
           "shape": ""
          }
         },
         "name": "Oceania",
         "offsetgroup": "Oceania",
         "orientation": "v",
         "showlegend": true,
         "textposition": "auto",
         "type": "bar",
         "x": [
          "Oceania"
         ],
         "xaxis": "x",
         "y": [
          1
         ],
         "yaxis": "y"
        },
        {
         "alignmentgroup": "True",
         "hovertemplate": "Continente=%{x}<br>Quantidade de Eventos=%{y}<extra></extra>",
         "legendgroup": "South America",
         "marker": {
          "color": "#B6E880",
          "pattern": {
           "shape": ""
          }
         },
         "name": "South America",
         "offsetgroup": "South America",
         "orientation": "v",
         "showlegend": true,
         "textposition": "auto",
         "type": "bar",
         "x": [
          "South America"
         ],
         "xaxis": "x",
         "y": [
          75
         ],
         "yaxis": "y"
        }
       ],
       "layout": {
        "autosize": true,
        "barmode": "relative",
        "legend": {
         "title": {
          "text": "Continente"
         },
         "tracegroupgap": 0
        },
        "template": {
         "data": {
          "bar": [
           {
            "error_x": {
             "color": "#2a3f5f"
            },
            "error_y": {
             "color": "#2a3f5f"
            },
            "marker": {
             "line": {
              "color": "#E5ECF6",
              "width": 0.5
             },
             "pattern": {
              "fillmode": "overlay",
              "size": 10,
              "solidity": 0.2
             }
            },
            "type": "bar"
           }
          ],
          "barpolar": [
           {
            "marker": {
             "line": {
              "color": "#E5ECF6",
              "width": 0.5
             },
             "pattern": {
              "fillmode": "overlay",
              "size": 10,
              "solidity": 0.2
             }
            },
            "type": "barpolar"
           }
          ],
          "carpet": [
           {
            "aaxis": {
             "endlinecolor": "#2a3f5f",
             "gridcolor": "white",
             "linecolor": "white",
             "minorgridcolor": "white",
             "startlinecolor": "#2a3f5f"
            },
            "baxis": {
             "endlinecolor": "#2a3f5f",
             "gridcolor": "white",
             "linecolor": "white",
             "minorgridcolor": "white",
             "startlinecolor": "#2a3f5f"
            },
            "type": "carpet"
           }
          ],
          "choropleth": [
           {
            "colorbar": {
             "outlinewidth": 0,
             "ticks": ""
            },
            "type": "choropleth"
           }
          ],
          "contour": [
           {
            "colorbar": {
             "outlinewidth": 0,
             "ticks": ""
            },
            "colorscale": [
             [
              0,
              "#0d0887"
             ],
             [
              0.1111111111111111,
              "#46039f"
             ],
             [
              0.2222222222222222,
              "#7201a8"
             ],
             [
              0.3333333333333333,
              "#9c179e"
             ],
             [
              0.4444444444444444,
              "#bd3786"
             ],
             [
              0.5555555555555556,
              "#d8576b"
             ],
             [
              0.6666666666666666,
              "#ed7953"
             ],
             [
              0.7777777777777778,
              "#fb9f3a"
             ],
             [
              0.8888888888888888,
              "#fdca26"
             ],
             [
              1,
              "#f0f921"
             ]
            ],
            "type": "contour"
           }
          ],
          "contourcarpet": [
           {
            "colorbar": {
             "outlinewidth": 0,
             "ticks": ""
            },
            "type": "contourcarpet"
           }
          ],
          "heatmap": [
           {
            "colorbar": {
             "outlinewidth": 0,
             "ticks": ""
            },
            "colorscale": [
             [
              0,
              "#0d0887"
             ],
             [
              0.1111111111111111,
              "#46039f"
             ],
             [
              0.2222222222222222,
              "#7201a8"
             ],
             [
              0.3333333333333333,
              "#9c179e"
             ],
             [
              0.4444444444444444,
              "#bd3786"
             ],
             [
              0.5555555555555556,
              "#d8576b"
             ],
             [
              0.6666666666666666,
              "#ed7953"
             ],
             [
              0.7777777777777778,
              "#fb9f3a"
             ],
             [
              0.8888888888888888,
              "#fdca26"
             ],
             [
              1,
              "#f0f921"
             ]
            ],
            "type": "heatmap"
           }
          ],
          "heatmapgl": [
           {
            "colorbar": {
             "outlinewidth": 0,
             "ticks": ""
            },
            "colorscale": [
             [
              0,
              "#0d0887"
             ],
             [
              0.1111111111111111,
              "#46039f"
             ],
             [
              0.2222222222222222,
              "#7201a8"
             ],
             [
              0.3333333333333333,
              "#9c179e"
             ],
             [
              0.4444444444444444,
              "#bd3786"
             ],
             [
              0.5555555555555556,
              "#d8576b"
             ],
             [
              0.6666666666666666,
              "#ed7953"
             ],
             [
              0.7777777777777778,
              "#fb9f3a"
             ],
             [
              0.8888888888888888,
              "#fdca26"
             ],
             [
              1,
              "#f0f921"
             ]
            ],
            "type": "heatmapgl"
           }
          ],
          "histogram": [
           {
            "marker": {
             "pattern": {
              "fillmode": "overlay",
              "size": 10,
              "solidity": 0.2
             }
            },
            "type": "histogram"
           }
          ],
          "histogram2d": [
           {
            "colorbar": {
             "outlinewidth": 0,
             "ticks": ""
            },
            "colorscale": [
             [
              0,
              "#0d0887"
             ],
             [
              0.1111111111111111,
              "#46039f"
             ],
             [
              0.2222222222222222,
              "#7201a8"
             ],
             [
              0.3333333333333333,
              "#9c179e"
             ],
             [
              0.4444444444444444,
              "#bd3786"
             ],
             [
              0.5555555555555556,
              "#d8576b"
             ],
             [
              0.6666666666666666,
              "#ed7953"
             ],
             [
              0.7777777777777778,
              "#fb9f3a"
             ],
             [
              0.8888888888888888,
              "#fdca26"
             ],
             [
              1,
              "#f0f921"
             ]
            ],
            "type": "histogram2d"
           }
          ],
          "histogram2dcontour": [
           {
            "colorbar": {
             "outlinewidth": 0,
             "ticks": ""
            },
            "colorscale": [
             [
              0,
              "#0d0887"
             ],
             [
              0.1111111111111111,
              "#46039f"
             ],
             [
              0.2222222222222222,
              "#7201a8"
             ],
             [
              0.3333333333333333,
              "#9c179e"
             ],
             [
              0.4444444444444444,
              "#bd3786"
             ],
             [
              0.5555555555555556,
              "#d8576b"
             ],
             [
              0.6666666666666666,
              "#ed7953"
             ],
             [
              0.7777777777777778,
              "#fb9f3a"
             ],
             [
              0.8888888888888888,
              "#fdca26"
             ],
             [
              1,
              "#f0f921"
             ]
            ],
            "type": "histogram2dcontour"
           }
          ],
          "mesh3d": [
           {
            "colorbar": {
             "outlinewidth": 0,
             "ticks": ""
            },
            "type": "mesh3d"
           }
          ],
          "parcoords": [
           {
            "line": {
             "colorbar": {
              "outlinewidth": 0,
              "ticks": ""
             }
            },
            "type": "parcoords"
           }
          ],
          "pie": [
           {
            "automargin": true,
            "type": "pie"
           }
          ],
          "scatter": [
           {
            "fillpattern": {
             "fillmode": "overlay",
             "size": 10,
             "solidity": 0.2
            },
            "type": "scatter"
           }
          ],
          "scatter3d": [
           {
            "line": {
             "colorbar": {
              "outlinewidth": 0,
              "ticks": ""
             }
            },
            "marker": {
             "colorbar": {
              "outlinewidth": 0,
              "ticks": ""
             }
            },
            "type": "scatter3d"
           }
          ],
          "scattercarpet": [
           {
            "marker": {
             "colorbar": {
              "outlinewidth": 0,
              "ticks": ""
             }
            },
            "type": "scattercarpet"
           }
          ],
          "scattergeo": [
           {
            "marker": {
             "colorbar": {
              "outlinewidth": 0,
              "ticks": ""
             }
            },
            "type": "scattergeo"
           }
          ],
          "scattergl": [
           {
            "marker": {
             "colorbar": {
              "outlinewidth": 0,
              "ticks": ""
             }
            },
            "type": "scattergl"
           }
          ],
          "scattermapbox": [
           {
            "marker": {
             "colorbar": {
              "outlinewidth": 0,
              "ticks": ""
             }
            },
            "type": "scattermapbox"
           }
          ],
          "scatterpolar": [
           {
            "marker": {
             "colorbar": {
              "outlinewidth": 0,
              "ticks": ""
             }
            },
            "type": "scatterpolar"
           }
          ],
          "scatterpolargl": [
           {
            "marker": {
             "colorbar": {
              "outlinewidth": 0,
              "ticks": ""
             }
            },
            "type": "scatterpolargl"
           }
          ],
          "scatterternary": [
           {
            "marker": {
             "colorbar": {
              "outlinewidth": 0,
              "ticks": ""
             }
            },
            "type": "scatterternary"
           }
          ],
          "surface": [
           {
            "colorbar": {
             "outlinewidth": 0,
             "ticks": ""
            },
            "colorscale": [
             [
              0,
              "#0d0887"
             ],
             [
              0.1111111111111111,
              "#46039f"
             ],
             [
              0.2222222222222222,
              "#7201a8"
             ],
             [
              0.3333333333333333,
              "#9c179e"
             ],
             [
              0.4444444444444444,
              "#bd3786"
             ],
             [
              0.5555555555555556,
              "#d8576b"
             ],
             [
              0.6666666666666666,
              "#ed7953"
             ],
             [
              0.7777777777777778,
              "#fb9f3a"
             ],
             [
              0.8888888888888888,
              "#fdca26"
             ],
             [
              1,
              "#f0f921"
             ]
            ],
            "type": "surface"
           }
          ],
          "table": [
           {
            "cells": {
             "fill": {
              "color": "#EBF0F8"
             },
             "line": {
              "color": "white"
             }
            },
            "header": {
             "fill": {
              "color": "#C8D4E3"
             },
             "line": {
              "color": "white"
             }
            },
            "type": "table"
           }
          ]
         },
         "layout": {
          "annotationdefaults": {
           "arrowcolor": "#2a3f5f",
           "arrowhead": 0,
           "arrowwidth": 1
          },
          "autotypenumbers": "strict",
          "coloraxis": {
           "colorbar": {
            "outlinewidth": 0,
            "ticks": ""
           }
          },
          "colorscale": {
           "diverging": [
            [
             0,
             "#8e0152"
            ],
            [
             0.1,
             "#c51b7d"
            ],
            [
             0.2,
             "#de77ae"
            ],
            [
             0.3,
             "#f1b6da"
            ],
            [
             0.4,
             "#fde0ef"
            ],
            [
             0.5,
             "#f7f7f7"
            ],
            [
             0.6,
             "#e6f5d0"
            ],
            [
             0.7,
             "#b8e186"
            ],
            [
             0.8,
             "#7fbc41"
            ],
            [
             0.9,
             "#4d9221"
            ],
            [
             1,
             "#276419"
            ]
           ],
           "sequential": [
            [
             0,
             "#0d0887"
            ],
            [
             0.1111111111111111,
             "#46039f"
            ],
            [
             0.2222222222222222,
             "#7201a8"
            ],
            [
             0.3333333333333333,
             "#9c179e"
            ],
            [
             0.4444444444444444,
             "#bd3786"
            ],
            [
             0.5555555555555556,
             "#d8576b"
            ],
            [
             0.6666666666666666,
             "#ed7953"
            ],
            [
             0.7777777777777778,
             "#fb9f3a"
            ],
            [
             0.8888888888888888,
             "#fdca26"
            ],
            [
             1,
             "#f0f921"
            ]
           ],
           "sequentialminus": [
            [
             0,
             "#0d0887"
            ],
            [
             0.1111111111111111,
             "#46039f"
            ],
            [
             0.2222222222222222,
             "#7201a8"
            ],
            [
             0.3333333333333333,
             "#9c179e"
            ],
            [
             0.4444444444444444,
             "#bd3786"
            ],
            [
             0.5555555555555556,
             "#d8576b"
            ],
            [
             0.6666666666666666,
             "#ed7953"
            ],
            [
             0.7777777777777778,
             "#fb9f3a"
            ],
            [
             0.8888888888888888,
             "#fdca26"
            ],
            [
             1,
             "#f0f921"
            ]
           ]
          },
          "colorway": [
           "#636efa",
           "#EF553B",
           "#00cc96",
           "#ab63fa",
           "#FFA15A",
           "#19d3f3",
           "#FF6692",
           "#B6E880",
           "#FF97FF",
           "#FECB52"
          ],
          "font": {
           "color": "#2a3f5f"
          },
          "geo": {
           "bgcolor": "white",
           "lakecolor": "white",
           "landcolor": "#E5ECF6",
           "showlakes": true,
           "showland": true,
           "subunitcolor": "white"
          },
          "hoverlabel": {
           "align": "left"
          },
          "hovermode": "closest",
          "mapbox": {
           "style": "light"
          },
          "paper_bgcolor": "white",
          "plot_bgcolor": "#E5ECF6",
          "polar": {
           "angularaxis": {
            "gridcolor": "white",
            "linecolor": "white",
            "ticks": ""
           },
           "bgcolor": "#E5ECF6",
           "radialaxis": {
            "gridcolor": "white",
            "linecolor": "white",
            "ticks": ""
           }
          },
          "scene": {
           "xaxis": {
            "backgroundcolor": "#E5ECF6",
            "gridcolor": "white",
            "gridwidth": 2,
            "linecolor": "white",
            "showbackground": true,
            "ticks": "",
            "zerolinecolor": "white"
           },
           "yaxis": {
            "backgroundcolor": "#E5ECF6",
            "gridcolor": "white",
            "gridwidth": 2,
            "linecolor": "white",
            "showbackground": true,
            "ticks": "",
            "zerolinecolor": "white"
           },
           "zaxis": {
            "backgroundcolor": "#E5ECF6",
            "gridcolor": "white",
            "gridwidth": 2,
            "linecolor": "white",
            "showbackground": true,
            "ticks": "",
            "zerolinecolor": "white"
           }
          },
          "shapedefaults": {
           "line": {
            "color": "#2a3f5f"
           }
          },
          "ternary": {
           "aaxis": {
            "gridcolor": "white",
            "linecolor": "white",
            "ticks": ""
           },
           "baxis": {
            "gridcolor": "white",
            "linecolor": "white",
            "ticks": ""
           },
           "bgcolor": "#E5ECF6",
           "caxis": {
            "gridcolor": "white",
            "linecolor": "white",
            "ticks": ""
           }
          },
          "title": {
           "x": 0.05
          },
          "xaxis": {
           "automargin": true,
           "gridcolor": "white",
           "linecolor": "white",
           "ticks": "",
           "title": {
            "standoff": 15
           },
           "zerolinecolor": "white",
           "zerolinewidth": 2
          },
          "yaxis": {
           "automargin": true,
           "gridcolor": "white",
           "linecolor": "white",
           "ticks": "",
           "title": {
            "standoff": 15
           },
           "zerolinecolor": "white",
           "zerolinewidth": 2
          }
         }
        },
        "title": {
         "text": "Quantidade de Eventos por Continente"
        },
        "xaxis": {
         "anchor": "y",
         "autorange": true,
         "categoryarray": [
          "Africa",
          "Asia",
          "Europe",
          "Insluar Oceania",
          "Insular Oceania",
          "North America",
          "Oceania",
          "South America"
         ],
         "categoryorder": "array",
         "domain": [
          0,
          1
         ],
         "range": [
          -0.5,
          7.5
         ],
         "title": {
          "text": "Continente"
         },
         "type": "category"
        },
        "yaxis": {
         "anchor": "x",
         "autorange": true,
         "domain": [
          0,
          1
         ],
         "range": [
          0,
          469.4736842105263
         ],
         "title": {
          "text": "Quantidade de Eventos"
         },
         "type": "linear"
        }
       }
      },
      "text/html": [
       "<div>                            <div id=\"2a7dc2f3-a993-42d5-998a-345475a6ee3d\" class=\"plotly-graph-div\" style=\"height:525px; width:100%;\"></div>            <script type=\"text/javascript\">                require([\"plotly\"], function(Plotly) {                    window.PLOTLYENV=window.PLOTLYENV || {};                                    if (document.getElementById(\"2a7dc2f3-a993-42d5-998a-345475a6ee3d\")) {                    Plotly.newPlot(                        \"2a7dc2f3-a993-42d5-998a-345475a6ee3d\",                        [{\"alignmentgroup\":\"True\",\"hovertemplate\":\"Continente=%{x}\\u003cbr\\u003eQuantidade de Eventos=%{y}\\u003cextra\\u003e\\u003c\\u002fextra\\u003e\",\"legendgroup\":\"Africa\",\"marker\":{\"color\":\"#636efa\",\"pattern\":{\"shape\":\"\"}},\"name\":\"Africa\",\"offsetgroup\":\"Africa\",\"orientation\":\"v\",\"showlegend\":true,\"textposition\":\"auto\",\"x\":[\"Africa\"],\"xaxis\":\"x\",\"y\":[3],\"yaxis\":\"y\",\"type\":\"bar\"},{\"alignmentgroup\":\"True\",\"hovertemplate\":\"Continente=%{x}\\u003cbr\\u003eQuantidade de Eventos=%{y}\\u003cextra\\u003e\\u003c\\u002fextra\\u003e\",\"legendgroup\":\"Asia\",\"marker\":{\"color\":\"#EF553B\",\"pattern\":{\"shape\":\"\"}},\"name\":\"Asia\",\"offsetgroup\":\"Asia\",\"orientation\":\"v\",\"showlegend\":true,\"textposition\":\"auto\",\"x\":[\"Asia\"],\"xaxis\":\"x\",\"y\":[333],\"yaxis\":\"y\",\"type\":\"bar\"},{\"alignmentgroup\":\"True\",\"hovertemplate\":\"Continente=%{x}\\u003cbr\\u003eQuantidade de Eventos=%{y}\\u003cextra\\u003e\\u003c\\u002fextra\\u003e\",\"legendgroup\":\"Europe\",\"marker\":{\"color\":\"#00cc96\",\"pattern\":{\"shape\":\"\"}},\"name\":\"Europe\",\"offsetgroup\":\"Europe\",\"orientation\":\"v\",\"showlegend\":true,\"textposition\":\"auto\",\"x\":[\"Europe\"],\"xaxis\":\"x\",\"y\":[7],\"yaxis\":\"y\",\"type\":\"bar\"},{\"alignmentgroup\":\"True\",\"hovertemplate\":\"Continente=%{x}\\u003cbr\\u003eQuantidade de Eventos=%{y}\\u003cextra\\u003e\\u003c\\u002fextra\\u003e\",\"legendgroup\":\"Insluar Oceania\",\"marker\":{\"color\":\"#ab63fa\",\"pattern\":{\"shape\":\"\"}},\"name\":\"Insluar Oceania\",\"offsetgroup\":\"Insluar Oceania\",\"orientation\":\"v\",\"showlegend\":true,\"textposition\":\"auto\",\"x\":[\"Insluar Oceania\"],\"xaxis\":\"x\",\"y\":[1],\"yaxis\":\"y\",\"type\":\"bar\"},{\"alignmentgroup\":\"True\",\"hovertemplate\":\"Continente=%{x}\\u003cbr\\u003eQuantidade de Eventos=%{y}\\u003cextra\\u003e\\u003c\\u002fextra\\u003e\",\"legendgroup\":\"Insular Oceania\",\"marker\":{\"color\":\"#FFA15A\",\"pattern\":{\"shape\":\"\"}},\"name\":\"Insular Oceania\",\"offsetgroup\":\"Insular Oceania\",\"orientation\":\"v\",\"showlegend\":true,\"textposition\":\"auto\",\"x\":[\"Insular Oceania\"],\"xaxis\":\"x\",\"y\":[1],\"yaxis\":\"y\",\"type\":\"bar\"},{\"alignmentgroup\":\"True\",\"hovertemplate\":\"Continente=%{x}\\u003cbr\\u003eQuantidade de Eventos=%{y}\\u003cextra\\u003e\\u003c\\u002fextra\\u003e\",\"legendgroup\":\"North America\",\"marker\":{\"color\":\"#19d3f3\",\"pattern\":{\"shape\":\"\"}},\"name\":\"North America\",\"offsetgroup\":\"North America\",\"orientation\":\"v\",\"showlegend\":true,\"textposition\":\"auto\",\"x\":[\"North America\"],\"xaxis\":\"x\",\"y\":[446],\"yaxis\":\"y\",\"type\":\"bar\"},{\"alignmentgroup\":\"True\",\"hovertemplate\":\"Continente=%{x}\\u003cbr\\u003eQuantidade de Eventos=%{y}\\u003cextra\\u003e\\u003c\\u002fextra\\u003e\",\"legendgroup\":\"Oceania\",\"marker\":{\"color\":\"#FF6692\",\"pattern\":{\"shape\":\"\"}},\"name\":\"Oceania\",\"offsetgroup\":\"Oceania\",\"orientation\":\"v\",\"showlegend\":true,\"textposition\":\"auto\",\"x\":[\"Oceania\"],\"xaxis\":\"x\",\"y\":[1],\"yaxis\":\"y\",\"type\":\"bar\"},{\"alignmentgroup\":\"True\",\"hovertemplate\":\"Continente=%{x}\\u003cbr\\u003eQuantidade de Eventos=%{y}\\u003cextra\\u003e\\u003c\\u002fextra\\u003e\",\"legendgroup\":\"South America\",\"marker\":{\"color\":\"#B6E880\",\"pattern\":{\"shape\":\"\"}},\"name\":\"South America\",\"offsetgroup\":\"South America\",\"orientation\":\"v\",\"showlegend\":true,\"textposition\":\"auto\",\"x\":[\"South America\"],\"xaxis\":\"x\",\"y\":[75],\"yaxis\":\"y\",\"type\":\"bar\"}],                        {\"template\":{\"data\":{\"histogram2dcontour\":[{\"type\":\"histogram2dcontour\",\"colorbar\":{\"outlinewidth\":0,\"ticks\":\"\"},\"colorscale\":[[0.0,\"#0d0887\"],[0.1111111111111111,\"#46039f\"],[0.2222222222222222,\"#7201a8\"],[0.3333333333333333,\"#9c179e\"],[0.4444444444444444,\"#bd3786\"],[0.5555555555555556,\"#d8576b\"],[0.6666666666666666,\"#ed7953\"],[0.7777777777777778,\"#fb9f3a\"],[0.8888888888888888,\"#fdca26\"],[1.0,\"#f0f921\"]]}],\"choropleth\":[{\"type\":\"choropleth\",\"colorbar\":{\"outlinewidth\":0,\"ticks\":\"\"}}],\"histogram2d\":[{\"type\":\"histogram2d\",\"colorbar\":{\"outlinewidth\":0,\"ticks\":\"\"},\"colorscale\":[[0.0,\"#0d0887\"],[0.1111111111111111,\"#46039f\"],[0.2222222222222222,\"#7201a8\"],[0.3333333333333333,\"#9c179e\"],[0.4444444444444444,\"#bd3786\"],[0.5555555555555556,\"#d8576b\"],[0.6666666666666666,\"#ed7953\"],[0.7777777777777778,\"#fb9f3a\"],[0.8888888888888888,\"#fdca26\"],[1.0,\"#f0f921\"]]}],\"heatmap\":[{\"type\":\"heatmap\",\"colorbar\":{\"outlinewidth\":0,\"ticks\":\"\"},\"colorscale\":[[0.0,\"#0d0887\"],[0.1111111111111111,\"#46039f\"],[0.2222222222222222,\"#7201a8\"],[0.3333333333333333,\"#9c179e\"],[0.4444444444444444,\"#bd3786\"],[0.5555555555555556,\"#d8576b\"],[0.6666666666666666,\"#ed7953\"],[0.7777777777777778,\"#fb9f3a\"],[0.8888888888888888,\"#fdca26\"],[1.0,\"#f0f921\"]]}],\"heatmapgl\":[{\"type\":\"heatmapgl\",\"colorbar\":{\"outlinewidth\":0,\"ticks\":\"\"},\"colorscale\":[[0.0,\"#0d0887\"],[0.1111111111111111,\"#46039f\"],[0.2222222222222222,\"#7201a8\"],[0.3333333333333333,\"#9c179e\"],[0.4444444444444444,\"#bd3786\"],[0.5555555555555556,\"#d8576b\"],[0.6666666666666666,\"#ed7953\"],[0.7777777777777778,\"#fb9f3a\"],[0.8888888888888888,\"#fdca26\"],[1.0,\"#f0f921\"]]}],\"contourcarpet\":[{\"type\":\"contourcarpet\",\"colorbar\":{\"outlinewidth\":0,\"ticks\":\"\"}}],\"contour\":[{\"type\":\"contour\",\"colorbar\":{\"outlinewidth\":0,\"ticks\":\"\"},\"colorscale\":[[0.0,\"#0d0887\"],[0.1111111111111111,\"#46039f\"],[0.2222222222222222,\"#7201a8\"],[0.3333333333333333,\"#9c179e\"],[0.4444444444444444,\"#bd3786\"],[0.5555555555555556,\"#d8576b\"],[0.6666666666666666,\"#ed7953\"],[0.7777777777777778,\"#fb9f3a\"],[0.8888888888888888,\"#fdca26\"],[1.0,\"#f0f921\"]]}],\"surface\":[{\"type\":\"surface\",\"colorbar\":{\"outlinewidth\":0,\"ticks\":\"\"},\"colorscale\":[[0.0,\"#0d0887\"],[0.1111111111111111,\"#46039f\"],[0.2222222222222222,\"#7201a8\"],[0.3333333333333333,\"#9c179e\"],[0.4444444444444444,\"#bd3786\"],[0.5555555555555556,\"#d8576b\"],[0.6666666666666666,\"#ed7953\"],[0.7777777777777778,\"#fb9f3a\"],[0.8888888888888888,\"#fdca26\"],[1.0,\"#f0f921\"]]}],\"mesh3d\":[{\"type\":\"mesh3d\",\"colorbar\":{\"outlinewidth\":0,\"ticks\":\"\"}}],\"scatter\":[{\"fillpattern\":{\"fillmode\":\"overlay\",\"size\":10,\"solidity\":0.2},\"type\":\"scatter\"}],\"parcoords\":[{\"type\":\"parcoords\",\"line\":{\"colorbar\":{\"outlinewidth\":0,\"ticks\":\"\"}}}],\"scatterpolargl\":[{\"type\":\"scatterpolargl\",\"marker\":{\"colorbar\":{\"outlinewidth\":0,\"ticks\":\"\"}}}],\"bar\":[{\"error_x\":{\"color\":\"#2a3f5f\"},\"error_y\":{\"color\":\"#2a3f5f\"},\"marker\":{\"line\":{\"color\":\"#E5ECF6\",\"width\":0.5},\"pattern\":{\"fillmode\":\"overlay\",\"size\":10,\"solidity\":0.2}},\"type\":\"bar\"}],\"scattergeo\":[{\"type\":\"scattergeo\",\"marker\":{\"colorbar\":{\"outlinewidth\":0,\"ticks\":\"\"}}}],\"scatterpolar\":[{\"type\":\"scatterpolar\",\"marker\":{\"colorbar\":{\"outlinewidth\":0,\"ticks\":\"\"}}}],\"histogram\":[{\"marker\":{\"pattern\":{\"fillmode\":\"overlay\",\"size\":10,\"solidity\":0.2}},\"type\":\"histogram\"}],\"scattergl\":[{\"type\":\"scattergl\",\"marker\":{\"colorbar\":{\"outlinewidth\":0,\"ticks\":\"\"}}}],\"scatter3d\":[{\"type\":\"scatter3d\",\"line\":{\"colorbar\":{\"outlinewidth\":0,\"ticks\":\"\"}},\"marker\":{\"colorbar\":{\"outlinewidth\":0,\"ticks\":\"\"}}}],\"scattermapbox\":[{\"type\":\"scattermapbox\",\"marker\":{\"colorbar\":{\"outlinewidth\":0,\"ticks\":\"\"}}}],\"scatterternary\":[{\"type\":\"scatterternary\",\"marker\":{\"colorbar\":{\"outlinewidth\":0,\"ticks\":\"\"}}}],\"scattercarpet\":[{\"type\":\"scattercarpet\",\"marker\":{\"colorbar\":{\"outlinewidth\":0,\"ticks\":\"\"}}}],\"carpet\":[{\"aaxis\":{\"endlinecolor\":\"#2a3f5f\",\"gridcolor\":\"white\",\"linecolor\":\"white\",\"minorgridcolor\":\"white\",\"startlinecolor\":\"#2a3f5f\"},\"baxis\":{\"endlinecolor\":\"#2a3f5f\",\"gridcolor\":\"white\",\"linecolor\":\"white\",\"minorgridcolor\":\"white\",\"startlinecolor\":\"#2a3f5f\"},\"type\":\"carpet\"}],\"table\":[{\"cells\":{\"fill\":{\"color\":\"#EBF0F8\"},\"line\":{\"color\":\"white\"}},\"header\":{\"fill\":{\"color\":\"#C8D4E3\"},\"line\":{\"color\":\"white\"}},\"type\":\"table\"}],\"barpolar\":[{\"marker\":{\"line\":{\"color\":\"#E5ECF6\",\"width\":0.5},\"pattern\":{\"fillmode\":\"overlay\",\"size\":10,\"solidity\":0.2}},\"type\":\"barpolar\"}],\"pie\":[{\"automargin\":true,\"type\":\"pie\"}]},\"layout\":{\"autotypenumbers\":\"strict\",\"colorway\":[\"#636efa\",\"#EF553B\",\"#00cc96\",\"#ab63fa\",\"#FFA15A\",\"#19d3f3\",\"#FF6692\",\"#B6E880\",\"#FF97FF\",\"#FECB52\"],\"font\":{\"color\":\"#2a3f5f\"},\"hovermode\":\"closest\",\"hoverlabel\":{\"align\":\"left\"},\"paper_bgcolor\":\"white\",\"plot_bgcolor\":\"#E5ECF6\",\"polar\":{\"bgcolor\":\"#E5ECF6\",\"angularaxis\":{\"gridcolor\":\"white\",\"linecolor\":\"white\",\"ticks\":\"\"},\"radialaxis\":{\"gridcolor\":\"white\",\"linecolor\":\"white\",\"ticks\":\"\"}},\"ternary\":{\"bgcolor\":\"#E5ECF6\",\"aaxis\":{\"gridcolor\":\"white\",\"linecolor\":\"white\",\"ticks\":\"\"},\"baxis\":{\"gridcolor\":\"white\",\"linecolor\":\"white\",\"ticks\":\"\"},\"caxis\":{\"gridcolor\":\"white\",\"linecolor\":\"white\",\"ticks\":\"\"}},\"coloraxis\":{\"colorbar\":{\"outlinewidth\":0,\"ticks\":\"\"}},\"colorscale\":{\"sequential\":[[0.0,\"#0d0887\"],[0.1111111111111111,\"#46039f\"],[0.2222222222222222,\"#7201a8\"],[0.3333333333333333,\"#9c179e\"],[0.4444444444444444,\"#bd3786\"],[0.5555555555555556,\"#d8576b\"],[0.6666666666666666,\"#ed7953\"],[0.7777777777777778,\"#fb9f3a\"],[0.8888888888888888,\"#fdca26\"],[1.0,\"#f0f921\"]],\"sequentialminus\":[[0.0,\"#0d0887\"],[0.1111111111111111,\"#46039f\"],[0.2222222222222222,\"#7201a8\"],[0.3333333333333333,\"#9c179e\"],[0.4444444444444444,\"#bd3786\"],[0.5555555555555556,\"#d8576b\"],[0.6666666666666666,\"#ed7953\"],[0.7777777777777778,\"#fb9f3a\"],[0.8888888888888888,\"#fdca26\"],[1.0,\"#f0f921\"]],\"diverging\":[[0,\"#8e0152\"],[0.1,\"#c51b7d\"],[0.2,\"#de77ae\"],[0.3,\"#f1b6da\"],[0.4,\"#fde0ef\"],[0.5,\"#f7f7f7\"],[0.6,\"#e6f5d0\"],[0.7,\"#b8e186\"],[0.8,\"#7fbc41\"],[0.9,\"#4d9221\"],[1,\"#276419\"]]},\"xaxis\":{\"gridcolor\":\"white\",\"linecolor\":\"white\",\"ticks\":\"\",\"title\":{\"standoff\":15},\"zerolinecolor\":\"white\",\"automargin\":true,\"zerolinewidth\":2},\"yaxis\":{\"gridcolor\":\"white\",\"linecolor\":\"white\",\"ticks\":\"\",\"title\":{\"standoff\":15},\"zerolinecolor\":\"white\",\"automargin\":true,\"zerolinewidth\":2},\"scene\":{\"xaxis\":{\"backgroundcolor\":\"#E5ECF6\",\"gridcolor\":\"white\",\"linecolor\":\"white\",\"showbackground\":true,\"ticks\":\"\",\"zerolinecolor\":\"white\",\"gridwidth\":2},\"yaxis\":{\"backgroundcolor\":\"#E5ECF6\",\"gridcolor\":\"white\",\"linecolor\":\"white\",\"showbackground\":true,\"ticks\":\"\",\"zerolinecolor\":\"white\",\"gridwidth\":2},\"zaxis\":{\"backgroundcolor\":\"#E5ECF6\",\"gridcolor\":\"white\",\"linecolor\":\"white\",\"showbackground\":true,\"ticks\":\"\",\"zerolinecolor\":\"white\",\"gridwidth\":2}},\"shapedefaults\":{\"line\":{\"color\":\"#2a3f5f\"}},\"annotationdefaults\":{\"arrowcolor\":\"#2a3f5f\",\"arrowhead\":0,\"arrowwidth\":1},\"geo\":{\"bgcolor\":\"white\",\"landcolor\":\"#E5ECF6\",\"subunitcolor\":\"white\",\"showland\":true,\"showlakes\":true,\"lakecolor\":\"white\"},\"title\":{\"x\":0.05},\"mapbox\":{\"style\":\"light\"}}},\"xaxis\":{\"anchor\":\"y\",\"domain\":[0.0,1.0],\"title\":{\"text\":\"Continente\"},\"categoryorder\":\"array\",\"categoryarray\":[\"Africa\",\"Asia\",\"Europe\",\"Insluar Oceania\",\"Insular Oceania\",\"North America\",\"Oceania\",\"South America\"]},\"yaxis\":{\"anchor\":\"x\",\"domain\":[0.0,1.0],\"title\":{\"text\":\"Quantidade de Eventos\"}},\"legend\":{\"title\":{\"text\":\"Continente\"},\"tracegroupgap\":0},\"title\":{\"text\":\"Quantidade de Eventos por Continente\"},\"barmode\":\"relative\"},                        {\"responsive\": true}                    ).then(function(){\n",
       "                            \n",
       "var gd = document.getElementById('2a7dc2f3-a993-42d5-998a-345475a6ee3d');\n",
       "var x = new MutationObserver(function (mutations, observer) {{\n",
       "        var display = window.getComputedStyle(gd).display;\n",
       "        if (!display || display === 'none') {{\n",
       "            console.log([gd, 'removed!']);\n",
       "            Plotly.purge(gd);\n",
       "            observer.disconnect();\n",
       "        }}\n",
       "}});\n",
       "\n",
       "// Listen for the removal of the full notebook cells\n",
       "var notebookContainer = gd.closest('#notebook-container');\n",
       "if (notebookContainer) {{\n",
       "    x.observe(notebookContainer, {childList: true});\n",
       "}}\n",
       "\n",
       "// Listen for the clearing of the current output cell\n",
       "var outputEl = gd.closest('.output');\n",
       "if (outputEl) {{\n",
       "    x.observe(outputEl, {childList: true});\n",
       "}}\n",
       "\n",
       "                        })                };                });            </script>        </div>"
      ]
     },
     "metadata": {},
     "output_type": "display_data"
    }
   ],
   "source": [
    "\n",
    "df_terremotos_por_continente = df_dropped.groupby('continent').size().reset_index(name='quantidade')\n",
    "\n",
    "\n",
    "fig_bar = px.bar(\n",
    "    df_terremotos_por_continente,\n",
    "    x='continent',\n",
    "    y='quantidade',\n",
    "    labels={\n",
    "        'continent': 'Continente',\n",
    "        'quantidade': 'Quantidade de Eventos'\n",
    "    },\n",
    "    title='Quantidade de Eventos por Continente',\n",
    "    color='continent'\n",
    ")\n",
    "\n",
    "\n",
    "fig_bar.show()"
   ]
  },
  {
   "cell_type": "code",
   "execution_count": 319,
   "id": "a84aa121-913a-4a44-a317-d077b7d0f248",
   "metadata": {},
   "outputs": [
    {
     "data": {
      "application/vnd.plotly.v1+json": {
       "config": {
        "plotlyServerURL": "https://plot.ly"
       },
       "data": [
        {
         "alignmentgroup": "True",
         "hovertemplate": "Continente=%{x}<br>Maior Magnitude=%{y}<extra></extra>",
         "legendgroup": "Africa",
         "marker": {
          "color": "#636efa",
          "pattern": {
           "shape": ""
          }
         },
         "name": "Africa",
         "offsetgroup": "Africa",
         "orientation": "v",
         "showlegend": true,
         "textposition": "auto",
         "type": "bar",
         "x": [
          "Africa"
         ],
         "xaxis": "x",
         "y": [
          5.5
         ],
         "yaxis": "y"
        },
        {
         "alignmentgroup": "True",
         "hovertemplate": "Continente=%{x}<br>Maior Magnitude=%{y}<extra></extra>",
         "legendgroup": "Asia",
         "marker": {
          "color": "#EF553B",
          "pattern": {
           "shape": ""
          }
         },
         "name": "Asia",
         "offsetgroup": "Asia",
         "orientation": "v",
         "showlegend": true,
         "textposition": "auto",
         "type": "bar",
         "x": [
          "Asia"
         ],
         "xaxis": "x",
         "y": [
          7.6
         ],
         "yaxis": "y"
        },
        {
         "alignmentgroup": "True",
         "hovertemplate": "Continente=%{x}<br>Maior Magnitude=%{y}<extra></extra>",
         "legendgroup": "Europe",
         "marker": {
          "color": "#00cc96",
          "pattern": {
           "shape": ""
          }
         },
         "name": "Europe",
         "offsetgroup": "Europe",
         "orientation": "v",
         "showlegend": true,
         "textposition": "auto",
         "type": "bar",
         "x": [
          "Europe"
         ],
         "xaxis": "x",
         "y": [
          5.8
         ],
         "yaxis": "y"
        },
        {
         "alignmentgroup": "True",
         "hovertemplate": "Continente=%{x}<br>Maior Magnitude=%{y}<extra></extra>",
         "legendgroup": "North America",
         "marker": {
          "color": "#ab63fa",
          "pattern": {
           "shape": ""
          }
         },
         "name": "North America",
         "offsetgroup": "North America",
         "orientation": "v",
         "showlegend": true,
         "textposition": "auto",
         "type": "bar",
         "x": [
          "North America"
         ],
         "xaxis": "x",
         "y": [
          6.5
         ],
         "yaxis": "y"
        },
        {
         "alignmentgroup": "True",
         "hovertemplate": "Continente=%{x}<br>Maior Magnitude=%{y}<extra></extra>",
         "legendgroup": "Oceania",
         "marker": {
          "color": "#FFA15A",
          "pattern": {
           "shape": ""
          }
         },
         "name": "Oceania",
         "offsetgroup": "Oceania",
         "orientation": "v",
         "showlegend": true,
         "textposition": "auto",
         "type": "bar",
         "x": [
          "Oceania"
         ],
         "xaxis": "x",
         "y": [
          5.5
         ],
         "yaxis": "y"
        },
        {
         "alignmentgroup": "True",
         "hovertemplate": "Continente=%{x}<br>Maior Magnitude=%{y}<extra></extra>",
         "legendgroup": "South America",
         "marker": {
          "color": "#19d3f3",
          "pattern": {
           "shape": ""
          }
         },
         "name": "South America",
         "offsetgroup": "South America",
         "orientation": "v",
         "showlegend": true,
         "textposition": "auto",
         "type": "bar",
         "x": [
          "South America"
         ],
         "xaxis": "x",
         "y": [
          7.4
         ],
         "yaxis": "y"
        }
       ],
       "layout": {
        "autosize": true,
        "barmode": "relative",
        "legend": {
         "title": {
          "text": "Continente"
         },
         "tracegroupgap": 0
        },
        "template": {
         "data": {
          "bar": [
           {
            "error_x": {
             "color": "#2a3f5f"
            },
            "error_y": {
             "color": "#2a3f5f"
            },
            "marker": {
             "line": {
              "color": "#E5ECF6",
              "width": 0.5
             },
             "pattern": {
              "fillmode": "overlay",
              "size": 10,
              "solidity": 0.2
             }
            },
            "type": "bar"
           }
          ],
          "barpolar": [
           {
            "marker": {
             "line": {
              "color": "#E5ECF6",
              "width": 0.5
             },
             "pattern": {
              "fillmode": "overlay",
              "size": 10,
              "solidity": 0.2
             }
            },
            "type": "barpolar"
           }
          ],
          "carpet": [
           {
            "aaxis": {
             "endlinecolor": "#2a3f5f",
             "gridcolor": "white",
             "linecolor": "white",
             "minorgridcolor": "white",
             "startlinecolor": "#2a3f5f"
            },
            "baxis": {
             "endlinecolor": "#2a3f5f",
             "gridcolor": "white",
             "linecolor": "white",
             "minorgridcolor": "white",
             "startlinecolor": "#2a3f5f"
            },
            "type": "carpet"
           }
          ],
          "choropleth": [
           {
            "colorbar": {
             "outlinewidth": 0,
             "ticks": ""
            },
            "type": "choropleth"
           }
          ],
          "contour": [
           {
            "colorbar": {
             "outlinewidth": 0,
             "ticks": ""
            },
            "colorscale": [
             [
              0,
              "#0d0887"
             ],
             [
              0.1111111111111111,
              "#46039f"
             ],
             [
              0.2222222222222222,
              "#7201a8"
             ],
             [
              0.3333333333333333,
              "#9c179e"
             ],
             [
              0.4444444444444444,
              "#bd3786"
             ],
             [
              0.5555555555555556,
              "#d8576b"
             ],
             [
              0.6666666666666666,
              "#ed7953"
             ],
             [
              0.7777777777777778,
              "#fb9f3a"
             ],
             [
              0.8888888888888888,
              "#fdca26"
             ],
             [
              1,
              "#f0f921"
             ]
            ],
            "type": "contour"
           }
          ],
          "contourcarpet": [
           {
            "colorbar": {
             "outlinewidth": 0,
             "ticks": ""
            },
            "type": "contourcarpet"
           }
          ],
          "heatmap": [
           {
            "colorbar": {
             "outlinewidth": 0,
             "ticks": ""
            },
            "colorscale": [
             [
              0,
              "#0d0887"
             ],
             [
              0.1111111111111111,
              "#46039f"
             ],
             [
              0.2222222222222222,
              "#7201a8"
             ],
             [
              0.3333333333333333,
              "#9c179e"
             ],
             [
              0.4444444444444444,
              "#bd3786"
             ],
             [
              0.5555555555555556,
              "#d8576b"
             ],
             [
              0.6666666666666666,
              "#ed7953"
             ],
             [
              0.7777777777777778,
              "#fb9f3a"
             ],
             [
              0.8888888888888888,
              "#fdca26"
             ],
             [
              1,
              "#f0f921"
             ]
            ],
            "type": "heatmap"
           }
          ],
          "heatmapgl": [
           {
            "colorbar": {
             "outlinewidth": 0,
             "ticks": ""
            },
            "colorscale": [
             [
              0,
              "#0d0887"
             ],
             [
              0.1111111111111111,
              "#46039f"
             ],
             [
              0.2222222222222222,
              "#7201a8"
             ],
             [
              0.3333333333333333,
              "#9c179e"
             ],
             [
              0.4444444444444444,
              "#bd3786"
             ],
             [
              0.5555555555555556,
              "#d8576b"
             ],
             [
              0.6666666666666666,
              "#ed7953"
             ],
             [
              0.7777777777777778,
              "#fb9f3a"
             ],
             [
              0.8888888888888888,
              "#fdca26"
             ],
             [
              1,
              "#f0f921"
             ]
            ],
            "type": "heatmapgl"
           }
          ],
          "histogram": [
           {
            "marker": {
             "pattern": {
              "fillmode": "overlay",
              "size": 10,
              "solidity": 0.2
             }
            },
            "type": "histogram"
           }
          ],
          "histogram2d": [
           {
            "colorbar": {
             "outlinewidth": 0,
             "ticks": ""
            },
            "colorscale": [
             [
              0,
              "#0d0887"
             ],
             [
              0.1111111111111111,
              "#46039f"
             ],
             [
              0.2222222222222222,
              "#7201a8"
             ],
             [
              0.3333333333333333,
              "#9c179e"
             ],
             [
              0.4444444444444444,
              "#bd3786"
             ],
             [
              0.5555555555555556,
              "#d8576b"
             ],
             [
              0.6666666666666666,
              "#ed7953"
             ],
             [
              0.7777777777777778,
              "#fb9f3a"
             ],
             [
              0.8888888888888888,
              "#fdca26"
             ],
             [
              1,
              "#f0f921"
             ]
            ],
            "type": "histogram2d"
           }
          ],
          "histogram2dcontour": [
           {
            "colorbar": {
             "outlinewidth": 0,
             "ticks": ""
            },
            "colorscale": [
             [
              0,
              "#0d0887"
             ],
             [
              0.1111111111111111,
              "#46039f"
             ],
             [
              0.2222222222222222,
              "#7201a8"
             ],
             [
              0.3333333333333333,
              "#9c179e"
             ],
             [
              0.4444444444444444,
              "#bd3786"
             ],
             [
              0.5555555555555556,
              "#d8576b"
             ],
             [
              0.6666666666666666,
              "#ed7953"
             ],
             [
              0.7777777777777778,
              "#fb9f3a"
             ],
             [
              0.8888888888888888,
              "#fdca26"
             ],
             [
              1,
              "#f0f921"
             ]
            ],
            "type": "histogram2dcontour"
           }
          ],
          "mesh3d": [
           {
            "colorbar": {
             "outlinewidth": 0,
             "ticks": ""
            },
            "type": "mesh3d"
           }
          ],
          "parcoords": [
           {
            "line": {
             "colorbar": {
              "outlinewidth": 0,
              "ticks": ""
             }
            },
            "type": "parcoords"
           }
          ],
          "pie": [
           {
            "automargin": true,
            "type": "pie"
           }
          ],
          "scatter": [
           {
            "fillpattern": {
             "fillmode": "overlay",
             "size": 10,
             "solidity": 0.2
            },
            "type": "scatter"
           }
          ],
          "scatter3d": [
           {
            "line": {
             "colorbar": {
              "outlinewidth": 0,
              "ticks": ""
             }
            },
            "marker": {
             "colorbar": {
              "outlinewidth": 0,
              "ticks": ""
             }
            },
            "type": "scatter3d"
           }
          ],
          "scattercarpet": [
           {
            "marker": {
             "colorbar": {
              "outlinewidth": 0,
              "ticks": ""
             }
            },
            "type": "scattercarpet"
           }
          ],
          "scattergeo": [
           {
            "marker": {
             "colorbar": {
              "outlinewidth": 0,
              "ticks": ""
             }
            },
            "type": "scattergeo"
           }
          ],
          "scattergl": [
           {
            "marker": {
             "colorbar": {
              "outlinewidth": 0,
              "ticks": ""
             }
            },
            "type": "scattergl"
           }
          ],
          "scattermapbox": [
           {
            "marker": {
             "colorbar": {
              "outlinewidth": 0,
              "ticks": ""
             }
            },
            "type": "scattermapbox"
           }
          ],
          "scatterpolar": [
           {
            "marker": {
             "colorbar": {
              "outlinewidth": 0,
              "ticks": ""
             }
            },
            "type": "scatterpolar"
           }
          ],
          "scatterpolargl": [
           {
            "marker": {
             "colorbar": {
              "outlinewidth": 0,
              "ticks": ""
             }
            },
            "type": "scatterpolargl"
           }
          ],
          "scatterternary": [
           {
            "marker": {
             "colorbar": {
              "outlinewidth": 0,
              "ticks": ""
             }
            },
            "type": "scatterternary"
           }
          ],
          "surface": [
           {
            "colorbar": {
             "outlinewidth": 0,
             "ticks": ""
            },
            "colorscale": [
             [
              0,
              "#0d0887"
             ],
             [
              0.1111111111111111,
              "#46039f"
             ],
             [
              0.2222222222222222,
              "#7201a8"
             ],
             [
              0.3333333333333333,
              "#9c179e"
             ],
             [
              0.4444444444444444,
              "#bd3786"
             ],
             [
              0.5555555555555556,
              "#d8576b"
             ],
             [
              0.6666666666666666,
              "#ed7953"
             ],
             [
              0.7777777777777778,
              "#fb9f3a"
             ],
             [
              0.8888888888888888,
              "#fdca26"
             ],
             [
              1,
              "#f0f921"
             ]
            ],
            "type": "surface"
           }
          ],
          "table": [
           {
            "cells": {
             "fill": {
              "color": "#EBF0F8"
             },
             "line": {
              "color": "white"
             }
            },
            "header": {
             "fill": {
              "color": "#C8D4E3"
             },
             "line": {
              "color": "white"
             }
            },
            "type": "table"
           }
          ]
         },
         "layout": {
          "annotationdefaults": {
           "arrowcolor": "#2a3f5f",
           "arrowhead": 0,
           "arrowwidth": 1
          },
          "autotypenumbers": "strict",
          "coloraxis": {
           "colorbar": {
            "outlinewidth": 0,
            "ticks": ""
           }
          },
          "colorscale": {
           "diverging": [
            [
             0,
             "#8e0152"
            ],
            [
             0.1,
             "#c51b7d"
            ],
            [
             0.2,
             "#de77ae"
            ],
            [
             0.3,
             "#f1b6da"
            ],
            [
             0.4,
             "#fde0ef"
            ],
            [
             0.5,
             "#f7f7f7"
            ],
            [
             0.6,
             "#e6f5d0"
            ],
            [
             0.7,
             "#b8e186"
            ],
            [
             0.8,
             "#7fbc41"
            ],
            [
             0.9,
             "#4d9221"
            ],
            [
             1,
             "#276419"
            ]
           ],
           "sequential": [
            [
             0,
             "#0d0887"
            ],
            [
             0.1111111111111111,
             "#46039f"
            ],
            [
             0.2222222222222222,
             "#7201a8"
            ],
            [
             0.3333333333333333,
             "#9c179e"
            ],
            [
             0.4444444444444444,
             "#bd3786"
            ],
            [
             0.5555555555555556,
             "#d8576b"
            ],
            [
             0.6666666666666666,
             "#ed7953"
            ],
            [
             0.7777777777777778,
             "#fb9f3a"
            ],
            [
             0.8888888888888888,
             "#fdca26"
            ],
            [
             1,
             "#f0f921"
            ]
           ],
           "sequentialminus": [
            [
             0,
             "#0d0887"
            ],
            [
             0.1111111111111111,
             "#46039f"
            ],
            [
             0.2222222222222222,
             "#7201a8"
            ],
            [
             0.3333333333333333,
             "#9c179e"
            ],
            [
             0.4444444444444444,
             "#bd3786"
            ],
            [
             0.5555555555555556,
             "#d8576b"
            ],
            [
             0.6666666666666666,
             "#ed7953"
            ],
            [
             0.7777777777777778,
             "#fb9f3a"
            ],
            [
             0.8888888888888888,
             "#fdca26"
            ],
            [
             1,
             "#f0f921"
            ]
           ]
          },
          "colorway": [
           "#636efa",
           "#EF553B",
           "#00cc96",
           "#ab63fa",
           "#FFA15A",
           "#19d3f3",
           "#FF6692",
           "#B6E880",
           "#FF97FF",
           "#FECB52"
          ],
          "font": {
           "color": "#2a3f5f"
          },
          "geo": {
           "bgcolor": "white",
           "lakecolor": "white",
           "landcolor": "#E5ECF6",
           "showlakes": true,
           "showland": true,
           "subunitcolor": "white"
          },
          "hoverlabel": {
           "align": "left"
          },
          "hovermode": "closest",
          "mapbox": {
           "style": "light"
          },
          "paper_bgcolor": "white",
          "plot_bgcolor": "#E5ECF6",
          "polar": {
           "angularaxis": {
            "gridcolor": "white",
            "linecolor": "white",
            "ticks": ""
           },
           "bgcolor": "#E5ECF6",
           "radialaxis": {
            "gridcolor": "white",
            "linecolor": "white",
            "ticks": ""
           }
          },
          "scene": {
           "xaxis": {
            "backgroundcolor": "#E5ECF6",
            "gridcolor": "white",
            "gridwidth": 2,
            "linecolor": "white",
            "showbackground": true,
            "ticks": "",
            "zerolinecolor": "white"
           },
           "yaxis": {
            "backgroundcolor": "#E5ECF6",
            "gridcolor": "white",
            "gridwidth": 2,
            "linecolor": "white",
            "showbackground": true,
            "ticks": "",
            "zerolinecolor": "white"
           },
           "zaxis": {
            "backgroundcolor": "#E5ECF6",
            "gridcolor": "white",
            "gridwidth": 2,
            "linecolor": "white",
            "showbackground": true,
            "ticks": "",
            "zerolinecolor": "white"
           }
          },
          "shapedefaults": {
           "line": {
            "color": "#2a3f5f"
           }
          },
          "ternary": {
           "aaxis": {
            "gridcolor": "white",
            "linecolor": "white",
            "ticks": ""
           },
           "baxis": {
            "gridcolor": "white",
            "linecolor": "white",
            "ticks": ""
           },
           "bgcolor": "#E5ECF6",
           "caxis": {
            "gridcolor": "white",
            "linecolor": "white",
            "ticks": ""
           }
          },
          "title": {
           "x": 0.05
          },
          "xaxis": {
           "automargin": true,
           "gridcolor": "white",
           "linecolor": "white",
           "ticks": "",
           "title": {
            "standoff": 15
           },
           "zerolinecolor": "white",
           "zerolinewidth": 2
          },
          "yaxis": {
           "automargin": true,
           "gridcolor": "white",
           "linecolor": "white",
           "ticks": "",
           "title": {
            "standoff": 15
           },
           "zerolinecolor": "white",
           "zerolinewidth": 2
          }
         }
        },
        "title": {
         "text": "Maiores Magnitudes por Continente, acima de 5.3 (media) "
        },
        "xaxis": {
         "anchor": "y",
         "autorange": true,
         "categoryarray": [
          "Africa",
          "Asia",
          "Europe",
          "North America",
          "Oceania",
          "South America"
         ],
         "categoryorder": "array",
         "domain": [
          0,
          1
         ],
         "range": [
          -0.5,
          5.5
         ],
         "title": {
          "text": "Continente"
         },
         "type": "category"
        },
        "yaxis": {
         "anchor": "x",
         "autorange": true,
         "domain": [
          0,
          1
         ],
         "range": [
          0,
          8
         ],
         "title": {
          "text": "Maior Magnitude"
         },
         "type": "linear"
        }
       }
      },
      "text/html": [
       "<div>                            <div id=\"371559b3-08c5-4af6-960d-830f924fa281\" class=\"plotly-graph-div\" style=\"height:525px; width:100%;\"></div>            <script type=\"text/javascript\">                require([\"plotly\"], function(Plotly) {                    window.PLOTLYENV=window.PLOTLYENV || {};                                    if (document.getElementById(\"371559b3-08c5-4af6-960d-830f924fa281\")) {                    Plotly.newPlot(                        \"371559b3-08c5-4af6-960d-830f924fa281\",                        [{\"alignmentgroup\":\"True\",\"hovertemplate\":\"Continente=%{x}\\u003cbr\\u003eMaior Magnitude=%{y}\\u003cextra\\u003e\\u003c\\u002fextra\\u003e\",\"legendgroup\":\"Africa\",\"marker\":{\"color\":\"#636efa\",\"pattern\":{\"shape\":\"\"}},\"name\":\"Africa\",\"offsetgroup\":\"Africa\",\"orientation\":\"v\",\"showlegend\":true,\"textposition\":\"auto\",\"x\":[\"Africa\"],\"xaxis\":\"x\",\"y\":[5.5],\"yaxis\":\"y\",\"type\":\"bar\"},{\"alignmentgroup\":\"True\",\"hovertemplate\":\"Continente=%{x}\\u003cbr\\u003eMaior Magnitude=%{y}\\u003cextra\\u003e\\u003c\\u002fextra\\u003e\",\"legendgroup\":\"Asia\",\"marker\":{\"color\":\"#EF553B\",\"pattern\":{\"shape\":\"\"}},\"name\":\"Asia\",\"offsetgroup\":\"Asia\",\"orientation\":\"v\",\"showlegend\":true,\"textposition\":\"auto\",\"x\":[\"Asia\"],\"xaxis\":\"x\",\"y\":[7.6],\"yaxis\":\"y\",\"type\":\"bar\"},{\"alignmentgroup\":\"True\",\"hovertemplate\":\"Continente=%{x}\\u003cbr\\u003eMaior Magnitude=%{y}\\u003cextra\\u003e\\u003c\\u002fextra\\u003e\",\"legendgroup\":\"Europe\",\"marker\":{\"color\":\"#00cc96\",\"pattern\":{\"shape\":\"\"}},\"name\":\"Europe\",\"offsetgroup\":\"Europe\",\"orientation\":\"v\",\"showlegend\":true,\"textposition\":\"auto\",\"x\":[\"Europe\"],\"xaxis\":\"x\",\"y\":[5.8],\"yaxis\":\"y\",\"type\":\"bar\"},{\"alignmentgroup\":\"True\",\"hovertemplate\":\"Continente=%{x}\\u003cbr\\u003eMaior Magnitude=%{y}\\u003cextra\\u003e\\u003c\\u002fextra\\u003e\",\"legendgroup\":\"North America\",\"marker\":{\"color\":\"#ab63fa\",\"pattern\":{\"shape\":\"\"}},\"name\":\"North America\",\"offsetgroup\":\"North America\",\"orientation\":\"v\",\"showlegend\":true,\"textposition\":\"auto\",\"x\":[\"North America\"],\"xaxis\":\"x\",\"y\":[6.5],\"yaxis\":\"y\",\"type\":\"bar\"},{\"alignmentgroup\":\"True\",\"hovertemplate\":\"Continente=%{x}\\u003cbr\\u003eMaior Magnitude=%{y}\\u003cextra\\u003e\\u003c\\u002fextra\\u003e\",\"legendgroup\":\"Oceania\",\"marker\":{\"color\":\"#FFA15A\",\"pattern\":{\"shape\":\"\"}},\"name\":\"Oceania\",\"offsetgroup\":\"Oceania\",\"orientation\":\"v\",\"showlegend\":true,\"textposition\":\"auto\",\"x\":[\"Oceania\"],\"xaxis\":\"x\",\"y\":[5.5],\"yaxis\":\"y\",\"type\":\"bar\"},{\"alignmentgroup\":\"True\",\"hovertemplate\":\"Continente=%{x}\\u003cbr\\u003eMaior Magnitude=%{y}\\u003cextra\\u003e\\u003c\\u002fextra\\u003e\",\"legendgroup\":\"South America\",\"marker\":{\"color\":\"#19d3f3\",\"pattern\":{\"shape\":\"\"}},\"name\":\"South America\",\"offsetgroup\":\"South America\",\"orientation\":\"v\",\"showlegend\":true,\"textposition\":\"auto\",\"x\":[\"South America\"],\"xaxis\":\"x\",\"y\":[7.4],\"yaxis\":\"y\",\"type\":\"bar\"}],                        {\"template\":{\"data\":{\"histogram2dcontour\":[{\"type\":\"histogram2dcontour\",\"colorbar\":{\"outlinewidth\":0,\"ticks\":\"\"},\"colorscale\":[[0.0,\"#0d0887\"],[0.1111111111111111,\"#46039f\"],[0.2222222222222222,\"#7201a8\"],[0.3333333333333333,\"#9c179e\"],[0.4444444444444444,\"#bd3786\"],[0.5555555555555556,\"#d8576b\"],[0.6666666666666666,\"#ed7953\"],[0.7777777777777778,\"#fb9f3a\"],[0.8888888888888888,\"#fdca26\"],[1.0,\"#f0f921\"]]}],\"choropleth\":[{\"type\":\"choropleth\",\"colorbar\":{\"outlinewidth\":0,\"ticks\":\"\"}}],\"histogram2d\":[{\"type\":\"histogram2d\",\"colorbar\":{\"outlinewidth\":0,\"ticks\":\"\"},\"colorscale\":[[0.0,\"#0d0887\"],[0.1111111111111111,\"#46039f\"],[0.2222222222222222,\"#7201a8\"],[0.3333333333333333,\"#9c179e\"],[0.4444444444444444,\"#bd3786\"],[0.5555555555555556,\"#d8576b\"],[0.6666666666666666,\"#ed7953\"],[0.7777777777777778,\"#fb9f3a\"],[0.8888888888888888,\"#fdca26\"],[1.0,\"#f0f921\"]]}],\"heatmap\":[{\"type\":\"heatmap\",\"colorbar\":{\"outlinewidth\":0,\"ticks\":\"\"},\"colorscale\":[[0.0,\"#0d0887\"],[0.1111111111111111,\"#46039f\"],[0.2222222222222222,\"#7201a8\"],[0.3333333333333333,\"#9c179e\"],[0.4444444444444444,\"#bd3786\"],[0.5555555555555556,\"#d8576b\"],[0.6666666666666666,\"#ed7953\"],[0.7777777777777778,\"#fb9f3a\"],[0.8888888888888888,\"#fdca26\"],[1.0,\"#f0f921\"]]}],\"heatmapgl\":[{\"type\":\"heatmapgl\",\"colorbar\":{\"outlinewidth\":0,\"ticks\":\"\"},\"colorscale\":[[0.0,\"#0d0887\"],[0.1111111111111111,\"#46039f\"],[0.2222222222222222,\"#7201a8\"],[0.3333333333333333,\"#9c179e\"],[0.4444444444444444,\"#bd3786\"],[0.5555555555555556,\"#d8576b\"],[0.6666666666666666,\"#ed7953\"],[0.7777777777777778,\"#fb9f3a\"],[0.8888888888888888,\"#fdca26\"],[1.0,\"#f0f921\"]]}],\"contourcarpet\":[{\"type\":\"contourcarpet\",\"colorbar\":{\"outlinewidth\":0,\"ticks\":\"\"}}],\"contour\":[{\"type\":\"contour\",\"colorbar\":{\"outlinewidth\":0,\"ticks\":\"\"},\"colorscale\":[[0.0,\"#0d0887\"],[0.1111111111111111,\"#46039f\"],[0.2222222222222222,\"#7201a8\"],[0.3333333333333333,\"#9c179e\"],[0.4444444444444444,\"#bd3786\"],[0.5555555555555556,\"#d8576b\"],[0.6666666666666666,\"#ed7953\"],[0.7777777777777778,\"#fb9f3a\"],[0.8888888888888888,\"#fdca26\"],[1.0,\"#f0f921\"]]}],\"surface\":[{\"type\":\"surface\",\"colorbar\":{\"outlinewidth\":0,\"ticks\":\"\"},\"colorscale\":[[0.0,\"#0d0887\"],[0.1111111111111111,\"#46039f\"],[0.2222222222222222,\"#7201a8\"],[0.3333333333333333,\"#9c179e\"],[0.4444444444444444,\"#bd3786\"],[0.5555555555555556,\"#d8576b\"],[0.6666666666666666,\"#ed7953\"],[0.7777777777777778,\"#fb9f3a\"],[0.8888888888888888,\"#fdca26\"],[1.0,\"#f0f921\"]]}],\"mesh3d\":[{\"type\":\"mesh3d\",\"colorbar\":{\"outlinewidth\":0,\"ticks\":\"\"}}],\"scatter\":[{\"fillpattern\":{\"fillmode\":\"overlay\",\"size\":10,\"solidity\":0.2},\"type\":\"scatter\"}],\"parcoords\":[{\"type\":\"parcoords\",\"line\":{\"colorbar\":{\"outlinewidth\":0,\"ticks\":\"\"}}}],\"scatterpolargl\":[{\"type\":\"scatterpolargl\",\"marker\":{\"colorbar\":{\"outlinewidth\":0,\"ticks\":\"\"}}}],\"bar\":[{\"error_x\":{\"color\":\"#2a3f5f\"},\"error_y\":{\"color\":\"#2a3f5f\"},\"marker\":{\"line\":{\"color\":\"#E5ECF6\",\"width\":0.5},\"pattern\":{\"fillmode\":\"overlay\",\"size\":10,\"solidity\":0.2}},\"type\":\"bar\"}],\"scattergeo\":[{\"type\":\"scattergeo\",\"marker\":{\"colorbar\":{\"outlinewidth\":0,\"ticks\":\"\"}}}],\"scatterpolar\":[{\"type\":\"scatterpolar\",\"marker\":{\"colorbar\":{\"outlinewidth\":0,\"ticks\":\"\"}}}],\"histogram\":[{\"marker\":{\"pattern\":{\"fillmode\":\"overlay\",\"size\":10,\"solidity\":0.2}},\"type\":\"histogram\"}],\"scattergl\":[{\"type\":\"scattergl\",\"marker\":{\"colorbar\":{\"outlinewidth\":0,\"ticks\":\"\"}}}],\"scatter3d\":[{\"type\":\"scatter3d\",\"line\":{\"colorbar\":{\"outlinewidth\":0,\"ticks\":\"\"}},\"marker\":{\"colorbar\":{\"outlinewidth\":0,\"ticks\":\"\"}}}],\"scattermapbox\":[{\"type\":\"scattermapbox\",\"marker\":{\"colorbar\":{\"outlinewidth\":0,\"ticks\":\"\"}}}],\"scatterternary\":[{\"type\":\"scatterternary\",\"marker\":{\"colorbar\":{\"outlinewidth\":0,\"ticks\":\"\"}}}],\"scattercarpet\":[{\"type\":\"scattercarpet\",\"marker\":{\"colorbar\":{\"outlinewidth\":0,\"ticks\":\"\"}}}],\"carpet\":[{\"aaxis\":{\"endlinecolor\":\"#2a3f5f\",\"gridcolor\":\"white\",\"linecolor\":\"white\",\"minorgridcolor\":\"white\",\"startlinecolor\":\"#2a3f5f\"},\"baxis\":{\"endlinecolor\":\"#2a3f5f\",\"gridcolor\":\"white\",\"linecolor\":\"white\",\"minorgridcolor\":\"white\",\"startlinecolor\":\"#2a3f5f\"},\"type\":\"carpet\"}],\"table\":[{\"cells\":{\"fill\":{\"color\":\"#EBF0F8\"},\"line\":{\"color\":\"white\"}},\"header\":{\"fill\":{\"color\":\"#C8D4E3\"},\"line\":{\"color\":\"white\"}},\"type\":\"table\"}],\"barpolar\":[{\"marker\":{\"line\":{\"color\":\"#E5ECF6\",\"width\":0.5},\"pattern\":{\"fillmode\":\"overlay\",\"size\":10,\"solidity\":0.2}},\"type\":\"barpolar\"}],\"pie\":[{\"automargin\":true,\"type\":\"pie\"}]},\"layout\":{\"autotypenumbers\":\"strict\",\"colorway\":[\"#636efa\",\"#EF553B\",\"#00cc96\",\"#ab63fa\",\"#FFA15A\",\"#19d3f3\",\"#FF6692\",\"#B6E880\",\"#FF97FF\",\"#FECB52\"],\"font\":{\"color\":\"#2a3f5f\"},\"hovermode\":\"closest\",\"hoverlabel\":{\"align\":\"left\"},\"paper_bgcolor\":\"white\",\"plot_bgcolor\":\"#E5ECF6\",\"polar\":{\"bgcolor\":\"#E5ECF6\",\"angularaxis\":{\"gridcolor\":\"white\",\"linecolor\":\"white\",\"ticks\":\"\"},\"radialaxis\":{\"gridcolor\":\"white\",\"linecolor\":\"white\",\"ticks\":\"\"}},\"ternary\":{\"bgcolor\":\"#E5ECF6\",\"aaxis\":{\"gridcolor\":\"white\",\"linecolor\":\"white\",\"ticks\":\"\"},\"baxis\":{\"gridcolor\":\"white\",\"linecolor\":\"white\",\"ticks\":\"\"},\"caxis\":{\"gridcolor\":\"white\",\"linecolor\":\"white\",\"ticks\":\"\"}},\"coloraxis\":{\"colorbar\":{\"outlinewidth\":0,\"ticks\":\"\"}},\"colorscale\":{\"sequential\":[[0.0,\"#0d0887\"],[0.1111111111111111,\"#46039f\"],[0.2222222222222222,\"#7201a8\"],[0.3333333333333333,\"#9c179e\"],[0.4444444444444444,\"#bd3786\"],[0.5555555555555556,\"#d8576b\"],[0.6666666666666666,\"#ed7953\"],[0.7777777777777778,\"#fb9f3a\"],[0.8888888888888888,\"#fdca26\"],[1.0,\"#f0f921\"]],\"sequentialminus\":[[0.0,\"#0d0887\"],[0.1111111111111111,\"#46039f\"],[0.2222222222222222,\"#7201a8\"],[0.3333333333333333,\"#9c179e\"],[0.4444444444444444,\"#bd3786\"],[0.5555555555555556,\"#d8576b\"],[0.6666666666666666,\"#ed7953\"],[0.7777777777777778,\"#fb9f3a\"],[0.8888888888888888,\"#fdca26\"],[1.0,\"#f0f921\"]],\"diverging\":[[0,\"#8e0152\"],[0.1,\"#c51b7d\"],[0.2,\"#de77ae\"],[0.3,\"#f1b6da\"],[0.4,\"#fde0ef\"],[0.5,\"#f7f7f7\"],[0.6,\"#e6f5d0\"],[0.7,\"#b8e186\"],[0.8,\"#7fbc41\"],[0.9,\"#4d9221\"],[1,\"#276419\"]]},\"xaxis\":{\"gridcolor\":\"white\",\"linecolor\":\"white\",\"ticks\":\"\",\"title\":{\"standoff\":15},\"zerolinecolor\":\"white\",\"automargin\":true,\"zerolinewidth\":2},\"yaxis\":{\"gridcolor\":\"white\",\"linecolor\":\"white\",\"ticks\":\"\",\"title\":{\"standoff\":15},\"zerolinecolor\":\"white\",\"automargin\":true,\"zerolinewidth\":2},\"scene\":{\"xaxis\":{\"backgroundcolor\":\"#E5ECF6\",\"gridcolor\":\"white\",\"linecolor\":\"white\",\"showbackground\":true,\"ticks\":\"\",\"zerolinecolor\":\"white\",\"gridwidth\":2},\"yaxis\":{\"backgroundcolor\":\"#E5ECF6\",\"gridcolor\":\"white\",\"linecolor\":\"white\",\"showbackground\":true,\"ticks\":\"\",\"zerolinecolor\":\"white\",\"gridwidth\":2},\"zaxis\":{\"backgroundcolor\":\"#E5ECF6\",\"gridcolor\":\"white\",\"linecolor\":\"white\",\"showbackground\":true,\"ticks\":\"\",\"zerolinecolor\":\"white\",\"gridwidth\":2}},\"shapedefaults\":{\"line\":{\"color\":\"#2a3f5f\"}},\"annotationdefaults\":{\"arrowcolor\":\"#2a3f5f\",\"arrowhead\":0,\"arrowwidth\":1},\"geo\":{\"bgcolor\":\"white\",\"landcolor\":\"#E5ECF6\",\"subunitcolor\":\"white\",\"showland\":true,\"showlakes\":true,\"lakecolor\":\"white\"},\"title\":{\"x\":0.05},\"mapbox\":{\"style\":\"light\"}}},\"xaxis\":{\"anchor\":\"y\",\"domain\":[0.0,1.0],\"title\":{\"text\":\"Continente\"},\"categoryorder\":\"array\",\"categoryarray\":[\"Africa\",\"Asia\",\"Europe\",\"North America\",\"Oceania\",\"South America\"]},\"yaxis\":{\"anchor\":\"x\",\"domain\":[0.0,1.0],\"title\":{\"text\":\"Maior Magnitude\"}},\"legend\":{\"title\":{\"text\":\"Continente\"},\"tracegroupgap\":0},\"title\":{\"text\":\"Maiores Magnitudes por Continente, acima de 5.3 (media) \"},\"barmode\":\"relative\"},                        {\"responsive\": true}                    ).then(function(){\n",
       "                            \n",
       "var gd = document.getElementById('371559b3-08c5-4af6-960d-830f924fa281');\n",
       "var x = new MutationObserver(function (mutations, observer) {{\n",
       "        var display = window.getComputedStyle(gd).display;\n",
       "        if (!display || display === 'none') {{\n",
       "            console.log([gd, 'removed!']);\n",
       "            Plotly.purge(gd);\n",
       "            observer.disconnect();\n",
       "        }}\n",
       "}});\n",
       "\n",
       "// Listen for the removal of the full notebook cells\n",
       "var notebookContainer = gd.closest('#notebook-container');\n",
       "if (notebookContainer) {{\n",
       "    x.observe(notebookContainer, {childList: true});\n",
       "}}\n",
       "\n",
       "// Listen for the clearing of the current output cell\n",
       "var outputEl = gd.closest('.output');\n",
       "if (outputEl) {{\n",
       "    x.observe(outputEl, {childList: true});\n",
       "}}\n",
       "\n",
       "                        })                };                });            </script>        </div>"
      ]
     },
     "metadata": {},
     "output_type": "display_data"
    }
   ],
   "source": [
    "# Filtrar magnitudes maiores que 5.3\n",
    "maiores_terremotos = df[df['magnitude'] > 5.3]\n",
    "\n",
    "# Agrupar por continente e pegar as maiores magnitudes\n",
    "df_max_magnitude = maiores_terremotos.groupby('continent')['magnitude'].max().reset_index()\n",
    "\n",
    "\n",
    "fig_bar = px.bar(\n",
    "    df_max_magnitude,\n",
    "    x='continent',\n",
    "    y='magnitude',\n",
    "    labels={\n",
    "        'continent': 'Continente',\n",
    "        'magnitude': 'Maior Magnitude'\n",
    "    },\n",
    "    title='Maiores Magnitudes por Continente, acima de 5.3 (media) ',\n",
    "    color='continent'\n",
    ")\n",
    "\n",
    "\n",
    "fig_bar.show()"
   ]
  },
  {
   "cell_type": "code",
   "execution_count": 320,
   "id": "45fa4527-a53d-42f0-9f44-a520c36c8820",
   "metadata": {},
   "outputs": [
    {
     "data": {
      "application/vnd.plotly.v1+json": {
       "config": {
        "plotlyServerURL": "https://plot.ly"
       },
       "data": [
        {
         "alignmentgroup": "True",
         "hovertemplate": "Continente=%{x}<br>Quantidade de Eventos=%{text}<extra></extra>",
         "legendgroup": "Asia",
         "marker": {
          "color": "#636efa",
          "pattern": {
           "shape": ""
          }
         },
         "name": "Asia",
         "offsetgroup": "Asia",
         "orientation": "v",
         "showlegend": true,
         "text": [
          268
         ],
         "textposition": "auto",
         "type": "bar",
         "x": [
          "Asia"
         ],
         "xaxis": "x",
         "y": [
          268
         ],
         "yaxis": "y"
        },
        {
         "alignmentgroup": "True",
         "hovertemplate": "Continente=%{x}<br>Quantidade de Eventos=%{text}<extra></extra>",
         "legendgroup": "South America",
         "marker": {
          "color": "#EF553B",
          "pattern": {
           "shape": ""
          }
         },
         "name": "South America",
         "offsetgroup": "South America",
         "orientation": "v",
         "showlegend": true,
         "text": [
          66
         ],
         "textposition": "auto",
         "type": "bar",
         "x": [
          "South America"
         ],
         "xaxis": "x",
         "y": [
          66
         ],
         "yaxis": "y"
        },
        {
         "alignmentgroup": "True",
         "hovertemplate": "Continente=%{x}<br>Quantidade de Eventos=%{text}<extra></extra>",
         "legendgroup": "North America",
         "marker": {
          "color": "#00cc96",
          "pattern": {
           "shape": ""
          }
         },
         "name": "North America",
         "offsetgroup": "North America",
         "orientation": "v",
         "showlegend": true,
         "text": [
          13
         ],
         "textposition": "auto",
         "type": "bar",
         "x": [
          "North America"
         ],
         "xaxis": "x",
         "y": [
          13
         ],
         "yaxis": "y"
        },
        {
         "alignmentgroup": "True",
         "hovertemplate": "Continente=%{x}<br>Quantidade de Eventos=%{text}<extra></extra>",
         "legendgroup": "Europe",
         "marker": {
          "color": "#ab63fa",
          "pattern": {
           "shape": ""
          }
         },
         "name": "Europe",
         "offsetgroup": "Europe",
         "orientation": "v",
         "showlegend": true,
         "text": [
          7
         ],
         "textposition": "auto",
         "type": "bar",
         "x": [
          "Europe"
         ],
         "xaxis": "x",
         "y": [
          7
         ],
         "yaxis": "y"
        },
        {
         "alignmentgroup": "True",
         "hovertemplate": "Continente=%{x}<br>Quantidade de Eventos=%{text}<extra></extra>",
         "legendgroup": "Africa",
         "marker": {
          "color": "#FFA15A",
          "pattern": {
           "shape": ""
          }
         },
         "name": "Africa",
         "offsetgroup": "Africa",
         "orientation": "v",
         "showlegend": true,
         "text": [
          2
         ],
         "textposition": "auto",
         "type": "bar",
         "x": [
          "Africa"
         ],
         "xaxis": "x",
         "y": [
          2
         ],
         "yaxis": "y"
        },
        {
         "alignmentgroup": "True",
         "hovertemplate": "Continente=%{x}<br>Quantidade de Eventos=%{text}<extra></extra>",
         "legendgroup": "Oceania",
         "marker": {
          "color": "#19d3f3",
          "pattern": {
           "shape": ""
          }
         },
         "name": "Oceania",
         "offsetgroup": "Oceania",
         "orientation": "v",
         "showlegend": true,
         "text": [
          1
         ],
         "textposition": "auto",
         "type": "bar",
         "x": [
          "Oceania"
         ],
         "xaxis": "x",
         "y": [
          1
         ],
         "yaxis": "y"
        }
       ],
       "layout": {
        "autosize": true,
        "barmode": "relative",
        "legend": {
         "title": {
          "text": "Continente"
         },
         "tracegroupgap": 0
        },
        "template": {
         "data": {
          "bar": [
           {
            "error_x": {
             "color": "#2a3f5f"
            },
            "error_y": {
             "color": "#2a3f5f"
            },
            "marker": {
             "line": {
              "color": "#E5ECF6",
              "width": 0.5
             },
             "pattern": {
              "fillmode": "overlay",
              "size": 10,
              "solidity": 0.2
             }
            },
            "type": "bar"
           }
          ],
          "barpolar": [
           {
            "marker": {
             "line": {
              "color": "#E5ECF6",
              "width": 0.5
             },
             "pattern": {
              "fillmode": "overlay",
              "size": 10,
              "solidity": 0.2
             }
            },
            "type": "barpolar"
           }
          ],
          "carpet": [
           {
            "aaxis": {
             "endlinecolor": "#2a3f5f",
             "gridcolor": "white",
             "linecolor": "white",
             "minorgridcolor": "white",
             "startlinecolor": "#2a3f5f"
            },
            "baxis": {
             "endlinecolor": "#2a3f5f",
             "gridcolor": "white",
             "linecolor": "white",
             "minorgridcolor": "white",
             "startlinecolor": "#2a3f5f"
            },
            "type": "carpet"
           }
          ],
          "choropleth": [
           {
            "colorbar": {
             "outlinewidth": 0,
             "ticks": ""
            },
            "type": "choropleth"
           }
          ],
          "contour": [
           {
            "colorbar": {
             "outlinewidth": 0,
             "ticks": ""
            },
            "colorscale": [
             [
              0,
              "#0d0887"
             ],
             [
              0.1111111111111111,
              "#46039f"
             ],
             [
              0.2222222222222222,
              "#7201a8"
             ],
             [
              0.3333333333333333,
              "#9c179e"
             ],
             [
              0.4444444444444444,
              "#bd3786"
             ],
             [
              0.5555555555555556,
              "#d8576b"
             ],
             [
              0.6666666666666666,
              "#ed7953"
             ],
             [
              0.7777777777777778,
              "#fb9f3a"
             ],
             [
              0.8888888888888888,
              "#fdca26"
             ],
             [
              1,
              "#f0f921"
             ]
            ],
            "type": "contour"
           }
          ],
          "contourcarpet": [
           {
            "colorbar": {
             "outlinewidth": 0,
             "ticks": ""
            },
            "type": "contourcarpet"
           }
          ],
          "heatmap": [
           {
            "colorbar": {
             "outlinewidth": 0,
             "ticks": ""
            },
            "colorscale": [
             [
              0,
              "#0d0887"
             ],
             [
              0.1111111111111111,
              "#46039f"
             ],
             [
              0.2222222222222222,
              "#7201a8"
             ],
             [
              0.3333333333333333,
              "#9c179e"
             ],
             [
              0.4444444444444444,
              "#bd3786"
             ],
             [
              0.5555555555555556,
              "#d8576b"
             ],
             [
              0.6666666666666666,
              "#ed7953"
             ],
             [
              0.7777777777777778,
              "#fb9f3a"
             ],
             [
              0.8888888888888888,
              "#fdca26"
             ],
             [
              1,
              "#f0f921"
             ]
            ],
            "type": "heatmap"
           }
          ],
          "heatmapgl": [
           {
            "colorbar": {
             "outlinewidth": 0,
             "ticks": ""
            },
            "colorscale": [
             [
              0,
              "#0d0887"
             ],
             [
              0.1111111111111111,
              "#46039f"
             ],
             [
              0.2222222222222222,
              "#7201a8"
             ],
             [
              0.3333333333333333,
              "#9c179e"
             ],
             [
              0.4444444444444444,
              "#bd3786"
             ],
             [
              0.5555555555555556,
              "#d8576b"
             ],
             [
              0.6666666666666666,
              "#ed7953"
             ],
             [
              0.7777777777777778,
              "#fb9f3a"
             ],
             [
              0.8888888888888888,
              "#fdca26"
             ],
             [
              1,
              "#f0f921"
             ]
            ],
            "type": "heatmapgl"
           }
          ],
          "histogram": [
           {
            "marker": {
             "pattern": {
              "fillmode": "overlay",
              "size": 10,
              "solidity": 0.2
             }
            },
            "type": "histogram"
           }
          ],
          "histogram2d": [
           {
            "colorbar": {
             "outlinewidth": 0,
             "ticks": ""
            },
            "colorscale": [
             [
              0,
              "#0d0887"
             ],
             [
              0.1111111111111111,
              "#46039f"
             ],
             [
              0.2222222222222222,
              "#7201a8"
             ],
             [
              0.3333333333333333,
              "#9c179e"
             ],
             [
              0.4444444444444444,
              "#bd3786"
             ],
             [
              0.5555555555555556,
              "#d8576b"
             ],
             [
              0.6666666666666666,
              "#ed7953"
             ],
             [
              0.7777777777777778,
              "#fb9f3a"
             ],
             [
              0.8888888888888888,
              "#fdca26"
             ],
             [
              1,
              "#f0f921"
             ]
            ],
            "type": "histogram2d"
           }
          ],
          "histogram2dcontour": [
           {
            "colorbar": {
             "outlinewidth": 0,
             "ticks": ""
            },
            "colorscale": [
             [
              0,
              "#0d0887"
             ],
             [
              0.1111111111111111,
              "#46039f"
             ],
             [
              0.2222222222222222,
              "#7201a8"
             ],
             [
              0.3333333333333333,
              "#9c179e"
             ],
             [
              0.4444444444444444,
              "#bd3786"
             ],
             [
              0.5555555555555556,
              "#d8576b"
             ],
             [
              0.6666666666666666,
              "#ed7953"
             ],
             [
              0.7777777777777778,
              "#fb9f3a"
             ],
             [
              0.8888888888888888,
              "#fdca26"
             ],
             [
              1,
              "#f0f921"
             ]
            ],
            "type": "histogram2dcontour"
           }
          ],
          "mesh3d": [
           {
            "colorbar": {
             "outlinewidth": 0,
             "ticks": ""
            },
            "type": "mesh3d"
           }
          ],
          "parcoords": [
           {
            "line": {
             "colorbar": {
              "outlinewidth": 0,
              "ticks": ""
             }
            },
            "type": "parcoords"
           }
          ],
          "pie": [
           {
            "automargin": true,
            "type": "pie"
           }
          ],
          "scatter": [
           {
            "fillpattern": {
             "fillmode": "overlay",
             "size": 10,
             "solidity": 0.2
            },
            "type": "scatter"
           }
          ],
          "scatter3d": [
           {
            "line": {
             "colorbar": {
              "outlinewidth": 0,
              "ticks": ""
             }
            },
            "marker": {
             "colorbar": {
              "outlinewidth": 0,
              "ticks": ""
             }
            },
            "type": "scatter3d"
           }
          ],
          "scattercarpet": [
           {
            "marker": {
             "colorbar": {
              "outlinewidth": 0,
              "ticks": ""
             }
            },
            "type": "scattercarpet"
           }
          ],
          "scattergeo": [
           {
            "marker": {
             "colorbar": {
              "outlinewidth": 0,
              "ticks": ""
             }
            },
            "type": "scattergeo"
           }
          ],
          "scattergl": [
           {
            "marker": {
             "colorbar": {
              "outlinewidth": 0,
              "ticks": ""
             }
            },
            "type": "scattergl"
           }
          ],
          "scattermapbox": [
           {
            "marker": {
             "colorbar": {
              "outlinewidth": 0,
              "ticks": ""
             }
            },
            "type": "scattermapbox"
           }
          ],
          "scatterpolar": [
           {
            "marker": {
             "colorbar": {
              "outlinewidth": 0,
              "ticks": ""
             }
            },
            "type": "scatterpolar"
           }
          ],
          "scatterpolargl": [
           {
            "marker": {
             "colorbar": {
              "outlinewidth": 0,
              "ticks": ""
             }
            },
            "type": "scatterpolargl"
           }
          ],
          "scatterternary": [
           {
            "marker": {
             "colorbar": {
              "outlinewidth": 0,
              "ticks": ""
             }
            },
            "type": "scatterternary"
           }
          ],
          "surface": [
           {
            "colorbar": {
             "outlinewidth": 0,
             "ticks": ""
            },
            "colorscale": [
             [
              0,
              "#0d0887"
             ],
             [
              0.1111111111111111,
              "#46039f"
             ],
             [
              0.2222222222222222,
              "#7201a8"
             ],
             [
              0.3333333333333333,
              "#9c179e"
             ],
             [
              0.4444444444444444,
              "#bd3786"
             ],
             [
              0.5555555555555556,
              "#d8576b"
             ],
             [
              0.6666666666666666,
              "#ed7953"
             ],
             [
              0.7777777777777778,
              "#fb9f3a"
             ],
             [
              0.8888888888888888,
              "#fdca26"
             ],
             [
              1,
              "#f0f921"
             ]
            ],
            "type": "surface"
           }
          ],
          "table": [
           {
            "cells": {
             "fill": {
              "color": "#EBF0F8"
             },
             "line": {
              "color": "white"
             }
            },
            "header": {
             "fill": {
              "color": "#C8D4E3"
             },
             "line": {
              "color": "white"
             }
            },
            "type": "table"
           }
          ]
         },
         "layout": {
          "annotationdefaults": {
           "arrowcolor": "#2a3f5f",
           "arrowhead": 0,
           "arrowwidth": 1
          },
          "autotypenumbers": "strict",
          "coloraxis": {
           "colorbar": {
            "outlinewidth": 0,
            "ticks": ""
           }
          },
          "colorscale": {
           "diverging": [
            [
             0,
             "#8e0152"
            ],
            [
             0.1,
             "#c51b7d"
            ],
            [
             0.2,
             "#de77ae"
            ],
            [
             0.3,
             "#f1b6da"
            ],
            [
             0.4,
             "#fde0ef"
            ],
            [
             0.5,
             "#f7f7f7"
            ],
            [
             0.6,
             "#e6f5d0"
            ],
            [
             0.7,
             "#b8e186"
            ],
            [
             0.8,
             "#7fbc41"
            ],
            [
             0.9,
             "#4d9221"
            ],
            [
             1,
             "#276419"
            ]
           ],
           "sequential": [
            [
             0,
             "#0d0887"
            ],
            [
             0.1111111111111111,
             "#46039f"
            ],
            [
             0.2222222222222222,
             "#7201a8"
            ],
            [
             0.3333333333333333,
             "#9c179e"
            ],
            [
             0.4444444444444444,
             "#bd3786"
            ],
            [
             0.5555555555555556,
             "#d8576b"
            ],
            [
             0.6666666666666666,
             "#ed7953"
            ],
            [
             0.7777777777777778,
             "#fb9f3a"
            ],
            [
             0.8888888888888888,
             "#fdca26"
            ],
            [
             1,
             "#f0f921"
            ]
           ],
           "sequentialminus": [
            [
             0,
             "#0d0887"
            ],
            [
             0.1111111111111111,
             "#46039f"
            ],
            [
             0.2222222222222222,
             "#7201a8"
            ],
            [
             0.3333333333333333,
             "#9c179e"
            ],
            [
             0.4444444444444444,
             "#bd3786"
            ],
            [
             0.5555555555555556,
             "#d8576b"
            ],
            [
             0.6666666666666666,
             "#ed7953"
            ],
            [
             0.7777777777777778,
             "#fb9f3a"
            ],
            [
             0.8888888888888888,
             "#fdca26"
            ],
            [
             1,
             "#f0f921"
            ]
           ]
          },
          "colorway": [
           "#636efa",
           "#EF553B",
           "#00cc96",
           "#ab63fa",
           "#FFA15A",
           "#19d3f3",
           "#FF6692",
           "#B6E880",
           "#FF97FF",
           "#FECB52"
          ],
          "font": {
           "color": "#2a3f5f"
          },
          "geo": {
           "bgcolor": "white",
           "lakecolor": "white",
           "landcolor": "#E5ECF6",
           "showlakes": true,
           "showland": true,
           "subunitcolor": "white"
          },
          "hoverlabel": {
           "align": "left"
          },
          "hovermode": "closest",
          "mapbox": {
           "style": "light"
          },
          "paper_bgcolor": "white",
          "plot_bgcolor": "#E5ECF6",
          "polar": {
           "angularaxis": {
            "gridcolor": "white",
            "linecolor": "white",
            "ticks": ""
           },
           "bgcolor": "#E5ECF6",
           "radialaxis": {
            "gridcolor": "white",
            "linecolor": "white",
            "ticks": ""
           }
          },
          "scene": {
           "xaxis": {
            "backgroundcolor": "#E5ECF6",
            "gridcolor": "white",
            "gridwidth": 2,
            "linecolor": "white",
            "showbackground": true,
            "ticks": "",
            "zerolinecolor": "white"
           },
           "yaxis": {
            "backgroundcolor": "#E5ECF6",
            "gridcolor": "white",
            "gridwidth": 2,
            "linecolor": "white",
            "showbackground": true,
            "ticks": "",
            "zerolinecolor": "white"
           },
           "zaxis": {
            "backgroundcolor": "#E5ECF6",
            "gridcolor": "white",
            "gridwidth": 2,
            "linecolor": "white",
            "showbackground": true,
            "ticks": "",
            "zerolinecolor": "white"
           }
          },
          "shapedefaults": {
           "line": {
            "color": "#2a3f5f"
           }
          },
          "ternary": {
           "aaxis": {
            "gridcolor": "white",
            "linecolor": "white",
            "ticks": ""
           },
           "baxis": {
            "gridcolor": "white",
            "linecolor": "white",
            "ticks": ""
           },
           "bgcolor": "#E5ECF6",
           "caxis": {
            "gridcolor": "white",
            "linecolor": "white",
            "ticks": ""
           }
          },
          "title": {
           "x": 0.05
          },
          "xaxis": {
           "automargin": true,
           "gridcolor": "white",
           "linecolor": "white",
           "ticks": "",
           "title": {
            "standoff": 15
           },
           "zerolinecolor": "white",
           "zerolinewidth": 2
          },
          "yaxis": {
           "automargin": true,
           "gridcolor": "white",
           "linecolor": "white",
           "ticks": "",
           "title": {
            "standoff": 15
           },
           "zerolinecolor": "white",
           "zerolinewidth": 2
          }
         }
        },
        "title": {
         "text": "Frequência de Terremotos Maiores que 5.3 por Continente"
        },
        "xaxis": {
         "anchor": "y",
         "autorange": true,
         "categoryarray": [
          "Asia",
          "South America",
          "North America",
          "Europe",
          "Africa",
          "Oceania"
         ],
         "categoryorder": "array",
         "domain": [
          0,
          1
         ],
         "range": [
          -0.5,
          5.5
         ],
         "title": {
          "text": "Continente"
         },
         "type": "category"
        },
        "yaxis": {
         "anchor": "x",
         "autorange": true,
         "domain": [
          0,
          1
         ],
         "range": [
          0,
          282.10526315789474
         ],
         "title": {
          "text": "Quantidade de Eventos"
         },
         "type": "linear"
        }
       }
      },
      "text/html": [
       "<div>                            <div id=\"2ec8bbdd-a1d0-4dc3-b3b4-a447a2df40e3\" class=\"plotly-graph-div\" style=\"height:525px; width:100%;\"></div>            <script type=\"text/javascript\">                require([\"plotly\"], function(Plotly) {                    window.PLOTLYENV=window.PLOTLYENV || {};                                    if (document.getElementById(\"2ec8bbdd-a1d0-4dc3-b3b4-a447a2df40e3\")) {                    Plotly.newPlot(                        \"2ec8bbdd-a1d0-4dc3-b3b4-a447a2df40e3\",                        [{\"alignmentgroup\":\"True\",\"hovertemplate\":\"Continente=%{x}\\u003cbr\\u003eQuantidade de Eventos=%{text}\\u003cextra\\u003e\\u003c\\u002fextra\\u003e\",\"legendgroup\":\"Asia\",\"marker\":{\"color\":\"#636efa\",\"pattern\":{\"shape\":\"\"}},\"name\":\"Asia\",\"offsetgroup\":\"Asia\",\"orientation\":\"v\",\"showlegend\":true,\"text\":[268.0],\"textposition\":\"auto\",\"x\":[\"Asia\"],\"xaxis\":\"x\",\"y\":[268],\"yaxis\":\"y\",\"type\":\"bar\"},{\"alignmentgroup\":\"True\",\"hovertemplate\":\"Continente=%{x}\\u003cbr\\u003eQuantidade de Eventos=%{text}\\u003cextra\\u003e\\u003c\\u002fextra\\u003e\",\"legendgroup\":\"South America\",\"marker\":{\"color\":\"#EF553B\",\"pattern\":{\"shape\":\"\"}},\"name\":\"South America\",\"offsetgroup\":\"South America\",\"orientation\":\"v\",\"showlegend\":true,\"text\":[66.0],\"textposition\":\"auto\",\"x\":[\"South America\"],\"xaxis\":\"x\",\"y\":[66],\"yaxis\":\"y\",\"type\":\"bar\"},{\"alignmentgroup\":\"True\",\"hovertemplate\":\"Continente=%{x}\\u003cbr\\u003eQuantidade de Eventos=%{text}\\u003cextra\\u003e\\u003c\\u002fextra\\u003e\",\"legendgroup\":\"North America\",\"marker\":{\"color\":\"#00cc96\",\"pattern\":{\"shape\":\"\"}},\"name\":\"North America\",\"offsetgroup\":\"North America\",\"orientation\":\"v\",\"showlegend\":true,\"text\":[13.0],\"textposition\":\"auto\",\"x\":[\"North America\"],\"xaxis\":\"x\",\"y\":[13],\"yaxis\":\"y\",\"type\":\"bar\"},{\"alignmentgroup\":\"True\",\"hovertemplate\":\"Continente=%{x}\\u003cbr\\u003eQuantidade de Eventos=%{text}\\u003cextra\\u003e\\u003c\\u002fextra\\u003e\",\"legendgroup\":\"Europe\",\"marker\":{\"color\":\"#ab63fa\",\"pattern\":{\"shape\":\"\"}},\"name\":\"Europe\",\"offsetgroup\":\"Europe\",\"orientation\":\"v\",\"showlegend\":true,\"text\":[7.0],\"textposition\":\"auto\",\"x\":[\"Europe\"],\"xaxis\":\"x\",\"y\":[7],\"yaxis\":\"y\",\"type\":\"bar\"},{\"alignmentgroup\":\"True\",\"hovertemplate\":\"Continente=%{x}\\u003cbr\\u003eQuantidade de Eventos=%{text}\\u003cextra\\u003e\\u003c\\u002fextra\\u003e\",\"legendgroup\":\"Africa\",\"marker\":{\"color\":\"#FFA15A\",\"pattern\":{\"shape\":\"\"}},\"name\":\"Africa\",\"offsetgroup\":\"Africa\",\"orientation\":\"v\",\"showlegend\":true,\"text\":[2.0],\"textposition\":\"auto\",\"x\":[\"Africa\"],\"xaxis\":\"x\",\"y\":[2],\"yaxis\":\"y\",\"type\":\"bar\"},{\"alignmentgroup\":\"True\",\"hovertemplate\":\"Continente=%{x}\\u003cbr\\u003eQuantidade de Eventos=%{text}\\u003cextra\\u003e\\u003c\\u002fextra\\u003e\",\"legendgroup\":\"Oceania\",\"marker\":{\"color\":\"#19d3f3\",\"pattern\":{\"shape\":\"\"}},\"name\":\"Oceania\",\"offsetgroup\":\"Oceania\",\"orientation\":\"v\",\"showlegend\":true,\"text\":[1.0],\"textposition\":\"auto\",\"x\":[\"Oceania\"],\"xaxis\":\"x\",\"y\":[1],\"yaxis\":\"y\",\"type\":\"bar\"}],                        {\"template\":{\"data\":{\"histogram2dcontour\":[{\"type\":\"histogram2dcontour\",\"colorbar\":{\"outlinewidth\":0,\"ticks\":\"\"},\"colorscale\":[[0.0,\"#0d0887\"],[0.1111111111111111,\"#46039f\"],[0.2222222222222222,\"#7201a8\"],[0.3333333333333333,\"#9c179e\"],[0.4444444444444444,\"#bd3786\"],[0.5555555555555556,\"#d8576b\"],[0.6666666666666666,\"#ed7953\"],[0.7777777777777778,\"#fb9f3a\"],[0.8888888888888888,\"#fdca26\"],[1.0,\"#f0f921\"]]}],\"choropleth\":[{\"type\":\"choropleth\",\"colorbar\":{\"outlinewidth\":0,\"ticks\":\"\"}}],\"histogram2d\":[{\"type\":\"histogram2d\",\"colorbar\":{\"outlinewidth\":0,\"ticks\":\"\"},\"colorscale\":[[0.0,\"#0d0887\"],[0.1111111111111111,\"#46039f\"],[0.2222222222222222,\"#7201a8\"],[0.3333333333333333,\"#9c179e\"],[0.4444444444444444,\"#bd3786\"],[0.5555555555555556,\"#d8576b\"],[0.6666666666666666,\"#ed7953\"],[0.7777777777777778,\"#fb9f3a\"],[0.8888888888888888,\"#fdca26\"],[1.0,\"#f0f921\"]]}],\"heatmap\":[{\"type\":\"heatmap\",\"colorbar\":{\"outlinewidth\":0,\"ticks\":\"\"},\"colorscale\":[[0.0,\"#0d0887\"],[0.1111111111111111,\"#46039f\"],[0.2222222222222222,\"#7201a8\"],[0.3333333333333333,\"#9c179e\"],[0.4444444444444444,\"#bd3786\"],[0.5555555555555556,\"#d8576b\"],[0.6666666666666666,\"#ed7953\"],[0.7777777777777778,\"#fb9f3a\"],[0.8888888888888888,\"#fdca26\"],[1.0,\"#f0f921\"]]}],\"heatmapgl\":[{\"type\":\"heatmapgl\",\"colorbar\":{\"outlinewidth\":0,\"ticks\":\"\"},\"colorscale\":[[0.0,\"#0d0887\"],[0.1111111111111111,\"#46039f\"],[0.2222222222222222,\"#7201a8\"],[0.3333333333333333,\"#9c179e\"],[0.4444444444444444,\"#bd3786\"],[0.5555555555555556,\"#d8576b\"],[0.6666666666666666,\"#ed7953\"],[0.7777777777777778,\"#fb9f3a\"],[0.8888888888888888,\"#fdca26\"],[1.0,\"#f0f921\"]]}],\"contourcarpet\":[{\"type\":\"contourcarpet\",\"colorbar\":{\"outlinewidth\":0,\"ticks\":\"\"}}],\"contour\":[{\"type\":\"contour\",\"colorbar\":{\"outlinewidth\":0,\"ticks\":\"\"},\"colorscale\":[[0.0,\"#0d0887\"],[0.1111111111111111,\"#46039f\"],[0.2222222222222222,\"#7201a8\"],[0.3333333333333333,\"#9c179e\"],[0.4444444444444444,\"#bd3786\"],[0.5555555555555556,\"#d8576b\"],[0.6666666666666666,\"#ed7953\"],[0.7777777777777778,\"#fb9f3a\"],[0.8888888888888888,\"#fdca26\"],[1.0,\"#f0f921\"]]}],\"surface\":[{\"type\":\"surface\",\"colorbar\":{\"outlinewidth\":0,\"ticks\":\"\"},\"colorscale\":[[0.0,\"#0d0887\"],[0.1111111111111111,\"#46039f\"],[0.2222222222222222,\"#7201a8\"],[0.3333333333333333,\"#9c179e\"],[0.4444444444444444,\"#bd3786\"],[0.5555555555555556,\"#d8576b\"],[0.6666666666666666,\"#ed7953\"],[0.7777777777777778,\"#fb9f3a\"],[0.8888888888888888,\"#fdca26\"],[1.0,\"#f0f921\"]]}],\"mesh3d\":[{\"type\":\"mesh3d\",\"colorbar\":{\"outlinewidth\":0,\"ticks\":\"\"}}],\"scatter\":[{\"fillpattern\":{\"fillmode\":\"overlay\",\"size\":10,\"solidity\":0.2},\"type\":\"scatter\"}],\"parcoords\":[{\"type\":\"parcoords\",\"line\":{\"colorbar\":{\"outlinewidth\":0,\"ticks\":\"\"}}}],\"scatterpolargl\":[{\"type\":\"scatterpolargl\",\"marker\":{\"colorbar\":{\"outlinewidth\":0,\"ticks\":\"\"}}}],\"bar\":[{\"error_x\":{\"color\":\"#2a3f5f\"},\"error_y\":{\"color\":\"#2a3f5f\"},\"marker\":{\"line\":{\"color\":\"#E5ECF6\",\"width\":0.5},\"pattern\":{\"fillmode\":\"overlay\",\"size\":10,\"solidity\":0.2}},\"type\":\"bar\"}],\"scattergeo\":[{\"type\":\"scattergeo\",\"marker\":{\"colorbar\":{\"outlinewidth\":0,\"ticks\":\"\"}}}],\"scatterpolar\":[{\"type\":\"scatterpolar\",\"marker\":{\"colorbar\":{\"outlinewidth\":0,\"ticks\":\"\"}}}],\"histogram\":[{\"marker\":{\"pattern\":{\"fillmode\":\"overlay\",\"size\":10,\"solidity\":0.2}},\"type\":\"histogram\"}],\"scattergl\":[{\"type\":\"scattergl\",\"marker\":{\"colorbar\":{\"outlinewidth\":0,\"ticks\":\"\"}}}],\"scatter3d\":[{\"type\":\"scatter3d\",\"line\":{\"colorbar\":{\"outlinewidth\":0,\"ticks\":\"\"}},\"marker\":{\"colorbar\":{\"outlinewidth\":0,\"ticks\":\"\"}}}],\"scattermapbox\":[{\"type\":\"scattermapbox\",\"marker\":{\"colorbar\":{\"outlinewidth\":0,\"ticks\":\"\"}}}],\"scatterternary\":[{\"type\":\"scatterternary\",\"marker\":{\"colorbar\":{\"outlinewidth\":0,\"ticks\":\"\"}}}],\"scattercarpet\":[{\"type\":\"scattercarpet\",\"marker\":{\"colorbar\":{\"outlinewidth\":0,\"ticks\":\"\"}}}],\"carpet\":[{\"aaxis\":{\"endlinecolor\":\"#2a3f5f\",\"gridcolor\":\"white\",\"linecolor\":\"white\",\"minorgridcolor\":\"white\",\"startlinecolor\":\"#2a3f5f\"},\"baxis\":{\"endlinecolor\":\"#2a3f5f\",\"gridcolor\":\"white\",\"linecolor\":\"white\",\"minorgridcolor\":\"white\",\"startlinecolor\":\"#2a3f5f\"},\"type\":\"carpet\"}],\"table\":[{\"cells\":{\"fill\":{\"color\":\"#EBF0F8\"},\"line\":{\"color\":\"white\"}},\"header\":{\"fill\":{\"color\":\"#C8D4E3\"},\"line\":{\"color\":\"white\"}},\"type\":\"table\"}],\"barpolar\":[{\"marker\":{\"line\":{\"color\":\"#E5ECF6\",\"width\":0.5},\"pattern\":{\"fillmode\":\"overlay\",\"size\":10,\"solidity\":0.2}},\"type\":\"barpolar\"}],\"pie\":[{\"automargin\":true,\"type\":\"pie\"}]},\"layout\":{\"autotypenumbers\":\"strict\",\"colorway\":[\"#636efa\",\"#EF553B\",\"#00cc96\",\"#ab63fa\",\"#FFA15A\",\"#19d3f3\",\"#FF6692\",\"#B6E880\",\"#FF97FF\",\"#FECB52\"],\"font\":{\"color\":\"#2a3f5f\"},\"hovermode\":\"closest\",\"hoverlabel\":{\"align\":\"left\"},\"paper_bgcolor\":\"white\",\"plot_bgcolor\":\"#E5ECF6\",\"polar\":{\"bgcolor\":\"#E5ECF6\",\"angularaxis\":{\"gridcolor\":\"white\",\"linecolor\":\"white\",\"ticks\":\"\"},\"radialaxis\":{\"gridcolor\":\"white\",\"linecolor\":\"white\",\"ticks\":\"\"}},\"ternary\":{\"bgcolor\":\"#E5ECF6\",\"aaxis\":{\"gridcolor\":\"white\",\"linecolor\":\"white\",\"ticks\":\"\"},\"baxis\":{\"gridcolor\":\"white\",\"linecolor\":\"white\",\"ticks\":\"\"},\"caxis\":{\"gridcolor\":\"white\",\"linecolor\":\"white\",\"ticks\":\"\"}},\"coloraxis\":{\"colorbar\":{\"outlinewidth\":0,\"ticks\":\"\"}},\"colorscale\":{\"sequential\":[[0.0,\"#0d0887\"],[0.1111111111111111,\"#46039f\"],[0.2222222222222222,\"#7201a8\"],[0.3333333333333333,\"#9c179e\"],[0.4444444444444444,\"#bd3786\"],[0.5555555555555556,\"#d8576b\"],[0.6666666666666666,\"#ed7953\"],[0.7777777777777778,\"#fb9f3a\"],[0.8888888888888888,\"#fdca26\"],[1.0,\"#f0f921\"]],\"sequentialminus\":[[0.0,\"#0d0887\"],[0.1111111111111111,\"#46039f\"],[0.2222222222222222,\"#7201a8\"],[0.3333333333333333,\"#9c179e\"],[0.4444444444444444,\"#bd3786\"],[0.5555555555555556,\"#d8576b\"],[0.6666666666666666,\"#ed7953\"],[0.7777777777777778,\"#fb9f3a\"],[0.8888888888888888,\"#fdca26\"],[1.0,\"#f0f921\"]],\"diverging\":[[0,\"#8e0152\"],[0.1,\"#c51b7d\"],[0.2,\"#de77ae\"],[0.3,\"#f1b6da\"],[0.4,\"#fde0ef\"],[0.5,\"#f7f7f7\"],[0.6,\"#e6f5d0\"],[0.7,\"#b8e186\"],[0.8,\"#7fbc41\"],[0.9,\"#4d9221\"],[1,\"#276419\"]]},\"xaxis\":{\"gridcolor\":\"white\",\"linecolor\":\"white\",\"ticks\":\"\",\"title\":{\"standoff\":15},\"zerolinecolor\":\"white\",\"automargin\":true,\"zerolinewidth\":2},\"yaxis\":{\"gridcolor\":\"white\",\"linecolor\":\"white\",\"ticks\":\"\",\"title\":{\"standoff\":15},\"zerolinecolor\":\"white\",\"automargin\":true,\"zerolinewidth\":2},\"scene\":{\"xaxis\":{\"backgroundcolor\":\"#E5ECF6\",\"gridcolor\":\"white\",\"linecolor\":\"white\",\"showbackground\":true,\"ticks\":\"\",\"zerolinecolor\":\"white\",\"gridwidth\":2},\"yaxis\":{\"backgroundcolor\":\"#E5ECF6\",\"gridcolor\":\"white\",\"linecolor\":\"white\",\"showbackground\":true,\"ticks\":\"\",\"zerolinecolor\":\"white\",\"gridwidth\":2},\"zaxis\":{\"backgroundcolor\":\"#E5ECF6\",\"gridcolor\":\"white\",\"linecolor\":\"white\",\"showbackground\":true,\"ticks\":\"\",\"zerolinecolor\":\"white\",\"gridwidth\":2}},\"shapedefaults\":{\"line\":{\"color\":\"#2a3f5f\"}},\"annotationdefaults\":{\"arrowcolor\":\"#2a3f5f\",\"arrowhead\":0,\"arrowwidth\":1},\"geo\":{\"bgcolor\":\"white\",\"landcolor\":\"#E5ECF6\",\"subunitcolor\":\"white\",\"showland\":true,\"showlakes\":true,\"lakecolor\":\"white\"},\"title\":{\"x\":0.05},\"mapbox\":{\"style\":\"light\"}}},\"xaxis\":{\"anchor\":\"y\",\"domain\":[0.0,1.0],\"title\":{\"text\":\"Continente\"},\"categoryorder\":\"array\",\"categoryarray\":[\"Asia\",\"South America\",\"North America\",\"Europe\",\"Africa\",\"Oceania\"]},\"yaxis\":{\"anchor\":\"x\",\"domain\":[0.0,1.0],\"title\":{\"text\":\"Quantidade de Eventos\"}},\"legend\":{\"title\":{\"text\":\"Continente\"},\"tracegroupgap\":0},\"title\":{\"text\":\"Frequ\\u00eancia de Terremotos Maiores que 5.3 por Continente\"},\"barmode\":\"relative\"},                        {\"responsive\": true}                    ).then(function(){\n",
       "                            \n",
       "var gd = document.getElementById('2ec8bbdd-a1d0-4dc3-b3b4-a447a2df40e3');\n",
       "var x = new MutationObserver(function (mutations, observer) {{\n",
       "        var display = window.getComputedStyle(gd).display;\n",
       "        if (!display || display === 'none') {{\n",
       "            console.log([gd, 'removed!']);\n",
       "            Plotly.purge(gd);\n",
       "            observer.disconnect();\n",
       "        }}\n",
       "}});\n",
       "\n",
       "// Listen for the removal of the full notebook cells\n",
       "var notebookContainer = gd.closest('#notebook-container');\n",
       "if (notebookContainer) {{\n",
       "    x.observe(notebookContainer, {childList: true});\n",
       "}}\n",
       "\n",
       "// Listen for the clearing of the current output cell\n",
       "var outputEl = gd.closest('.output');\n",
       "if (outputEl) {{\n",
       "    x.observe(outputEl, {childList: true});\n",
       "}}\n",
       "\n",
       "                        })                };                });            </script>        </div>"
      ]
     },
     "metadata": {},
     "output_type": "display_data"
    }
   ],
   "source": [
    "frequencia_por_continente = maiores_terremotos['continent'].value_counts().reset_index()\n",
    "frequencia_por_continente.columns = ['continentes', 'frequencia'] \n",
    "\n",
    "fig_mnaiores_continentes = px.bar(\n",
    "    frequencia_por_continente,\n",
    "    x='continentes',\n",
    "    y='frequencia',\n",
    "    labels={\n",
    "        'continentes': 'Continente',\n",
    "        'frequencia': 'Quantidade de Eventos'\n",
    "    },\n",
    "    title='Frequência de Terremotos Maiores que 5.3 por Continente',\n",
    "    text='frequencia',\n",
    "    color='continentes'\n",
    ")\n",
    "\n",
    "fig_mnaiores_continentes.show()"
   ]
  },
  {
   "cell_type": "code",
   "execution_count": 321,
   "id": "bdc7991b-86fe-45fd-92b5-037f80e73b5e",
   "metadata": {},
   "outputs": [
    {
     "data": {
      "application/vnd.plotly.v1+json": {
       "config": {
        "plotlyServerURL": "https://plot.ly"
       },
       "data": [
        {
         "hovertemplate": "<b>%{hovertext}</b><br><br>continent=North America<br>Magnitude sentida segundo relatos=%{x}<br>Magnitude=%{marker.size}<extra></extra>",
         "hovertext": [
          "North America",
          "North America",
          "North America",
          "North America",
          "North America",
          "North America",
          "North America",
          "North America",
          "North America",
          "North America",
          "North America",
          "North America",
          "North America",
          "North America",
          "North America",
          "North America",
          "North America",
          "North America",
          "North America",
          "North America",
          "North America",
          "North America",
          "North America",
          "North America",
          "North America",
          "North America",
          "North America",
          "North America",
          "North America",
          "North America",
          "North America",
          "North America",
          "North America",
          "North America",
          "North America",
          "North America",
          "North America",
          "North America",
          "North America",
          "North America",
          "North America",
          "North America",
          "North America",
          "North America",
          "North America",
          "North America",
          "North America",
          "North America",
          "North America",
          "North America",
          "North America",
          "North America",
          "North America",
          "North America",
          "North America",
          "North America",
          "North America",
          "North America",
          "North America",
          "North America",
          "North America",
          "North America",
          "North America",
          "North America",
          "North America",
          "North America",
          "North America",
          "North America",
          "North America",
          "North America",
          "North America",
          "North America",
          "North America",
          "North America",
          "North America",
          "North America",
          "North America",
          "North America",
          "North America",
          "North America",
          "North America",
          "North America",
          "North America",
          "North America",
          "North America",
          "North America",
          "North America",
          "North America",
          "North America",
          "North America",
          "North America",
          "North America",
          "North America",
          "North America",
          "North America",
          "North America",
          "North America",
          "North America",
          "North America",
          "North America",
          "North America",
          "North America",
          "North America",
          "North America",
          "North America",
          "North America",
          "North America",
          "North America",
          "North America",
          "North America",
          "North America",
          "North America",
          "North America",
          "North America",
          "North America",
          "North America",
          "North America",
          "North America",
          "North America",
          "North America",
          "North America",
          "North America",
          "North America",
          "North America",
          "North America",
          "North America",
          "North America",
          "North America",
          "North America",
          "North America",
          "North America",
          "North America",
          "North America",
          "North America",
          "North America",
          "North America",
          "North America",
          "North America",
          "North America",
          "North America",
          "North America",
          "North America",
          "North America",
          "North America",
          "North America",
          "North America",
          "North America",
          "North America",
          "North America",
          "North America",
          "North America",
          "North America",
          "North America",
          "North America",
          "North America",
          "North America",
          "North America",
          "North America",
          "North America",
          "North America",
          "North America",
          "North America",
          "North America",
          "North America",
          "North America",
          "North America",
          "North America",
          "North America",
          "North America",
          "North America",
          "North America",
          "North America",
          "North America",
          "North America",
          "North America",
          "North America",
          "North America",
          "North America",
          "North America",
          "North America",
          "North America",
          "North America",
          "North America",
          "North America",
          "North America",
          "North America",
          "North America",
          "North America",
          "North America",
          "North America",
          "North America",
          "North America",
          "North America",
          "North America",
          "North America",
          "North America",
          "North America",
          "North America",
          "North America",
          "North America",
          "North America",
          "North America",
          "North America",
          "North America",
          "North America",
          "North America",
          "North America",
          "North America",
          "North America",
          "North America",
          "North America",
          "North America",
          "North America",
          "North America",
          "North America",
          "North America",
          "North America",
          "North America",
          "North America",
          "North America",
          "North America",
          "North America",
          "North America",
          "North America",
          "North America",
          "North America",
          "North America",
          "North America",
          "North America",
          "North America",
          "North America",
          "North America",
          "North America",
          "North America",
          "North America",
          "North America",
          "North America",
          "North America",
          "North America",
          "North America",
          "North America",
          "North America",
          "North America",
          "North America",
          "North America",
          "North America",
          "North America",
          "North America",
          "North America",
          "North America",
          "North America",
          "North America",
          "North America",
          "North America",
          "North America",
          "North America",
          "North America",
          "North America",
          "North America",
          "North America",
          "North America",
          "North America",
          "North America",
          "North America",
          "North America",
          "North America",
          "North America",
          "North America",
          "North America",
          "North America",
          "North America",
          "North America",
          "North America",
          "North America",
          "North America",
          "North America",
          "North America",
          "North America",
          "North America",
          "North America",
          "North America",
          "North America",
          "North America",
          "North America",
          "North America",
          "North America",
          "North America",
          "North America",
          "North America",
          "North America",
          "North America",
          "North America",
          "North America",
          "North America",
          "North America",
          "North America",
          "North America",
          "North America",
          "North America",
          "North America",
          "North America",
          "North America",
          "North America",
          "North America",
          "North America",
          "North America",
          "North America",
          "North America",
          "North America",
          "North America",
          "North America",
          "North America",
          "North America",
          "North America",
          "North America",
          "North America",
          "North America",
          "North America",
          "North America",
          "North America",
          "North America",
          "North America",
          "North America",
          "North America",
          "North America",
          "North America",
          "North America",
          "North America",
          "North America",
          "North America",
          "North America",
          "North America",
          "North America",
          "North America",
          "North America",
          "North America",
          "North America",
          "North America",
          "North America",
          "North America",
          "North America",
          "North America",
          "North America",
          "North America",
          "North America",
          "North America",
          "North America",
          "North America",
          "North America",
          "North America",
          "North America",
          "North America",
          "North America",
          "North America",
          "North America",
          "North America",
          "North America",
          "North America",
          "North America",
          "North America",
          "North America",
          "North America",
          "North America",
          "North America",
          "North America",
          "North America",
          "North America",
          "North America",
          "North America",
          "North America",
          "North America",
          "North America",
          "North America",
          "North America",
          "North America",
          "North America",
          "North America",
          "North America",
          "North America",
          "North America",
          "North America",
          "North America",
          "North America",
          "North America",
          "North America",
          "North America",
          "North America",
          "North America",
          "North America",
          "North America",
          "North America",
          "North America",
          "North America",
          "North America",
          "North America",
          "North America",
          "North America",
          "North America",
          "North America",
          "North America",
          "North America",
          "North America",
          "North America",
          "North America",
          "North America",
          "North America",
          "North America",
          "North America",
          "North America",
          "North America",
          "North America",
          "North America",
          "North America",
          "North America",
          "North America",
          "North America",
          "North America",
          "North America",
          "North America",
          "North America",
          "North America",
          "North America",
          "North America",
          "North America",
          "North America",
          "North America",
          "North America",
          "North America",
          "North America",
          "North America",
          "North America",
          "North America",
          "North America",
          "North America",
          "North America",
          "North America",
          "North America",
          "North America",
          "North America",
          "North America",
          "North America",
          "North America",
          "North America",
          "North America",
          "North America",
          "North America"
         ],
         "legendgroup": "North America",
         "marker": {
          "color": "#636efa",
          "size": [
           4.8,
           5.1,
           3.7,
           3.9,
           4.1,
           3.23,
           3.43,
           3.44,
           4.69,
           3.5,
           3.8,
           3.3,
           3.8,
           3.9,
           3.35,
           3.94,
           3.45,
           3.09,
           4.28,
           3.47,
           3.32,
           3.1,
           3.1,
           3,
           3.46,
           3.4,
           3.5,
           3.4,
           3.6,
           3.6,
           3.3,
           3.9,
           3.31,
           3.9,
           3.4,
           3.3,
           3.2,
           3.3,
           4.3,
           4.3,
           3.3,
           3,
           3.9,
           4.2,
           3.8,
           3.29,
           3.61,
           4.4,
           4.1,
           4.39,
           3.66,
           3.6,
           3.6,
           4.44,
           3.78,
           3.64,
           3.5,
           3.44,
           3.58,
           4.06,
           3.22,
           3.6,
           4.6,
           5.22,
           3.3,
           3.4,
           3.5,
           3.51,
           4.89,
           4.47,
           4.5,
           3.45,
           3.4,
           4,
           4.2,
           3.56,
           3.48,
           3.5,
           3.01,
           3.48,
           3.3,
           3.2,
           3.44,
           3.9,
           3.8,
           3.8,
           3.5,
           3.5,
           3.7,
           3.8,
           3.01,
           3.5,
           4.1,
           4.2,
           3.9,
           3.6,
           4.5,
           6.5,
           4.3,
           3.9,
           4,
           3.9,
           3.5,
           3.9,
           4.3,
           3.5,
           3.1,
           3.4,
           4.6,
           3.7,
           4.8,
           3.9,
           3.1,
           3.8,
           3.3,
           3.6,
           3.7,
           3.5,
           3.6,
           3.7,
           3.5,
           3.1,
           3.8,
           4.6,
           5.1,
           4.8,
           5.2,
           4.5,
           3.5,
           3.9,
           3.7,
           4.2,
           3.6,
           3.7,
           3.6,
           4.8,
           5.1,
           3.9,
           4.1,
           3.8,
           3.3,
           3.8,
           3.9,
           3.4,
           3.6,
           3.6,
           3.3,
           3.9,
           3.9,
           4.2,
           3.8,
           3.6,
           3.6,
           3.6,
           3.6,
           5.4,
           3.3,
           3.4,
           3.5,
           3.6,
           3.8,
           4.1,
           4.5,
           4.8,
           5.1,
           4.1,
           4,
           3.4,
           4.4,
           4.9,
           4,
           4.2,
           6.2,
           3.7,
           3.6,
           3.5,
           3.5,
           3.7,
           3.8,
           3.3,
           3.4,
           3.7,
           3.9,
           3.7,
           3.5,
           4.1,
           3.8,
           3.9,
           3.4,
           6.4,
           3.8,
           3.5,
           3.5,
           3.3,
           3.5,
           3.2,
           3.5,
           3.8,
           3.6,
           3.9,
           5.4,
           5.6,
           5.5,
           3.3,
           4.4,
           5,
           3.2,
           3.4,
           5.6,
           5.6,
           3.5,
           3.8,
           3.3,
           3.3,
           3.5,
           3.9,
           3.8,
           3.5,
           3.5,
           4,
           3.3,
           3.6,
           3.7,
           3.7,
           3.7,
           4.7,
           4.7,
           4.3,
           4.4,
           3.9,
           3.9,
           3.9,
           3.9,
           3.5,
           4.2,
           3.7,
           6.5,
           3.9,
           4.1,
           3.23,
           3.43,
           3.44,
           4.69,
           3.5,
           3.8,
           3.3,
           3.8,
           3.9,
           3.35,
           3.94,
           3.45,
           3.09,
           4.28,
           3.47,
           3.32,
           3.1,
           3.1,
           3,
           3.46,
           3.4,
           3.5,
           3.6,
           3.3,
           3.9,
           3.31,
           3.9,
           3.4,
           3.3,
           3.2,
           3.3,
           4.3,
           4.3,
           3.3,
           3,
           3.9,
           4.2,
           3.29,
           3.61,
           4.4,
           4.1,
           4.39,
           3.66,
           4.44,
           3.78,
           3.64,
           3.5,
           3.44,
           3.58,
           4.06,
           3.22,
           3.6,
           4.6,
           5.22,
           3.3,
           3.4,
           3.5,
           3.51,
           4.89,
           4.47,
           3.45,
           3.4,
           4,
           4.2,
           3.56,
           3.48,
           3.5,
           3.01,
           3.48,
           3.3,
           3.2,
           3.44,
           3.9,
           3.8,
           3.8,
           3.5,
           3.5,
           3.7,
           3.8,
           3.01,
           3.5,
           4.1,
           3.86,
           3.24,
           3.44,
           4.09,
           3.59,
           4.8,
           5.1,
           3.9,
           4.1,
           3.8,
           3.3,
           3.8,
           3.9,
           3.4,
           3.6,
           3.6,
           3.3,
           3.9,
           3.9,
           4.2,
           3.8,
           3.6,
           3.6,
           3.6,
           3.6,
           3.17,
           5.4,
           3.3,
           3.4,
           3.5,
           3.6,
           3.8,
           4.1,
           4.5,
           4.8,
           5.1,
           4.1,
           4,
           3.4,
           4.4,
           4.9,
           4,
           4.2,
           3.7,
           3.6,
           3.56,
           3.46,
           3.44,
           3.5,
           3.5,
           3.7,
           3.8,
           3.3,
           3.4,
           3.7,
           3.9,
           3.7,
           3.5,
           4.1,
           3.8,
           3.9,
           3.4,
           3.8,
           3.8,
           3.5,
           3.5,
           3.3,
           3.5,
           3.2,
           3.5,
           3.8,
           3.6,
           3.9,
           5.4,
           5.6,
           3.3,
           4.4,
           3.2,
           3.4,
           3.5,
           3.8,
           3.3,
           3.3,
           3.5,
           3.9,
           3.5,
           3.5,
           4,
           3.3,
           3.6,
           3.7,
           3.7,
           3.7,
           4.7,
           4.7,
           4.3,
           4.4,
           3.9,
           3.9,
           3.9,
           3.5,
           3.8,
           3.7,
           4,
           5.06,
           3.8,
           3.17,
           3.56,
           3.46,
           3.8,
           3.7,
           4.8,
           5.06,
           5.1,
           3.6,
           4.1,
           4.5,
           4.26,
           3.4,
           3.8,
           3.5,
           3.6,
           4,
           3.68,
           3.6
          ],
          "sizemode": "area",
          "sizeref": 0.019,
          "symbol": "circle"
         },
         "mode": "markers",
         "name": "North America",
         "showlegend": true,
         "type": "scattergl",
         "x": [
          6,
          6,
          4,
          3,
          3,
          4,
          4,
          4,
          5,
          0,
          3,
          3,
          3,
          3,
          4,
          5,
          4,
          4,
          5,
          3,
          3,
          0,
          0,
          0,
          3,
          3,
          3,
          0,
          0,
          0,
          0,
          0,
          3,
          3,
          0,
          0,
          0,
          2,
          4,
          4,
          3,
          2,
          3,
          1,
          5,
          3,
          4,
          4,
          4,
          5,
          5,
          2,
          3,
          4,
          5,
          4,
          2,
          5,
          5,
          5,
          2,
          2,
          4,
          7,
          0,
          0,
          0,
          6,
          6,
          6,
          7,
          3,
          0,
          4,
          5,
          4,
          0,
          4,
          4,
          3,
          0,
          2,
          3,
          3,
          0,
          4,
          0,
          0,
          0,
          0,
          4,
          0,
          3,
          0,
          0,
          0,
          3,
          5,
          3,
          0,
          0,
          2,
          4,
          0,
          0,
          2,
          3,
          0,
          6,
          3,
          3,
          0,
          2,
          3,
          3,
          1,
          3,
          0,
          0,
          0,
          0,
          2,
          3,
          4,
          0,
          3,
          3,
          4,
          0,
          3,
          0,
          0,
          0,
          0,
          3,
          6,
          6,
          3,
          3,
          3,
          3,
          3,
          3,
          0,
          0,
          0,
          0,
          0,
          3,
          1,
          5,
          4,
          5,
          2,
          3,
          5,
          0,
          0,
          0,
          2,
          3,
          6,
          7,
          6,
          6,
          4,
          4,
          0,
          5,
          6,
          4,
          5,
          4,
          0,
          4,
          0,
          0,
          0,
          0,
          2,
          0,
          2,
          0,
          0,
          1,
          5,
          5,
          2,
          0,
          7,
          3,
          0,
          2,
          0,
          0,
          0,
          0,
          0,
          0,
          0,
          1,
          3,
          4,
          3,
          6,
          0,
          0,
          0,
          4,
          4,
          0,
          4,
          0,
          0,
          0,
          3,
          3,
          6,
          5,
          4,
          0,
          0,
          5,
          2,
          3,
          5,
          5,
          5,
          5,
          5,
          4,
          0,
          2,
          3,
          0,
          4,
          5,
          3,
          3,
          4,
          4,
          4,
          5,
          0,
          3,
          3,
          3,
          3,
          4,
          5,
          4,
          4,
          5,
          3,
          3,
          0,
          0,
          0,
          3,
          3,
          3,
          0,
          0,
          0,
          3,
          3,
          0,
          0,
          0,
          2,
          4,
          4,
          3,
          2,
          3,
          1,
          3,
          4,
          4,
          4,
          5,
          5,
          4,
          5,
          4,
          2,
          5,
          5,
          5,
          2,
          2,
          4,
          7,
          0,
          0,
          0,
          6,
          6,
          6,
          3,
          0,
          4,
          5,
          4,
          0,
          4,
          4,
          3,
          0,
          2,
          3,
          3,
          0,
          4,
          0,
          0,
          0,
          0,
          4,
          0,
          3,
          3,
          3,
          5,
          7,
          3,
          6,
          6,
          3,
          3,
          3,
          3,
          3,
          3,
          0,
          0,
          0,
          0,
          0,
          3,
          1,
          5,
          4,
          5,
          2,
          3,
          5,
          5,
          0,
          0,
          0,
          2,
          3,
          6,
          7,
          6,
          6,
          4,
          4,
          0,
          5,
          6,
          4,
          5,
          0,
          4,
          4,
          4,
          3,
          0,
          0,
          0,
          0,
          2,
          0,
          2,
          0,
          0,
          1,
          5,
          5,
          2,
          0,
          6,
          3,
          0,
          2,
          0,
          0,
          0,
          0,
          0,
          0,
          0,
          1,
          3,
          3,
          6,
          0,
          0,
          0,
          4,
          0,
          0,
          0,
          3,
          6,
          5,
          4,
          0,
          0,
          5,
          2,
          3,
          5,
          5,
          5,
          5,
          5,
          4,
          2,
          3,
          4,
          4,
          5,
          7,
          5,
          5,
          4,
          4,
          6,
          5,
          6,
          7,
          6,
          4,
          5,
          5,
          5,
          4,
          5,
          5,
          5,
          6,
          5,
          5
         ],
         "xaxis": "x",
         "y": [
          4.8,
          5.1,
          3.7,
          3.9,
          4.1,
          3.23,
          3.43,
          3.44,
          4.69,
          3.5,
          3.8,
          3.3,
          3.8,
          3.9,
          3.35,
          3.94,
          3.45,
          3.09,
          4.28,
          3.47,
          3.32,
          3.1,
          3.1,
          3,
          3.46,
          3.4,
          3.5,
          3.4,
          3.6,
          3.6,
          3.3,
          3.9,
          3.31,
          3.9,
          3.4,
          3.3,
          3.2,
          3.3,
          4.3,
          4.3,
          3.3,
          3,
          3.9,
          4.2,
          3.8,
          3.29,
          3.61,
          4.4,
          4.1,
          4.39,
          3.66,
          3.6,
          3.6,
          4.44,
          3.78,
          3.64,
          3.5,
          3.44,
          3.58,
          4.06,
          3.22,
          3.6,
          4.6,
          5.22,
          3.3,
          3.4,
          3.5,
          3.51,
          4.89,
          4.47,
          4.5,
          3.45,
          3.4,
          4,
          4.2,
          3.56,
          3.48,
          3.5,
          3.01,
          3.48,
          3.3,
          3.2,
          3.44,
          3.9,
          3.8,
          3.8,
          3.5,
          3.5,
          3.7,
          3.8,
          3.01,
          3.5,
          4.1,
          4.2,
          3.9,
          3.6,
          4.5,
          6.5,
          4.3,
          3.9,
          4,
          3.9,
          3.5,
          3.9,
          4.3,
          3.5,
          3.1,
          3.4,
          4.6,
          3.7,
          4.8,
          3.9,
          3.1,
          3.8,
          3.3,
          3.6,
          3.7,
          3.5,
          3.6,
          3.7,
          3.5,
          3.1,
          3.8,
          4.6,
          5.1,
          4.8,
          5.2,
          4.5,
          3.5,
          3.9,
          3.7,
          4.2,
          3.6,
          3.7,
          3.6,
          4.8,
          5.1,
          3.9,
          4.1,
          3.8,
          3.3,
          3.8,
          3.9,
          3.4,
          3.6,
          3.6,
          3.3,
          3.9,
          3.9,
          4.2,
          3.8,
          3.6,
          3.6,
          3.6,
          3.6,
          5.4,
          3.3,
          3.4,
          3.5,
          3.6,
          3.8,
          4.1,
          4.5,
          4.8,
          5.1,
          4.1,
          4,
          3.4,
          4.4,
          4.9,
          4,
          4.2,
          6.2,
          3.7,
          3.6,
          3.5,
          3.5,
          3.7,
          3.8,
          3.3,
          3.4,
          3.7,
          3.9,
          3.7,
          3.5,
          4.1,
          3.8,
          3.9,
          3.4,
          6.4,
          3.8,
          3.5,
          3.5,
          3.3,
          3.5,
          3.2,
          3.5,
          3.8,
          3.6,
          3.9,
          5.4,
          5.6,
          5.5,
          3.3,
          4.4,
          5,
          3.2,
          3.4,
          5.6,
          5.6,
          3.5,
          3.8,
          3.3,
          3.3,
          3.5,
          3.9,
          3.8,
          3.5,
          3.5,
          4,
          3.3,
          3.6,
          3.7,
          3.7,
          3.7,
          4.7,
          4.7,
          4.3,
          4.4,
          3.9,
          3.9,
          3.9,
          3.9,
          3.5,
          4.2,
          3.7,
          6.5,
          3.9,
          4.1,
          3.23,
          3.43,
          3.44,
          4.69,
          3.5,
          3.8,
          3.3,
          3.8,
          3.9,
          3.35,
          3.94,
          3.45,
          3.09,
          4.28,
          3.47,
          3.32,
          3.1,
          3.1,
          3,
          3.46,
          3.4,
          3.5,
          3.6,
          3.3,
          3.9,
          3.31,
          3.9,
          3.4,
          3.3,
          3.2,
          3.3,
          4.3,
          4.3,
          3.3,
          3,
          3.9,
          4.2,
          3.29,
          3.61,
          4.4,
          4.1,
          4.39,
          3.66,
          4.44,
          3.78,
          3.64,
          3.5,
          3.44,
          3.58,
          4.06,
          3.22,
          3.6,
          4.6,
          5.22,
          3.3,
          3.4,
          3.5,
          3.51,
          4.89,
          4.47,
          3.45,
          3.4,
          4,
          4.2,
          3.56,
          3.48,
          3.5,
          3.01,
          3.48,
          3.3,
          3.2,
          3.44,
          3.9,
          3.8,
          3.8,
          3.5,
          3.5,
          3.7,
          3.8,
          3.01,
          3.5,
          4.1,
          3.86,
          3.24,
          3.44,
          4.09,
          3.59,
          4.8,
          5.1,
          3.9,
          4.1,
          3.8,
          3.3,
          3.8,
          3.9,
          3.4,
          3.6,
          3.6,
          3.3,
          3.9,
          3.9,
          4.2,
          3.8,
          3.6,
          3.6,
          3.6,
          3.6,
          3.17,
          5.4,
          3.3,
          3.4,
          3.5,
          3.6,
          3.8,
          4.1,
          4.5,
          4.8,
          5.1,
          4.1,
          4,
          3.4,
          4.4,
          4.9,
          4,
          4.2,
          3.7,
          3.6,
          3.56,
          3.46,
          3.44,
          3.5,
          3.5,
          3.7,
          3.8,
          3.3,
          3.4,
          3.7,
          3.9,
          3.7,
          3.5,
          4.1,
          3.8,
          3.9,
          3.4,
          3.8,
          3.8,
          3.5,
          3.5,
          3.3,
          3.5,
          3.2,
          3.5,
          3.8,
          3.6,
          3.9,
          5.4,
          5.6,
          3.3,
          4.4,
          3.2,
          3.4,
          3.5,
          3.8,
          3.3,
          3.3,
          3.5,
          3.9,
          3.5,
          3.5,
          4,
          3.3,
          3.6,
          3.7,
          3.7,
          3.7,
          4.7,
          4.7,
          4.3,
          4.4,
          3.9,
          3.9,
          3.9,
          3.5,
          3.8,
          3.7,
          4,
          5.06,
          3.8,
          3.17,
          3.56,
          3.46,
          3.8,
          3.7,
          4.8,
          5.06,
          5.1,
          3.6,
          4.1,
          4.5,
          4.26,
          3.4,
          3.8,
          3.5,
          3.6,
          4,
          3.68,
          3.6
         ],
         "yaxis": "y"
        },
        {
         "hovertemplate": "<b>%{hovertext}</b><br><br>continent=Asia<br>Magnitude sentida segundo relatos=%{x}<br>Magnitude=%{marker.size}<extra></extra>",
         "hovertext": [
          "Asia",
          "Asia",
          "Asia",
          "Asia",
          "Asia",
          "Asia",
          "Asia",
          "Asia",
          "Asia",
          "Asia",
          "Asia",
          "Asia",
          "Asia",
          "Asia",
          "Asia",
          "Asia",
          "Asia",
          "Asia",
          "Asia",
          "Asia",
          "Asia",
          "Asia",
          "Asia",
          "Asia",
          "Asia",
          "Asia",
          "Asia",
          "Asia",
          "Asia",
          "Asia",
          "Asia",
          "Asia",
          "Asia",
          "Asia",
          "Asia",
          "Asia",
          "Asia",
          "Asia",
          "Asia",
          "Asia",
          "Asia",
          "Asia",
          "Asia",
          "Asia",
          "Asia",
          "Asia",
          "Asia",
          "Asia",
          "Asia",
          "Asia",
          "Asia",
          "Asia",
          "Asia",
          "Asia",
          "Asia",
          "Asia",
          "Asia",
          "Asia",
          "Asia",
          "Asia",
          "Asia",
          "Asia",
          "Asia",
          "Asia",
          "Asia",
          "Asia",
          "Asia",
          "Asia",
          "Asia",
          "Asia",
          "Asia",
          "Asia",
          "Asia",
          "Asia",
          "Asia",
          "Asia",
          "Asia",
          "Asia",
          "Asia",
          "Asia",
          "Asia",
          "Asia",
          "Asia",
          "Asia",
          "Asia",
          "Asia",
          "Asia",
          "Asia",
          "Asia",
          "Asia",
          "Asia",
          "Asia",
          "Asia",
          "Asia",
          "Asia",
          "Asia",
          "Asia",
          "Asia",
          "Asia",
          "Asia",
          "Asia",
          "Asia",
          "Asia",
          "Asia",
          "Asia",
          "Asia",
          "Asia",
          "Asia",
          "Asia",
          "Asia",
          "Asia",
          "Asia",
          "Asia",
          "Asia",
          "Asia",
          "Asia",
          "Asia",
          "Asia",
          "Asia",
          "Asia",
          "Asia",
          "Asia",
          "Asia",
          "Asia",
          "Asia",
          "Asia",
          "Asia",
          "Asia",
          "Asia",
          "Asia",
          "Asia",
          "Asia",
          "Asia",
          "Asia",
          "Asia",
          "Asia",
          "Asia",
          "Asia",
          "Asia",
          "Asia",
          "Asia",
          "Asia",
          "Asia",
          "Asia",
          "Asia",
          "Asia",
          "Asia",
          "Asia",
          "Asia",
          "Asia",
          "Asia",
          "Asia",
          "Asia",
          "Asia",
          "Asia",
          "Asia",
          "Asia",
          "Asia",
          "Asia",
          "Asia",
          "Asia",
          "Asia",
          "Asia",
          "Asia",
          "Asia",
          "Asia",
          "Asia",
          "Asia",
          "Asia",
          "Asia",
          "Asia",
          "Asia",
          "Asia",
          "Asia",
          "Asia",
          "Asia",
          "Asia",
          "Asia",
          "Asia",
          "Asia",
          "Asia",
          "Asia",
          "Asia",
          "Asia",
          "Asia",
          "Asia",
          "Asia",
          "Asia",
          "Asia",
          "Asia",
          "Asia",
          "Asia",
          "Asia",
          "Asia",
          "Asia",
          "Asia",
          "Asia",
          "Asia",
          "Asia",
          "Asia",
          "Asia",
          "Asia",
          "Asia",
          "Asia",
          "Asia",
          "Asia",
          "Asia",
          "Asia",
          "Asia",
          "Asia",
          "Asia",
          "Asia",
          "Asia",
          "Asia",
          "Asia",
          "Asia",
          "Asia",
          "Asia",
          "Asia",
          "Asia",
          "Asia",
          "Asia",
          "Asia",
          "Asia",
          "Asia",
          "Asia",
          "Asia",
          "Asia",
          "Asia",
          "Asia",
          "Asia",
          "Asia",
          "Asia",
          "Asia",
          "Asia",
          "Asia",
          "Asia",
          "Asia",
          "Asia",
          "Asia",
          "Asia",
          "Asia",
          "Asia",
          "Asia",
          "Asia",
          "Asia",
          "Asia",
          "Asia",
          "Asia",
          "Asia",
          "Asia",
          "Asia",
          "Asia",
          "Asia",
          "Asia",
          "Asia",
          "Asia",
          "Asia",
          "Asia",
          "Asia",
          "Asia",
          "Asia",
          "Asia",
          "Asia",
          "Asia",
          "Asia",
          "Asia",
          "Asia",
          "Asia",
          "Asia",
          "Asia",
          "Asia",
          "Asia",
          "Asia",
          "Asia",
          "Asia",
          "Asia",
          "Asia",
          "Asia",
          "Asia",
          "Asia",
          "Asia",
          "Asia",
          "Asia",
          "Asia",
          "Asia",
          "Asia",
          "Asia",
          "Asia",
          "Asia",
          "Asia",
          "Asia",
          "Asia",
          "Asia",
          "Asia",
          "Asia",
          "Asia",
          "Asia",
          "Asia",
          "Asia",
          "Asia",
          "Asia",
          "Asia",
          "Asia",
          "Asia",
          "Asia",
          "Asia",
          "Asia",
          "Asia",
          "Asia",
          "Asia",
          "Asia",
          "Asia",
          "Asia",
          "Asia",
          "Asia",
          "Asia",
          "Asia",
          "Asia",
          "Asia",
          "Asia",
          "Asia",
          "Asia",
          "Asia",
          "Asia",
          "Asia",
          "Asia",
          "Asia",
          "Asia",
          "Asia",
          "Asia",
          "Asia",
          "Asia"
         ],
         "legendgroup": "Asia",
         "marker": {
          "color": "#00cc96",
          "size": [
           5.4,
           5.4,
           5.9,
           5.4,
           5.1,
           5.5,
           5.4,
           5.7,
           5.6,
           5.4,
           5.4,
           5.7,
           5.3,
           5.1,
           5.5,
           5.4,
           5.8,
           7,
           6.4,
           5.1,
           5.5,
           5.2,
           5.7,
           5.3,
           5.7,
           5.4,
           5.2,
           5.7,
           4.9,
           5.3,
           5.8,
           6.1,
           5.4,
           5.3,
           7.1,
           5.7,
           5.8,
           5.2,
           5.6,
           5.2,
           5.7,
           5.8,
           5.4,
           5.4,
           5.5,
           6.1,
           6.1,
           5.8,
           5.6,
           5,
           6.3,
           5.9,
           5.4,
           6.1,
           5.7,
           5.7,
           5.3,
           5.6,
           5.3,
           5.6,
           6.4,
           7.4,
           5.9,
           5.6,
           5.6,
           5.9,
           5.4,
           5.6,
           5.5,
           5.6,
           6.2,
           7.5,
           5.8,
           6.5,
           5.8,
           5.8,
           5.6,
           5.1,
           5.1,
           5.5,
           5.7,
           6.1,
           6.4,
           5.6,
           5.2,
           5.6,
           5.6,
           5.4,
           4.8,
           5.2,
           5.5,
           5.3,
           5.4,
           5.3,
           5.5,
           5.1,
           6.4,
           5.4,
           4.8,
           5.3,
           5,
           5.5,
           5.4,
           6.3,
           6.3,
           5.9,
           6.3,
           5.4,
           6.3,
           5.2,
           5.8,
           5.3,
           5.4,
           5.3,
           7.1,
           5.7,
           5.8,
           6.3,
           5.9,
           5.4,
           6.1,
           5.7,
           5.9,
           5.6,
           5.6,
           5.9,
           5.4,
           5.6,
           5.5,
           5.6,
           6.2,
           7.5,
           5.8,
           6.5,
           5.8,
           5.8,
           5.6,
           5.5,
           5.4,
           5.7,
           5,
           6.8,
           5.4,
           5.6,
           5.8,
           5.2,
           5.5,
           5,
           5.7,
           6.1,
           6.4,
           5.7,
           6.4,
           5.6,
           5.7,
           6,
           5.2,
           5.4,
           5.4,
           5.1,
           4.9,
           5.6,
           5.3,
           5.4,
           5.8,
           5.6,
           5.6,
           6.7,
           5.3,
           5.4,
           4.9,
           5.8,
           5.5,
           5.7,
           5.2,
           5.3,
           5.7,
           5.3,
           5.3,
           5.5,
           5.4,
           5.3,
           6.9,
           6,
           5.4,
           5.4,
           5.6,
           5.5,
           5.7,
           6.6,
           5.4,
           5.5,
           6,
           5.4,
           5.3,
           5.4,
           6.3,
           5.6,
           5.4,
           5.4,
           5.6,
           6.1,
           5.7,
           5.4,
           5.7,
           5.6,
           6.4,
           5.5,
           5.4,
           5.4,
           5.8,
           5.4,
           5.4,
           7.6,
           6,
           6.7,
           5.8,
           5.2,
           5.7,
           6.1,
           5.4,
           5.5,
           5.9,
           6,
           5.4,
           5.4,
           5.3,
           7.1,
           5.7,
           5.8,
           6.3,
           5.9,
           5.4,
           6.1,
           5.7,
           5.9,
           5.6,
           5.6,
           5.9,
           5.4,
           5.6,
           5.5,
           5.6,
           6.2,
           7.5,
           5.8,
           6.5,
           5.8,
           5.8,
           5.6,
           6.1,
           5.4,
           5.3,
           7.1,
           5.7,
           5.8,
           5.2,
           5.6,
           5.2,
           5.7,
           5.8,
           5.4,
           5.4,
           5.5,
           6.1,
           6.1,
           5.8,
           5.6,
           5,
           6.3,
           5.9,
           5.4,
           6.1,
           5.7,
           5.7,
           5.3,
           5.6,
           5.3,
           5.6,
           6.4,
           7.4,
           5.9,
           5.6,
           5.6,
           5.9,
           5.4,
           5.6,
           5.5,
           5.6,
           6.2,
           7.5,
           5.8,
           5.8,
           5.4,
           5.6,
           5.4,
           4.8,
           5.2,
           5.5,
           5.3,
           5.4,
           5.4,
           5.1,
           5.5,
           5.4,
           5.3,
           5.5,
           5.1,
           5.4,
           5.7,
           5.3,
           5.1,
           5.5,
           5.4,
           5.8,
           7,
           6.4,
           5.1,
           5.3,
           5.7,
           5.2,
           5.3,
           5,
           5.5,
           5.4,
           6.3,
           6.3,
           5.9,
           6.3,
           5.4,
           6.3,
           5.7,
           5.8
          ],
          "sizemode": "area",
          "sizeref": 0.019,
          "symbol": "circle"
         },
         "mode": "markers",
         "name": "Asia",
         "showlegend": true,
         "type": "scattergl",
         "x": [
          8,
          4,
          0,
          4,
          3,
          0,
          0,
          5,
          0,
          0,
          4,
          3,
          4,
          4,
          5,
          4,
          8,
          9,
          5,
          5,
          6,
          3,
          7,
          3,
          7,
          4,
          4,
          8,
          7,
          6,
          5,
          5,
          5,
          2,
          8,
          7,
          5,
          8,
          6,
          5,
          5,
          8,
          0,
          0,
          3,
          7,
          7,
          5,
          5,
          0,
          8,
          2,
          0,
          4,
          6,
          3,
          1,
          0,
          0,
          7,
          8,
          9,
          7,
          5,
          6,
          4,
          2,
          0,
          6,
          0,
          9,
          9,
          4,
          6,
          4,
          3,
          0,
          4,
          0,
          0,
          8,
          8,
          9,
          7,
          0,
          7,
          7,
          4,
          3,
          6,
          6,
          7,
          8,
          4,
          5,
          0,
          5,
          4,
          3,
          4,
          5,
          4,
          0,
          8,
          7,
          5,
          9,
          0,
          8,
          6,
          5,
          7,
          5,
          2,
          8,
          7,
          5,
          8,
          2,
          0,
          4,
          6,
          7,
          5,
          6,
          4,
          2,
          0,
          6,
          0,
          9,
          9,
          4,
          6,
          4,
          3,
          0,
          5,
          6,
          6,
          0,
          7,
          3,
          0,
          2,
          4,
          0,
          0,
          6,
          8,
          2,
          0,
          9,
          7,
          0,
          3,
          0,
          4,
          3,
          0,
          0,
          7,
          3,
          4,
          5,
          6,
          5,
          5,
          0,
          0,
          0,
          4,
          0,
          2,
          3,
          0,
          2,
          0,
          0,
          0,
          1,
          0,
          7,
          3,
          0,
          0,
          0,
          0,
          0,
          7,
          3,
          0,
          0,
          0,
          0,
          0,
          3,
          0,
          0,
          0,
          0,
          6,
          0,
          0,
          2,
          2,
          7,
          0,
          0,
          0,
          0,
          0,
          0,
          9,
          2,
          9,
          0,
          0,
          2,
          8,
          0,
          0,
          6,
          4,
          6,
          5,
          2,
          8,
          7,
          5,
          8,
          2,
          0,
          4,
          6,
          7,
          5,
          6,
          4,
          2,
          0,
          6,
          0,
          9,
          9,
          4,
          6,
          4,
          3,
          0,
          5,
          5,
          2,
          8,
          7,
          5,
          8,
          6,
          5,
          5,
          8,
          0,
          0,
          3,
          7,
          7,
          5,
          5,
          0,
          8,
          2,
          0,
          4,
          6,
          3,
          1,
          0,
          0,
          7,
          8,
          9,
          7,
          5,
          6,
          4,
          2,
          0,
          6,
          0,
          9,
          9,
          4,
          4,
          9,
          7,
          4,
          3,
          6,
          6,
          7,
          8,
          4,
          3,
          0,
          0,
          4,
          5,
          0,
          4,
          3,
          4,
          4,
          5,
          4,
          8,
          9,
          5,
          5,
          3,
          7,
          4,
          4,
          5,
          4,
          0,
          8,
          7,
          5,
          9,
          0,
          8,
          8,
          5
         ],
         "xaxis": "x",
         "y": [
          5.4,
          5.4,
          5.9,
          5.4,
          5.1,
          5.5,
          5.4,
          5.7,
          5.6,
          5.4,
          5.4,
          5.7,
          5.3,
          5.1,
          5.5,
          5.4,
          5.8,
          7,
          6.4,
          5.1,
          5.5,
          5.2,
          5.7,
          5.3,
          5.7,
          5.4,
          5.2,
          5.7,
          4.9,
          5.3,
          5.8,
          6.1,
          5.4,
          5.3,
          7.1,
          5.7,
          5.8,
          5.2,
          5.6,
          5.2,
          5.7,
          5.8,
          5.4,
          5.4,
          5.5,
          6.1,
          6.1,
          5.8,
          5.6,
          5,
          6.3,
          5.9,
          5.4,
          6.1,
          5.7,
          5.7,
          5.3,
          5.6,
          5.3,
          5.6,
          6.4,
          7.4,
          5.9,
          5.6,
          5.6,
          5.9,
          5.4,
          5.6,
          5.5,
          5.6,
          6.2,
          7.5,
          5.8,
          6.5,
          5.8,
          5.8,
          5.6,
          5.1,
          5.1,
          5.5,
          5.7,
          6.1,
          6.4,
          5.6,
          5.2,
          5.6,
          5.6,
          5.4,
          4.8,
          5.2,
          5.5,
          5.3,
          5.4,
          5.3,
          5.5,
          5.1,
          6.4,
          5.4,
          4.8,
          5.3,
          5,
          5.5,
          5.4,
          6.3,
          6.3,
          5.9,
          6.3,
          5.4,
          6.3,
          5.2,
          5.8,
          5.3,
          5.4,
          5.3,
          7.1,
          5.7,
          5.8,
          6.3,
          5.9,
          5.4,
          6.1,
          5.7,
          5.9,
          5.6,
          5.6,
          5.9,
          5.4,
          5.6,
          5.5,
          5.6,
          6.2,
          7.5,
          5.8,
          6.5,
          5.8,
          5.8,
          5.6,
          5.5,
          5.4,
          5.7,
          5,
          6.8,
          5.4,
          5.6,
          5.8,
          5.2,
          5.5,
          5,
          5.7,
          6.1,
          6.4,
          5.7,
          6.4,
          5.6,
          5.7,
          6,
          5.2,
          5.4,
          5.4,
          5.1,
          4.9,
          5.6,
          5.3,
          5.4,
          5.8,
          5.6,
          5.6,
          6.7,
          5.3,
          5.4,
          4.9,
          5.8,
          5.5,
          5.7,
          5.2,
          5.3,
          5.7,
          5.3,
          5.3,
          5.5,
          5.4,
          5.3,
          6.9,
          6,
          5.4,
          5.4,
          5.6,
          5.5,
          5.7,
          6.6,
          5.4,
          5.5,
          6,
          5.4,
          5.3,
          5.4,
          6.3,
          5.6,
          5.4,
          5.4,
          5.6,
          6.1,
          5.7,
          5.4,
          5.7,
          5.6,
          6.4,
          5.5,
          5.4,
          5.4,
          5.8,
          5.4,
          5.4,
          7.6,
          6,
          6.7,
          5.8,
          5.2,
          5.7,
          6.1,
          5.4,
          5.5,
          5.9,
          6,
          5.4,
          5.4,
          5.3,
          7.1,
          5.7,
          5.8,
          6.3,
          5.9,
          5.4,
          6.1,
          5.7,
          5.9,
          5.6,
          5.6,
          5.9,
          5.4,
          5.6,
          5.5,
          5.6,
          6.2,
          7.5,
          5.8,
          6.5,
          5.8,
          5.8,
          5.6,
          6.1,
          5.4,
          5.3,
          7.1,
          5.7,
          5.8,
          5.2,
          5.6,
          5.2,
          5.7,
          5.8,
          5.4,
          5.4,
          5.5,
          6.1,
          6.1,
          5.8,
          5.6,
          5,
          6.3,
          5.9,
          5.4,
          6.1,
          5.7,
          5.7,
          5.3,
          5.6,
          5.3,
          5.6,
          6.4,
          7.4,
          5.9,
          5.6,
          5.6,
          5.9,
          5.4,
          5.6,
          5.5,
          5.6,
          6.2,
          7.5,
          5.8,
          5.8,
          5.4,
          5.6,
          5.4,
          4.8,
          5.2,
          5.5,
          5.3,
          5.4,
          5.4,
          5.1,
          5.5,
          5.4,
          5.3,
          5.5,
          5.1,
          5.4,
          5.7,
          5.3,
          5.1,
          5.5,
          5.4,
          5.8,
          7,
          6.4,
          5.1,
          5.3,
          5.7,
          5.2,
          5.3,
          5,
          5.5,
          5.4,
          6.3,
          6.3,
          5.9,
          6.3,
          5.4,
          6.3,
          5.7,
          5.8
         ],
         "yaxis": "y"
        },
        {
         "hovertemplate": "<b>%{hovertext}</b><br><br>continent=South America<br>Magnitude sentida segundo relatos=%{x}<br>Magnitude=%{marker.size}<extra></extra>",
         "hovertext": [
          "South America",
          "South America",
          "South America",
          "South America",
          "South America",
          "South America",
          "South America",
          "South America",
          "South America",
          "South America",
          "South America",
          "South America",
          "South America",
          "South America",
          "South America",
          "South America",
          "South America",
          "South America",
          "South America",
          "South America",
          "South America",
          "South America",
          "South America",
          "South America",
          "South America",
          "South America",
          "South America",
          "South America",
          "South America",
          "South America",
          "South America",
          "South America",
          "South America",
          "South America",
          "South America",
          "South America",
          "South America",
          "South America",
          "South America",
          "South America",
          "South America",
          "South America",
          "South America",
          "South America",
          "South America",
          "South America",
          "South America",
          "South America",
          "South America",
          "South America",
          "South America",
          "South America",
          "South America",
          "South America",
          "South America",
          "South America",
          "South America",
          "South America",
          "South America",
          "South America",
          "South America",
          "South America",
          "South America",
          "South America",
          "South America",
          "South America",
          "South America",
          "South America",
          "South America",
          "South America",
          "South America",
          "South America",
          "South America",
          "South America",
          "South America"
         ],
         "legendgroup": "South America",
         "marker": {
          "color": "#ab63fa",
          "size": [
           5.7,
           5.7,
           5.5,
           7.4,
           5.8,
           5.4,
           5.3,
           5.4,
           5.3,
           5.4,
           5.5,
           5.8,
           5.6,
           5.5,
           5.8,
           6.6,
           5.4,
           6,
           5.6,
           5.3,
           6.2,
           6.2,
           6.6,
           5.7,
           5.8,
           5.7,
           5.5,
           7.4,
           5.6,
           5.8,
           5.4,
           5.4,
           6.1,
           7.2,
           5.5,
           6,
           6.5,
           5.3,
           5.3,
           6.6,
           5.4,
           5.6,
           6.2,
           5.5,
           5.7,
           5.8,
           6,
           5.6,
           5.3,
           6.2,
           5.4,
           5.8,
           5.7,
           5.5,
           7.4,
           5.8,
           5.4,
           5.3,
           5.4,
           5.3,
           5.4,
           5.5,
           5.8,
           5.6,
           5.5,
           6.6,
           5.4,
           6,
           5.6,
           5.3,
           6.2,
           6.2,
           6.6,
           5.7,
           5.8
          ],
          "sizemode": "area",
          "sizeref": 0.019,
          "symbol": "circle"
         },
         "mode": "markers",
         "name": "South America",
         "showlegend": true,
         "type": "scattergl",
         "x": [
          4,
          3,
          4,
          7,
          5,
          3,
          2,
          0,
          2,
          0,
          0,
          4,
          6,
          1,
          5,
          7,
          4,
          4,
          5,
          5,
          1,
          1,
          7,
          6,
          3,
          3,
          4,
          7,
          3,
          5,
          4,
          6,
          7,
          8,
          4,
          7,
          3,
          2,
          2,
          4,
          0,
          6,
          6,
          1,
          5,
          5,
          4,
          5,
          5,
          1,
          7,
          3,
          4,
          4,
          7,
          5,
          3,
          2,
          0,
          2,
          0,
          0,
          4,
          6,
          1,
          7,
          4,
          4,
          5,
          5,
          1,
          1,
          7,
          6,
          3
         ],
         "xaxis": "x",
         "y": [
          5.7,
          5.7,
          5.5,
          7.4,
          5.8,
          5.4,
          5.3,
          5.4,
          5.3,
          5.4,
          5.5,
          5.8,
          5.6,
          5.5,
          5.8,
          6.6,
          5.4,
          6,
          5.6,
          5.3,
          6.2,
          6.2,
          6.6,
          5.7,
          5.8,
          5.7,
          5.5,
          7.4,
          5.6,
          5.8,
          5.4,
          5.4,
          6.1,
          7.2,
          5.5,
          6,
          6.5,
          5.3,
          5.3,
          6.6,
          5.4,
          5.6,
          6.2,
          5.5,
          5.7,
          5.8,
          6,
          5.6,
          5.3,
          6.2,
          5.4,
          5.8,
          5.7,
          5.5,
          7.4,
          5.8,
          5.4,
          5.3,
          5.4,
          5.3,
          5.4,
          5.5,
          5.8,
          5.6,
          5.5,
          6.6,
          5.4,
          6,
          5.6,
          5.3,
          6.2,
          6.2,
          6.6,
          5.7,
          5.8
         ],
         "yaxis": "y"
        },
        {
         "hovertemplate": "<b>%{hovertext}</b><br><br>continent=Europe<br>Magnitude sentida segundo relatos=%{x}<br>Magnitude=%{marker.size}<extra></extra>",
         "hovertext": [
          "Europe",
          "Europe",
          "Europe",
          "Europe",
          "Europe",
          "Europe",
          "Europe"
         ],
         "legendgroup": "Europe",
         "marker": {
          "color": "#FFA15A",
          "size": [
           5.8,
           5.4,
           5.4,
           5.8,
           5.4,
           5.8,
           5.4
          ],
          "sizemode": "area",
          "sizeref": 0.019,
          "symbol": "circle"
         },
         "mode": "markers",
         "name": "Europe",
         "showlegend": true,
         "type": "scattergl",
         "x": [
          7,
          9,
          9,
          7,
          9,
          7,
          9
         ],
         "xaxis": "x",
         "y": [
          5.8,
          5.4,
          5.4,
          5.8,
          5.4,
          5.8,
          5.4
         ],
         "yaxis": "y"
        },
        {
         "hovertemplate": "<b>%{hovertext}</b><br><br>continent=Insular Oceania<br>Magnitude sentida segundo relatos=%{x}<br>Magnitude=%{marker.size}<extra></extra>",
         "hovertext": [
          "Insular Oceania"
         ],
         "legendgroup": "Insular Oceania",
         "marker": {
          "color": "#19d3f3",
          "size": [
           4.9
          ],
          "sizemode": "area",
          "sizeref": 0.019,
          "symbol": "circle"
         },
         "mode": "markers",
         "name": "Insular Oceania",
         "showlegend": true,
         "type": "scattergl",
         "x": [
          4
         ],
         "xaxis": "x",
         "y": [
          4.9
         ],
         "yaxis": "y"
        },
        {
         "hovertemplate": "<b>%{hovertext}</b><br><br>continent=Insluar Oceania<br>Magnitude sentida segundo relatos=%{x}<br>Magnitude=%{marker.size}<extra></extra>",
         "hovertext": [
          "Insluar Oceania"
         ],
         "legendgroup": "Insluar Oceania",
         "marker": {
          "color": "#FF6692",
          "size": [
           5.1
          ],
          "sizemode": "area",
          "sizeref": 0.019,
          "symbol": "circle"
         },
         "mode": "markers",
         "name": "Insluar Oceania",
         "showlegend": true,
         "type": "scattergl",
         "x": [
          5
         ],
         "xaxis": "x",
         "y": [
          5.1
         ],
         "yaxis": "y"
        },
        {
         "hovertemplate": "<b>%{hovertext}</b><br><br>continent=Oceania<br>Magnitude sentida segundo relatos=%{x}<br>Magnitude=%{marker.size}<extra></extra>",
         "hovertext": [
          "Oceania"
         ],
         "legendgroup": "Oceania",
         "marker": {
          "color": "#B6E880",
          "size": [
           5.5
          ],
          "sizemode": "area",
          "sizeref": 0.019,
          "symbol": "circle"
         },
         "mode": "markers",
         "name": "Oceania",
         "showlegend": true,
         "type": "scattergl",
         "x": [
          5
         ],
         "xaxis": "x",
         "y": [
          5.5
         ],
         "yaxis": "y"
        },
        {
         "hovertemplate": "<b>%{hovertext}</b><br><br>continent=Africa<br>Magnitude sentida segundo relatos=%{x}<br>Magnitude=%{marker.size}<extra></extra>",
         "hovertext": [
          "Africa",
          "Africa",
          "Africa"
         ],
         "legendgroup": "Africa",
         "marker": {
          "color": "#FF97FF",
          "size": [
           5.4,
           5.2,
           5.5
          ],
          "sizemode": "area",
          "sizeref": 0.019,
          "symbol": "circle"
         },
         "mode": "markers",
         "name": "Africa",
         "showlegend": true,
         "type": "scattergl",
         "x": [
          4,
          4,
          4
         ],
         "xaxis": "x",
         "y": [
          5.4,
          5.2,
          5.5
         ],
         "yaxis": "y"
        }
       ],
       "layout": {
        "autosize": true,
        "legend": {
         "itemsizing": "constant",
         "title": {
          "text": "continent"
         },
         "tracegroupgap": 0
        },
        "template": {
         "data": {
          "bar": [
           {
            "error_x": {
             "color": "#2a3f5f"
            },
            "error_y": {
             "color": "#2a3f5f"
            },
            "marker": {
             "line": {
              "color": "#E5ECF6",
              "width": 0.5
             },
             "pattern": {
              "fillmode": "overlay",
              "size": 10,
              "solidity": 0.2
             }
            },
            "type": "bar"
           }
          ],
          "barpolar": [
           {
            "marker": {
             "line": {
              "color": "#E5ECF6",
              "width": 0.5
             },
             "pattern": {
              "fillmode": "overlay",
              "size": 10,
              "solidity": 0.2
             }
            },
            "type": "barpolar"
           }
          ],
          "carpet": [
           {
            "aaxis": {
             "endlinecolor": "#2a3f5f",
             "gridcolor": "white",
             "linecolor": "white",
             "minorgridcolor": "white",
             "startlinecolor": "#2a3f5f"
            },
            "baxis": {
             "endlinecolor": "#2a3f5f",
             "gridcolor": "white",
             "linecolor": "white",
             "minorgridcolor": "white",
             "startlinecolor": "#2a3f5f"
            },
            "type": "carpet"
           }
          ],
          "choropleth": [
           {
            "colorbar": {
             "outlinewidth": 0,
             "ticks": ""
            },
            "type": "choropleth"
           }
          ],
          "contour": [
           {
            "colorbar": {
             "outlinewidth": 0,
             "ticks": ""
            },
            "colorscale": [
             [
              0,
              "#0d0887"
             ],
             [
              0.1111111111111111,
              "#46039f"
             ],
             [
              0.2222222222222222,
              "#7201a8"
             ],
             [
              0.3333333333333333,
              "#9c179e"
             ],
             [
              0.4444444444444444,
              "#bd3786"
             ],
             [
              0.5555555555555556,
              "#d8576b"
             ],
             [
              0.6666666666666666,
              "#ed7953"
             ],
             [
              0.7777777777777778,
              "#fb9f3a"
             ],
             [
              0.8888888888888888,
              "#fdca26"
             ],
             [
              1,
              "#f0f921"
             ]
            ],
            "type": "contour"
           }
          ],
          "contourcarpet": [
           {
            "colorbar": {
             "outlinewidth": 0,
             "ticks": ""
            },
            "type": "contourcarpet"
           }
          ],
          "heatmap": [
           {
            "colorbar": {
             "outlinewidth": 0,
             "ticks": ""
            },
            "colorscale": [
             [
              0,
              "#0d0887"
             ],
             [
              0.1111111111111111,
              "#46039f"
             ],
             [
              0.2222222222222222,
              "#7201a8"
             ],
             [
              0.3333333333333333,
              "#9c179e"
             ],
             [
              0.4444444444444444,
              "#bd3786"
             ],
             [
              0.5555555555555556,
              "#d8576b"
             ],
             [
              0.6666666666666666,
              "#ed7953"
             ],
             [
              0.7777777777777778,
              "#fb9f3a"
             ],
             [
              0.8888888888888888,
              "#fdca26"
             ],
             [
              1,
              "#f0f921"
             ]
            ],
            "type": "heatmap"
           }
          ],
          "heatmapgl": [
           {
            "colorbar": {
             "outlinewidth": 0,
             "ticks": ""
            },
            "colorscale": [
             [
              0,
              "#0d0887"
             ],
             [
              0.1111111111111111,
              "#46039f"
             ],
             [
              0.2222222222222222,
              "#7201a8"
             ],
             [
              0.3333333333333333,
              "#9c179e"
             ],
             [
              0.4444444444444444,
              "#bd3786"
             ],
             [
              0.5555555555555556,
              "#d8576b"
             ],
             [
              0.6666666666666666,
              "#ed7953"
             ],
             [
              0.7777777777777778,
              "#fb9f3a"
             ],
             [
              0.8888888888888888,
              "#fdca26"
             ],
             [
              1,
              "#f0f921"
             ]
            ],
            "type": "heatmapgl"
           }
          ],
          "histogram": [
           {
            "marker": {
             "pattern": {
              "fillmode": "overlay",
              "size": 10,
              "solidity": 0.2
             }
            },
            "type": "histogram"
           }
          ],
          "histogram2d": [
           {
            "colorbar": {
             "outlinewidth": 0,
             "ticks": ""
            },
            "colorscale": [
             [
              0,
              "#0d0887"
             ],
             [
              0.1111111111111111,
              "#46039f"
             ],
             [
              0.2222222222222222,
              "#7201a8"
             ],
             [
              0.3333333333333333,
              "#9c179e"
             ],
             [
              0.4444444444444444,
              "#bd3786"
             ],
             [
              0.5555555555555556,
              "#d8576b"
             ],
             [
              0.6666666666666666,
              "#ed7953"
             ],
             [
              0.7777777777777778,
              "#fb9f3a"
             ],
             [
              0.8888888888888888,
              "#fdca26"
             ],
             [
              1,
              "#f0f921"
             ]
            ],
            "type": "histogram2d"
           }
          ],
          "histogram2dcontour": [
           {
            "colorbar": {
             "outlinewidth": 0,
             "ticks": ""
            },
            "colorscale": [
             [
              0,
              "#0d0887"
             ],
             [
              0.1111111111111111,
              "#46039f"
             ],
             [
              0.2222222222222222,
              "#7201a8"
             ],
             [
              0.3333333333333333,
              "#9c179e"
             ],
             [
              0.4444444444444444,
              "#bd3786"
             ],
             [
              0.5555555555555556,
              "#d8576b"
             ],
             [
              0.6666666666666666,
              "#ed7953"
             ],
             [
              0.7777777777777778,
              "#fb9f3a"
             ],
             [
              0.8888888888888888,
              "#fdca26"
             ],
             [
              1,
              "#f0f921"
             ]
            ],
            "type": "histogram2dcontour"
           }
          ],
          "mesh3d": [
           {
            "colorbar": {
             "outlinewidth": 0,
             "ticks": ""
            },
            "type": "mesh3d"
           }
          ],
          "parcoords": [
           {
            "line": {
             "colorbar": {
              "outlinewidth": 0,
              "ticks": ""
             }
            },
            "type": "parcoords"
           }
          ],
          "pie": [
           {
            "automargin": true,
            "type": "pie"
           }
          ],
          "scatter": [
           {
            "fillpattern": {
             "fillmode": "overlay",
             "size": 10,
             "solidity": 0.2
            },
            "type": "scatter"
           }
          ],
          "scatter3d": [
           {
            "line": {
             "colorbar": {
              "outlinewidth": 0,
              "ticks": ""
             }
            },
            "marker": {
             "colorbar": {
              "outlinewidth": 0,
              "ticks": ""
             }
            },
            "type": "scatter3d"
           }
          ],
          "scattercarpet": [
           {
            "marker": {
             "colorbar": {
              "outlinewidth": 0,
              "ticks": ""
             }
            },
            "type": "scattercarpet"
           }
          ],
          "scattergeo": [
           {
            "marker": {
             "colorbar": {
              "outlinewidth": 0,
              "ticks": ""
             }
            },
            "type": "scattergeo"
           }
          ],
          "scattergl": [
           {
            "marker": {
             "colorbar": {
              "outlinewidth": 0,
              "ticks": ""
             }
            },
            "type": "scattergl"
           }
          ],
          "scattermapbox": [
           {
            "marker": {
             "colorbar": {
              "outlinewidth": 0,
              "ticks": ""
             }
            },
            "type": "scattermapbox"
           }
          ],
          "scatterpolar": [
           {
            "marker": {
             "colorbar": {
              "outlinewidth": 0,
              "ticks": ""
             }
            },
            "type": "scatterpolar"
           }
          ],
          "scatterpolargl": [
           {
            "marker": {
             "colorbar": {
              "outlinewidth": 0,
              "ticks": ""
             }
            },
            "type": "scatterpolargl"
           }
          ],
          "scatterternary": [
           {
            "marker": {
             "colorbar": {
              "outlinewidth": 0,
              "ticks": ""
             }
            },
            "type": "scatterternary"
           }
          ],
          "surface": [
           {
            "colorbar": {
             "outlinewidth": 0,
             "ticks": ""
            },
            "colorscale": [
             [
              0,
              "#0d0887"
             ],
             [
              0.1111111111111111,
              "#46039f"
             ],
             [
              0.2222222222222222,
              "#7201a8"
             ],
             [
              0.3333333333333333,
              "#9c179e"
             ],
             [
              0.4444444444444444,
              "#bd3786"
             ],
             [
              0.5555555555555556,
              "#d8576b"
             ],
             [
              0.6666666666666666,
              "#ed7953"
             ],
             [
              0.7777777777777778,
              "#fb9f3a"
             ],
             [
              0.8888888888888888,
              "#fdca26"
             ],
             [
              1,
              "#f0f921"
             ]
            ],
            "type": "surface"
           }
          ],
          "table": [
           {
            "cells": {
             "fill": {
              "color": "#EBF0F8"
             },
             "line": {
              "color": "white"
             }
            },
            "header": {
             "fill": {
              "color": "#C8D4E3"
             },
             "line": {
              "color": "white"
             }
            },
            "type": "table"
           }
          ]
         },
         "layout": {
          "annotationdefaults": {
           "arrowcolor": "#2a3f5f",
           "arrowhead": 0,
           "arrowwidth": 1
          },
          "autotypenumbers": "strict",
          "coloraxis": {
           "colorbar": {
            "outlinewidth": 0,
            "ticks": ""
           }
          },
          "colorscale": {
           "diverging": [
            [
             0,
             "#8e0152"
            ],
            [
             0.1,
             "#c51b7d"
            ],
            [
             0.2,
             "#de77ae"
            ],
            [
             0.3,
             "#f1b6da"
            ],
            [
             0.4,
             "#fde0ef"
            ],
            [
             0.5,
             "#f7f7f7"
            ],
            [
             0.6,
             "#e6f5d0"
            ],
            [
             0.7,
             "#b8e186"
            ],
            [
             0.8,
             "#7fbc41"
            ],
            [
             0.9,
             "#4d9221"
            ],
            [
             1,
             "#276419"
            ]
           ],
           "sequential": [
            [
             0,
             "#0d0887"
            ],
            [
             0.1111111111111111,
             "#46039f"
            ],
            [
             0.2222222222222222,
             "#7201a8"
            ],
            [
             0.3333333333333333,
             "#9c179e"
            ],
            [
             0.4444444444444444,
             "#bd3786"
            ],
            [
             0.5555555555555556,
             "#d8576b"
            ],
            [
             0.6666666666666666,
             "#ed7953"
            ],
            [
             0.7777777777777778,
             "#fb9f3a"
            ],
            [
             0.8888888888888888,
             "#fdca26"
            ],
            [
             1,
             "#f0f921"
            ]
           ],
           "sequentialminus": [
            [
             0,
             "#0d0887"
            ],
            [
             0.1111111111111111,
             "#46039f"
            ],
            [
             0.2222222222222222,
             "#7201a8"
            ],
            [
             0.3333333333333333,
             "#9c179e"
            ],
            [
             0.4444444444444444,
             "#bd3786"
            ],
            [
             0.5555555555555556,
             "#d8576b"
            ],
            [
             0.6666666666666666,
             "#ed7953"
            ],
            [
             0.7777777777777778,
             "#fb9f3a"
            ],
            [
             0.8888888888888888,
             "#fdca26"
            ],
            [
             1,
             "#f0f921"
            ]
           ]
          },
          "colorway": [
           "#636efa",
           "#EF553B",
           "#00cc96",
           "#ab63fa",
           "#FFA15A",
           "#19d3f3",
           "#FF6692",
           "#B6E880",
           "#FF97FF",
           "#FECB52"
          ],
          "font": {
           "color": "#2a3f5f"
          },
          "geo": {
           "bgcolor": "white",
           "lakecolor": "white",
           "landcolor": "#E5ECF6",
           "showlakes": true,
           "showland": true,
           "subunitcolor": "white"
          },
          "hoverlabel": {
           "align": "left"
          },
          "hovermode": "closest",
          "mapbox": {
           "style": "light"
          },
          "paper_bgcolor": "white",
          "plot_bgcolor": "#E5ECF6",
          "polar": {
           "angularaxis": {
            "gridcolor": "white",
            "linecolor": "white",
            "ticks": ""
           },
           "bgcolor": "#E5ECF6",
           "radialaxis": {
            "gridcolor": "white",
            "linecolor": "white",
            "ticks": ""
           }
          },
          "scene": {
           "xaxis": {
            "backgroundcolor": "#E5ECF6",
            "gridcolor": "white",
            "gridwidth": 2,
            "linecolor": "white",
            "showbackground": true,
            "ticks": "",
            "zerolinecolor": "white"
           },
           "yaxis": {
            "backgroundcolor": "#E5ECF6",
            "gridcolor": "white",
            "gridwidth": 2,
            "linecolor": "white",
            "showbackground": true,
            "ticks": "",
            "zerolinecolor": "white"
           },
           "zaxis": {
            "backgroundcolor": "#E5ECF6",
            "gridcolor": "white",
            "gridwidth": 2,
            "linecolor": "white",
            "showbackground": true,
            "ticks": "",
            "zerolinecolor": "white"
           }
          },
          "shapedefaults": {
           "line": {
            "color": "#2a3f5f"
           }
          },
          "ternary": {
           "aaxis": {
            "gridcolor": "white",
            "linecolor": "white",
            "ticks": ""
           },
           "baxis": {
            "gridcolor": "white",
            "linecolor": "white",
            "ticks": ""
           },
           "bgcolor": "#E5ECF6",
           "caxis": {
            "gridcolor": "white",
            "linecolor": "white",
            "ticks": ""
           }
          },
          "title": {
           "x": 0.05
          },
          "xaxis": {
           "automargin": true,
           "gridcolor": "white",
           "linecolor": "white",
           "ticks": "",
           "title": {
            "standoff": 15
           },
           "zerolinecolor": "white",
           "zerolinewidth": 2
          },
          "yaxis": {
           "automargin": true,
           "gridcolor": "white",
           "linecolor": "white",
           "ticks": "",
           "title": {
            "standoff": 15
           },
           "zerolinecolor": "white",
           "zerolinewidth": 2
          }
         }
        },
        "title": {
         "text": "Dispersão de Magnitudes de Terremotos por Continente"
        },
        "xaxis": {
         "anchor": "y",
         "autorange": true,
         "domain": [
          0,
          1
         ],
         "range": [
          -0.868879128039134,
          9.910272034331408
         ],
         "title": {
          "text": "Magnitude sentida segundo relatos"
         },
         "type": "linear"
        },
        "yaxis": {
         "anchor": "x",
         "autorange": true,
         "domain": [
          0,
          1
         ],
         "range": [
          2.360782284340676,
          8.437640492511594
         ],
         "title": {
          "text": "Magnitude"
         },
         "type": "linear"
        }
       }
      },
      "text/html": [
       "<div>                            <div id=\"50a62615-e72b-45ba-b7ab-c4d1608e8c7f\" class=\"plotly-graph-div\" style=\"height:525px; width:100%;\"></div>            <script type=\"text/javascript\">                require([\"plotly\"], function(Plotly) {                    window.PLOTLYENV=window.PLOTLYENV || {};                                    if (document.getElementById(\"50a62615-e72b-45ba-b7ab-c4d1608e8c7f\")) {                    Plotly.newPlot(                        \"50a62615-e72b-45ba-b7ab-c4d1608e8c7f\",                        [{\"hovertemplate\":\"\\u003cb\\u003e%{hovertext}\\u003c\\u002fb\\u003e\\u003cbr\\u003e\\u003cbr\\u003econtinent=North America\\u003cbr\\u003eMagnitude sentida segundo relatos=%{x}\\u003cbr\\u003eMagnitude=%{marker.size}\\u003cextra\\u003e\\u003c\\u002fextra\\u003e\",\"hovertext\":[\"North America\",\"North America\",\"North America\",\"North America\",\"North America\",\"North America\",\"North America\",\"North America\",\"North America\",\"North America\",\"North America\",\"North America\",\"North America\",\"North America\",\"North America\",\"North America\",\"North America\",\"North America\",\"North America\",\"North America\",\"North America\",\"North America\",\"North America\",\"North America\",\"North America\",\"North America\",\"North America\",\"North America\",\"North America\",\"North America\",\"North America\",\"North America\",\"North America\",\"North America\",\"North America\",\"North America\",\"North America\",\"North America\",\"North America\",\"North America\",\"North America\",\"North America\",\"North America\",\"North America\",\"North America\",\"North America\",\"North America\",\"North America\",\"North America\",\"North America\",\"North America\",\"North America\",\"North America\",\"North America\",\"North America\",\"North America\",\"North America\",\"North America\",\"North America\",\"North America\",\"North America\",\"North America\",\"North America\",\"North America\",\"North America\",\"North America\",\"North America\",\"North America\",\"North America\",\"North America\",\"North America\",\"North America\",\"North America\",\"North America\",\"North America\",\"North America\",\"North America\",\"North America\",\"North America\",\"North America\",\"North America\",\"North America\",\"North America\",\"North America\",\"North America\",\"North America\",\"North America\",\"North America\",\"North America\",\"North America\",\"North America\",\"North America\",\"North America\",\"North America\",\"North America\",\"North America\",\"North America\",\"North America\",\"North America\",\"North America\",\"North America\",\"North America\",\"North America\",\"North America\",\"North America\",\"North America\",\"North America\",\"North America\",\"North America\",\"North America\",\"North America\",\"North America\",\"North America\",\"North America\",\"North America\",\"North America\",\"North America\",\"North America\",\"North America\",\"North America\",\"North America\",\"North America\",\"North America\",\"North America\",\"North America\",\"North America\",\"North America\",\"North America\",\"North America\",\"North America\",\"North America\",\"North America\",\"North America\",\"North America\",\"North America\",\"North America\",\"North America\",\"North America\",\"North America\",\"North America\",\"North America\",\"North America\",\"North America\",\"North America\",\"North America\",\"North America\",\"North America\",\"North America\",\"North America\",\"North America\",\"North America\",\"North America\",\"North America\",\"North America\",\"North America\",\"North America\",\"North America\",\"North America\",\"North America\",\"North America\",\"North America\",\"North America\",\"North America\",\"North America\",\"North America\",\"North America\",\"North America\",\"North America\",\"North America\",\"North America\",\"North America\",\"North America\",\"North America\",\"North America\",\"North America\",\"North America\",\"North America\",\"North America\",\"North America\",\"North America\",\"North America\",\"North America\",\"North America\",\"North America\",\"North America\",\"North America\",\"North America\",\"North America\",\"North America\",\"North America\",\"North America\",\"North America\",\"North America\",\"North America\",\"North America\",\"North America\",\"North America\",\"North America\",\"North America\",\"North America\",\"North America\",\"North America\",\"North America\",\"North America\",\"North America\",\"North America\",\"North America\",\"North America\",\"North America\",\"North America\",\"North America\",\"North America\",\"North America\",\"North America\",\"North America\",\"North America\",\"North America\",\"North America\",\"North America\",\"North America\",\"North America\",\"North America\",\"North America\",\"North America\",\"North America\",\"North America\",\"North America\",\"North America\",\"North America\",\"North America\",\"North America\",\"North America\",\"North America\",\"North America\",\"North America\",\"North America\",\"North America\",\"North America\",\"North America\",\"North America\",\"North America\",\"North America\",\"North America\",\"North America\",\"North America\",\"North America\",\"North America\",\"North America\",\"North America\",\"North America\",\"North America\",\"North America\",\"North America\",\"North America\",\"North America\",\"North America\",\"North America\",\"North America\",\"North America\",\"North America\",\"North America\",\"North America\",\"North America\",\"North America\",\"North America\",\"North America\",\"North America\",\"North America\",\"North America\",\"North America\",\"North America\",\"North America\",\"North America\",\"North America\",\"North America\",\"North America\",\"North America\",\"North America\",\"North America\",\"North America\",\"North America\",\"North America\",\"North America\",\"North America\",\"North America\",\"North America\",\"North America\",\"North America\",\"North America\",\"North America\",\"North America\",\"North America\",\"North America\",\"North America\",\"North America\",\"North America\",\"North America\",\"North America\",\"North America\",\"North America\",\"North America\",\"North America\",\"North America\",\"North America\",\"North America\",\"North America\",\"North America\",\"North America\",\"North America\",\"North America\",\"North America\",\"North America\",\"North America\",\"North America\",\"North America\",\"North America\",\"North America\",\"North America\",\"North America\",\"North America\",\"North America\",\"North America\",\"North America\",\"North America\",\"North America\",\"North America\",\"North America\",\"North America\",\"North America\",\"North America\",\"North America\",\"North America\",\"North America\",\"North America\",\"North America\",\"North America\",\"North America\",\"North America\",\"North America\",\"North America\",\"North America\",\"North America\",\"North America\",\"North America\",\"North America\",\"North America\",\"North America\",\"North America\",\"North America\",\"North America\",\"North America\",\"North America\",\"North America\",\"North America\",\"North America\",\"North America\",\"North America\",\"North America\",\"North America\",\"North America\",\"North America\",\"North America\",\"North America\",\"North America\",\"North America\",\"North America\",\"North America\",\"North America\",\"North America\",\"North America\",\"North America\",\"North America\",\"North America\",\"North America\",\"North America\",\"North America\",\"North America\",\"North America\",\"North America\",\"North America\",\"North America\",\"North America\",\"North America\",\"North America\",\"North America\",\"North America\",\"North America\",\"North America\",\"North America\",\"North America\",\"North America\",\"North America\",\"North America\",\"North America\",\"North America\",\"North America\",\"North America\",\"North America\",\"North America\",\"North America\",\"North America\",\"North America\",\"North America\",\"North America\",\"North America\",\"North America\",\"North America\",\"North America\",\"North America\",\"North America\",\"North America\",\"North America\",\"North America\",\"North America\",\"North America\",\"North America\",\"North America\",\"North America\",\"North America\",\"North America\",\"North America\",\"North America\",\"North America\",\"North America\",\"North America\",\"North America\",\"North America\",\"North America\",\"North America\",\"North America\",\"North America\",\"North America\",\"North America\",\"North America\",\"North America\",\"North America\",\"North America\",\"North America\",\"North America\",\"North America\",\"North America\",\"North America\",\"North America\",\"North America\",\"North America\",\"North America\"],\"legendgroup\":\"North America\",\"marker\":{\"color\":\"#636efa\",\"size\":[4.8,5.1,3.7,3.9,4.1,3.23,3.43,3.44,4.69,3.5,3.8,3.3,3.8,3.9,3.35,3.94,3.45,3.09,4.28,3.47,3.32,3.1,3.1,3.0,3.46,3.4,3.5,3.4,3.6,3.6,3.3,3.9,3.31,3.9,3.4,3.3,3.2,3.3,4.3,4.3,3.3,3.0,3.9,4.2,3.8,3.29,3.61,4.4,4.1,4.39,3.66,3.6,3.6,4.44,3.78,3.64,3.5,3.44,3.58,4.06,3.22,3.6,4.6,5.22,3.3,3.4,3.5,3.51,4.89,4.47,4.5,3.45,3.4,4.0,4.2,3.56,3.48,3.5,3.01,3.48,3.3,3.2,3.44,3.9,3.8,3.8,3.5,3.5,3.7,3.8,3.01,3.5,4.1,4.2,3.9,3.6,4.5,6.5,4.3,3.9,4.0,3.9,3.5,3.9,4.3,3.5,3.1,3.4,4.6,3.7,4.8,3.9,3.1,3.8,3.3,3.6,3.7,3.5,3.6,3.7,3.5,3.1,3.8,4.6,5.1,4.8,5.2,4.5,3.5,3.9,3.7,4.2,3.6,3.7,3.6,4.8,5.1,3.9,4.1,3.8,3.3,3.8,3.9,3.4,3.6,3.6,3.3,3.9,3.9,4.2,3.8,3.6,3.6,3.6,3.6,5.4,3.3,3.4,3.5,3.6,3.8,4.1,4.5,4.8,5.1,4.1,4.0,3.4,4.4,4.9,4.0,4.2,6.2,3.7,3.6,3.5,3.5,3.7,3.8,3.3,3.4,3.7,3.9,3.7,3.5,4.1,3.8,3.9,3.4,6.4,3.8,3.5,3.5,3.3,3.5,3.2,3.5,3.8,3.6,3.9,5.4,5.6,5.5,3.3,4.4,5.0,3.2,3.4,5.6,5.6,3.5,3.8,3.3,3.3,3.5,3.9,3.8,3.5,3.5,4.0,3.3,3.6,3.7,3.7,3.7,4.7,4.7,4.3,4.4,3.9,3.9,3.9,3.9,3.5,4.2,3.7,6.5,3.9,4.1,3.23,3.43,3.44,4.69,3.5,3.8,3.3,3.8,3.9,3.35,3.94,3.45,3.09,4.28,3.47,3.32,3.1,3.1,3.0,3.46,3.4,3.5,3.6,3.3,3.9,3.31,3.9,3.4,3.3,3.2,3.3,4.3,4.3,3.3,3.0,3.9,4.2,3.29,3.61,4.4,4.1,4.39,3.66,4.44,3.78,3.64,3.5,3.44,3.58,4.06,3.22,3.6,4.6,5.22,3.3,3.4,3.5,3.51,4.89,4.47,3.45,3.4,4.0,4.2,3.56,3.48,3.5,3.01,3.48,3.3,3.2,3.44,3.9,3.8,3.8,3.5,3.5,3.7,3.8,3.01,3.5,4.1,3.86,3.24,3.44,4.09,3.59,4.8,5.1,3.9,4.1,3.8,3.3,3.8,3.9,3.4,3.6,3.6,3.3,3.9,3.9,4.2,3.8,3.6,3.6,3.6,3.6,3.17,5.4,3.3,3.4,3.5,3.6,3.8,4.1,4.5,4.8,5.1,4.1,4.0,3.4,4.4,4.9,4.0,4.2,3.7,3.6,3.56,3.46,3.44,3.5,3.5,3.7,3.8,3.3,3.4,3.7,3.9,3.7,3.5,4.1,3.8,3.9,3.4,3.8,3.8,3.5,3.5,3.3,3.5,3.2,3.5,3.8,3.6,3.9,5.4,5.6,3.3,4.4,3.2,3.4,3.5,3.8,3.3,3.3,3.5,3.9,3.5,3.5,4.0,3.3,3.6,3.7,3.7,3.7,4.7,4.7,4.3,4.4,3.9,3.9,3.9,3.5,3.8,3.7,4.0,5.06,3.8,3.17,3.56,3.46,3.8,3.7,4.8,5.06,5.1,3.6,4.1,4.5,4.26,3.4,3.8,3.5,3.6,4.0,3.68,3.6],\"sizemode\":\"area\",\"sizeref\":0.019,\"symbol\":\"circle\"},\"mode\":\"markers\",\"name\":\"North America\",\"showlegend\":true,\"x\":[6,6,4,3,3,4,4,4,5,0,3,3,3,3,4,5,4,4,5,3,3,0,0,0,3,3,3,0,0,0,0,0,3,3,0,0,0,2,4,4,3,2,3,1,5,3,4,4,4,5,5,2,3,4,5,4,2,5,5,5,2,2,4,7,0,0,0,6,6,6,7,3,0,4,5,4,0,4,4,3,0,2,3,3,0,4,0,0,0,0,4,0,3,0,0,0,3,5,3,0,0,2,4,0,0,2,3,0,6,3,3,0,2,3,3,1,3,0,0,0,0,2,3,4,0,3,3,4,0,3,0,0,0,0,3,6,6,3,3,3,3,3,3,0,0,0,0,0,3,1,5,4,5,2,3,5,0,0,0,2,3,6,7,6,6,4,4,0,5,6,4,5,4,0,4,0,0,0,0,2,0,2,0,0,1,5,5,2,0,7,3,0,2,0,0,0,0,0,0,0,1,3,4,3,6,0,0,0,4,4,0,4,0,0,0,3,3,6,5,4,0,0,5,2,3,5,5,5,5,5,4,0,2,3,0,4,5,3,3,4,4,4,5,0,3,3,3,3,4,5,4,4,5,3,3,0,0,0,3,3,3,0,0,0,3,3,0,0,0,2,4,4,3,2,3,1,3,4,4,4,5,5,4,5,4,2,5,5,5,2,2,4,7,0,0,0,6,6,6,3,0,4,5,4,0,4,4,3,0,2,3,3,0,4,0,0,0,0,4,0,3,3,3,5,7,3,6,6,3,3,3,3,3,3,0,0,0,0,0,3,1,5,4,5,2,3,5,5,0,0,0,2,3,6,7,6,6,4,4,0,5,6,4,5,0,4,4,4,3,0,0,0,0,2,0,2,0,0,1,5,5,2,0,6,3,0,2,0,0,0,0,0,0,0,1,3,3,6,0,0,0,4,0,0,0,3,6,5,4,0,0,5,2,3,5,5,5,5,5,4,2,3,4,4,5,7,5,5,4,4,6,5,6,7,6,4,5,5,5,4,5,5,5,6,5,5],\"xaxis\":\"x\",\"y\":[4.8,5.1,3.7,3.9,4.1,3.23,3.43,3.44,4.69,3.5,3.8,3.3,3.8,3.9,3.35,3.94,3.45,3.09,4.28,3.47,3.32,3.1,3.1,3.0,3.46,3.4,3.5,3.4,3.6,3.6,3.3,3.9,3.31,3.9,3.4,3.3,3.2,3.3,4.3,4.3,3.3,3.0,3.9,4.2,3.8,3.29,3.61,4.4,4.1,4.39,3.66,3.6,3.6,4.44,3.78,3.64,3.5,3.44,3.58,4.06,3.22,3.6,4.6,5.22,3.3,3.4,3.5,3.51,4.89,4.47,4.5,3.45,3.4,4.0,4.2,3.56,3.48,3.5,3.01,3.48,3.3,3.2,3.44,3.9,3.8,3.8,3.5,3.5,3.7,3.8,3.01,3.5,4.1,4.2,3.9,3.6,4.5,6.5,4.3,3.9,4.0,3.9,3.5,3.9,4.3,3.5,3.1,3.4,4.6,3.7,4.8,3.9,3.1,3.8,3.3,3.6,3.7,3.5,3.6,3.7,3.5,3.1,3.8,4.6,5.1,4.8,5.2,4.5,3.5,3.9,3.7,4.2,3.6,3.7,3.6,4.8,5.1,3.9,4.1,3.8,3.3,3.8,3.9,3.4,3.6,3.6,3.3,3.9,3.9,4.2,3.8,3.6,3.6,3.6,3.6,5.4,3.3,3.4,3.5,3.6,3.8,4.1,4.5,4.8,5.1,4.1,4.0,3.4,4.4,4.9,4.0,4.2,6.2,3.7,3.6,3.5,3.5,3.7,3.8,3.3,3.4,3.7,3.9,3.7,3.5,4.1,3.8,3.9,3.4,6.4,3.8,3.5,3.5,3.3,3.5,3.2,3.5,3.8,3.6,3.9,5.4,5.6,5.5,3.3,4.4,5.0,3.2,3.4,5.6,5.6,3.5,3.8,3.3,3.3,3.5,3.9,3.8,3.5,3.5,4.0,3.3,3.6,3.7,3.7,3.7,4.7,4.7,4.3,4.4,3.9,3.9,3.9,3.9,3.5,4.2,3.7,6.5,3.9,4.1,3.23,3.43,3.44,4.69,3.5,3.8,3.3,3.8,3.9,3.35,3.94,3.45,3.09,4.28,3.47,3.32,3.1,3.1,3.0,3.46,3.4,3.5,3.6,3.3,3.9,3.31,3.9,3.4,3.3,3.2,3.3,4.3,4.3,3.3,3.0,3.9,4.2,3.29,3.61,4.4,4.1,4.39,3.66,4.44,3.78,3.64,3.5,3.44,3.58,4.06,3.22,3.6,4.6,5.22,3.3,3.4,3.5,3.51,4.89,4.47,3.45,3.4,4.0,4.2,3.56,3.48,3.5,3.01,3.48,3.3,3.2,3.44,3.9,3.8,3.8,3.5,3.5,3.7,3.8,3.01,3.5,4.1,3.86,3.24,3.44,4.09,3.59,4.8,5.1,3.9,4.1,3.8,3.3,3.8,3.9,3.4,3.6,3.6,3.3,3.9,3.9,4.2,3.8,3.6,3.6,3.6,3.6,3.17,5.4,3.3,3.4,3.5,3.6,3.8,4.1,4.5,4.8,5.1,4.1,4.0,3.4,4.4,4.9,4.0,4.2,3.7,3.6,3.56,3.46,3.44,3.5,3.5,3.7,3.8,3.3,3.4,3.7,3.9,3.7,3.5,4.1,3.8,3.9,3.4,3.8,3.8,3.5,3.5,3.3,3.5,3.2,3.5,3.8,3.6,3.9,5.4,5.6,3.3,4.4,3.2,3.4,3.5,3.8,3.3,3.3,3.5,3.9,3.5,3.5,4.0,3.3,3.6,3.7,3.7,3.7,4.7,4.7,4.3,4.4,3.9,3.9,3.9,3.5,3.8,3.7,4.0,5.06,3.8,3.17,3.56,3.46,3.8,3.7,4.8,5.06,5.1,3.6,4.1,4.5,4.26,3.4,3.8,3.5,3.6,4.0,3.68,3.6],\"yaxis\":\"y\",\"type\":\"scattergl\"},{\"hovertemplate\":\"\\u003cb\\u003e%{hovertext}\\u003c\\u002fb\\u003e\\u003cbr\\u003e\\u003cbr\\u003econtinent=Asia\\u003cbr\\u003eMagnitude sentida segundo relatos=%{x}\\u003cbr\\u003eMagnitude=%{marker.size}\\u003cextra\\u003e\\u003c\\u002fextra\\u003e\",\"hovertext\":[\"Asia\",\"Asia\",\"Asia\",\"Asia\",\"Asia\",\"Asia\",\"Asia\",\"Asia\",\"Asia\",\"Asia\",\"Asia\",\"Asia\",\"Asia\",\"Asia\",\"Asia\",\"Asia\",\"Asia\",\"Asia\",\"Asia\",\"Asia\",\"Asia\",\"Asia\",\"Asia\",\"Asia\",\"Asia\",\"Asia\",\"Asia\",\"Asia\",\"Asia\",\"Asia\",\"Asia\",\"Asia\",\"Asia\",\"Asia\",\"Asia\",\"Asia\",\"Asia\",\"Asia\",\"Asia\",\"Asia\",\"Asia\",\"Asia\",\"Asia\",\"Asia\",\"Asia\",\"Asia\",\"Asia\",\"Asia\",\"Asia\",\"Asia\",\"Asia\",\"Asia\",\"Asia\",\"Asia\",\"Asia\",\"Asia\",\"Asia\",\"Asia\",\"Asia\",\"Asia\",\"Asia\",\"Asia\",\"Asia\",\"Asia\",\"Asia\",\"Asia\",\"Asia\",\"Asia\",\"Asia\",\"Asia\",\"Asia\",\"Asia\",\"Asia\",\"Asia\",\"Asia\",\"Asia\",\"Asia\",\"Asia\",\"Asia\",\"Asia\",\"Asia\",\"Asia\",\"Asia\",\"Asia\",\"Asia\",\"Asia\",\"Asia\",\"Asia\",\"Asia\",\"Asia\",\"Asia\",\"Asia\",\"Asia\",\"Asia\",\"Asia\",\"Asia\",\"Asia\",\"Asia\",\"Asia\",\"Asia\",\"Asia\",\"Asia\",\"Asia\",\"Asia\",\"Asia\",\"Asia\",\"Asia\",\"Asia\",\"Asia\",\"Asia\",\"Asia\",\"Asia\",\"Asia\",\"Asia\",\"Asia\",\"Asia\",\"Asia\",\"Asia\",\"Asia\",\"Asia\",\"Asia\",\"Asia\",\"Asia\",\"Asia\",\"Asia\",\"Asia\",\"Asia\",\"Asia\",\"Asia\",\"Asia\",\"Asia\",\"Asia\",\"Asia\",\"Asia\",\"Asia\",\"Asia\",\"Asia\",\"Asia\",\"Asia\",\"Asia\",\"Asia\",\"Asia\",\"Asia\",\"Asia\",\"Asia\",\"Asia\",\"Asia\",\"Asia\",\"Asia\",\"Asia\",\"Asia\",\"Asia\",\"Asia\",\"Asia\",\"Asia\",\"Asia\",\"Asia\",\"Asia\",\"Asia\",\"Asia\",\"Asia\",\"Asia\",\"Asia\",\"Asia\",\"Asia\",\"Asia\",\"Asia\",\"Asia\",\"Asia\",\"Asia\",\"Asia\",\"Asia\",\"Asia\",\"Asia\",\"Asia\",\"Asia\",\"Asia\",\"Asia\",\"Asia\",\"Asia\",\"Asia\",\"Asia\",\"Asia\",\"Asia\",\"Asia\",\"Asia\",\"Asia\",\"Asia\",\"Asia\",\"Asia\",\"Asia\",\"Asia\",\"Asia\",\"Asia\",\"Asia\",\"Asia\",\"Asia\",\"Asia\",\"Asia\",\"Asia\",\"Asia\",\"Asia\",\"Asia\",\"Asia\",\"Asia\",\"Asia\",\"Asia\",\"Asia\",\"Asia\",\"Asia\",\"Asia\",\"Asia\",\"Asia\",\"Asia\",\"Asia\",\"Asia\",\"Asia\",\"Asia\",\"Asia\",\"Asia\",\"Asia\",\"Asia\",\"Asia\",\"Asia\",\"Asia\",\"Asia\",\"Asia\",\"Asia\",\"Asia\",\"Asia\",\"Asia\",\"Asia\",\"Asia\",\"Asia\",\"Asia\",\"Asia\",\"Asia\",\"Asia\",\"Asia\",\"Asia\",\"Asia\",\"Asia\",\"Asia\",\"Asia\",\"Asia\",\"Asia\",\"Asia\",\"Asia\",\"Asia\",\"Asia\",\"Asia\",\"Asia\",\"Asia\",\"Asia\",\"Asia\",\"Asia\",\"Asia\",\"Asia\",\"Asia\",\"Asia\",\"Asia\",\"Asia\",\"Asia\",\"Asia\",\"Asia\",\"Asia\",\"Asia\",\"Asia\",\"Asia\",\"Asia\",\"Asia\",\"Asia\",\"Asia\",\"Asia\",\"Asia\",\"Asia\",\"Asia\",\"Asia\",\"Asia\",\"Asia\",\"Asia\",\"Asia\",\"Asia\",\"Asia\",\"Asia\",\"Asia\",\"Asia\",\"Asia\",\"Asia\",\"Asia\",\"Asia\",\"Asia\",\"Asia\",\"Asia\",\"Asia\",\"Asia\",\"Asia\",\"Asia\",\"Asia\",\"Asia\",\"Asia\",\"Asia\",\"Asia\",\"Asia\",\"Asia\",\"Asia\",\"Asia\",\"Asia\",\"Asia\",\"Asia\",\"Asia\",\"Asia\",\"Asia\",\"Asia\",\"Asia\",\"Asia\",\"Asia\",\"Asia\",\"Asia\",\"Asia\",\"Asia\",\"Asia\",\"Asia\",\"Asia\",\"Asia\",\"Asia\",\"Asia\",\"Asia\",\"Asia\",\"Asia\",\"Asia\",\"Asia\",\"Asia\"],\"legendgroup\":\"Asia\",\"marker\":{\"color\":\"#00cc96\",\"size\":[5.4,5.4,5.9,5.4,5.1,5.5,5.4,5.7,5.6,5.4,5.4,5.7,5.3,5.1,5.5,5.4,5.8,7.0,6.4,5.1,5.5,5.2,5.7,5.3,5.7,5.4,5.2,5.7,4.9,5.3,5.8,6.1,5.4,5.3,7.1,5.7,5.8,5.2,5.6,5.2,5.7,5.8,5.4,5.4,5.5,6.1,6.1,5.8,5.6,5.0,6.3,5.9,5.4,6.1,5.7,5.7,5.3,5.6,5.3,5.6,6.4,7.4,5.9,5.6,5.6,5.9,5.4,5.6,5.5,5.6,6.2,7.5,5.8,6.5,5.8,5.8,5.6,5.1,5.1,5.5,5.7,6.1,6.4,5.6,5.2,5.6,5.6,5.4,4.8,5.2,5.5,5.3,5.4,5.3,5.5,5.1,6.4,5.4,4.8,5.3,5.0,5.5,5.4,6.3,6.3,5.9,6.3,5.4,6.3,5.2,5.8,5.3,5.4,5.3,7.1,5.7,5.8,6.3,5.9,5.4,6.1,5.7,5.9,5.6,5.6,5.9,5.4,5.6,5.5,5.6,6.2,7.5,5.8,6.5,5.8,5.8,5.6,5.5,5.4,5.7,5.0,6.8,5.4,5.6,5.8,5.2,5.5,5.0,5.7,6.1,6.4,5.7,6.4,5.6,5.7,6.0,5.2,5.4,5.4,5.1,4.9,5.6,5.3,5.4,5.8,5.6,5.6,6.7,5.3,5.4,4.9,5.8,5.5,5.7,5.2,5.3,5.7,5.3,5.3,5.5,5.4,5.3,6.9,6.0,5.4,5.4,5.6,5.5,5.7,6.6,5.4,5.5,6.0,5.4,5.3,5.4,6.3,5.6,5.4,5.4,5.6,6.1,5.7,5.4,5.7,5.6,6.4,5.5,5.4,5.4,5.8,5.4,5.4,7.6,6.0,6.7,5.8,5.2,5.7,6.1,5.4,5.5,5.9,6.0,5.4,5.4,5.3,7.1,5.7,5.8,6.3,5.9,5.4,6.1,5.7,5.9,5.6,5.6,5.9,5.4,5.6,5.5,5.6,6.2,7.5,5.8,6.5,5.8,5.8,5.6,6.1,5.4,5.3,7.1,5.7,5.8,5.2,5.6,5.2,5.7,5.8,5.4,5.4,5.5,6.1,6.1,5.8,5.6,5.0,6.3,5.9,5.4,6.1,5.7,5.7,5.3,5.6,5.3,5.6,6.4,7.4,5.9,5.6,5.6,5.9,5.4,5.6,5.5,5.6,6.2,7.5,5.8,5.8,5.4,5.6,5.4,4.8,5.2,5.5,5.3,5.4,5.4,5.1,5.5,5.4,5.3,5.5,5.1,5.4,5.7,5.3,5.1,5.5,5.4,5.8,7.0,6.4,5.1,5.3,5.7,5.2,5.3,5.0,5.5,5.4,6.3,6.3,5.9,6.3,5.4,6.3,5.7,5.8],\"sizemode\":\"area\",\"sizeref\":0.019,\"symbol\":\"circle\"},\"mode\":\"markers\",\"name\":\"Asia\",\"showlegend\":true,\"x\":[8,4,0,4,3,0,0,5,0,0,4,3,4,4,5,4,8,9,5,5,6,3,7,3,7,4,4,8,7,6,5,5,5,2,8,7,5,8,6,5,5,8,0,0,3,7,7,5,5,0,8,2,0,4,6,3,1,0,0,7,8,9,7,5,6,4,2,0,6,0,9,9,4,6,4,3,0,4,0,0,8,8,9,7,0,7,7,4,3,6,6,7,8,4,5,0,5,4,3,4,5,4,0,8,7,5,9,0,8,6,5,7,5,2,8,7,5,8,2,0,4,6,7,5,6,4,2,0,6,0,9,9,4,6,4,3,0,5,6,6,0,7,3,0,2,4,0,0,6,8,2,0,9,7,0,3,0,4,3,0,0,7,3,4,5,6,5,5,0,0,0,4,0,2,3,0,2,0,0,0,1,0,7,3,0,0,0,0,0,7,3,0,0,0,0,0,3,0,0,0,0,6,0,0,2,2,7,0,0,0,0,0,0,9,2,9,0,0,2,8,0,0,6,4,6,5,2,8,7,5,8,2,0,4,6,7,5,6,4,2,0,6,0,9,9,4,6,4,3,0,5,5,2,8,7,5,8,6,5,5,8,0,0,3,7,7,5,5,0,8,2,0,4,6,3,1,0,0,7,8,9,7,5,6,4,2,0,6,0,9,9,4,4,9,7,4,3,6,6,7,8,4,3,0,0,4,5,0,4,3,4,4,5,4,8,9,5,5,3,7,4,4,5,4,0,8,7,5,9,0,8,8,5],\"xaxis\":\"x\",\"y\":[5.4,5.4,5.9,5.4,5.1,5.5,5.4,5.7,5.6,5.4,5.4,5.7,5.3,5.1,5.5,5.4,5.8,7.0,6.4,5.1,5.5,5.2,5.7,5.3,5.7,5.4,5.2,5.7,4.9,5.3,5.8,6.1,5.4,5.3,7.1,5.7,5.8,5.2,5.6,5.2,5.7,5.8,5.4,5.4,5.5,6.1,6.1,5.8,5.6,5.0,6.3,5.9,5.4,6.1,5.7,5.7,5.3,5.6,5.3,5.6,6.4,7.4,5.9,5.6,5.6,5.9,5.4,5.6,5.5,5.6,6.2,7.5,5.8,6.5,5.8,5.8,5.6,5.1,5.1,5.5,5.7,6.1,6.4,5.6,5.2,5.6,5.6,5.4,4.8,5.2,5.5,5.3,5.4,5.3,5.5,5.1,6.4,5.4,4.8,5.3,5.0,5.5,5.4,6.3,6.3,5.9,6.3,5.4,6.3,5.2,5.8,5.3,5.4,5.3,7.1,5.7,5.8,6.3,5.9,5.4,6.1,5.7,5.9,5.6,5.6,5.9,5.4,5.6,5.5,5.6,6.2,7.5,5.8,6.5,5.8,5.8,5.6,5.5,5.4,5.7,5.0,6.8,5.4,5.6,5.8,5.2,5.5,5.0,5.7,6.1,6.4,5.7,6.4,5.6,5.7,6.0,5.2,5.4,5.4,5.1,4.9,5.6,5.3,5.4,5.8,5.6,5.6,6.7,5.3,5.4,4.9,5.8,5.5,5.7,5.2,5.3,5.7,5.3,5.3,5.5,5.4,5.3,6.9,6.0,5.4,5.4,5.6,5.5,5.7,6.6,5.4,5.5,6.0,5.4,5.3,5.4,6.3,5.6,5.4,5.4,5.6,6.1,5.7,5.4,5.7,5.6,6.4,5.5,5.4,5.4,5.8,5.4,5.4,7.6,6.0,6.7,5.8,5.2,5.7,6.1,5.4,5.5,5.9,6.0,5.4,5.4,5.3,7.1,5.7,5.8,6.3,5.9,5.4,6.1,5.7,5.9,5.6,5.6,5.9,5.4,5.6,5.5,5.6,6.2,7.5,5.8,6.5,5.8,5.8,5.6,6.1,5.4,5.3,7.1,5.7,5.8,5.2,5.6,5.2,5.7,5.8,5.4,5.4,5.5,6.1,6.1,5.8,5.6,5.0,6.3,5.9,5.4,6.1,5.7,5.7,5.3,5.6,5.3,5.6,6.4,7.4,5.9,5.6,5.6,5.9,5.4,5.6,5.5,5.6,6.2,7.5,5.8,5.8,5.4,5.6,5.4,4.8,5.2,5.5,5.3,5.4,5.4,5.1,5.5,5.4,5.3,5.5,5.1,5.4,5.7,5.3,5.1,5.5,5.4,5.8,7.0,6.4,5.1,5.3,5.7,5.2,5.3,5.0,5.5,5.4,6.3,6.3,5.9,6.3,5.4,6.3,5.7,5.8],\"yaxis\":\"y\",\"type\":\"scattergl\"},{\"hovertemplate\":\"\\u003cb\\u003e%{hovertext}\\u003c\\u002fb\\u003e\\u003cbr\\u003e\\u003cbr\\u003econtinent=South America\\u003cbr\\u003eMagnitude sentida segundo relatos=%{x}\\u003cbr\\u003eMagnitude=%{marker.size}\\u003cextra\\u003e\\u003c\\u002fextra\\u003e\",\"hovertext\":[\"South America\",\"South America\",\"South America\",\"South America\",\"South America\",\"South America\",\"South America\",\"South America\",\"South America\",\"South America\",\"South America\",\"South America\",\"South America\",\"South America\",\"South America\",\"South America\",\"South America\",\"South America\",\"South America\",\"South America\",\"South America\",\"South America\",\"South America\",\"South America\",\"South America\",\"South America\",\"South America\",\"South America\",\"South America\",\"South America\",\"South America\",\"South America\",\"South America\",\"South America\",\"South America\",\"South America\",\"South America\",\"South America\",\"South America\",\"South America\",\"South America\",\"South America\",\"South America\",\"South America\",\"South America\",\"South America\",\"South America\",\"South America\",\"South America\",\"South America\",\"South America\",\"South America\",\"South America\",\"South America\",\"South America\",\"South America\",\"South America\",\"South America\",\"South America\",\"South America\",\"South America\",\"South America\",\"South America\",\"South America\",\"South America\",\"South America\",\"South America\",\"South America\",\"South America\",\"South America\",\"South America\",\"South America\",\"South America\",\"South America\",\"South America\"],\"legendgroup\":\"South America\",\"marker\":{\"color\":\"#ab63fa\",\"size\":[5.7,5.7,5.5,7.4,5.8,5.4,5.3,5.4,5.3,5.4,5.5,5.8,5.6,5.5,5.8,6.6,5.4,6.0,5.6,5.3,6.2,6.2,6.6,5.7,5.8,5.7,5.5,7.4,5.6,5.8,5.4,5.4,6.1,7.2,5.5,6.0,6.5,5.3,5.3,6.6,5.4,5.6,6.2,5.5,5.7,5.8,6.0,5.6,5.3,6.2,5.4,5.8,5.7,5.5,7.4,5.8,5.4,5.3,5.4,5.3,5.4,5.5,5.8,5.6,5.5,6.6,5.4,6.0,5.6,5.3,6.2,6.2,6.6,5.7,5.8],\"sizemode\":\"area\",\"sizeref\":0.019,\"symbol\":\"circle\"},\"mode\":\"markers\",\"name\":\"South America\",\"showlegend\":true,\"x\":[4,3,4,7,5,3,2,0,2,0,0,4,6,1,5,7,4,4,5,5,1,1,7,6,3,3,4,7,3,5,4,6,7,8,4,7,3,2,2,4,0,6,6,1,5,5,4,5,5,1,7,3,4,4,7,5,3,2,0,2,0,0,4,6,1,7,4,4,5,5,1,1,7,6,3],\"xaxis\":\"x\",\"y\":[5.7,5.7,5.5,7.4,5.8,5.4,5.3,5.4,5.3,5.4,5.5,5.8,5.6,5.5,5.8,6.6,5.4,6.0,5.6,5.3,6.2,6.2,6.6,5.7,5.8,5.7,5.5,7.4,5.6,5.8,5.4,5.4,6.1,7.2,5.5,6.0,6.5,5.3,5.3,6.6,5.4,5.6,6.2,5.5,5.7,5.8,6.0,5.6,5.3,6.2,5.4,5.8,5.7,5.5,7.4,5.8,5.4,5.3,5.4,5.3,5.4,5.5,5.8,5.6,5.5,6.6,5.4,6.0,5.6,5.3,6.2,6.2,6.6,5.7,5.8],\"yaxis\":\"y\",\"type\":\"scattergl\"},{\"hovertemplate\":\"\\u003cb\\u003e%{hovertext}\\u003c\\u002fb\\u003e\\u003cbr\\u003e\\u003cbr\\u003econtinent=Europe\\u003cbr\\u003eMagnitude sentida segundo relatos=%{x}\\u003cbr\\u003eMagnitude=%{marker.size}\\u003cextra\\u003e\\u003c\\u002fextra\\u003e\",\"hovertext\":[\"Europe\",\"Europe\",\"Europe\",\"Europe\",\"Europe\",\"Europe\",\"Europe\"],\"legendgroup\":\"Europe\",\"marker\":{\"color\":\"#FFA15A\",\"size\":[5.8,5.4,5.4,5.8,5.4,5.8,5.4],\"sizemode\":\"area\",\"sizeref\":0.019,\"symbol\":\"circle\"},\"mode\":\"markers\",\"name\":\"Europe\",\"showlegend\":true,\"x\":[7,9,9,7,9,7,9],\"xaxis\":\"x\",\"y\":[5.8,5.4,5.4,5.8,5.4,5.8,5.4],\"yaxis\":\"y\",\"type\":\"scattergl\"},{\"hovertemplate\":\"\\u003cb\\u003e%{hovertext}\\u003c\\u002fb\\u003e\\u003cbr\\u003e\\u003cbr\\u003econtinent=Insular Oceania\\u003cbr\\u003eMagnitude sentida segundo relatos=%{x}\\u003cbr\\u003eMagnitude=%{marker.size}\\u003cextra\\u003e\\u003c\\u002fextra\\u003e\",\"hovertext\":[\"Insular Oceania\"],\"legendgroup\":\"Insular Oceania\",\"marker\":{\"color\":\"#19d3f3\",\"size\":[4.9],\"sizemode\":\"area\",\"sizeref\":0.019,\"symbol\":\"circle\"},\"mode\":\"markers\",\"name\":\"Insular Oceania\",\"showlegend\":true,\"x\":[4],\"xaxis\":\"x\",\"y\":[4.9],\"yaxis\":\"y\",\"type\":\"scattergl\"},{\"hovertemplate\":\"\\u003cb\\u003e%{hovertext}\\u003c\\u002fb\\u003e\\u003cbr\\u003e\\u003cbr\\u003econtinent=Insluar Oceania\\u003cbr\\u003eMagnitude sentida segundo relatos=%{x}\\u003cbr\\u003eMagnitude=%{marker.size}\\u003cextra\\u003e\\u003c\\u002fextra\\u003e\",\"hovertext\":[\"Insluar Oceania\"],\"legendgroup\":\"Insluar Oceania\",\"marker\":{\"color\":\"#FF6692\",\"size\":[5.1],\"sizemode\":\"area\",\"sizeref\":0.019,\"symbol\":\"circle\"},\"mode\":\"markers\",\"name\":\"Insluar Oceania\",\"showlegend\":true,\"x\":[5],\"xaxis\":\"x\",\"y\":[5.1],\"yaxis\":\"y\",\"type\":\"scattergl\"},{\"hovertemplate\":\"\\u003cb\\u003e%{hovertext}\\u003c\\u002fb\\u003e\\u003cbr\\u003e\\u003cbr\\u003econtinent=Oceania\\u003cbr\\u003eMagnitude sentida segundo relatos=%{x}\\u003cbr\\u003eMagnitude=%{marker.size}\\u003cextra\\u003e\\u003c\\u002fextra\\u003e\",\"hovertext\":[\"Oceania\"],\"legendgroup\":\"Oceania\",\"marker\":{\"color\":\"#B6E880\",\"size\":[5.5],\"sizemode\":\"area\",\"sizeref\":0.019,\"symbol\":\"circle\"},\"mode\":\"markers\",\"name\":\"Oceania\",\"showlegend\":true,\"x\":[5],\"xaxis\":\"x\",\"y\":[5.5],\"yaxis\":\"y\",\"type\":\"scattergl\"},{\"hovertemplate\":\"\\u003cb\\u003e%{hovertext}\\u003c\\u002fb\\u003e\\u003cbr\\u003e\\u003cbr\\u003econtinent=Africa\\u003cbr\\u003eMagnitude sentida segundo relatos=%{x}\\u003cbr\\u003eMagnitude=%{marker.size}\\u003cextra\\u003e\\u003c\\u002fextra\\u003e\",\"hovertext\":[\"Africa\",\"Africa\",\"Africa\"],\"legendgroup\":\"Africa\",\"marker\":{\"color\":\"#FF97FF\",\"size\":[5.4,5.2,5.5],\"sizemode\":\"area\",\"sizeref\":0.019,\"symbol\":\"circle\"},\"mode\":\"markers\",\"name\":\"Africa\",\"showlegend\":true,\"x\":[4,4,4],\"xaxis\":\"x\",\"y\":[5.4,5.2,5.5],\"yaxis\":\"y\",\"type\":\"scattergl\"}],                        {\"template\":{\"data\":{\"histogram2dcontour\":[{\"type\":\"histogram2dcontour\",\"colorbar\":{\"outlinewidth\":0,\"ticks\":\"\"},\"colorscale\":[[0.0,\"#0d0887\"],[0.1111111111111111,\"#46039f\"],[0.2222222222222222,\"#7201a8\"],[0.3333333333333333,\"#9c179e\"],[0.4444444444444444,\"#bd3786\"],[0.5555555555555556,\"#d8576b\"],[0.6666666666666666,\"#ed7953\"],[0.7777777777777778,\"#fb9f3a\"],[0.8888888888888888,\"#fdca26\"],[1.0,\"#f0f921\"]]}],\"choropleth\":[{\"type\":\"choropleth\",\"colorbar\":{\"outlinewidth\":0,\"ticks\":\"\"}}],\"histogram2d\":[{\"type\":\"histogram2d\",\"colorbar\":{\"outlinewidth\":0,\"ticks\":\"\"},\"colorscale\":[[0.0,\"#0d0887\"],[0.1111111111111111,\"#46039f\"],[0.2222222222222222,\"#7201a8\"],[0.3333333333333333,\"#9c179e\"],[0.4444444444444444,\"#bd3786\"],[0.5555555555555556,\"#d8576b\"],[0.6666666666666666,\"#ed7953\"],[0.7777777777777778,\"#fb9f3a\"],[0.8888888888888888,\"#fdca26\"],[1.0,\"#f0f921\"]]}],\"heatmap\":[{\"type\":\"heatmap\",\"colorbar\":{\"outlinewidth\":0,\"ticks\":\"\"},\"colorscale\":[[0.0,\"#0d0887\"],[0.1111111111111111,\"#46039f\"],[0.2222222222222222,\"#7201a8\"],[0.3333333333333333,\"#9c179e\"],[0.4444444444444444,\"#bd3786\"],[0.5555555555555556,\"#d8576b\"],[0.6666666666666666,\"#ed7953\"],[0.7777777777777778,\"#fb9f3a\"],[0.8888888888888888,\"#fdca26\"],[1.0,\"#f0f921\"]]}],\"heatmapgl\":[{\"type\":\"heatmapgl\",\"colorbar\":{\"outlinewidth\":0,\"ticks\":\"\"},\"colorscale\":[[0.0,\"#0d0887\"],[0.1111111111111111,\"#46039f\"],[0.2222222222222222,\"#7201a8\"],[0.3333333333333333,\"#9c179e\"],[0.4444444444444444,\"#bd3786\"],[0.5555555555555556,\"#d8576b\"],[0.6666666666666666,\"#ed7953\"],[0.7777777777777778,\"#fb9f3a\"],[0.8888888888888888,\"#fdca26\"],[1.0,\"#f0f921\"]]}],\"contourcarpet\":[{\"type\":\"contourcarpet\",\"colorbar\":{\"outlinewidth\":0,\"ticks\":\"\"}}],\"contour\":[{\"type\":\"contour\",\"colorbar\":{\"outlinewidth\":0,\"ticks\":\"\"},\"colorscale\":[[0.0,\"#0d0887\"],[0.1111111111111111,\"#46039f\"],[0.2222222222222222,\"#7201a8\"],[0.3333333333333333,\"#9c179e\"],[0.4444444444444444,\"#bd3786\"],[0.5555555555555556,\"#d8576b\"],[0.6666666666666666,\"#ed7953\"],[0.7777777777777778,\"#fb9f3a\"],[0.8888888888888888,\"#fdca26\"],[1.0,\"#f0f921\"]]}],\"surface\":[{\"type\":\"surface\",\"colorbar\":{\"outlinewidth\":0,\"ticks\":\"\"},\"colorscale\":[[0.0,\"#0d0887\"],[0.1111111111111111,\"#46039f\"],[0.2222222222222222,\"#7201a8\"],[0.3333333333333333,\"#9c179e\"],[0.4444444444444444,\"#bd3786\"],[0.5555555555555556,\"#d8576b\"],[0.6666666666666666,\"#ed7953\"],[0.7777777777777778,\"#fb9f3a\"],[0.8888888888888888,\"#fdca26\"],[1.0,\"#f0f921\"]]}],\"mesh3d\":[{\"type\":\"mesh3d\",\"colorbar\":{\"outlinewidth\":0,\"ticks\":\"\"}}],\"scatter\":[{\"fillpattern\":{\"fillmode\":\"overlay\",\"size\":10,\"solidity\":0.2},\"type\":\"scatter\"}],\"parcoords\":[{\"type\":\"parcoords\",\"line\":{\"colorbar\":{\"outlinewidth\":0,\"ticks\":\"\"}}}],\"scatterpolargl\":[{\"type\":\"scatterpolargl\",\"marker\":{\"colorbar\":{\"outlinewidth\":0,\"ticks\":\"\"}}}],\"bar\":[{\"error_x\":{\"color\":\"#2a3f5f\"},\"error_y\":{\"color\":\"#2a3f5f\"},\"marker\":{\"line\":{\"color\":\"#E5ECF6\",\"width\":0.5},\"pattern\":{\"fillmode\":\"overlay\",\"size\":10,\"solidity\":0.2}},\"type\":\"bar\"}],\"scattergeo\":[{\"type\":\"scattergeo\",\"marker\":{\"colorbar\":{\"outlinewidth\":0,\"ticks\":\"\"}}}],\"scatterpolar\":[{\"type\":\"scatterpolar\",\"marker\":{\"colorbar\":{\"outlinewidth\":0,\"ticks\":\"\"}}}],\"histogram\":[{\"marker\":{\"pattern\":{\"fillmode\":\"overlay\",\"size\":10,\"solidity\":0.2}},\"type\":\"histogram\"}],\"scattergl\":[{\"type\":\"scattergl\",\"marker\":{\"colorbar\":{\"outlinewidth\":0,\"ticks\":\"\"}}}],\"scatter3d\":[{\"type\":\"scatter3d\",\"line\":{\"colorbar\":{\"outlinewidth\":0,\"ticks\":\"\"}},\"marker\":{\"colorbar\":{\"outlinewidth\":0,\"ticks\":\"\"}}}],\"scattermapbox\":[{\"type\":\"scattermapbox\",\"marker\":{\"colorbar\":{\"outlinewidth\":0,\"ticks\":\"\"}}}],\"scatterternary\":[{\"type\":\"scatterternary\",\"marker\":{\"colorbar\":{\"outlinewidth\":0,\"ticks\":\"\"}}}],\"scattercarpet\":[{\"type\":\"scattercarpet\",\"marker\":{\"colorbar\":{\"outlinewidth\":0,\"ticks\":\"\"}}}],\"carpet\":[{\"aaxis\":{\"endlinecolor\":\"#2a3f5f\",\"gridcolor\":\"white\",\"linecolor\":\"white\",\"minorgridcolor\":\"white\",\"startlinecolor\":\"#2a3f5f\"},\"baxis\":{\"endlinecolor\":\"#2a3f5f\",\"gridcolor\":\"white\",\"linecolor\":\"white\",\"minorgridcolor\":\"white\",\"startlinecolor\":\"#2a3f5f\"},\"type\":\"carpet\"}],\"table\":[{\"cells\":{\"fill\":{\"color\":\"#EBF0F8\"},\"line\":{\"color\":\"white\"}},\"header\":{\"fill\":{\"color\":\"#C8D4E3\"},\"line\":{\"color\":\"white\"}},\"type\":\"table\"}],\"barpolar\":[{\"marker\":{\"line\":{\"color\":\"#E5ECF6\",\"width\":0.5},\"pattern\":{\"fillmode\":\"overlay\",\"size\":10,\"solidity\":0.2}},\"type\":\"barpolar\"}],\"pie\":[{\"automargin\":true,\"type\":\"pie\"}]},\"layout\":{\"autotypenumbers\":\"strict\",\"colorway\":[\"#636efa\",\"#EF553B\",\"#00cc96\",\"#ab63fa\",\"#FFA15A\",\"#19d3f3\",\"#FF6692\",\"#B6E880\",\"#FF97FF\",\"#FECB52\"],\"font\":{\"color\":\"#2a3f5f\"},\"hovermode\":\"closest\",\"hoverlabel\":{\"align\":\"left\"},\"paper_bgcolor\":\"white\",\"plot_bgcolor\":\"#E5ECF6\",\"polar\":{\"bgcolor\":\"#E5ECF6\",\"angularaxis\":{\"gridcolor\":\"white\",\"linecolor\":\"white\",\"ticks\":\"\"},\"radialaxis\":{\"gridcolor\":\"white\",\"linecolor\":\"white\",\"ticks\":\"\"}},\"ternary\":{\"bgcolor\":\"#E5ECF6\",\"aaxis\":{\"gridcolor\":\"white\",\"linecolor\":\"white\",\"ticks\":\"\"},\"baxis\":{\"gridcolor\":\"white\",\"linecolor\":\"white\",\"ticks\":\"\"},\"caxis\":{\"gridcolor\":\"white\",\"linecolor\":\"white\",\"ticks\":\"\"}},\"coloraxis\":{\"colorbar\":{\"outlinewidth\":0,\"ticks\":\"\"}},\"colorscale\":{\"sequential\":[[0.0,\"#0d0887\"],[0.1111111111111111,\"#46039f\"],[0.2222222222222222,\"#7201a8\"],[0.3333333333333333,\"#9c179e\"],[0.4444444444444444,\"#bd3786\"],[0.5555555555555556,\"#d8576b\"],[0.6666666666666666,\"#ed7953\"],[0.7777777777777778,\"#fb9f3a\"],[0.8888888888888888,\"#fdca26\"],[1.0,\"#f0f921\"]],\"sequentialminus\":[[0.0,\"#0d0887\"],[0.1111111111111111,\"#46039f\"],[0.2222222222222222,\"#7201a8\"],[0.3333333333333333,\"#9c179e\"],[0.4444444444444444,\"#bd3786\"],[0.5555555555555556,\"#d8576b\"],[0.6666666666666666,\"#ed7953\"],[0.7777777777777778,\"#fb9f3a\"],[0.8888888888888888,\"#fdca26\"],[1.0,\"#f0f921\"]],\"diverging\":[[0,\"#8e0152\"],[0.1,\"#c51b7d\"],[0.2,\"#de77ae\"],[0.3,\"#f1b6da\"],[0.4,\"#fde0ef\"],[0.5,\"#f7f7f7\"],[0.6,\"#e6f5d0\"],[0.7,\"#b8e186\"],[0.8,\"#7fbc41\"],[0.9,\"#4d9221\"],[1,\"#276419\"]]},\"xaxis\":{\"gridcolor\":\"white\",\"linecolor\":\"white\",\"ticks\":\"\",\"title\":{\"standoff\":15},\"zerolinecolor\":\"white\",\"automargin\":true,\"zerolinewidth\":2},\"yaxis\":{\"gridcolor\":\"white\",\"linecolor\":\"white\",\"ticks\":\"\",\"title\":{\"standoff\":15},\"zerolinecolor\":\"white\",\"automargin\":true,\"zerolinewidth\":2},\"scene\":{\"xaxis\":{\"backgroundcolor\":\"#E5ECF6\",\"gridcolor\":\"white\",\"linecolor\":\"white\",\"showbackground\":true,\"ticks\":\"\",\"zerolinecolor\":\"white\",\"gridwidth\":2},\"yaxis\":{\"backgroundcolor\":\"#E5ECF6\",\"gridcolor\":\"white\",\"linecolor\":\"white\",\"showbackground\":true,\"ticks\":\"\",\"zerolinecolor\":\"white\",\"gridwidth\":2},\"zaxis\":{\"backgroundcolor\":\"#E5ECF6\",\"gridcolor\":\"white\",\"linecolor\":\"white\",\"showbackground\":true,\"ticks\":\"\",\"zerolinecolor\":\"white\",\"gridwidth\":2}},\"shapedefaults\":{\"line\":{\"color\":\"#2a3f5f\"}},\"annotationdefaults\":{\"arrowcolor\":\"#2a3f5f\",\"arrowhead\":0,\"arrowwidth\":1},\"geo\":{\"bgcolor\":\"white\",\"landcolor\":\"#E5ECF6\",\"subunitcolor\":\"white\",\"showland\":true,\"showlakes\":true,\"lakecolor\":\"white\"},\"title\":{\"x\":0.05},\"mapbox\":{\"style\":\"light\"}}},\"xaxis\":{\"anchor\":\"y\",\"domain\":[0.0,1.0],\"title\":{\"text\":\"Magnitude sentida segundo relatos\"}},\"yaxis\":{\"anchor\":\"x\",\"domain\":[0.0,1.0],\"title\":{\"text\":\"Magnitude\"}},\"legend\":{\"title\":{\"text\":\"continent\"},\"tracegroupgap\":0,\"itemsizing\":\"constant\"},\"title\":{\"text\":\"Dispers\\u00e3o de Magnitudes de Terremotos por Continente\"}},                        {\"responsive\": true}                    ).then(function(){\n",
       "                            \n",
       "var gd = document.getElementById('50a62615-e72b-45ba-b7ab-c4d1608e8c7f');\n",
       "var x = new MutationObserver(function (mutations, observer) {{\n",
       "        var display = window.getComputedStyle(gd).display;\n",
       "        if (!display || display === 'none') {{\n",
       "            console.log([gd, 'removed!']);\n",
       "            Plotly.purge(gd);\n",
       "            observer.disconnect();\n",
       "        }}\n",
       "}});\n",
       "\n",
       "// Listen for the removal of the full notebook cells\n",
       "var notebookContainer = gd.closest('#notebook-container');\n",
       "if (notebookContainer) {{\n",
       "    x.observe(notebookContainer, {childList: true});\n",
       "}}\n",
       "\n",
       "// Listen for the clearing of the current output cell\n",
       "var outputEl = gd.closest('.output');\n",
       "if (outputEl) {{\n",
       "    x.observe(outputEl, {childList: true});\n",
       "}}\n",
       "\n",
       "                        })                };                });            </script>        </div>"
      ]
     },
     "metadata": {},
     "output_type": "display_data"
    }
   ],
   "source": [
    "fig_scatter = px.scatter(\n",
    "    df_dropped,\n",
    "    x='cdi',  \n",
    "    y='magnitude', \n",
    "    labels={\n",
    "        'cdi': 'Magnitude sentida segundo relatos',\n",
    "        'magnitude': 'Magnitude'\n",
    "    },\n",
    "    title='Dispersão de Magnitudes de Terremotos por Continente',\n",
    "    color='continent', \n",
    "    size='magnitude', \n",
    "    hover_name='continent',  \n",
    "    size_max=20 \n",
    ")\n",
    "\n",
    "fig_scatter.show()"
   ]
  },
  {
   "cell_type": "code",
   "execution_count": 322,
   "id": "77de56fc-5b25-4871-b6b8-6632b31af675",
   "metadata": {},
   "outputs": [
    {
     "name": "stdout",
     "output_type": "stream",
     "text": [
      "<class 'pandas.core.frame.DataFrame'>\n",
      "RangeIndex: 1137 entries, 0 to 1136\n",
      "Data columns (total 13 columns):\n",
      " #   Column       Non-Null Count  Dtype         \n",
      "---  ------       --------------  -----         \n",
      " 0   magnitude    1137 non-null   float64       \n",
      " 1   data         1137 non-null   datetime64[ns]\n",
      " 2   hora         1137 non-null   object        \n",
      " 3   periodo      1137 non-null   object        \n",
      " 4   subnational  716 non-null    object        \n",
      " 5   city         674 non-null    object        \n",
      " 6   depth        1137 non-null   float64       \n",
      " 7   felt         1137 non-null   int64         \n",
      " 8   continent    867 non-null    object        \n",
      " 9   latitude     1137 non-null   float64       \n",
      " 10  longitude    1137 non-null   float64       \n",
      " 11  mmi          1137 non-null   int64         \n",
      " 12  cdi          1137 non-null   int64         \n",
      "dtypes: datetime64[ns](1), float64(4), int64(3), object(5)\n",
      "memory usage: 115.6+ KB\n"
     ]
    }
   ],
   "source": [
    "colunas_selecionadas = [\n",
    "    'magnitude', 'data', 'hora', 'periodo', 'subnational', 'city', 'depth', 'felt', 'continent', 'latitude', 'longitude', \n",
    "    'mmi', 'cdi'\n",
    "]\n",
    "\n",
    "df_selecionado = df_dropped[colunas_selecionadas]\n",
    "df_selecionado.info()"
   ]
  },
  {
   "cell_type": "code",
   "execution_count": 323,
   "id": "8a001e8d-3d28-463b-bf0b-fd0ebfee69f4",
   "metadata": {},
   "outputs": [
    {
     "name": "stdout",
     "output_type": "stream",
     "text": [
      "<class 'pandas.core.frame.DataFrame'>\n",
      "Index: 664 entries, 0 to 1136\n",
      "Data columns (total 13 columns):\n",
      " #   Column       Non-Null Count  Dtype         \n",
      "---  ------       --------------  -----         \n",
      " 0   magnitude    664 non-null    float64       \n",
      " 1   data         664 non-null    datetime64[ns]\n",
      " 2   hora         664 non-null    object        \n",
      " 3   periodo      664 non-null    object        \n",
      " 4   subnational  664 non-null    object        \n",
      " 5   city         664 non-null    object        \n",
      " 6   depth        664 non-null    float64       \n",
      " 7   felt         664 non-null    int64         \n",
      " 8   continent    664 non-null    object        \n",
      " 9   latitude     664 non-null    float64       \n",
      " 10  longitude    664 non-null    float64       \n",
      " 11  mmi          664 non-null    int64         \n",
      " 12  cdi          664 non-null    int64         \n",
      "dtypes: datetime64[ns](1), float64(4), int64(3), object(5)\n",
      "memory usage: 72.6+ KB\n"
     ]
    }
   ],
   "source": [
    "sem_nulos = df_selecionado.dropna(subset=['city', 'continent', 'subnational'])\n",
    "\n",
    "sem_nulos.info()"
   ]
  },
  {
   "cell_type": "code",
   "execution_count": 324,
   "id": "c37e8373-a235-4e42-8049-d4647b9a950a",
   "metadata": {},
   "outputs": [],
   "source": [
    "# Calcular os quartis Q1 e Q3 para a coluna 'depth'\n",
    "Q1_depth = sem_nulos['depth'].quantile(0.25)\n",
    "Q3_depth = sem_nulos['depth'].quantile(0.75)\n",
    "\n",
    "# Calcular o intervalo interquartílico (IQR) para 'depth'\n",
    "IQR_depth = Q3_depth - Q1_depth\n",
    "\n",
    "# Calcular os limites inferior e superior (fences) para 'depth'\n",
    "limite_inferior_depth = Q1_depth - 1.5 * IQR_depth\n",
    "limite_superior_depth = Q3_depth + 1.5 * IQR_depth\n",
    "\n",
    "# Remover outliers com base nos limites para 'depth'\n",
    "sem_nulos = sem_nulos[(sem_nulos['depth'] >= limite_inferior_depth) & (sem_nulos['depth'] <= limite_superior_depth)]\n",
    "\n",
    "# Calcular os quartis Q1 e Q3 para a coluna 'mmi'\n",
    "Q1_mmi = sem_nulos['mmi'].quantile(0.25)\n",
    "Q3_mmi = sem_nulos['mmi'].quantile(0.75)\n",
    "\n",
    "# Calcular o intervalo interquartílico (IQR) para 'mmi'\n",
    "IQR_mmi = Q3_mmi - Q1_mmi\n",
    "\n",
    "# Calcular os limites inferior e superior (fences) para 'mmi'\n",
    "limite_inferior_mmi = Q1_mmi - 1.5 * IQR_mmi\n",
    "limite_superior_mmi = Q3_mmi + 1.5 * IQR_mmi\n",
    "\n",
    "# Remover outliers com base nos limites para 'mmi'\n",
    "sem_nulos = sem_nulos[(sem_nulos['mmi'] >= limite_inferior_mmi) & (sem_nulos['mmi'] <= limite_superior_mmi)]\n",
    "\n",
    "# Calcular os quartis Q1 e Q3 para a coluna 'magnitude'\n",
    "Q1_magnitude = sem_nulos['magnitude'].quantile(0.25)\n",
    "Q3_magnitude = sem_nulos['magnitude'].quantile(0.75)\n",
    "\n",
    "# Calcular o intervalo interquartílico (IQR) para 'magnitude'\n",
    "IQR_magnitude = Q3_magnitude - Q1_magnitude\n",
    "\n",
    "# Calcular os limites inferior e superior (fences) para 'magnitude'\n",
    "limite_inferior_magnitude = Q1_magnitude - 1.5 * IQR_magnitude\n",
    "limite_superior_magnitude = Q3_magnitude + 1.5 * IQR_magnitude\n",
    "\n",
    "# Remover outliers com base nos limites para 'magnitude'\n",
    "sem_nulos = sem_nulos[(sem_nulos['magnitude'] >= limite_inferior_magnitude) & (sem_nulos['magnitude'] <= limite_superior_magnitude)]\n"
   ]
  },
  {
   "cell_type": "code",
   "execution_count": 325,
   "id": "dfec20dc-84bf-4aa5-b52b-4f6608b3313c",
   "metadata": {},
   "outputs": [
    {
     "data": {
      "application/vnd.plotly.v1+json": {
       "config": {
        "plotlyServerURL": "https://plot.ly"
       },
       "data": [
        {
         "alignmentgroup": "True",
         "hovertemplate": "Métrica=magnitude<br>Valor=%{y}<extra></extra>",
         "legendgroup": "magnitude",
         "marker": {
          "color": "#636efa"
         },
         "name": "magnitude",
         "notched": false,
         "offsetgroup": "magnitude",
         "orientation": "v",
         "showlegend": true,
         "type": "box",
         "x0": " ",
         "xaxis": "x",
         "y": [
          4.8,
          5.1,
          3.7,
          3.9,
          4.1,
          3.23,
          3.43,
          3.44,
          4.69,
          3.5,
          3.8,
          3.3,
          3.8,
          3.9,
          3.35,
          3.94,
          3.45,
          3.09,
          4.28,
          3.47,
          3.32,
          3.1,
          3.1,
          3,
          3.46,
          3.4,
          3.5,
          3.4,
          3.6,
          3.6,
          3.3,
          3.9,
          3.31,
          3.9,
          3.4,
          3.3,
          3.2,
          3.3,
          4.3,
          4.3,
          3.3,
          3,
          3.9,
          4.2,
          3.8,
          3.29,
          3.61,
          4.4,
          4.1,
          4.39,
          3.66,
          3.6,
          3.6,
          4.44,
          3.78,
          3.64,
          3.5,
          3.44,
          3.58,
          4.06,
          3.22,
          3.6,
          4.6,
          5.22,
          3.3,
          3.4,
          3.5,
          3.51,
          4.89,
          4.47,
          4.5,
          3.45,
          3.4,
          4,
          4.2,
          3.56,
          3.48,
          3.5,
          3.01,
          3.48,
          3.3,
          3.2,
          3.44,
          3.9,
          3.8,
          3.8,
          3.5,
          3.5,
          3.7,
          3.8,
          3.01,
          3.5,
          4.1,
          5.4,
          5.9,
          5.1,
          5.5,
          5.4,
          5.6,
          5.4,
          5.4,
          5.7,
          5.3,
          5.1,
          5.5,
          5.4,
          5.8,
          7,
          5.1,
          5.2,
          5.7,
          5.3,
          5.7,
          5.4,
          5.2,
          5.7,
          4.9,
          5.3,
          7.1,
          5.7,
          6.1,
          5.8,
          5.3,
          5.6,
          5.9,
          5.4,
          5.6,
          5.5,
          5.6,
          6.2,
          5.8,
          5.1,
          4.3,
          3.5,
          3.1,
          3.8,
          3.3,
          3.6,
          3.7,
          3.5,
          4.2,
          3.6,
          5.6,
          5.4,
          4.8,
          5.2,
          5.5,
          4.8,
          5.1,
          3.9,
          4.1,
          3.8,
          3.3,
          3.8,
          3.9,
          3.4,
          3.6,
          3.6,
          3.3,
          3.9,
          3.9,
          4.2,
          3.8,
          3.6,
          3.6,
          3.6,
          3.6,
          3.3,
          3.4,
          3.5,
          3.6,
          3.8,
          4.1,
          4.5,
          4.8,
          5.1,
          4.1,
          4,
          3.4,
          4.4,
          4.9,
          4,
          4.2,
          3.7,
          3.6,
          3.5,
          3.5,
          3.7,
          3.8,
          3.3,
          3.4,
          3.7,
          3.9,
          3.7,
          3.5,
          4.1,
          3.8,
          3.9,
          3.4,
          3.8,
          3.5,
          3.5,
          3.3,
          3.5,
          3.2,
          3.5,
          3.8,
          3.6,
          3.9,
          3.3,
          4.4,
          3.2,
          3.4,
          3.5,
          3.8,
          3.3,
          3.3,
          3.5,
          3.9,
          3.5,
          3.5,
          4,
          3.3,
          3.6,
          3.7,
          3.7,
          3.7,
          4.7,
          4.7,
          4.3,
          4.4,
          3.9,
          3.9,
          3.9,
          3.5,
          5.1,
          5.5,
          5.4,
          5.3,
          5.5,
          4.8,
          5.3,
          5,
          5.5,
          5.4,
          6.3,
          6.3,
          5.9,
          6.3,
          5.4,
          6.3,
          5.2,
          5.3,
          7.1,
          5.7,
          5.6,
          5.9,
          5.4,
          5.6,
          5.5,
          5.6,
          6.2,
          5.8,
          3.7,
          3.9,
          4.1,
          3.23,
          3.43,
          3.44,
          4.69,
          3.5,
          3.8,
          3.3,
          3.8,
          3.9,
          3.35,
          3.94,
          3.45,
          3.09,
          4.28,
          3.47,
          3.32,
          3.1,
          3.1,
          3,
          3.46,
          3.4,
          3.5,
          3.6,
          3.3,
          3.9,
          3.31,
          3.9,
          3.4,
          3.3,
          3.2,
          3.3,
          4.3,
          4.3,
          3.3,
          3,
          3.9,
          4.2,
          3.29,
          3.61,
          4.4,
          4.1,
          4.39,
          3.66,
          4.44,
          3.78,
          3.64,
          3.5,
          3.44,
          3.58,
          4.06,
          3.22,
          3.6,
          4.6,
          5.22,
          3.3,
          3.4,
          3.5,
          3.51,
          4.89,
          4.47,
          3.45,
          3.4,
          4,
          4.2,
          3.56,
          3.48,
          3.5,
          3.01,
          3.48,
          3.3,
          3.2,
          3.44,
          3.9,
          3.8,
          3.8,
          3.5,
          3.5,
          3.7,
          3.8,
          3.01,
          3.5,
          4.1,
          3.86,
          3.24,
          3.44,
          4.09,
          3.59,
          5.5,
          5.9,
          5.3,
          7.1,
          5.7,
          5.6,
          5.9,
          5.4,
          5.6,
          5.5,
          5.6,
          6.2,
          5.8,
          4.8,
          5.1,
          3.9,
          4.1,
          3.8,
          3.3,
          3.8,
          3.9,
          3.4,
          3.6,
          3.6,
          3.3,
          3.9,
          3.9,
          4.2,
          3.8,
          3.6,
          3.6,
          3.6,
          3.6,
          3.17,
          3.3,
          3.4,
          3.5,
          3.6,
          3.8,
          4.1,
          4.5,
          4.8,
          5.1,
          4.1,
          4,
          3.4,
          4.4,
          4.9,
          4,
          4.2,
          3.7,
          3.6,
          3.56,
          3.46,
          3.44,
          3.5,
          3.5,
          3.7,
          3.8,
          3.3,
          3.4,
          3.7,
          3.9,
          3.7,
          3.5,
          4.1,
          3.8,
          3.9,
          3.4,
          3.8,
          3.8,
          3.5,
          3.5,
          3.3,
          3.5,
          3.2,
          3.5,
          3.8,
          3.6,
          3.9,
          3.3,
          4.4,
          3.2,
          3.4,
          3.5,
          3.8,
          3.3,
          3.3,
          3.5,
          3.9,
          3.5,
          3.5,
          4,
          3.3,
          3.6,
          3.7,
          3.7,
          3.7,
          4.7,
          4.7,
          4.3,
          4.4,
          3.9,
          3.9,
          3.9,
          3.5,
          3.8,
          3.7,
          5.06,
          5.4,
          5.8,
          5.3,
          7.1,
          5.7,
          6.1,
          5.8,
          5.3,
          5.6,
          5.9,
          5.4,
          5.6,
          5.5,
          5.6,
          6.2,
          5.8,
          5.4,
          3.8,
          3.17,
          3.56,
          3.46,
          3.8,
          3.7,
          4.8,
          5.06,
          5.1,
          3.6,
          4.1,
          4.5,
          4.26,
          3.4,
          3.8,
          3.5,
          3.6,
          4,
          3.68,
          3.6,
          5.6,
          5.4,
          4.8,
          5.2,
          5.5,
          5.4,
          5.2,
          5.5,
          5.4,
          5.1,
          5.5,
          5.4,
          5.3,
          5.5,
          5.4,
          5.7,
          5.3,
          5.1,
          5.5,
          5.4,
          5.8,
          7,
          5.1,
          5.3,
          5.7,
          5.2,
          5.3,
          5,
          5.5,
          5.4,
          6.3,
          6.3,
          5.9,
          6.3,
          5.4,
          6.3,
          5.7
         ],
         "y0": " ",
         "yaxis": "y"
        },
        {
         "alignmentgroup": "True",
         "hovertemplate": "Métrica=cdi<br>Valor=%{y}<extra></extra>",
         "legendgroup": "cdi",
         "marker": {
          "color": "#EF553B"
         },
         "name": "cdi",
         "notched": false,
         "offsetgroup": "cdi",
         "orientation": "v",
         "showlegend": true,
         "type": "box",
         "x0": " ",
         "xaxis": "x",
         "y": [
          6,
          6,
          4,
          3,
          3,
          4,
          4,
          4,
          5,
          0,
          3,
          3,
          3,
          3,
          4,
          5,
          4,
          4,
          5,
          3,
          3,
          0,
          0,
          0,
          3,
          3,
          3,
          0,
          0,
          0,
          0,
          0,
          3,
          3,
          0,
          0,
          0,
          2,
          4,
          4,
          3,
          2,
          3,
          1,
          5,
          3,
          4,
          4,
          4,
          5,
          5,
          2,
          3,
          4,
          5,
          4,
          2,
          5,
          5,
          5,
          2,
          2,
          4,
          7,
          0,
          0,
          0,
          6,
          6,
          6,
          7,
          3,
          0,
          4,
          5,
          4,
          0,
          4,
          4,
          3,
          0,
          2,
          3,
          3,
          0,
          4,
          0,
          0,
          0,
          0,
          4,
          0,
          3,
          8,
          0,
          3,
          0,
          0,
          0,
          0,
          4,
          3,
          4,
          4,
          5,
          4,
          8,
          9,
          5,
          3,
          7,
          3,
          7,
          4,
          4,
          8,
          7,
          2,
          8,
          7,
          7,
          5,
          0,
          5,
          4,
          2,
          0,
          6,
          0,
          9,
          4,
          4,
          3,
          4,
          3,
          3,
          3,
          1,
          0,
          0,
          0,
          3,
          7,
          9,
          3,
          6,
          6,
          6,
          6,
          3,
          3,
          3,
          3,
          3,
          3,
          0,
          0,
          0,
          0,
          0,
          3,
          1,
          5,
          4,
          5,
          2,
          3,
          0,
          0,
          0,
          2,
          3,
          6,
          7,
          6,
          6,
          4,
          4,
          0,
          5,
          6,
          4,
          5,
          0,
          4,
          0,
          0,
          0,
          0,
          2,
          0,
          2,
          0,
          0,
          1,
          5,
          5,
          2,
          0,
          3,
          0,
          2,
          0,
          0,
          0,
          0,
          0,
          0,
          0,
          3,
          6,
          0,
          0,
          0,
          4,
          0,
          0,
          0,
          3,
          6,
          5,
          4,
          0,
          0,
          5,
          2,
          3,
          5,
          5,
          5,
          5,
          5,
          4,
          2,
          3,
          5,
          5,
          8,
          4,
          5,
          3,
          4,
          5,
          4,
          0,
          8,
          7,
          5,
          9,
          0,
          8,
          6,
          2,
          8,
          7,
          5,
          4,
          2,
          0,
          6,
          0,
          9,
          4,
          4,
          3,
          3,
          4,
          4,
          4,
          5,
          0,
          3,
          3,
          3,
          3,
          4,
          5,
          4,
          4,
          5,
          3,
          3,
          0,
          0,
          0,
          3,
          3,
          3,
          0,
          0,
          0,
          3,
          3,
          0,
          0,
          0,
          2,
          4,
          4,
          3,
          2,
          3,
          1,
          3,
          4,
          4,
          4,
          5,
          5,
          4,
          5,
          4,
          2,
          5,
          5,
          5,
          2,
          2,
          4,
          7,
          0,
          0,
          0,
          6,
          6,
          6,
          3,
          0,
          4,
          5,
          4,
          0,
          4,
          4,
          3,
          0,
          2,
          3,
          3,
          0,
          4,
          0,
          0,
          0,
          0,
          4,
          0,
          3,
          3,
          3,
          5,
          7,
          3,
          5,
          6,
          2,
          8,
          7,
          5,
          4,
          2,
          0,
          6,
          0,
          9,
          4,
          6,
          6,
          3,
          3,
          3,
          3,
          3,
          3,
          0,
          0,
          0,
          0,
          0,
          3,
          1,
          5,
          4,
          5,
          2,
          3,
          5,
          0,
          0,
          0,
          2,
          3,
          6,
          7,
          6,
          6,
          4,
          4,
          0,
          5,
          6,
          4,
          5,
          0,
          4,
          4,
          4,
          3,
          0,
          0,
          0,
          0,
          2,
          0,
          2,
          0,
          0,
          1,
          5,
          5,
          2,
          0,
          6,
          3,
          0,
          2,
          0,
          0,
          0,
          0,
          0,
          0,
          0,
          3,
          6,
          0,
          0,
          0,
          4,
          0,
          0,
          0,
          3,
          6,
          5,
          4,
          0,
          0,
          5,
          2,
          3,
          5,
          5,
          5,
          5,
          5,
          4,
          2,
          3,
          4,
          4,
          7,
          9,
          5,
          2,
          8,
          7,
          7,
          5,
          0,
          5,
          4,
          2,
          0,
          6,
          0,
          9,
          4,
          9,
          5,
          5,
          4,
          4,
          6,
          5,
          6,
          7,
          6,
          4,
          5,
          5,
          5,
          4,
          5,
          5,
          5,
          6,
          5,
          5,
          7,
          9,
          3,
          6,
          6,
          9,
          4,
          4,
          8,
          3,
          0,
          0,
          4,
          5,
          4,
          3,
          4,
          4,
          5,
          4,
          8,
          9,
          5,
          3,
          7,
          4,
          4,
          5,
          4,
          0,
          8,
          7,
          5,
          9,
          0,
          8,
          8
         ],
         "y0": " ",
         "yaxis": "y"
        },
        {
         "alignmentgroup": "True",
         "hovertemplate": "Métrica=mmi<br>Valor=%{y}<extra></extra>",
         "legendgroup": "mmi",
         "marker": {
          "color": "#00cc96"
         },
         "name": "mmi",
         "notched": false,
         "offsetgroup": "mmi",
         "orientation": "v",
         "showlegend": true,
         "type": "box",
         "x0": " ",
         "xaxis": "x",
         "y": [
          5,
          5,
          4,
          4,
          4,
          3,
          3,
          3,
          5,
          3,
          4,
          4,
          4,
          4,
          4,
          5,
          4,
          4,
          5,
          4,
          3,
          3,
          3,
          3,
          3,
          4,
          3,
          4,
          4,
          4,
          4,
          4,
          3,
          4,
          3,
          3,
          3,
          3,
          4,
          4,
          3,
          3,
          5,
          4,
          4,
          3,
          4,
          4,
          4,
          5,
          4,
          4,
          4,
          6,
          4,
          4,
          4,
          4,
          4,
          5,
          3,
          4,
          5,
          7,
          4,
          4,
          4,
          4,
          5,
          5,
          5,
          4,
          4,
          4,
          5,
          4,
          3,
          3,
          3,
          3,
          3,
          3,
          3,
          4,
          4,
          4,
          4,
          4,
          4,
          4,
          3,
          3,
          3,
          6,
          7,
          5,
          7,
          6,
          7,
          7,
          6,
          7,
          7,
          6,
          7,
          6,
          7,
          9,
          6,
          6,
          7,
          7,
          8,
          7,
          5,
          7,
          6,
          5,
          8,
          7,
          8,
          6,
          6,
          6,
          5,
          7,
          7,
          6,
          7,
          7,
          7,
          6,
          3,
          3,
          3,
          3,
          3,
          3,
          3,
          4,
          4,
          3,
          6,
          6,
          5,
          6,
          6,
          5,
          5,
          4,
          4,
          4,
          4,
          4,
          4,
          4,
          4,
          4,
          4,
          4,
          5,
          4,
          4,
          4,
          4,
          4,
          4,
          4,
          4,
          4,
          4,
          4,
          5,
          5,
          6,
          6,
          5,
          5,
          4,
          4,
          5,
          4,
          5,
          4,
          4,
          4,
          4,
          4,
          4,
          4,
          4,
          4,
          4,
          4,
          4,
          4,
          5,
          4,
          4,
          4,
          4,
          4,
          4,
          4,
          4,
          4,
          5,
          5,
          4,
          4,
          5,
          4,
          4,
          5,
          4,
          4,
          4,
          4,
          4,
          5,
          4,
          4,
          4,
          4,
          5,
          4,
          5,
          6,
          6,
          6,
          6,
          4,
          5,
          4,
          4,
          6,
          7,
          6,
          7,
          7,
          5,
          7,
          6,
          7,
          7,
          8,
          8,
          7,
          8,
          7,
          8,
          6,
          5,
          8,
          7,
          6,
          5,
          7,
          7,
          6,
          7,
          7,
          7,
          4,
          4,
          4,
          3,
          3,
          3,
          5,
          3,
          4,
          4,
          4,
          4,
          4,
          5,
          4,
          4,
          5,
          4,
          3,
          3,
          3,
          3,
          3,
          4,
          3,
          4,
          4,
          4,
          3,
          4,
          3,
          3,
          3,
          3,
          4,
          4,
          3,
          3,
          5,
          4,
          3,
          4,
          4,
          4,
          5,
          4,
          6,
          4,
          4,
          4,
          4,
          4,
          5,
          3,
          4,
          5,
          7,
          4,
          4,
          4,
          4,
          5,
          5,
          4,
          4,
          4,
          5,
          4,
          3,
          3,
          3,
          3,
          3,
          3,
          3,
          4,
          4,
          4,
          4,
          4,
          4,
          4,
          3,
          3,
          3,
          4,
          4,
          4,
          4,
          3,
          7,
          7,
          5,
          8,
          7,
          6,
          5,
          7,
          7,
          6,
          7,
          7,
          7,
          5,
          5,
          4,
          4,
          4,
          4,
          4,
          4,
          4,
          4,
          4,
          4,
          4,
          5,
          4,
          4,
          4,
          4,
          4,
          4,
          4,
          4,
          4,
          4,
          4,
          4,
          5,
          5,
          6,
          6,
          5,
          5,
          4,
          4,
          5,
          4,
          5,
          4,
          4,
          4,
          4,
          3,
          4,
          4,
          4,
          4,
          4,
          4,
          4,
          4,
          4,
          4,
          4,
          5,
          4,
          4,
          4,
          4,
          4,
          4,
          4,
          4,
          4,
          4,
          5,
          5,
          4,
          4,
          5,
          4,
          4,
          5,
          4,
          4,
          4,
          4,
          4,
          5,
          4,
          4,
          4,
          4,
          5,
          4,
          5,
          6,
          6,
          6,
          6,
          4,
          5,
          4,
          4,
          4,
          5,
          7,
          6,
          6,
          5,
          8,
          7,
          8,
          6,
          6,
          6,
          5,
          7,
          7,
          6,
          7,
          7,
          7,
          7,
          5,
          4,
          4,
          4,
          4,
          4,
          6,
          7,
          7,
          4,
          5,
          6,
          6,
          4,
          4,
          5,
          4,
          5,
          4,
          5,
          6,
          6,
          5,
          6,
          6,
          6,
          7,
          7,
          6,
          5,
          7,
          6,
          7,
          7,
          6,
          7,
          7,
          6,
          7,
          6,
          7,
          9,
          6,
          7,
          8,
          5,
          7,
          6,
          7,
          7,
          8,
          8,
          7,
          8,
          7,
          8,
          7
         ],
         "y0": " ",
         "yaxis": "y"
        }
       ],
       "layout": {
        "autosize": true,
        "boxmode": "group",
        "legend": {
         "title": {
          "text": "Métrica"
         },
         "tracegroupgap": 0
        },
        "template": {
         "data": {
          "bar": [
           {
            "error_x": {
             "color": "#2a3f5f"
            },
            "error_y": {
             "color": "#2a3f5f"
            },
            "marker": {
             "line": {
              "color": "#E5ECF6",
              "width": 0.5
             },
             "pattern": {
              "fillmode": "overlay",
              "size": 10,
              "solidity": 0.2
             }
            },
            "type": "bar"
           }
          ],
          "barpolar": [
           {
            "marker": {
             "line": {
              "color": "#E5ECF6",
              "width": 0.5
             },
             "pattern": {
              "fillmode": "overlay",
              "size": 10,
              "solidity": 0.2
             }
            },
            "type": "barpolar"
           }
          ],
          "carpet": [
           {
            "aaxis": {
             "endlinecolor": "#2a3f5f",
             "gridcolor": "white",
             "linecolor": "white",
             "minorgridcolor": "white",
             "startlinecolor": "#2a3f5f"
            },
            "baxis": {
             "endlinecolor": "#2a3f5f",
             "gridcolor": "white",
             "linecolor": "white",
             "minorgridcolor": "white",
             "startlinecolor": "#2a3f5f"
            },
            "type": "carpet"
           }
          ],
          "choropleth": [
           {
            "colorbar": {
             "outlinewidth": 0,
             "ticks": ""
            },
            "type": "choropleth"
           }
          ],
          "contour": [
           {
            "colorbar": {
             "outlinewidth": 0,
             "ticks": ""
            },
            "colorscale": [
             [
              0,
              "#0d0887"
             ],
             [
              0.1111111111111111,
              "#46039f"
             ],
             [
              0.2222222222222222,
              "#7201a8"
             ],
             [
              0.3333333333333333,
              "#9c179e"
             ],
             [
              0.4444444444444444,
              "#bd3786"
             ],
             [
              0.5555555555555556,
              "#d8576b"
             ],
             [
              0.6666666666666666,
              "#ed7953"
             ],
             [
              0.7777777777777778,
              "#fb9f3a"
             ],
             [
              0.8888888888888888,
              "#fdca26"
             ],
             [
              1,
              "#f0f921"
             ]
            ],
            "type": "contour"
           }
          ],
          "contourcarpet": [
           {
            "colorbar": {
             "outlinewidth": 0,
             "ticks": ""
            },
            "type": "contourcarpet"
           }
          ],
          "heatmap": [
           {
            "colorbar": {
             "outlinewidth": 0,
             "ticks": ""
            },
            "colorscale": [
             [
              0,
              "#0d0887"
             ],
             [
              0.1111111111111111,
              "#46039f"
             ],
             [
              0.2222222222222222,
              "#7201a8"
             ],
             [
              0.3333333333333333,
              "#9c179e"
             ],
             [
              0.4444444444444444,
              "#bd3786"
             ],
             [
              0.5555555555555556,
              "#d8576b"
             ],
             [
              0.6666666666666666,
              "#ed7953"
             ],
             [
              0.7777777777777778,
              "#fb9f3a"
             ],
             [
              0.8888888888888888,
              "#fdca26"
             ],
             [
              1,
              "#f0f921"
             ]
            ],
            "type": "heatmap"
           }
          ],
          "heatmapgl": [
           {
            "colorbar": {
             "outlinewidth": 0,
             "ticks": ""
            },
            "colorscale": [
             [
              0,
              "#0d0887"
             ],
             [
              0.1111111111111111,
              "#46039f"
             ],
             [
              0.2222222222222222,
              "#7201a8"
             ],
             [
              0.3333333333333333,
              "#9c179e"
             ],
             [
              0.4444444444444444,
              "#bd3786"
             ],
             [
              0.5555555555555556,
              "#d8576b"
             ],
             [
              0.6666666666666666,
              "#ed7953"
             ],
             [
              0.7777777777777778,
              "#fb9f3a"
             ],
             [
              0.8888888888888888,
              "#fdca26"
             ],
             [
              1,
              "#f0f921"
             ]
            ],
            "type": "heatmapgl"
           }
          ],
          "histogram": [
           {
            "marker": {
             "pattern": {
              "fillmode": "overlay",
              "size": 10,
              "solidity": 0.2
             }
            },
            "type": "histogram"
           }
          ],
          "histogram2d": [
           {
            "colorbar": {
             "outlinewidth": 0,
             "ticks": ""
            },
            "colorscale": [
             [
              0,
              "#0d0887"
             ],
             [
              0.1111111111111111,
              "#46039f"
             ],
             [
              0.2222222222222222,
              "#7201a8"
             ],
             [
              0.3333333333333333,
              "#9c179e"
             ],
             [
              0.4444444444444444,
              "#bd3786"
             ],
             [
              0.5555555555555556,
              "#d8576b"
             ],
             [
              0.6666666666666666,
              "#ed7953"
             ],
             [
              0.7777777777777778,
              "#fb9f3a"
             ],
             [
              0.8888888888888888,
              "#fdca26"
             ],
             [
              1,
              "#f0f921"
             ]
            ],
            "type": "histogram2d"
           }
          ],
          "histogram2dcontour": [
           {
            "colorbar": {
             "outlinewidth": 0,
             "ticks": ""
            },
            "colorscale": [
             [
              0,
              "#0d0887"
             ],
             [
              0.1111111111111111,
              "#46039f"
             ],
             [
              0.2222222222222222,
              "#7201a8"
             ],
             [
              0.3333333333333333,
              "#9c179e"
             ],
             [
              0.4444444444444444,
              "#bd3786"
             ],
             [
              0.5555555555555556,
              "#d8576b"
             ],
             [
              0.6666666666666666,
              "#ed7953"
             ],
             [
              0.7777777777777778,
              "#fb9f3a"
             ],
             [
              0.8888888888888888,
              "#fdca26"
             ],
             [
              1,
              "#f0f921"
             ]
            ],
            "type": "histogram2dcontour"
           }
          ],
          "mesh3d": [
           {
            "colorbar": {
             "outlinewidth": 0,
             "ticks": ""
            },
            "type": "mesh3d"
           }
          ],
          "parcoords": [
           {
            "line": {
             "colorbar": {
              "outlinewidth": 0,
              "ticks": ""
             }
            },
            "type": "parcoords"
           }
          ],
          "pie": [
           {
            "automargin": true,
            "type": "pie"
           }
          ],
          "scatter": [
           {
            "fillpattern": {
             "fillmode": "overlay",
             "size": 10,
             "solidity": 0.2
            },
            "type": "scatter"
           }
          ],
          "scatter3d": [
           {
            "line": {
             "colorbar": {
              "outlinewidth": 0,
              "ticks": ""
             }
            },
            "marker": {
             "colorbar": {
              "outlinewidth": 0,
              "ticks": ""
             }
            },
            "type": "scatter3d"
           }
          ],
          "scattercarpet": [
           {
            "marker": {
             "colorbar": {
              "outlinewidth": 0,
              "ticks": ""
             }
            },
            "type": "scattercarpet"
           }
          ],
          "scattergeo": [
           {
            "marker": {
             "colorbar": {
              "outlinewidth": 0,
              "ticks": ""
             }
            },
            "type": "scattergeo"
           }
          ],
          "scattergl": [
           {
            "marker": {
             "colorbar": {
              "outlinewidth": 0,
              "ticks": ""
             }
            },
            "type": "scattergl"
           }
          ],
          "scattermapbox": [
           {
            "marker": {
             "colorbar": {
              "outlinewidth": 0,
              "ticks": ""
             }
            },
            "type": "scattermapbox"
           }
          ],
          "scatterpolar": [
           {
            "marker": {
             "colorbar": {
              "outlinewidth": 0,
              "ticks": ""
             }
            },
            "type": "scatterpolar"
           }
          ],
          "scatterpolargl": [
           {
            "marker": {
             "colorbar": {
              "outlinewidth": 0,
              "ticks": ""
             }
            },
            "type": "scatterpolargl"
           }
          ],
          "scatterternary": [
           {
            "marker": {
             "colorbar": {
              "outlinewidth": 0,
              "ticks": ""
             }
            },
            "type": "scatterternary"
           }
          ],
          "surface": [
           {
            "colorbar": {
             "outlinewidth": 0,
             "ticks": ""
            },
            "colorscale": [
             [
              0,
              "#0d0887"
             ],
             [
              0.1111111111111111,
              "#46039f"
             ],
             [
              0.2222222222222222,
              "#7201a8"
             ],
             [
              0.3333333333333333,
              "#9c179e"
             ],
             [
              0.4444444444444444,
              "#bd3786"
             ],
             [
              0.5555555555555556,
              "#d8576b"
             ],
             [
              0.6666666666666666,
              "#ed7953"
             ],
             [
              0.7777777777777778,
              "#fb9f3a"
             ],
             [
              0.8888888888888888,
              "#fdca26"
             ],
             [
              1,
              "#f0f921"
             ]
            ],
            "type": "surface"
           }
          ],
          "table": [
           {
            "cells": {
             "fill": {
              "color": "#EBF0F8"
             },
             "line": {
              "color": "white"
             }
            },
            "header": {
             "fill": {
              "color": "#C8D4E3"
             },
             "line": {
              "color": "white"
             }
            },
            "type": "table"
           }
          ]
         },
         "layout": {
          "annotationdefaults": {
           "arrowcolor": "#2a3f5f",
           "arrowhead": 0,
           "arrowwidth": 1
          },
          "autotypenumbers": "strict",
          "coloraxis": {
           "colorbar": {
            "outlinewidth": 0,
            "ticks": ""
           }
          },
          "colorscale": {
           "diverging": [
            [
             0,
             "#8e0152"
            ],
            [
             0.1,
             "#c51b7d"
            ],
            [
             0.2,
             "#de77ae"
            ],
            [
             0.3,
             "#f1b6da"
            ],
            [
             0.4,
             "#fde0ef"
            ],
            [
             0.5,
             "#f7f7f7"
            ],
            [
             0.6,
             "#e6f5d0"
            ],
            [
             0.7,
             "#b8e186"
            ],
            [
             0.8,
             "#7fbc41"
            ],
            [
             0.9,
             "#4d9221"
            ],
            [
             1,
             "#276419"
            ]
           ],
           "sequential": [
            [
             0,
             "#0d0887"
            ],
            [
             0.1111111111111111,
             "#46039f"
            ],
            [
             0.2222222222222222,
             "#7201a8"
            ],
            [
             0.3333333333333333,
             "#9c179e"
            ],
            [
             0.4444444444444444,
             "#bd3786"
            ],
            [
             0.5555555555555556,
             "#d8576b"
            ],
            [
             0.6666666666666666,
             "#ed7953"
            ],
            [
             0.7777777777777778,
             "#fb9f3a"
            ],
            [
             0.8888888888888888,
             "#fdca26"
            ],
            [
             1,
             "#f0f921"
            ]
           ],
           "sequentialminus": [
            [
             0,
             "#0d0887"
            ],
            [
             0.1111111111111111,
             "#46039f"
            ],
            [
             0.2222222222222222,
             "#7201a8"
            ],
            [
             0.3333333333333333,
             "#9c179e"
            ],
            [
             0.4444444444444444,
             "#bd3786"
            ],
            [
             0.5555555555555556,
             "#d8576b"
            ],
            [
             0.6666666666666666,
             "#ed7953"
            ],
            [
             0.7777777777777778,
             "#fb9f3a"
            ],
            [
             0.8888888888888888,
             "#fdca26"
            ],
            [
             1,
             "#f0f921"
            ]
           ]
          },
          "colorway": [
           "#636efa",
           "#EF553B",
           "#00cc96",
           "#ab63fa",
           "#FFA15A",
           "#19d3f3",
           "#FF6692",
           "#B6E880",
           "#FF97FF",
           "#FECB52"
          ],
          "font": {
           "color": "#2a3f5f"
          },
          "geo": {
           "bgcolor": "white",
           "lakecolor": "white",
           "landcolor": "#E5ECF6",
           "showlakes": true,
           "showland": true,
           "subunitcolor": "white"
          },
          "hoverlabel": {
           "align": "left"
          },
          "hovermode": "closest",
          "mapbox": {
           "style": "light"
          },
          "paper_bgcolor": "white",
          "plot_bgcolor": "#E5ECF6",
          "polar": {
           "angularaxis": {
            "gridcolor": "white",
            "linecolor": "white",
            "ticks": ""
           },
           "bgcolor": "#E5ECF6",
           "radialaxis": {
            "gridcolor": "white",
            "linecolor": "white",
            "ticks": ""
           }
          },
          "scene": {
           "xaxis": {
            "backgroundcolor": "#E5ECF6",
            "gridcolor": "white",
            "gridwidth": 2,
            "linecolor": "white",
            "showbackground": true,
            "ticks": "",
            "zerolinecolor": "white"
           },
           "yaxis": {
            "backgroundcolor": "#E5ECF6",
            "gridcolor": "white",
            "gridwidth": 2,
            "linecolor": "white",
            "showbackground": true,
            "ticks": "",
            "zerolinecolor": "white"
           },
           "zaxis": {
            "backgroundcolor": "#E5ECF6",
            "gridcolor": "white",
            "gridwidth": 2,
            "linecolor": "white",
            "showbackground": true,
            "ticks": "",
            "zerolinecolor": "white"
           }
          },
          "shapedefaults": {
           "line": {
            "color": "#2a3f5f"
           }
          },
          "ternary": {
           "aaxis": {
            "gridcolor": "white",
            "linecolor": "white",
            "ticks": ""
           },
           "baxis": {
            "gridcolor": "white",
            "linecolor": "white",
            "ticks": ""
           },
           "bgcolor": "#E5ECF6",
           "caxis": {
            "gridcolor": "white",
            "linecolor": "white",
            "ticks": ""
           }
          },
          "title": {
           "x": 0.05
          },
          "xaxis": {
           "automargin": true,
           "gridcolor": "white",
           "linecolor": "white",
           "ticks": "",
           "title": {
            "standoff": 15
           },
           "zerolinecolor": "white",
           "zerolinewidth": 2
          },
          "yaxis": {
           "automargin": true,
           "gridcolor": "white",
           "linecolor": "white",
           "ticks": "",
           "title": {
            "standoff": 15
           },
           "zerolinecolor": "white",
           "zerolinewidth": 2
          }
         }
        },
        "title": {
         "text": "Validando valores por metricas"
        },
        "xaxis": {
         "anchor": "y",
         "autorange": true,
         "domain": [
          0,
          1
         ],
         "range": [
          -0.5,
          0.5
         ],
         "type": "category"
        },
        "yaxis": {
         "anchor": "x",
         "autorange": true,
         "domain": [
          0,
          1
         ],
         "range": [
          -0.5,
          9.5
         ],
         "title": {
          "text": "Valor"
         },
         "type": "linear"
        }
       }
      },
      "text/html": [
       "<div>                            <div id=\"c21ea5ad-92ad-452a-a0b0-1e5f433e2dd7\" class=\"plotly-graph-div\" style=\"height:525px; width:100%;\"></div>            <script type=\"text/javascript\">                require([\"plotly\"], function(Plotly) {                    window.PLOTLYENV=window.PLOTLYENV || {};                                    if (document.getElementById(\"c21ea5ad-92ad-452a-a0b0-1e5f433e2dd7\")) {                    Plotly.newPlot(                        \"c21ea5ad-92ad-452a-a0b0-1e5f433e2dd7\",                        [{\"alignmentgroup\":\"True\",\"hovertemplate\":\"M\\u00e9trica=magnitude\\u003cbr\\u003eValor=%{y}\\u003cextra\\u003e\\u003c\\u002fextra\\u003e\",\"legendgroup\":\"magnitude\",\"marker\":{\"color\":\"#636efa\"},\"name\":\"magnitude\",\"notched\":false,\"offsetgroup\":\"magnitude\",\"orientation\":\"v\",\"showlegend\":true,\"x0\":\" \",\"xaxis\":\"x\",\"y\":[4.8,5.1,3.7,3.9,4.1,3.23,3.43,3.44,4.69,3.5,3.8,3.3,3.8,3.9,3.35,3.94,3.45,3.09,4.28,3.47,3.32,3.1,3.1,3.0,3.46,3.4,3.5,3.4,3.6,3.6,3.3,3.9,3.31,3.9,3.4,3.3,3.2,3.3,4.3,4.3,3.3,3.0,3.9,4.2,3.8,3.29,3.61,4.4,4.1,4.39,3.66,3.6,3.6,4.44,3.78,3.64,3.5,3.44,3.58,4.06,3.22,3.6,4.6,5.22,3.3,3.4,3.5,3.51,4.89,4.47,4.5,3.45,3.4,4.0,4.2,3.56,3.48,3.5,3.01,3.48,3.3,3.2,3.44,3.9,3.8,3.8,3.5,3.5,3.7,3.8,3.01,3.5,4.1,5.4,5.9,5.1,5.5,5.4,5.6,5.4,5.4,5.7,5.3,5.1,5.5,5.4,5.8,7.0,5.1,5.2,5.7,5.3,5.7,5.4,5.2,5.7,4.9,5.3,7.1,5.7,6.1,5.8,5.3,5.6,5.9,5.4,5.6,5.5,5.6,6.2,5.8,5.1,4.3,3.5,3.1,3.8,3.3,3.6,3.7,3.5,4.2,3.6,5.6,5.4,4.8,5.2,5.5,4.8,5.1,3.9,4.1,3.8,3.3,3.8,3.9,3.4,3.6,3.6,3.3,3.9,3.9,4.2,3.8,3.6,3.6,3.6,3.6,3.3,3.4,3.5,3.6,3.8,4.1,4.5,4.8,5.1,4.1,4.0,3.4,4.4,4.9,4.0,4.2,3.7,3.6,3.5,3.5,3.7,3.8,3.3,3.4,3.7,3.9,3.7,3.5,4.1,3.8,3.9,3.4,3.8,3.5,3.5,3.3,3.5,3.2,3.5,3.8,3.6,3.9,3.3,4.4,3.2,3.4,3.5,3.8,3.3,3.3,3.5,3.9,3.5,3.5,4.0,3.3,3.6,3.7,3.7,3.7,4.7,4.7,4.3,4.4,3.9,3.9,3.9,3.5,5.1,5.5,5.4,5.3,5.5,4.8,5.3,5.0,5.5,5.4,6.3,6.3,5.9,6.3,5.4,6.3,5.2,5.3,7.1,5.7,5.6,5.9,5.4,5.6,5.5,5.6,6.2,5.8,3.7,3.9,4.1,3.23,3.43,3.44,4.69,3.5,3.8,3.3,3.8,3.9,3.35,3.94,3.45,3.09,4.28,3.47,3.32,3.1,3.1,3.0,3.46,3.4,3.5,3.6,3.3,3.9,3.31,3.9,3.4,3.3,3.2,3.3,4.3,4.3,3.3,3.0,3.9,4.2,3.29,3.61,4.4,4.1,4.39,3.66,4.44,3.78,3.64,3.5,3.44,3.58,4.06,3.22,3.6,4.6,5.22,3.3,3.4,3.5,3.51,4.89,4.47,3.45,3.4,4.0,4.2,3.56,3.48,3.5,3.01,3.48,3.3,3.2,3.44,3.9,3.8,3.8,3.5,3.5,3.7,3.8,3.01,3.5,4.1,3.86,3.24,3.44,4.09,3.59,5.5,5.9,5.3,7.1,5.7,5.6,5.9,5.4,5.6,5.5,5.6,6.2,5.8,4.8,5.1,3.9,4.1,3.8,3.3,3.8,3.9,3.4,3.6,3.6,3.3,3.9,3.9,4.2,3.8,3.6,3.6,3.6,3.6,3.17,3.3,3.4,3.5,3.6,3.8,4.1,4.5,4.8,5.1,4.1,4.0,3.4,4.4,4.9,4.0,4.2,3.7,3.6,3.56,3.46,3.44,3.5,3.5,3.7,3.8,3.3,3.4,3.7,3.9,3.7,3.5,4.1,3.8,3.9,3.4,3.8,3.8,3.5,3.5,3.3,3.5,3.2,3.5,3.8,3.6,3.9,3.3,4.4,3.2,3.4,3.5,3.8,3.3,3.3,3.5,3.9,3.5,3.5,4.0,3.3,3.6,3.7,3.7,3.7,4.7,4.7,4.3,4.4,3.9,3.9,3.9,3.5,3.8,3.7,5.06,5.4,5.8,5.3,7.1,5.7,6.1,5.8,5.3,5.6,5.9,5.4,5.6,5.5,5.6,6.2,5.8,5.4,3.8,3.17,3.56,3.46,3.8,3.7,4.8,5.06,5.1,3.6,4.1,4.5,4.26,3.4,3.8,3.5,3.6,4.0,3.68,3.6,5.6,5.4,4.8,5.2,5.5,5.4,5.2,5.5,5.4,5.1,5.5,5.4,5.3,5.5,5.4,5.7,5.3,5.1,5.5,5.4,5.8,7.0,5.1,5.3,5.7,5.2,5.3,5.0,5.5,5.4,6.3,6.3,5.9,6.3,5.4,6.3,5.7],\"y0\":\" \",\"yaxis\":\"y\",\"type\":\"box\"},{\"alignmentgroup\":\"True\",\"hovertemplate\":\"M\\u00e9trica=cdi\\u003cbr\\u003eValor=%{y}\\u003cextra\\u003e\\u003c\\u002fextra\\u003e\",\"legendgroup\":\"cdi\",\"marker\":{\"color\":\"#EF553B\"},\"name\":\"cdi\",\"notched\":false,\"offsetgroup\":\"cdi\",\"orientation\":\"v\",\"showlegend\":true,\"x0\":\" \",\"xaxis\":\"x\",\"y\":[6.0,6.0,4.0,3.0,3.0,4.0,4.0,4.0,5.0,0.0,3.0,3.0,3.0,3.0,4.0,5.0,4.0,4.0,5.0,3.0,3.0,0.0,0.0,0.0,3.0,3.0,3.0,0.0,0.0,0.0,0.0,0.0,3.0,3.0,0.0,0.0,0.0,2.0,4.0,4.0,3.0,2.0,3.0,1.0,5.0,3.0,4.0,4.0,4.0,5.0,5.0,2.0,3.0,4.0,5.0,4.0,2.0,5.0,5.0,5.0,2.0,2.0,4.0,7.0,0.0,0.0,0.0,6.0,6.0,6.0,7.0,3.0,0.0,4.0,5.0,4.0,0.0,4.0,4.0,3.0,0.0,2.0,3.0,3.0,0.0,4.0,0.0,0.0,0.0,0.0,4.0,0.0,3.0,8.0,0.0,3.0,0.0,0.0,0.0,0.0,4.0,3.0,4.0,4.0,5.0,4.0,8.0,9.0,5.0,3.0,7.0,3.0,7.0,4.0,4.0,8.0,7.0,2.0,8.0,7.0,7.0,5.0,0.0,5.0,4.0,2.0,0.0,6.0,0.0,9.0,4.0,4.0,3.0,4.0,3.0,3.0,3.0,1.0,0.0,0.0,0.0,3.0,7.0,9.0,3.0,6.0,6.0,6.0,6.0,3.0,3.0,3.0,3.0,3.0,3.0,0.0,0.0,0.0,0.0,0.0,3.0,1.0,5.0,4.0,5.0,2.0,3.0,0.0,0.0,0.0,2.0,3.0,6.0,7.0,6.0,6.0,4.0,4.0,0.0,5.0,6.0,4.0,5.0,0.0,4.0,0.0,0.0,0.0,0.0,2.0,0.0,2.0,0.0,0.0,1.0,5.0,5.0,2.0,0.0,3.0,0.0,2.0,0.0,0.0,0.0,0.0,0.0,0.0,0.0,3.0,6.0,0.0,0.0,0.0,4.0,0.0,0.0,0.0,3.0,6.0,5.0,4.0,0.0,0.0,5.0,2.0,3.0,5.0,5.0,5.0,5.0,5.0,4.0,2.0,3.0,5.0,5.0,8.0,4.0,5.0,3.0,4.0,5.0,4.0,0.0,8.0,7.0,5.0,9.0,0.0,8.0,6.0,2.0,8.0,7.0,5.0,4.0,2.0,0.0,6.0,0.0,9.0,4.0,4.0,3.0,3.0,4.0,4.0,4.0,5.0,0.0,3.0,3.0,3.0,3.0,4.0,5.0,4.0,4.0,5.0,3.0,3.0,0.0,0.0,0.0,3.0,3.0,3.0,0.0,0.0,0.0,3.0,3.0,0.0,0.0,0.0,2.0,4.0,4.0,3.0,2.0,3.0,1.0,3.0,4.0,4.0,4.0,5.0,5.0,4.0,5.0,4.0,2.0,5.0,5.0,5.0,2.0,2.0,4.0,7.0,0.0,0.0,0.0,6.0,6.0,6.0,3.0,0.0,4.0,5.0,4.0,0.0,4.0,4.0,3.0,0.0,2.0,3.0,3.0,0.0,4.0,0.0,0.0,0.0,0.0,4.0,0.0,3.0,3.0,3.0,5.0,7.0,3.0,5.0,6.0,2.0,8.0,7.0,5.0,4.0,2.0,0.0,6.0,0.0,9.0,4.0,6.0,6.0,3.0,3.0,3.0,3.0,3.0,3.0,0.0,0.0,0.0,0.0,0.0,3.0,1.0,5.0,4.0,5.0,2.0,3.0,5.0,0.0,0.0,0.0,2.0,3.0,6.0,7.0,6.0,6.0,4.0,4.0,0.0,5.0,6.0,4.0,5.0,0.0,4.0,4.0,4.0,3.0,0.0,0.0,0.0,0.0,2.0,0.0,2.0,0.0,0.0,1.0,5.0,5.0,2.0,0.0,6.0,3.0,0.0,2.0,0.0,0.0,0.0,0.0,0.0,0.0,0.0,3.0,6.0,0.0,0.0,0.0,4.0,0.0,0.0,0.0,3.0,6.0,5.0,4.0,0.0,0.0,5.0,2.0,3.0,5.0,5.0,5.0,5.0,5.0,4.0,2.0,3.0,4.0,4.0,7.0,9.0,5.0,2.0,8.0,7.0,7.0,5.0,0.0,5.0,4.0,2.0,0.0,6.0,0.0,9.0,4.0,9.0,5.0,5.0,4.0,4.0,6.0,5.0,6.0,7.0,6.0,4.0,5.0,5.0,5.0,4.0,5.0,5.0,5.0,6.0,5.0,5.0,7.0,9.0,3.0,6.0,6.0,9.0,4.0,4.0,8.0,3.0,0.0,0.0,4.0,5.0,4.0,3.0,4.0,4.0,5.0,4.0,8.0,9.0,5.0,3.0,7.0,4.0,4.0,5.0,4.0,0.0,8.0,7.0,5.0,9.0,0.0,8.0,8.0],\"y0\":\" \",\"yaxis\":\"y\",\"type\":\"box\"},{\"alignmentgroup\":\"True\",\"hovertemplate\":\"M\\u00e9trica=mmi\\u003cbr\\u003eValor=%{y}\\u003cextra\\u003e\\u003c\\u002fextra\\u003e\",\"legendgroup\":\"mmi\",\"marker\":{\"color\":\"#00cc96\"},\"name\":\"mmi\",\"notched\":false,\"offsetgroup\":\"mmi\",\"orientation\":\"v\",\"showlegend\":true,\"x0\":\" \",\"xaxis\":\"x\",\"y\":[5.0,5.0,4.0,4.0,4.0,3.0,3.0,3.0,5.0,3.0,4.0,4.0,4.0,4.0,4.0,5.0,4.0,4.0,5.0,4.0,3.0,3.0,3.0,3.0,3.0,4.0,3.0,4.0,4.0,4.0,4.0,4.0,3.0,4.0,3.0,3.0,3.0,3.0,4.0,4.0,3.0,3.0,5.0,4.0,4.0,3.0,4.0,4.0,4.0,5.0,4.0,4.0,4.0,6.0,4.0,4.0,4.0,4.0,4.0,5.0,3.0,4.0,5.0,7.0,4.0,4.0,4.0,4.0,5.0,5.0,5.0,4.0,4.0,4.0,5.0,4.0,3.0,3.0,3.0,3.0,3.0,3.0,3.0,4.0,4.0,4.0,4.0,4.0,4.0,4.0,3.0,3.0,3.0,6.0,7.0,5.0,7.0,6.0,7.0,7.0,6.0,7.0,7.0,6.0,7.0,6.0,7.0,9.0,6.0,6.0,7.0,7.0,8.0,7.0,5.0,7.0,6.0,5.0,8.0,7.0,8.0,6.0,6.0,6.0,5.0,7.0,7.0,6.0,7.0,7.0,7.0,6.0,3.0,3.0,3.0,3.0,3.0,3.0,3.0,4.0,4.0,3.0,6.0,6.0,5.0,6.0,6.0,5.0,5.0,4.0,4.0,4.0,4.0,4.0,4.0,4.0,4.0,4.0,4.0,4.0,5.0,4.0,4.0,4.0,4.0,4.0,4.0,4.0,4.0,4.0,4.0,4.0,5.0,5.0,6.0,6.0,5.0,5.0,4.0,4.0,5.0,4.0,5.0,4.0,4.0,4.0,4.0,4.0,4.0,4.0,4.0,4.0,4.0,4.0,4.0,4.0,5.0,4.0,4.0,4.0,4.0,4.0,4.0,4.0,4.0,4.0,5.0,5.0,4.0,4.0,5.0,4.0,4.0,5.0,4.0,4.0,4.0,4.0,4.0,5.0,4.0,4.0,4.0,4.0,5.0,4.0,5.0,6.0,6.0,6.0,6.0,4.0,5.0,4.0,4.0,6.0,7.0,6.0,7.0,7.0,5.0,7.0,6.0,7.0,7.0,8.0,8.0,7.0,8.0,7.0,8.0,6.0,5.0,8.0,7.0,6.0,5.0,7.0,7.0,6.0,7.0,7.0,7.0,4.0,4.0,4.0,3.0,3.0,3.0,5.0,3.0,4.0,4.0,4.0,4.0,4.0,5.0,4.0,4.0,5.0,4.0,3.0,3.0,3.0,3.0,3.0,4.0,3.0,4.0,4.0,4.0,3.0,4.0,3.0,3.0,3.0,3.0,4.0,4.0,3.0,3.0,5.0,4.0,3.0,4.0,4.0,4.0,5.0,4.0,6.0,4.0,4.0,4.0,4.0,4.0,5.0,3.0,4.0,5.0,7.0,4.0,4.0,4.0,4.0,5.0,5.0,4.0,4.0,4.0,5.0,4.0,3.0,3.0,3.0,3.0,3.0,3.0,3.0,4.0,4.0,4.0,4.0,4.0,4.0,4.0,3.0,3.0,3.0,4.0,4.0,4.0,4.0,3.0,7.0,7.0,5.0,8.0,7.0,6.0,5.0,7.0,7.0,6.0,7.0,7.0,7.0,5.0,5.0,4.0,4.0,4.0,4.0,4.0,4.0,4.0,4.0,4.0,4.0,4.0,5.0,4.0,4.0,4.0,4.0,4.0,4.0,4.0,4.0,4.0,4.0,4.0,4.0,5.0,5.0,6.0,6.0,5.0,5.0,4.0,4.0,5.0,4.0,5.0,4.0,4.0,4.0,4.0,3.0,4.0,4.0,4.0,4.0,4.0,4.0,4.0,4.0,4.0,4.0,4.0,5.0,4.0,4.0,4.0,4.0,4.0,4.0,4.0,4.0,4.0,4.0,5.0,5.0,4.0,4.0,5.0,4.0,4.0,5.0,4.0,4.0,4.0,4.0,4.0,5.0,4.0,4.0,4.0,4.0,5.0,4.0,5.0,6.0,6.0,6.0,6.0,4.0,5.0,4.0,4.0,4.0,5.0,7.0,6.0,6.0,5.0,8.0,7.0,8.0,6.0,6.0,6.0,5.0,7.0,7.0,6.0,7.0,7.0,7.0,7.0,5.0,4.0,4.0,4.0,4.0,4.0,6.0,7.0,7.0,4.0,5.0,6.0,6.0,4.0,4.0,5.0,4.0,5.0,4.0,5.0,6.0,6.0,5.0,6.0,6.0,6.0,7.0,7.0,6.0,5.0,7.0,6.0,7.0,7.0,6.0,7.0,7.0,6.0,7.0,6.0,7.0,9.0,6.0,7.0,8.0,5.0,7.0,6.0,7.0,7.0,8.0,8.0,7.0,8.0,7.0,8.0,7.0],\"y0\":\" \",\"yaxis\":\"y\",\"type\":\"box\"}],                        {\"template\":{\"data\":{\"histogram2dcontour\":[{\"type\":\"histogram2dcontour\",\"colorbar\":{\"outlinewidth\":0,\"ticks\":\"\"},\"colorscale\":[[0.0,\"#0d0887\"],[0.1111111111111111,\"#46039f\"],[0.2222222222222222,\"#7201a8\"],[0.3333333333333333,\"#9c179e\"],[0.4444444444444444,\"#bd3786\"],[0.5555555555555556,\"#d8576b\"],[0.6666666666666666,\"#ed7953\"],[0.7777777777777778,\"#fb9f3a\"],[0.8888888888888888,\"#fdca26\"],[1.0,\"#f0f921\"]]}],\"choropleth\":[{\"type\":\"choropleth\",\"colorbar\":{\"outlinewidth\":0,\"ticks\":\"\"}}],\"histogram2d\":[{\"type\":\"histogram2d\",\"colorbar\":{\"outlinewidth\":0,\"ticks\":\"\"},\"colorscale\":[[0.0,\"#0d0887\"],[0.1111111111111111,\"#46039f\"],[0.2222222222222222,\"#7201a8\"],[0.3333333333333333,\"#9c179e\"],[0.4444444444444444,\"#bd3786\"],[0.5555555555555556,\"#d8576b\"],[0.6666666666666666,\"#ed7953\"],[0.7777777777777778,\"#fb9f3a\"],[0.8888888888888888,\"#fdca26\"],[1.0,\"#f0f921\"]]}],\"heatmap\":[{\"type\":\"heatmap\",\"colorbar\":{\"outlinewidth\":0,\"ticks\":\"\"},\"colorscale\":[[0.0,\"#0d0887\"],[0.1111111111111111,\"#46039f\"],[0.2222222222222222,\"#7201a8\"],[0.3333333333333333,\"#9c179e\"],[0.4444444444444444,\"#bd3786\"],[0.5555555555555556,\"#d8576b\"],[0.6666666666666666,\"#ed7953\"],[0.7777777777777778,\"#fb9f3a\"],[0.8888888888888888,\"#fdca26\"],[1.0,\"#f0f921\"]]}],\"heatmapgl\":[{\"type\":\"heatmapgl\",\"colorbar\":{\"outlinewidth\":0,\"ticks\":\"\"},\"colorscale\":[[0.0,\"#0d0887\"],[0.1111111111111111,\"#46039f\"],[0.2222222222222222,\"#7201a8\"],[0.3333333333333333,\"#9c179e\"],[0.4444444444444444,\"#bd3786\"],[0.5555555555555556,\"#d8576b\"],[0.6666666666666666,\"#ed7953\"],[0.7777777777777778,\"#fb9f3a\"],[0.8888888888888888,\"#fdca26\"],[1.0,\"#f0f921\"]]}],\"contourcarpet\":[{\"type\":\"contourcarpet\",\"colorbar\":{\"outlinewidth\":0,\"ticks\":\"\"}}],\"contour\":[{\"type\":\"contour\",\"colorbar\":{\"outlinewidth\":0,\"ticks\":\"\"},\"colorscale\":[[0.0,\"#0d0887\"],[0.1111111111111111,\"#46039f\"],[0.2222222222222222,\"#7201a8\"],[0.3333333333333333,\"#9c179e\"],[0.4444444444444444,\"#bd3786\"],[0.5555555555555556,\"#d8576b\"],[0.6666666666666666,\"#ed7953\"],[0.7777777777777778,\"#fb9f3a\"],[0.8888888888888888,\"#fdca26\"],[1.0,\"#f0f921\"]]}],\"surface\":[{\"type\":\"surface\",\"colorbar\":{\"outlinewidth\":0,\"ticks\":\"\"},\"colorscale\":[[0.0,\"#0d0887\"],[0.1111111111111111,\"#46039f\"],[0.2222222222222222,\"#7201a8\"],[0.3333333333333333,\"#9c179e\"],[0.4444444444444444,\"#bd3786\"],[0.5555555555555556,\"#d8576b\"],[0.6666666666666666,\"#ed7953\"],[0.7777777777777778,\"#fb9f3a\"],[0.8888888888888888,\"#fdca26\"],[1.0,\"#f0f921\"]]}],\"mesh3d\":[{\"type\":\"mesh3d\",\"colorbar\":{\"outlinewidth\":0,\"ticks\":\"\"}}],\"scatter\":[{\"fillpattern\":{\"fillmode\":\"overlay\",\"size\":10,\"solidity\":0.2},\"type\":\"scatter\"}],\"parcoords\":[{\"type\":\"parcoords\",\"line\":{\"colorbar\":{\"outlinewidth\":0,\"ticks\":\"\"}}}],\"scatterpolargl\":[{\"type\":\"scatterpolargl\",\"marker\":{\"colorbar\":{\"outlinewidth\":0,\"ticks\":\"\"}}}],\"bar\":[{\"error_x\":{\"color\":\"#2a3f5f\"},\"error_y\":{\"color\":\"#2a3f5f\"},\"marker\":{\"line\":{\"color\":\"#E5ECF6\",\"width\":0.5},\"pattern\":{\"fillmode\":\"overlay\",\"size\":10,\"solidity\":0.2}},\"type\":\"bar\"}],\"scattergeo\":[{\"type\":\"scattergeo\",\"marker\":{\"colorbar\":{\"outlinewidth\":0,\"ticks\":\"\"}}}],\"scatterpolar\":[{\"type\":\"scatterpolar\",\"marker\":{\"colorbar\":{\"outlinewidth\":0,\"ticks\":\"\"}}}],\"histogram\":[{\"marker\":{\"pattern\":{\"fillmode\":\"overlay\",\"size\":10,\"solidity\":0.2}},\"type\":\"histogram\"}],\"scattergl\":[{\"type\":\"scattergl\",\"marker\":{\"colorbar\":{\"outlinewidth\":0,\"ticks\":\"\"}}}],\"scatter3d\":[{\"type\":\"scatter3d\",\"line\":{\"colorbar\":{\"outlinewidth\":0,\"ticks\":\"\"}},\"marker\":{\"colorbar\":{\"outlinewidth\":0,\"ticks\":\"\"}}}],\"scattermapbox\":[{\"type\":\"scattermapbox\",\"marker\":{\"colorbar\":{\"outlinewidth\":0,\"ticks\":\"\"}}}],\"scatterternary\":[{\"type\":\"scatterternary\",\"marker\":{\"colorbar\":{\"outlinewidth\":0,\"ticks\":\"\"}}}],\"scattercarpet\":[{\"type\":\"scattercarpet\",\"marker\":{\"colorbar\":{\"outlinewidth\":0,\"ticks\":\"\"}}}],\"carpet\":[{\"aaxis\":{\"endlinecolor\":\"#2a3f5f\",\"gridcolor\":\"white\",\"linecolor\":\"white\",\"minorgridcolor\":\"white\",\"startlinecolor\":\"#2a3f5f\"},\"baxis\":{\"endlinecolor\":\"#2a3f5f\",\"gridcolor\":\"white\",\"linecolor\":\"white\",\"minorgridcolor\":\"white\",\"startlinecolor\":\"#2a3f5f\"},\"type\":\"carpet\"}],\"table\":[{\"cells\":{\"fill\":{\"color\":\"#EBF0F8\"},\"line\":{\"color\":\"white\"}},\"header\":{\"fill\":{\"color\":\"#C8D4E3\"},\"line\":{\"color\":\"white\"}},\"type\":\"table\"}],\"barpolar\":[{\"marker\":{\"line\":{\"color\":\"#E5ECF6\",\"width\":0.5},\"pattern\":{\"fillmode\":\"overlay\",\"size\":10,\"solidity\":0.2}},\"type\":\"barpolar\"}],\"pie\":[{\"automargin\":true,\"type\":\"pie\"}]},\"layout\":{\"autotypenumbers\":\"strict\",\"colorway\":[\"#636efa\",\"#EF553B\",\"#00cc96\",\"#ab63fa\",\"#FFA15A\",\"#19d3f3\",\"#FF6692\",\"#B6E880\",\"#FF97FF\",\"#FECB52\"],\"font\":{\"color\":\"#2a3f5f\"},\"hovermode\":\"closest\",\"hoverlabel\":{\"align\":\"left\"},\"paper_bgcolor\":\"white\",\"plot_bgcolor\":\"#E5ECF6\",\"polar\":{\"bgcolor\":\"#E5ECF6\",\"angularaxis\":{\"gridcolor\":\"white\",\"linecolor\":\"white\",\"ticks\":\"\"},\"radialaxis\":{\"gridcolor\":\"white\",\"linecolor\":\"white\",\"ticks\":\"\"}},\"ternary\":{\"bgcolor\":\"#E5ECF6\",\"aaxis\":{\"gridcolor\":\"white\",\"linecolor\":\"white\",\"ticks\":\"\"},\"baxis\":{\"gridcolor\":\"white\",\"linecolor\":\"white\",\"ticks\":\"\"},\"caxis\":{\"gridcolor\":\"white\",\"linecolor\":\"white\",\"ticks\":\"\"}},\"coloraxis\":{\"colorbar\":{\"outlinewidth\":0,\"ticks\":\"\"}},\"colorscale\":{\"sequential\":[[0.0,\"#0d0887\"],[0.1111111111111111,\"#46039f\"],[0.2222222222222222,\"#7201a8\"],[0.3333333333333333,\"#9c179e\"],[0.4444444444444444,\"#bd3786\"],[0.5555555555555556,\"#d8576b\"],[0.6666666666666666,\"#ed7953\"],[0.7777777777777778,\"#fb9f3a\"],[0.8888888888888888,\"#fdca26\"],[1.0,\"#f0f921\"]],\"sequentialminus\":[[0.0,\"#0d0887\"],[0.1111111111111111,\"#46039f\"],[0.2222222222222222,\"#7201a8\"],[0.3333333333333333,\"#9c179e\"],[0.4444444444444444,\"#bd3786\"],[0.5555555555555556,\"#d8576b\"],[0.6666666666666666,\"#ed7953\"],[0.7777777777777778,\"#fb9f3a\"],[0.8888888888888888,\"#fdca26\"],[1.0,\"#f0f921\"]],\"diverging\":[[0,\"#8e0152\"],[0.1,\"#c51b7d\"],[0.2,\"#de77ae\"],[0.3,\"#f1b6da\"],[0.4,\"#fde0ef\"],[0.5,\"#f7f7f7\"],[0.6,\"#e6f5d0\"],[0.7,\"#b8e186\"],[0.8,\"#7fbc41\"],[0.9,\"#4d9221\"],[1,\"#276419\"]]},\"xaxis\":{\"gridcolor\":\"white\",\"linecolor\":\"white\",\"ticks\":\"\",\"title\":{\"standoff\":15},\"zerolinecolor\":\"white\",\"automargin\":true,\"zerolinewidth\":2},\"yaxis\":{\"gridcolor\":\"white\",\"linecolor\":\"white\",\"ticks\":\"\",\"title\":{\"standoff\":15},\"zerolinecolor\":\"white\",\"automargin\":true,\"zerolinewidth\":2},\"scene\":{\"xaxis\":{\"backgroundcolor\":\"#E5ECF6\",\"gridcolor\":\"white\",\"linecolor\":\"white\",\"showbackground\":true,\"ticks\":\"\",\"zerolinecolor\":\"white\",\"gridwidth\":2},\"yaxis\":{\"backgroundcolor\":\"#E5ECF6\",\"gridcolor\":\"white\",\"linecolor\":\"white\",\"showbackground\":true,\"ticks\":\"\",\"zerolinecolor\":\"white\",\"gridwidth\":2},\"zaxis\":{\"backgroundcolor\":\"#E5ECF6\",\"gridcolor\":\"white\",\"linecolor\":\"white\",\"showbackground\":true,\"ticks\":\"\",\"zerolinecolor\":\"white\",\"gridwidth\":2}},\"shapedefaults\":{\"line\":{\"color\":\"#2a3f5f\"}},\"annotationdefaults\":{\"arrowcolor\":\"#2a3f5f\",\"arrowhead\":0,\"arrowwidth\":1},\"geo\":{\"bgcolor\":\"white\",\"landcolor\":\"#E5ECF6\",\"subunitcolor\":\"white\",\"showland\":true,\"showlakes\":true,\"lakecolor\":\"white\"},\"title\":{\"x\":0.05},\"mapbox\":{\"style\":\"light\"}}},\"xaxis\":{\"anchor\":\"y\",\"domain\":[0.0,1.0]},\"yaxis\":{\"anchor\":\"x\",\"domain\":[0.0,1.0],\"title\":{\"text\":\"Valor\"}},\"legend\":{\"title\":{\"text\":\"M\\u00e9trica\"},\"tracegroupgap\":0},\"title\":{\"text\":\"Validando valores por metricas\"},\"boxmode\":\"group\"},                        {\"responsive\": true}                    ).then(function(){\n",
       "                            \n",
       "var gd = document.getElementById('c21ea5ad-92ad-452a-a0b0-1e5f433e2dd7');\n",
       "var x = new MutationObserver(function (mutations, observer) {{\n",
       "        var display = window.getComputedStyle(gd).display;\n",
       "        if (!display || display === 'none') {{\n",
       "            console.log([gd, 'removed!']);\n",
       "            Plotly.purge(gd);\n",
       "            observer.disconnect();\n",
       "        }}\n",
       "}});\n",
       "\n",
       "// Listen for the removal of the full notebook cells\n",
       "var notebookContainer = gd.closest('#notebook-container');\n",
       "if (notebookContainer) {{\n",
       "    x.observe(notebookContainer, {childList: true});\n",
       "}}\n",
       "\n",
       "// Listen for the clearing of the current output cell\n",
       "var outputEl = gd.closest('.output');\n",
       "if (outputEl) {{\n",
       "    x.observe(outputEl, {childList: true});\n",
       "}}\n",
       "\n",
       "                        })                };                });            </script>        </div>"
      ]
     },
     "metadata": {},
     "output_type": "display_data"
    }
   ],
   "source": [
    "# verificando outliers\n",
    "df_meltada_2 = pd.melt(\n",
    "    sem_nulos,\n",
    "    value_vars=['magnitude', 'cdi', 'mmi'],  \n",
    "    var_name='medida', \n",
    "    value_name='valor'  \n",
    ")\n",
    "\n",
    "fig_analise_outliers_s_nulo = px.box(data_frame=df_meltada_2, y='valor', color='medida',  labels={'valor': 'Valor', 'medida': 'Métrica'}, title='Validando valores por metricas')\n",
    "fig_analise_outliers_s_nulo.show()"
   ]
  },
  {
   "cell_type": "code",
   "execution_count": null,
   "id": "d5fee1a1-77d2-4805-a595-da2615741a63",
   "metadata": {},
   "outputs": [],
   "source": []
  },
  {
   "cell_type": "code",
   "execution_count": 336,
   "id": "5a2aa760-59b7-447f-8d25-54c5215c4331",
   "metadata": {},
   "outputs": [
    {
     "data": {
      "application/vnd.plotly.v1+json": {
       "config": {
        "plotlyServerURL": "https://plot.ly"
       },
       "data": [
        {
         "alignmentgroup": "True",
         "hovertemplate": "depth=%{x}<extra></extra>",
         "legendgroup": "",
         "marker": {
          "color": "#636efa"
         },
         "name": "",
         "notched": false,
         "offsetgroup": "",
         "orientation": "h",
         "showlegend": false,
         "type": "box",
         "x": [
          4.044,
          6.1279,
          10.9,
          6.2024,
          8.814,
          10.95,
          11.02,
          10.93,
          11.35,
          11.8,
          6.1511,
          7.0227,
          6.0999,
          10,
          4.98,
          4.84,
          5.96,
          -0.25,
          0.16,
          5.29,
          11.39,
          8.3,
          5,
          5,
          9.43,
          3.36,
          6.0999,
          9.724,
          9.194,
          6.0999,
          6.7664,
          15.85,
          4.2,
          5.7,
          5.3,
          9.426,
          6.7,
          5.5,
          5,
          4.7,
          6,
          6.0999,
          5,
          8.0078,
          9.23,
          8.38,
          13.2,
          10.98,
          5,
          0.739,
          5.9326,
          11.57,
          12.24,
          12.96,
          12.06,
          12.85,
          10.17,
          11.09,
          13.7,
          10,
          11.98,
          11.6,
          6.4075,
          6.2537,
          9.657,
          2.84,
          7.26,
          3.4424,
          3.22,
          5.4333,
          6.757,
          5.5872,
          11.6,
          6.82,
          13.7,
          14.11,
          5.1,
          7.4,
          5.43,
          10,
          5.8,
          5.4077,
          10.052,
          5.946,
          8.828,
          7.5,
          7.6,
          10,
          10,
          8,
          10,
          10,
          10,
          10,
          3.426,
          7.148,
          10,
          10,
          10,
          13,
          10,
          10,
          15.733,
          7.204,
          12,
          10,
          13,
          10,
          9,
          10,
          8,
          10.789,
          10,
          6,
          10,
          10,
          10,
          10,
          10,
          8.078,
          15,
          8,
          12.1,
          0.3,
          15.3,
          10.334,
          5.7,
          2.8,
          10.8,
          16,
          16.067,
          10,
          10,
          13.116,
          4.044,
          6.1279,
          6.2024,
          8.814,
          6.1511,
          7.0227,
          6.0999,
          10,
          6.0999,
          9.724,
          9.194,
          6.0999,
          6.7664,
          6.0999,
          5,
          8.0078,
          5,
          3.7842,
          0.739,
          5.9326,
          6.4075,
          6.2537,
          9.657,
          1.155,
          8.1299,
          5,
          3.4424,
          1.534,
          3.2959,
          5,
          3.0029,
          5.4333,
          3.2959,
          3.1982,
          6.757,
          5.5872,
          6.304,
          8.6182,
          5.4077,
          10.052,
          5.946,
          8.828,
          7.8369,
          6.2665,
          4.9207,
          5,
          6.0999,
          6.2408,
          5.9076,
          3.902,
          7.5354,
          6.8433,
          6.1383,
          6.5228,
          6.2024,
          6.7151,
          8.0737,
          6.0999,
          5,
          8.7146,
          2.164,
          7.843,
          3.9722,
          4.7363,
          7.4841,
          10,
          5,
          6.2744,
          6.2024,
          6.933,
          6.51,
          8.4454,
          2.146,
          6.3232,
          4.944,
          7.2791,
          5,
          3.6865,
          6.8561,
          8.3252,
          2.841,
          2.1973,
          3,
          8.4473,
          10.756,
          7.9346,
          6.1316,
          6.0999,
          10,
          11.712,
          10,
          6,
          8,
          10,
          10,
          10,
          10,
          10,
          9,
          8,
          12.48,
          8,
          10.257,
          14,
          10,
          9,
          10,
          6,
          10,
          10,
          10,
          10,
          10,
          10.9,
          6.2024,
          8.814,
          10.95,
          11.02,
          10.93,
          11.35,
          11.8,
          6.1511,
          7.0227,
          6.0999,
          10,
          4.98,
          4.84,
          5.96,
          -0.25,
          0.16,
          5.29,
          11.39,
          8.3,
          5,
          5,
          9.43,
          3.36,
          9.194,
          6.0999,
          6.7664,
          15.85,
          4.2,
          5.7,
          5.3,
          9.426,
          6.7,
          5.5,
          5,
          4.7,
          6,
          6.0999,
          5,
          9.23,
          8.38,
          13.2,
          10.98,
          5,
          11.57,
          12.24,
          12.96,
          12.06,
          12.85,
          10.17,
          11.09,
          13.7,
          10,
          11.98,
          11.6,
          6.4075,
          6.2537,
          9.657,
          2.84,
          7.26,
          3.22,
          5.4333,
          6.757,
          5.5872,
          11.6,
          6.82,
          13.7,
          14.11,
          5.1,
          7.4,
          5.43,
          10,
          5.8,
          5.4077,
          10.052,
          5.946,
          8.828,
          7.5,
          7.6,
          2.3,
          5.9,
          13.48,
          12.07,
          10.55,
          10.649,
          8.494,
          9,
          10,
          6,
          10,
          10,
          10,
          10,
          10,
          4.044,
          6.1279,
          6.2024,
          8.814,
          6.1511,
          7.0227,
          6.0999,
          10,
          6.0999,
          9.724,
          9.194,
          6.0999,
          6.7664,
          6.0999,
          5,
          8.0078,
          5,
          3.7842,
          0.739,
          5.9326,
          2.65,
          6.4075,
          6.2537,
          9.657,
          1.155,
          8.1299,
          5,
          3.4424,
          1.534,
          3.2959,
          5,
          3.0029,
          5.4333,
          3.2959,
          3.1982,
          6.757,
          5.5872,
          6.304,
          8.6182,
          6.51,
          6.51,
          5.43,
          5.4077,
          10.052,
          5.946,
          8.828,
          7.8369,
          6.2665,
          4.9207,
          5,
          6.0999,
          6.2408,
          5.9076,
          3.902,
          7.5354,
          6.8433,
          7.55,
          6.1383,
          6.5228,
          6.2024,
          6.7151,
          8.0737,
          6.0999,
          5,
          8.7146,
          2.164,
          7.843,
          3.9722,
          4.7363,
          7.4841,
          10,
          5,
          6.2744,
          6.2024,
          6.933,
          6.51,
          8.4454,
          2.146,
          6.3232,
          4.944,
          7.2791,
          5,
          3.6865,
          6.8561,
          8.3252,
          2.841,
          2.1973,
          3,
          8.4473,
          10.756,
          7.9346,
          6.1316,
          6.0999,
          11.915,
          5.3556,
          3,
          16.067,
          9,
          10,
          8,
          10.789,
          10,
          6,
          10,
          10,
          10,
          10,
          10,
          1.108,
          2.65,
          6.51,
          6.51,
          7.55,
          4.111,
          2.624,
          3,
          6,
          8.879,
          6.58,
          6.354,
          6.71,
          5.03,
          11.2,
          5,
          5.688,
          5,
          5,
          16,
          16.067,
          10,
          10,
          13.116,
          16.067,
          9.462,
          7,
          10,
          10,
          8,
          6,
          8,
          10,
          10,
          3.426,
          7.148,
          10,
          10,
          10,
          13,
          10,
          7.204,
          12,
          10,
          10,
          10,
          10,
          9,
          8,
          12.48,
          8,
          10.257,
          14,
          13
         ],
         "x0": " ",
         "xaxis": "x",
         "y0": " ",
         "yaxis": "y"
        }
       ],
       "layout": {
        "autosize": true,
        "boxmode": "group",
        "legend": {
         "tracegroupgap": 0
        },
        "template": {
         "data": {
          "bar": [
           {
            "error_x": {
             "color": "#2a3f5f"
            },
            "error_y": {
             "color": "#2a3f5f"
            },
            "marker": {
             "line": {
              "color": "#E5ECF6",
              "width": 0.5
             },
             "pattern": {
              "fillmode": "overlay",
              "size": 10,
              "solidity": 0.2
             }
            },
            "type": "bar"
           }
          ],
          "barpolar": [
           {
            "marker": {
             "line": {
              "color": "#E5ECF6",
              "width": 0.5
             },
             "pattern": {
              "fillmode": "overlay",
              "size": 10,
              "solidity": 0.2
             }
            },
            "type": "barpolar"
           }
          ],
          "carpet": [
           {
            "aaxis": {
             "endlinecolor": "#2a3f5f",
             "gridcolor": "white",
             "linecolor": "white",
             "minorgridcolor": "white",
             "startlinecolor": "#2a3f5f"
            },
            "baxis": {
             "endlinecolor": "#2a3f5f",
             "gridcolor": "white",
             "linecolor": "white",
             "minorgridcolor": "white",
             "startlinecolor": "#2a3f5f"
            },
            "type": "carpet"
           }
          ],
          "choropleth": [
           {
            "colorbar": {
             "outlinewidth": 0,
             "ticks": ""
            },
            "type": "choropleth"
           }
          ],
          "contour": [
           {
            "colorbar": {
             "outlinewidth": 0,
             "ticks": ""
            },
            "colorscale": [
             [
              0,
              "#0d0887"
             ],
             [
              0.1111111111111111,
              "#46039f"
             ],
             [
              0.2222222222222222,
              "#7201a8"
             ],
             [
              0.3333333333333333,
              "#9c179e"
             ],
             [
              0.4444444444444444,
              "#bd3786"
             ],
             [
              0.5555555555555556,
              "#d8576b"
             ],
             [
              0.6666666666666666,
              "#ed7953"
             ],
             [
              0.7777777777777778,
              "#fb9f3a"
             ],
             [
              0.8888888888888888,
              "#fdca26"
             ],
             [
              1,
              "#f0f921"
             ]
            ],
            "type": "contour"
           }
          ],
          "contourcarpet": [
           {
            "colorbar": {
             "outlinewidth": 0,
             "ticks": ""
            },
            "type": "contourcarpet"
           }
          ],
          "heatmap": [
           {
            "colorbar": {
             "outlinewidth": 0,
             "ticks": ""
            },
            "colorscale": [
             [
              0,
              "#0d0887"
             ],
             [
              0.1111111111111111,
              "#46039f"
             ],
             [
              0.2222222222222222,
              "#7201a8"
             ],
             [
              0.3333333333333333,
              "#9c179e"
             ],
             [
              0.4444444444444444,
              "#bd3786"
             ],
             [
              0.5555555555555556,
              "#d8576b"
             ],
             [
              0.6666666666666666,
              "#ed7953"
             ],
             [
              0.7777777777777778,
              "#fb9f3a"
             ],
             [
              0.8888888888888888,
              "#fdca26"
             ],
             [
              1,
              "#f0f921"
             ]
            ],
            "type": "heatmap"
           }
          ],
          "heatmapgl": [
           {
            "colorbar": {
             "outlinewidth": 0,
             "ticks": ""
            },
            "colorscale": [
             [
              0,
              "#0d0887"
             ],
             [
              0.1111111111111111,
              "#46039f"
             ],
             [
              0.2222222222222222,
              "#7201a8"
             ],
             [
              0.3333333333333333,
              "#9c179e"
             ],
             [
              0.4444444444444444,
              "#bd3786"
             ],
             [
              0.5555555555555556,
              "#d8576b"
             ],
             [
              0.6666666666666666,
              "#ed7953"
             ],
             [
              0.7777777777777778,
              "#fb9f3a"
             ],
             [
              0.8888888888888888,
              "#fdca26"
             ],
             [
              1,
              "#f0f921"
             ]
            ],
            "type": "heatmapgl"
           }
          ],
          "histogram": [
           {
            "marker": {
             "pattern": {
              "fillmode": "overlay",
              "size": 10,
              "solidity": 0.2
             }
            },
            "type": "histogram"
           }
          ],
          "histogram2d": [
           {
            "colorbar": {
             "outlinewidth": 0,
             "ticks": ""
            },
            "colorscale": [
             [
              0,
              "#0d0887"
             ],
             [
              0.1111111111111111,
              "#46039f"
             ],
             [
              0.2222222222222222,
              "#7201a8"
             ],
             [
              0.3333333333333333,
              "#9c179e"
             ],
             [
              0.4444444444444444,
              "#bd3786"
             ],
             [
              0.5555555555555556,
              "#d8576b"
             ],
             [
              0.6666666666666666,
              "#ed7953"
             ],
             [
              0.7777777777777778,
              "#fb9f3a"
             ],
             [
              0.8888888888888888,
              "#fdca26"
             ],
             [
              1,
              "#f0f921"
             ]
            ],
            "type": "histogram2d"
           }
          ],
          "histogram2dcontour": [
           {
            "colorbar": {
             "outlinewidth": 0,
             "ticks": ""
            },
            "colorscale": [
             [
              0,
              "#0d0887"
             ],
             [
              0.1111111111111111,
              "#46039f"
             ],
             [
              0.2222222222222222,
              "#7201a8"
             ],
             [
              0.3333333333333333,
              "#9c179e"
             ],
             [
              0.4444444444444444,
              "#bd3786"
             ],
             [
              0.5555555555555556,
              "#d8576b"
             ],
             [
              0.6666666666666666,
              "#ed7953"
             ],
             [
              0.7777777777777778,
              "#fb9f3a"
             ],
             [
              0.8888888888888888,
              "#fdca26"
             ],
             [
              1,
              "#f0f921"
             ]
            ],
            "type": "histogram2dcontour"
           }
          ],
          "mesh3d": [
           {
            "colorbar": {
             "outlinewidth": 0,
             "ticks": ""
            },
            "type": "mesh3d"
           }
          ],
          "parcoords": [
           {
            "line": {
             "colorbar": {
              "outlinewidth": 0,
              "ticks": ""
             }
            },
            "type": "parcoords"
           }
          ],
          "pie": [
           {
            "automargin": true,
            "type": "pie"
           }
          ],
          "scatter": [
           {
            "fillpattern": {
             "fillmode": "overlay",
             "size": 10,
             "solidity": 0.2
            },
            "type": "scatter"
           }
          ],
          "scatter3d": [
           {
            "line": {
             "colorbar": {
              "outlinewidth": 0,
              "ticks": ""
             }
            },
            "marker": {
             "colorbar": {
              "outlinewidth": 0,
              "ticks": ""
             }
            },
            "type": "scatter3d"
           }
          ],
          "scattercarpet": [
           {
            "marker": {
             "colorbar": {
              "outlinewidth": 0,
              "ticks": ""
             }
            },
            "type": "scattercarpet"
           }
          ],
          "scattergeo": [
           {
            "marker": {
             "colorbar": {
              "outlinewidth": 0,
              "ticks": ""
             }
            },
            "type": "scattergeo"
           }
          ],
          "scattergl": [
           {
            "marker": {
             "colorbar": {
              "outlinewidth": 0,
              "ticks": ""
             }
            },
            "type": "scattergl"
           }
          ],
          "scattermapbox": [
           {
            "marker": {
             "colorbar": {
              "outlinewidth": 0,
              "ticks": ""
             }
            },
            "type": "scattermapbox"
           }
          ],
          "scatterpolar": [
           {
            "marker": {
             "colorbar": {
              "outlinewidth": 0,
              "ticks": ""
             }
            },
            "type": "scatterpolar"
           }
          ],
          "scatterpolargl": [
           {
            "marker": {
             "colorbar": {
              "outlinewidth": 0,
              "ticks": ""
             }
            },
            "type": "scatterpolargl"
           }
          ],
          "scatterternary": [
           {
            "marker": {
             "colorbar": {
              "outlinewidth": 0,
              "ticks": ""
             }
            },
            "type": "scatterternary"
           }
          ],
          "surface": [
           {
            "colorbar": {
             "outlinewidth": 0,
             "ticks": ""
            },
            "colorscale": [
             [
              0,
              "#0d0887"
             ],
             [
              0.1111111111111111,
              "#46039f"
             ],
             [
              0.2222222222222222,
              "#7201a8"
             ],
             [
              0.3333333333333333,
              "#9c179e"
             ],
             [
              0.4444444444444444,
              "#bd3786"
             ],
             [
              0.5555555555555556,
              "#d8576b"
             ],
             [
              0.6666666666666666,
              "#ed7953"
             ],
             [
              0.7777777777777778,
              "#fb9f3a"
             ],
             [
              0.8888888888888888,
              "#fdca26"
             ],
             [
              1,
              "#f0f921"
             ]
            ],
            "type": "surface"
           }
          ],
          "table": [
           {
            "cells": {
             "fill": {
              "color": "#EBF0F8"
             },
             "line": {
              "color": "white"
             }
            },
            "header": {
             "fill": {
              "color": "#C8D4E3"
             },
             "line": {
              "color": "white"
             }
            },
            "type": "table"
           }
          ]
         },
         "layout": {
          "annotationdefaults": {
           "arrowcolor": "#2a3f5f",
           "arrowhead": 0,
           "arrowwidth": 1
          },
          "autotypenumbers": "strict",
          "coloraxis": {
           "colorbar": {
            "outlinewidth": 0,
            "ticks": ""
           }
          },
          "colorscale": {
           "diverging": [
            [
             0,
             "#8e0152"
            ],
            [
             0.1,
             "#c51b7d"
            ],
            [
             0.2,
             "#de77ae"
            ],
            [
             0.3,
             "#f1b6da"
            ],
            [
             0.4,
             "#fde0ef"
            ],
            [
             0.5,
             "#f7f7f7"
            ],
            [
             0.6,
             "#e6f5d0"
            ],
            [
             0.7,
             "#b8e186"
            ],
            [
             0.8,
             "#7fbc41"
            ],
            [
             0.9,
             "#4d9221"
            ],
            [
             1,
             "#276419"
            ]
           ],
           "sequential": [
            [
             0,
             "#0d0887"
            ],
            [
             0.1111111111111111,
             "#46039f"
            ],
            [
             0.2222222222222222,
             "#7201a8"
            ],
            [
             0.3333333333333333,
             "#9c179e"
            ],
            [
             0.4444444444444444,
             "#bd3786"
            ],
            [
             0.5555555555555556,
             "#d8576b"
            ],
            [
             0.6666666666666666,
             "#ed7953"
            ],
            [
             0.7777777777777778,
             "#fb9f3a"
            ],
            [
             0.8888888888888888,
             "#fdca26"
            ],
            [
             1,
             "#f0f921"
            ]
           ],
           "sequentialminus": [
            [
             0,
             "#0d0887"
            ],
            [
             0.1111111111111111,
             "#46039f"
            ],
            [
             0.2222222222222222,
             "#7201a8"
            ],
            [
             0.3333333333333333,
             "#9c179e"
            ],
            [
             0.4444444444444444,
             "#bd3786"
            ],
            [
             0.5555555555555556,
             "#d8576b"
            ],
            [
             0.6666666666666666,
             "#ed7953"
            ],
            [
             0.7777777777777778,
             "#fb9f3a"
            ],
            [
             0.8888888888888888,
             "#fdca26"
            ],
            [
             1,
             "#f0f921"
            ]
           ]
          },
          "colorway": [
           "#636efa",
           "#EF553B",
           "#00cc96",
           "#ab63fa",
           "#FFA15A",
           "#19d3f3",
           "#FF6692",
           "#B6E880",
           "#FF97FF",
           "#FECB52"
          ],
          "font": {
           "color": "#2a3f5f"
          },
          "geo": {
           "bgcolor": "white",
           "lakecolor": "white",
           "landcolor": "#E5ECF6",
           "showlakes": true,
           "showland": true,
           "subunitcolor": "white"
          },
          "hoverlabel": {
           "align": "left"
          },
          "hovermode": "closest",
          "mapbox": {
           "style": "light"
          },
          "paper_bgcolor": "white",
          "plot_bgcolor": "#E5ECF6",
          "polar": {
           "angularaxis": {
            "gridcolor": "white",
            "linecolor": "white",
            "ticks": ""
           },
           "bgcolor": "#E5ECF6",
           "radialaxis": {
            "gridcolor": "white",
            "linecolor": "white",
            "ticks": ""
           }
          },
          "scene": {
           "xaxis": {
            "backgroundcolor": "#E5ECF6",
            "gridcolor": "white",
            "gridwidth": 2,
            "linecolor": "white",
            "showbackground": true,
            "ticks": "",
            "zerolinecolor": "white"
           },
           "yaxis": {
            "backgroundcolor": "#E5ECF6",
            "gridcolor": "white",
            "gridwidth": 2,
            "linecolor": "white",
            "showbackground": true,
            "ticks": "",
            "zerolinecolor": "white"
           },
           "zaxis": {
            "backgroundcolor": "#E5ECF6",
            "gridcolor": "white",
            "gridwidth": 2,
            "linecolor": "white",
            "showbackground": true,
            "ticks": "",
            "zerolinecolor": "white"
           }
          },
          "shapedefaults": {
           "line": {
            "color": "#2a3f5f"
           }
          },
          "ternary": {
           "aaxis": {
            "gridcolor": "white",
            "linecolor": "white",
            "ticks": ""
           },
           "baxis": {
            "gridcolor": "white",
            "linecolor": "white",
            "ticks": ""
           },
           "bgcolor": "#E5ECF6",
           "caxis": {
            "gridcolor": "white",
            "linecolor": "white",
            "ticks": ""
           }
          },
          "title": {
           "x": 0.05
          },
          "xaxis": {
           "automargin": true,
           "gridcolor": "white",
           "linecolor": "white",
           "ticks": "",
           "title": {
            "standoff": 15
           },
           "zerolinecolor": "white",
           "zerolinewidth": 2
          },
          "yaxis": {
           "automargin": true,
           "gridcolor": "white",
           "linecolor": "white",
           "ticks": "",
           "title": {
            "standoff": 15
           },
           "zerolinecolor": "white",
           "zerolinewidth": 2
          }
         }
        },
        "title": {
         "text": "Distribuição de 'Profundidade' sem Outliers"
        },
        "xaxis": {
         "anchor": "y",
         "autorange": true,
         "domain": [
          0,
          1
         ],
         "range": [
          -1.1565,
          16.9735
         ],
         "title": {
          "text": "depth"
         },
         "type": "linear"
        },
        "yaxis": {
         "anchor": "x",
         "autorange": true,
         "domain": [
          0,
          1
         ],
         "range": [
          -0.5,
          0.5
         ],
         "type": "category"
        }
       }
      },
      "image/png": "[encoded data removed]",
      "text/html": [
       "<div>                            <div id=\"f0c497ee-e320-43e4-91a3-9ecaef5a1dce\" class=\"plotly-graph-div\" style=\"height:525px; width:100%;\"></div>            <script type=\"text/javascript\">                require([\"plotly\"], function(Plotly) {                    window.PLOTLYENV=window.PLOTLYENV || {};                                    if (document.getElementById(\"f0c497ee-e320-43e4-91a3-9ecaef5a1dce\")) {                    Plotly.newPlot(                        \"f0c497ee-e320-43e4-91a3-9ecaef5a1dce\",                        [{\"alignmentgroup\":\"True\",\"hovertemplate\":\"depth=%{x}\\u003cextra\\u003e\\u003c\\u002fextra\\u003e\",\"legendgroup\":\"\",\"marker\":{\"color\":\"#636efa\"},\"name\":\"\",\"notched\":false,\"offsetgroup\":\"\",\"orientation\":\"h\",\"showlegend\":false,\"x\":[4.044,6.1279,10.9,6.2024,8.814,10.95,11.02,10.93,11.35,11.8,6.1511,7.0227,6.0999,10.0,4.98,4.84,5.96,-0.25,0.16,5.29,11.39,8.3,5.0,5.0,9.43,3.36,6.0999,9.724,9.194,6.0999,6.7664,15.85,4.2,5.7,5.3,9.426,6.7,5.5,5.0,4.7,6.0,6.0999,5.0,8.0078,9.23,8.38,13.2,10.98,5.0,0.739,5.9326,11.57,12.24,12.96,12.06,12.85,10.17,11.09,13.7,10.0,11.98,11.6,6.4075,6.2537,9.657,2.84,7.26,3.4424,3.22,5.4333,6.757,5.5872,11.6,6.82,13.7,14.11,5.1,7.4,5.43,10.0,5.8,5.4077,10.052,5.946,8.828,7.5,7.6,10.0,10.0,8.0,10.0,10.0,10.0,10.0,3.426,7.148,10.0,10.0,10.0,13.0,10.0,10.0,15.733,7.204,12.0,10.0,13.0,10.0,9.0,10.0,8.0,10.789,10.0,6.0,10.0,10.0,10.0,10.0,10.0,8.078,15.0,8.0,12.1,0.3,15.3,10.334,5.7,2.8,10.8,16.0,16.067,10.0,10.0,13.116,4.044,6.1279,6.2024,8.814,6.1511,7.0227,6.0999,10.0,6.0999,9.724,9.194,6.0999,6.7664,6.0999,5.0,8.0078,5.0,3.7842,0.739,5.9326,6.4075,6.2537,9.657,1.155,8.1299,5.0,3.4424,1.534,3.2959,5.0,3.0029,5.4333,3.2959,3.1982,6.757,5.5872,6.304,8.6182,5.4077,10.052,5.946,8.828,7.8369,6.2665,4.9207,5.0,6.0999,6.2408,5.9076,3.902,7.5354,6.8433,6.1383,6.5228,6.2024,6.7151,8.0737,6.0999,5.0,8.7146,2.164,7.843,3.9722,4.7363,7.4841,10.0,5.0,6.2744,6.2024,6.933,6.51,8.4454,2.146,6.3232,4.944,7.2791,5.0,3.6865,6.8561,8.3252,2.841,2.1973,3.0,8.4473,10.756,7.9346,6.1316,6.0999,10.0,11.712,10.0,6.0,8.0,10.0,10.0,10.0,10.0,10.0,9.0,8.0,12.48,8.0,10.257,14.0,10.0,9.0,10.0,6.0,10.0,10.0,10.0,10.0,10.0,10.9,6.2024,8.814,10.95,11.02,10.93,11.35,11.8,6.1511,7.0227,6.0999,10.0,4.98,4.84,5.96,-0.25,0.16,5.29,11.39,8.3,5.0,5.0,9.43,3.36,9.194,6.0999,6.7664,15.85,4.2,5.7,5.3,9.426,6.7,5.5,5.0,4.7,6.0,6.0999,5.0,9.23,8.38,13.2,10.98,5.0,11.57,12.24,12.96,12.06,12.85,10.17,11.09,13.7,10.0,11.98,11.6,6.4075,6.2537,9.657,2.84,7.26,3.22,5.4333,6.757,5.5872,11.6,6.82,13.7,14.11,5.1,7.4,5.43,10.0,5.8,5.4077,10.052,5.946,8.828,7.5,7.6,2.3,5.9,13.48,12.07,10.55,10.649,8.494,9.0,10.0,6.0,10.0,10.0,10.0,10.0,10.0,4.044,6.1279,6.2024,8.814,6.1511,7.0227,6.0999,10.0,6.0999,9.724,9.194,6.0999,6.7664,6.0999,5.0,8.0078,5.0,3.7842,0.739,5.9326,2.65,6.4075,6.2537,9.657,1.155,8.1299,5.0,3.4424,1.534,3.2959,5.0,3.0029,5.4333,3.2959,3.1982,6.757,5.5872,6.304,8.6182,6.51,6.51,5.43,5.4077,10.052,5.946,8.828,7.8369,6.2665,4.9207,5.0,6.0999,6.2408,5.9076,3.902,7.5354,6.8433,7.55,6.1383,6.5228,6.2024,6.7151,8.0737,6.0999,5.0,8.7146,2.164,7.843,3.9722,4.7363,7.4841,10.0,5.0,6.2744,6.2024,6.933,6.51,8.4454,2.146,6.3232,4.944,7.2791,5.0,3.6865,6.8561,8.3252,2.841,2.1973,3.0,8.4473,10.756,7.9346,6.1316,6.0999,11.915,5.3556,3.0,16.067,9.0,10.0,8.0,10.789,10.0,6.0,10.0,10.0,10.0,10.0,10.0,1.108,2.65,6.51,6.51,7.55,4.111,2.624,3.0,6.0,8.879,6.58,6.354,6.71,5.03,11.2,5.0,5.688,5.0,5.0,16.0,16.067,10.0,10.0,13.116,16.067,9.462,7.0,10.0,10.0,8.0,6.0,8.0,10.0,10.0,3.426,7.148,10.0,10.0,10.0,13.0,10.0,7.204,12.0,10.0,10.0,10.0,10.0,9.0,8.0,12.48,8.0,10.257,14.0,13.0],\"x0\":\" \",\"xaxis\":\"x\",\"y0\":\" \",\"yaxis\":\"y\",\"type\":\"box\"}],                        {\"template\":{\"data\":{\"histogram2dcontour\":[{\"type\":\"histogram2dcontour\",\"colorbar\":{\"outlinewidth\":0,\"ticks\":\"\"},\"colorscale\":[[0.0,\"#0d0887\"],[0.1111111111111111,\"#46039f\"],[0.2222222222222222,\"#7201a8\"],[0.3333333333333333,\"#9c179e\"],[0.4444444444444444,\"#bd3786\"],[0.5555555555555556,\"#d8576b\"],[0.6666666666666666,\"#ed7953\"],[0.7777777777777778,\"#fb9f3a\"],[0.8888888888888888,\"#fdca26\"],[1.0,\"#f0f921\"]]}],\"choropleth\":[{\"type\":\"choropleth\",\"colorbar\":{\"outlinewidth\":0,\"ticks\":\"\"}}],\"histogram2d\":[{\"type\":\"histogram2d\",\"colorbar\":{\"outlinewidth\":0,\"ticks\":\"\"},\"colorscale\":[[0.0,\"#0d0887\"],[0.1111111111111111,\"#46039f\"],[0.2222222222222222,\"#7201a8\"],[0.3333333333333333,\"#9c179e\"],[0.4444444444444444,\"#bd3786\"],[0.5555555555555556,\"#d8576b\"],[0.6666666666666666,\"#ed7953\"],[0.7777777777777778,\"#fb9f3a\"],[0.8888888888888888,\"#fdca26\"],[1.0,\"#f0f921\"]]}],\"heatmap\":[{\"type\":\"heatmap\",\"colorbar\":{\"outlinewidth\":0,\"ticks\":\"\"},\"colorscale\":[[0.0,\"#0d0887\"],[0.1111111111111111,\"#46039f\"],[0.2222222222222222,\"#7201a8\"],[0.3333333333333333,\"#9c179e\"],[0.4444444444444444,\"#bd3786\"],[0.5555555555555556,\"#d8576b\"],[0.6666666666666666,\"#ed7953\"],[0.7777777777777778,\"#fb9f3a\"],[0.8888888888888888,\"#fdca26\"],[1.0,\"#f0f921\"]]}],\"heatmapgl\":[{\"type\":\"heatmapgl\",\"colorbar\":{\"outlinewidth\":0,\"ticks\":\"\"},\"colorscale\":[[0.0,\"#0d0887\"],[0.1111111111111111,\"#46039f\"],[0.2222222222222222,\"#7201a8\"],[0.3333333333333333,\"#9c179e\"],[0.4444444444444444,\"#bd3786\"],[0.5555555555555556,\"#d8576b\"],[0.6666666666666666,\"#ed7953\"],[0.7777777777777778,\"#fb9f3a\"],[0.8888888888888888,\"#fdca26\"],[1.0,\"#f0f921\"]]}],\"contourcarpet\":[{\"type\":\"contourcarpet\",\"colorbar\":{\"outlinewidth\":0,\"ticks\":\"\"}}],\"contour\":[{\"type\":\"contour\",\"colorbar\":{\"outlinewidth\":0,\"ticks\":\"\"},\"colorscale\":[[0.0,\"#0d0887\"],[0.1111111111111111,\"#46039f\"],[0.2222222222222222,\"#7201a8\"],[0.3333333333333333,\"#9c179e\"],[0.4444444444444444,\"#bd3786\"],[0.5555555555555556,\"#d8576b\"],[0.6666666666666666,\"#ed7953\"],[0.7777777777777778,\"#fb9f3a\"],[0.8888888888888888,\"#fdca26\"],[1.0,\"#f0f921\"]]}],\"surface\":[{\"type\":\"surface\",\"colorbar\":{\"outlinewidth\":0,\"ticks\":\"\"},\"colorscale\":[[0.0,\"#0d0887\"],[0.1111111111111111,\"#46039f\"],[0.2222222222222222,\"#7201a8\"],[0.3333333333333333,\"#9c179e\"],[0.4444444444444444,\"#bd3786\"],[0.5555555555555556,\"#d8576b\"],[0.6666666666666666,\"#ed7953\"],[0.7777777777777778,\"#fb9f3a\"],[0.8888888888888888,\"#fdca26\"],[1.0,\"#f0f921\"]]}],\"mesh3d\":[{\"type\":\"mesh3d\",\"colorbar\":{\"outlinewidth\":0,\"ticks\":\"\"}}],\"scatter\":[{\"fillpattern\":{\"fillmode\":\"overlay\",\"size\":10,\"solidity\":0.2},\"type\":\"scatter\"}],\"parcoords\":[{\"type\":\"parcoords\",\"line\":{\"colorbar\":{\"outlinewidth\":0,\"ticks\":\"\"}}}],\"scatterpolargl\":[{\"type\":\"scatterpolargl\",\"marker\":{\"colorbar\":{\"outlinewidth\":0,\"ticks\":\"\"}}}],\"bar\":[{\"error_x\":{\"color\":\"#2a3f5f\"},\"error_y\":{\"color\":\"#2a3f5f\"},\"marker\":{\"line\":{\"color\":\"#E5ECF6\",\"width\":0.5},\"pattern\":{\"fillmode\":\"overlay\",\"size\":10,\"solidity\":0.2}},\"type\":\"bar\"}],\"scattergeo\":[{\"type\":\"scattergeo\",\"marker\":{\"colorbar\":{\"outlinewidth\":0,\"ticks\":\"\"}}}],\"scatterpolar\":[{\"type\":\"scatterpolar\",\"marker\":{\"colorbar\":{\"outlinewidth\":0,\"ticks\":\"\"}}}],\"histogram\":[{\"marker\":{\"pattern\":{\"fillmode\":\"overlay\",\"size\":10,\"solidity\":0.2}},\"type\":\"histogram\"}],\"scattergl\":[{\"type\":\"scattergl\",\"marker\":{\"colorbar\":{\"outlinewidth\":0,\"ticks\":\"\"}}}],\"scatter3d\":[{\"type\":\"scatter3d\",\"line\":{\"colorbar\":{\"outlinewidth\":0,\"ticks\":\"\"}},\"marker\":{\"colorbar\":{\"outlinewidth\":0,\"ticks\":\"\"}}}],\"scattermapbox\":[{\"type\":\"scattermapbox\",\"marker\":{\"colorbar\":{\"outlinewidth\":0,\"ticks\":\"\"}}}],\"scatterternary\":[{\"type\":\"scatterternary\",\"marker\":{\"colorbar\":{\"outlinewidth\":0,\"ticks\":\"\"}}}],\"scattercarpet\":[{\"type\":\"scattercarpet\",\"marker\":{\"colorbar\":{\"outlinewidth\":0,\"ticks\":\"\"}}}],\"carpet\":[{\"aaxis\":{\"endlinecolor\":\"#2a3f5f\",\"gridcolor\":\"white\",\"linecolor\":\"white\",\"minorgridcolor\":\"white\",\"startlinecolor\":\"#2a3f5f\"},\"baxis\":{\"endlinecolor\":\"#2a3f5f\",\"gridcolor\":\"white\",\"linecolor\":\"white\",\"minorgridcolor\":\"white\",\"startlinecolor\":\"#2a3f5f\"},\"type\":\"carpet\"}],\"table\":[{\"cells\":{\"fill\":{\"color\":\"#EBF0F8\"},\"line\":{\"color\":\"white\"}},\"header\":{\"fill\":{\"color\":\"#C8D4E3\"},\"line\":{\"color\":\"white\"}},\"type\":\"table\"}],\"barpolar\":[{\"marker\":{\"line\":{\"color\":\"#E5ECF6\",\"width\":0.5},\"pattern\":{\"fillmode\":\"overlay\",\"size\":10,\"solidity\":0.2}},\"type\":\"barpolar\"}],\"pie\":[{\"automargin\":true,\"type\":\"pie\"}]},\"layout\":{\"autotypenumbers\":\"strict\",\"colorway\":[\"#636efa\",\"#EF553B\",\"#00cc96\",\"#ab63fa\",\"#FFA15A\",\"#19d3f3\",\"#FF6692\",\"#B6E880\",\"#FF97FF\",\"#FECB52\"],\"font\":{\"color\":\"#2a3f5f\"},\"hovermode\":\"closest\",\"hoverlabel\":{\"align\":\"left\"},\"paper_bgcolor\":\"white\",\"plot_bgcolor\":\"#E5ECF6\",\"polar\":{\"bgcolor\":\"#E5ECF6\",\"angularaxis\":{\"gridcolor\":\"white\",\"linecolor\":\"white\",\"ticks\":\"\"},\"radialaxis\":{\"gridcolor\":\"white\",\"linecolor\":\"white\",\"ticks\":\"\"}},\"ternary\":{\"bgcolor\":\"#E5ECF6\",\"aaxis\":{\"gridcolor\":\"white\",\"linecolor\":\"white\",\"ticks\":\"\"},\"baxis\":{\"gridcolor\":\"white\",\"linecolor\":\"white\",\"ticks\":\"\"},\"caxis\":{\"gridcolor\":\"white\",\"linecolor\":\"white\",\"ticks\":\"\"}},\"coloraxis\":{\"colorbar\":{\"outlinewidth\":0,\"ticks\":\"\"}},\"colorscale\":{\"sequential\":[[0.0,\"#0d0887\"],[0.1111111111111111,\"#46039f\"],[0.2222222222222222,\"#7201a8\"],[0.3333333333333333,\"#9c179e\"],[0.4444444444444444,\"#bd3786\"],[0.5555555555555556,\"#d8576b\"],[0.6666666666666666,\"#ed7953\"],[0.7777777777777778,\"#fb9f3a\"],[0.8888888888888888,\"#fdca26\"],[1.0,\"#f0f921\"]],\"sequentialminus\":[[0.0,\"#0d0887\"],[0.1111111111111111,\"#46039f\"],[0.2222222222222222,\"#7201a8\"],[0.3333333333333333,\"#9c179e\"],[0.4444444444444444,\"#bd3786\"],[0.5555555555555556,\"#d8576b\"],[0.6666666666666666,\"#ed7953\"],[0.7777777777777778,\"#fb9f3a\"],[0.8888888888888888,\"#fdca26\"],[1.0,\"#f0f921\"]],\"diverging\":[[0,\"#8e0152\"],[0.1,\"#c51b7d\"],[0.2,\"#de77ae\"],[0.3,\"#f1b6da\"],[0.4,\"#fde0ef\"],[0.5,\"#f7f7f7\"],[0.6,\"#e6f5d0\"],[0.7,\"#b8e186\"],[0.8,\"#7fbc41\"],[0.9,\"#4d9221\"],[1,\"#276419\"]]},\"xaxis\":{\"gridcolor\":\"white\",\"linecolor\":\"white\",\"ticks\":\"\",\"title\":{\"standoff\":15},\"zerolinecolor\":\"white\",\"automargin\":true,\"zerolinewidth\":2},\"yaxis\":{\"gridcolor\":\"white\",\"linecolor\":\"white\",\"ticks\":\"\",\"title\":{\"standoff\":15},\"zerolinecolor\":\"white\",\"automargin\":true,\"zerolinewidth\":2},\"scene\":{\"xaxis\":{\"backgroundcolor\":\"#E5ECF6\",\"gridcolor\":\"white\",\"linecolor\":\"white\",\"showbackground\":true,\"ticks\":\"\",\"zerolinecolor\":\"white\",\"gridwidth\":2},\"yaxis\":{\"backgroundcolor\":\"#E5ECF6\",\"gridcolor\":\"white\",\"linecolor\":\"white\",\"showbackground\":true,\"ticks\":\"\",\"zerolinecolor\":\"white\",\"gridwidth\":2},\"zaxis\":{\"backgroundcolor\":\"#E5ECF6\",\"gridcolor\":\"white\",\"linecolor\":\"white\",\"showbackground\":true,\"ticks\":\"\",\"zerolinecolor\":\"white\",\"gridwidth\":2}},\"shapedefaults\":{\"line\":{\"color\":\"#2a3f5f\"}},\"annotationdefaults\":{\"arrowcolor\":\"#2a3f5f\",\"arrowhead\":0,\"arrowwidth\":1},\"geo\":{\"bgcolor\":\"white\",\"landcolor\":\"#E5ECF6\",\"subunitcolor\":\"white\",\"showland\":true,\"showlakes\":true,\"lakecolor\":\"white\"},\"title\":{\"x\":0.05},\"mapbox\":{\"style\":\"light\"}}},\"xaxis\":{\"anchor\":\"y\",\"domain\":[0.0,1.0],\"title\":{\"text\":\"depth\"}},\"yaxis\":{\"anchor\":\"x\",\"domain\":[0.0,1.0]},\"legend\":{\"tracegroupgap\":0},\"title\":{\"text\":\"Distribui\\u00e7\\u00e3o de 'Profundidade' sem Outliers\"},\"boxmode\":\"group\"},                        {\"responsive\": true}                    ).then(function(){\n",
       "                            \n",
       "var gd = document.getElementById('f0c497ee-e320-43e4-91a3-9ecaef5a1dce');\n",
       "var x = new MutationObserver(function (mutations, observer) {{\n",
       "        var display = window.getComputedStyle(gd).display;\n",
       "        if (!display || display === 'none') {{\n",
       "            console.log([gd, 'removed!']);\n",
       "            Plotly.purge(gd);\n",
       "            observer.disconnect();\n",
       "        }}\n",
       "}});\n",
       "\n",
       "// Listen for the removal of the full notebook cells\n",
       "var notebookContainer = gd.closest('#notebook-container');\n",
       "if (notebookContainer) {{\n",
       "    x.observe(notebookContainer, {childList: true});\n",
       "}}\n",
       "\n",
       "// Listen for the clearing of the current output cell\n",
       "var outputEl = gd.closest('.output');\n",
       "if (outputEl) {{\n",
       "    x.observe(outputEl, {childList: true});\n",
       "}}\n",
       "\n",
       "                        })                };                });            </script>        </div>"
      ]
     },
     "metadata": {},
     "output_type": "display_data"
    }
   ],
   "source": [
    "df_sem_outliers = sem_nulos[(sem_nulos['depth'] >= limite_inferior) & (sem_nulos['depth'] <= limite_superior)]\n",
    "deth_outlier = px.box(df_sem_outliers, x='depth', title=\"Distribuição de 'Profundidade' sem Outliers\")\n",
    "grafico_deth_outlier.show()"
   ]
  },
  {
   "cell_type": "code",
   "execution_count": 333,
   "id": "d2bfbe94-08f1-4719-b5ed-57dbb3dd679d",
   "metadata": {},
   "outputs": [
    {
     "name": "stdout",
     "output_type": "stream",
     "text": [
      "<class 'pandas.core.frame.DataFrame'>\n",
      "Index: 503 entries, 0 to 1135\n",
      "Data columns (total 13 columns):\n",
      " #   Column       Non-Null Count  Dtype         \n",
      "---  ------       --------------  -----         \n",
      " 0   magnitude    503 non-null    float64       \n",
      " 1   data         503 non-null    datetime64[ns]\n",
      " 2   hora         503 non-null    object        \n",
      " 3   periodo      503 non-null    object        \n",
      " 4   subnational  503 non-null    object        \n",
      " 5   city         503 non-null    object        \n",
      " 6   depth        503 non-null    float64       \n",
      " 7   felt         503 non-null    int64         \n",
      " 8   continent    503 non-null    object        \n",
      " 9   latitude     503 non-null    float64       \n",
      " 10  longitude    503 non-null    float64       \n",
      " 11  mmi          503 non-null    int64         \n",
      " 12  cdi          503 non-null    int64         \n",
      "dtypes: datetime64[ns](1), float64(4), int64(3), object(5)\n",
      "memory usage: 55.0+ KB\n"
     ]
    }
   ],
   "source": [
    "sem_nulos_e_outlier = sem_outlier_detalhado.copy()\n",
    "\n",
    "sem_nulos_e_outlier.loc[:, 'depth'] = sem_outlier_detalhado['depth'].copy()\n",
    "\n",
    "sem_nulos_e_outlier.dropna(inplace=True)\n",
    "\n",
    "sem_nulos_e_outlier.info()"
   ]
  },
  {
   "cell_type": "code",
   "execution_count": 350,
   "id": "df43bc5c-97ce-450d-982d-9ebbecab0ff0",
   "metadata": {},
   "outputs": [
    {
     "data": {
      "application/vnd.plotly.v1+json": {
       "config": {
        "plotlyServerURL": "https://plot.ly"
       },
       "data": [
        {
         "alignmentgroup": "True",
         "hovertemplate": "Categoria de Profundidade=%{x}<br>Profundidade=%{y}<extra></extra>",
         "legendgroup": "",
         "marker": {
          "color": "#636efa"
         },
         "name": "",
         "notched": false,
         "offsetgroup": "",
         "orientation": "v",
         "showlegend": false,
         "type": "box",
         "x": [
          "0-50",
          "0-50",
          "0-50",
          "0-50",
          "0-50",
          "0-50",
          "0-50",
          "0-50",
          "0-50",
          "0-50",
          "0-50",
          "0-50",
          "0-50",
          "0-50",
          "0-50",
          "0-50",
          "0-50",
          null,
          "0-50",
          "0-50",
          "0-50",
          "0-50",
          "0-50",
          "0-50",
          "0-50",
          "0-50",
          "0-50",
          "0-50",
          "0-50",
          "0-50",
          "0-50",
          "0-50",
          "0-50",
          "0-50",
          "0-50",
          "0-50",
          "0-50",
          "0-50",
          "0-50",
          "0-50",
          "0-50",
          "0-50",
          "0-50",
          "0-50",
          "0-50",
          "0-50",
          "0-50",
          "0-50",
          "0-50",
          "0-50",
          "0-50",
          "0-50",
          "0-50",
          "0-50",
          "0-50",
          "0-50",
          "0-50",
          "0-50",
          "0-50",
          "0-50",
          "0-50",
          "0-50",
          "0-50",
          "0-50",
          "0-50",
          "0-50",
          "0-50",
          "0-50",
          "0-50",
          "0-50",
          "0-50",
          "0-50",
          "0-50",
          "0-50",
          "0-50",
          "0-50",
          "0-50",
          "0-50",
          "0-50",
          "0-50",
          "0-50",
          "0-50",
          "0-50",
          "0-50",
          "0-50",
          "0-50",
          "0-50",
          "0-50",
          "0-50",
          "0-50",
          "0-50",
          "0-50",
          "0-50",
          "0-50",
          "0-50",
          "0-50",
          "0-50",
          "0-50",
          "0-50",
          "0-50",
          "0-50",
          "200-500",
          "0-50",
          "50-100",
          "0-50",
          "0-50",
          "0-50",
          "50-100",
          "0-50",
          "0-50",
          "0-50",
          "0-50",
          "0-50",
          "0-50",
          "0-50",
          "0-50",
          "0-50",
          "0-50",
          "200-500",
          "0-50",
          "0-50",
          "0-50",
          "0-50",
          "0-50",
          "0-50",
          "0-50",
          "0-50",
          "0-50",
          "0-50",
          "0-50",
          "200-500",
          "0-50",
          "0-50",
          "0-50",
          "0-50",
          "200-500",
          "0-50",
          "0-50",
          "50-100",
          "0-50",
          "0-50",
          "200-500",
          "50-100",
          "0-50",
          "0-50",
          "0-50",
          "0-50",
          "0-50",
          "0-50",
          "0-50",
          "0-50",
          "0-50",
          "0-50",
          "0-50",
          "0-50",
          "0-50",
          "0-50",
          "0-50",
          "0-50",
          "0-50",
          "0-50",
          "0-50",
          "0-50",
          "0-50",
          "0-50",
          "0-50",
          "0-50",
          "0-50",
          "0-50",
          "0-50",
          "50-100",
          "0-50",
          "0-50",
          "0-50",
          "0-50",
          "0-50",
          "0-50",
          "0-50",
          "0-50",
          "0-50",
          "0-50",
          "0-50",
          "0-50",
          "0-50",
          "0-50",
          "50-100",
          "50-100",
          "0-50",
          "0-50",
          "0-50",
          "0-50",
          "0-50",
          "0-50",
          "0-50",
          "0-50",
          "0-50",
          "0-50",
          "0-50",
          "0-50",
          "0-50",
          "0-50",
          "0-50",
          "0-50",
          "0-50",
          "0-50",
          "0-50",
          "0-50",
          "0-50",
          "50-100",
          "100-200",
          "0-50",
          "0-50",
          "0-50",
          "0-50",
          "0-50",
          "0-50",
          "200-500",
          "200-500",
          "100-200",
          "200-500",
          "200-500",
          "100-200",
          "0-50",
          "0-50",
          "100-200",
          "0-50",
          "200-500",
          "100-200",
          "100-200",
          "0-50",
          "50-100",
          "100-200",
          "100-200",
          "0-50",
          "100-200",
          "200-500",
          "500+",
          "0-50",
          "100-200",
          "0-50",
          "0-50",
          "500+",
          "500+",
          "100-200",
          "50-100",
          "100-200",
          "0-50",
          "0-50",
          "0-50",
          "0-50",
          "50-100",
          "0-50",
          "0-50",
          "50-100",
          "0-50",
          "0-50",
          "0-50",
          "0-50",
          "50-100",
          "500+",
          "50-100",
          "0-50",
          "50-100",
          "0-50",
          "50-100",
          "50-100",
          "200-500",
          "50-100",
          "0-50",
          "0-50",
          "0-50",
          "100-200",
          "0-50",
          "0-50",
          "0-50",
          "0-50",
          "100-200",
          "0-50",
          "0-50",
          "0-50",
          "0-50",
          "0-50",
          "0-50",
          "50-100",
          "0-50",
          "0-50",
          "50-100",
          "0-50",
          "0-50",
          "0-50",
          "0-50",
          "0-50",
          "0-50",
          "0-50",
          "0-50",
          "50-100",
          "0-50",
          "0-50",
          "0-50",
          "0-50",
          "0-50",
          "0-50",
          "0-50",
          "100-200",
          "0-50",
          "0-50",
          "0-50",
          "0-50",
          "0-50",
          "0-50",
          "0-50",
          "0-50",
          "0-50",
          "0-50",
          "0-50",
          "0-50",
          "0-50",
          "0-50",
          "0-50",
          "0-50",
          "50-100",
          "0-50",
          "0-50",
          "0-50",
          "0-50",
          "0-50",
          "0-50",
          "0-50",
          "0-50",
          "0-50",
          "50-100",
          "0-50",
          "0-50",
          "50-100",
          "0-50",
          "0-50",
          "0-50",
          "0-50",
          "50-100",
          "50-100",
          "0-50",
          "0-50",
          "50-100",
          "0-50",
          "200-500",
          "50-100",
          "0-50",
          "0-50",
          "0-50",
          "0-50",
          "0-50",
          "0-50",
          "0-50",
          "100-200",
          "50-100",
          "0-50",
          "0-50",
          "0-50",
          "50-100",
          "0-50",
          "0-50",
          "0-50",
          "0-50",
          "0-50",
          "0-50",
          "0-50",
          "0-50",
          "0-50",
          "0-50",
          "0-50",
          "50-100",
          "0-50",
          "0-50",
          "0-50",
          "0-50",
          "0-50",
          "0-50",
          "0-50",
          "0-50",
          "0-50",
          "0-50",
          "0-50",
          "0-50",
          "0-50",
          "0-50",
          "0-50",
          "0-50",
          "0-50",
          "0-50",
          "0-50",
          "0-50",
          "0-50",
          "100-200",
          "0-50",
          "0-50",
          "0-50",
          "0-50",
          "0-50",
          "0-50",
          "0-50",
          "0-50",
          "0-50",
          "0-50",
          "0-50",
          "0-50",
          "0-50",
          "0-50",
          "0-50",
          "0-50",
          "200-500",
          "0-50",
          "0-50",
          "0-50",
          "0-50",
          "0-50",
          "0-50",
          "0-50",
          "0-50",
          "0-50",
          "0-50",
          "0-50",
          "0-50",
          "0-50",
          "0-50",
          "0-50",
          "0-50",
          "50-100",
          "0-50",
          "0-50",
          "0-50",
          "0-50",
          "0-50",
          "0-50",
          "0-50",
          "0-50",
          "0-50",
          "0-50",
          "0-50",
          "0-50",
          "100-200",
          "0-50",
          "0-50",
          "100-200",
          "0-50",
          "0-50",
          "0-50",
          "0-50",
          "0-50",
          "0-50",
          "0-50",
          "0-50",
          "0-50",
          "0-50",
          "0-50",
          "0-50",
          "0-50",
          "0-50",
          "0-50",
          "0-50",
          "0-50",
          "0-50",
          "0-50",
          "0-50",
          "0-50",
          "0-50",
          "0-50",
          "0-50",
          "0-50",
          "0-50",
          "0-50",
          "0-50",
          "50-100",
          "100-200",
          "0-50",
          "200-500",
          "0-50",
          "100-200",
          "0-50",
          "0-50",
          "0-50",
          "0-50",
          "200-500",
          "0-50",
          "0-50",
          "0-50",
          "0-50",
          "0-50",
          "0-50",
          "0-50",
          "0-50",
          "0-50",
          "0-50",
          "0-50",
          "0-50",
          "0-50",
          "200-500",
          "50-100",
          "0-50",
          "0-50",
          "0-50",
          "200-500",
          "0-50",
          "0-50",
          "50-100",
          "0-50",
          "0-50",
          "200-500",
          "50-100",
          "0-50",
          "0-50",
          "0-50",
          "0-50",
          "0-50",
          "0-50",
          "0-50",
          "50-100",
          "0-50",
          "0-50",
          "0-50",
          "0-50",
          "0-50",
          "0-50",
          "0-50",
          "0-50",
          "0-50",
          "0-50",
          "0-50",
          "0-50",
          "0-50",
          "0-50",
          "50-100",
          "50-100",
          "0-50",
          "0-50",
          "0-50",
          "0-50",
          "0-50",
          "0-50",
          "0-50",
          "0-50",
          "0-50",
          "0-50",
          "0-50",
          "0-50",
          "0-50",
          "0-50",
          "0-50",
          "0-50",
          "0-50",
          "0-50",
          "0-50",
          "0-50",
          "0-50",
          "50-100",
          "100-200",
          "0-50",
          "0-50",
          "0-50",
          "0-50",
          "0-50",
          "200-500",
          "200-500",
          "0-50",
          "0-50",
          "0-50",
          "0-50",
          "0-50",
          "0-50",
          "0-50",
          "0-50",
          "0-50",
          "0-50",
          "0-50",
          "0-50",
          "0-50",
          "0-50",
          "0-50",
          "0-50",
          "0-50",
          "0-50",
          null,
          "0-50",
          "0-50",
          "0-50",
          "0-50",
          "0-50",
          "0-50",
          "0-50",
          "0-50",
          "0-50",
          "0-50",
          "0-50",
          "0-50",
          "0-50",
          "0-50",
          "0-50",
          "0-50",
          "0-50",
          "0-50",
          "0-50",
          "0-50",
          "0-50",
          "0-50",
          "0-50",
          "0-50",
          "0-50",
          "0-50",
          "0-50",
          "0-50",
          "0-50",
          "0-50",
          "0-50",
          "0-50",
          "0-50",
          "0-50",
          "0-50",
          "0-50",
          "0-50",
          "0-50",
          "0-50",
          "0-50",
          "0-50",
          "0-50",
          "0-50",
          "0-50",
          "0-50",
          "0-50",
          "0-50",
          "0-50",
          "0-50",
          "0-50",
          "0-50",
          "0-50",
          "0-50",
          "0-50",
          "0-50",
          "0-50",
          "0-50",
          "0-50",
          "0-50",
          "0-50",
          "0-50",
          "0-50",
          "0-50",
          "0-50",
          "0-50",
          "0-50",
          "0-50",
          "0-50",
          "0-50",
          "0-50",
          "0-50",
          "0-50",
          "0-50",
          "0-50",
          "0-50",
          "0-50",
          "0-50",
          "0-50",
          "0-50",
          "0-50",
          "0-50",
          "0-50",
          "50-100",
          "0-50",
          "0-50",
          "50-100",
          "0-50",
          "0-50",
          "0-50",
          "500+",
          "0-50",
          "0-50",
          "0-50",
          "0-50",
          "0-50",
          "100-200",
          "0-50",
          "50-100",
          "0-50",
          "50-100",
          "0-50",
          "0-50",
          "0-50",
          "100-200",
          "0-50",
          "0-50",
          "0-50",
          "0-50",
          "0-50",
          "0-50",
          "0-50",
          "50-100",
          "0-50",
          "0-50",
          "0-50",
          "50-100",
          "50-100",
          "0-50",
          "0-50",
          "0-50",
          "0-50",
          "0-50",
          "0-50",
          "50-100",
          "0-50",
          "50-100",
          "0-50",
          "50-100",
          "0-50",
          "0-50",
          "0-50",
          "0-50",
          "0-50",
          "0-50",
          "0-50",
          "0-50",
          "0-50",
          "0-50",
          "50-100",
          "0-50",
          "0-50",
          "50-100",
          "0-50",
          "0-50",
          "0-50",
          "50-100",
          "50-100",
          "0-50",
          "50-100",
          "0-50",
          "0-50",
          "50-100",
          "50-100",
          "0-50",
          "0-50",
          "50-100",
          "50-100",
          "50-100",
          "50-100",
          "0-50",
          "50-100",
          "0-50",
          "100-200",
          "50-100",
          "200-500",
          "0-50",
          "0-50",
          "50-100",
          "0-50",
          "0-50",
          "0-50",
          "100-200",
          "50-100",
          "100-200",
          "0-50",
          "500+",
          "0-50",
          "200-500",
          "500+",
          "200-500",
          "0-50",
          "0-50",
          "0-50",
          "0-50",
          "200-500",
          "0-50",
          "0-50",
          "50-100",
          "0-50",
          "0-50",
          "200-500",
          "50-100",
          "0-50",
          "0-50",
          "0-50",
          "0-50",
          "0-50",
          "0-50",
          "0-50",
          "50-100",
          "0-50",
          "0-50",
          "0-50",
          "0-50",
          "0-50",
          "0-50",
          "0-50",
          "0-50",
          "0-50",
          "0-50",
          "0-50",
          "0-50",
          "0-50",
          "0-50",
          "50-100",
          "50-100",
          "0-50",
          "0-50",
          "0-50",
          "0-50",
          "0-50",
          "0-50",
          "0-50",
          "0-50",
          "0-50",
          "0-50",
          "0-50",
          "0-50",
          "0-50",
          "0-50",
          "0-50",
          "0-50",
          "0-50",
          "0-50",
          "0-50",
          "0-50",
          "0-50",
          "50-100",
          "100-200",
          "0-50",
          "0-50",
          "0-50",
          "0-50",
          "0-50",
          "200-500",
          "200-500",
          "0-50",
          "0-50",
          "0-50",
          "0-50",
          "0-50",
          "0-50",
          "0-50",
          "0-50",
          "0-50",
          "0-50",
          "0-50",
          "0-50",
          "0-50",
          "0-50",
          "0-50",
          "0-50",
          "0-50",
          "0-50",
          "0-50",
          "0-50",
          "0-50",
          "100-200",
          "0-50",
          "0-50",
          "0-50",
          "0-50",
          "0-50",
          "0-50",
          "0-50",
          "0-50",
          "0-50",
          "0-50",
          "0-50",
          "0-50",
          "0-50",
          "0-50",
          "0-50",
          "0-50",
          "0-50",
          "0-50",
          "0-50",
          "0-50",
          "0-50",
          "0-50",
          "0-50",
          "0-50",
          "0-50",
          "0-50",
          "0-50",
          "0-50",
          "0-50",
          "0-50",
          "0-50",
          "0-50",
          "0-50",
          "0-50",
          "0-50",
          "0-50",
          "0-50",
          "0-50",
          "0-50",
          "0-50",
          "0-50",
          "0-50",
          "0-50",
          "0-50",
          "0-50",
          "0-50",
          "0-50",
          "0-50",
          "0-50",
          "0-50",
          "0-50",
          "0-50",
          "0-50",
          "0-50",
          "0-50",
          "0-50",
          "0-50",
          "0-50",
          "0-50",
          "0-50",
          "0-50",
          "0-50",
          "0-50",
          "0-50",
          "0-50",
          "0-50",
          "0-50",
          "0-50",
          "0-50",
          "0-50",
          "0-50",
          "0-50",
          "0-50",
          "0-50",
          "0-50",
          "0-50",
          "0-50",
          "0-50",
          "0-50",
          "0-50",
          "200-500",
          "200-500",
          "100-200",
          "100-200",
          "0-50",
          "0-50",
          "0-50",
          "0-50",
          "0-50",
          "100-200",
          "0-50",
          "500+",
          "100-200",
          "200-500",
          "500+",
          "100-200",
          "50-100",
          "50-100",
          "100-200",
          "0-50",
          "100-200",
          "200-500",
          "500+",
          "0-50",
          "100-200",
          "0-50",
          "500+",
          "0-50",
          "0-50",
          "100-200",
          "0-50",
          "0-50",
          "0-50",
          "0-50",
          "200-500",
          "0-50",
          "0-50",
          "50-100",
          "0-50",
          "0-50",
          "200-500",
          "50-100",
          "0-50",
          "0-50",
          "0-50",
          "0-50",
          "0-50",
          "0-50",
          "0-50",
          "0-50",
          "0-50",
          "0-50",
          "0-50",
          "0-50",
          "0-50",
          "0-50",
          "0-50",
          "0-50",
          "0-50",
          "0-50",
          "0-50",
          "0-50",
          "0-50",
          "0-50",
          "0-50",
          "0-50",
          "0-50",
          "0-50",
          "0-50",
          "50-100",
          "0-50",
          "0-50",
          "0-50",
          "0-50",
          "0-50",
          "0-50",
          "0-50",
          "0-50",
          "0-50",
          "0-50",
          "0-50",
          "0-50",
          "0-50",
          "0-50",
          "0-50",
          "0-50",
          "0-50",
          "0-50",
          "0-50",
          "0-50",
          "0-50",
          "0-50",
          "0-50",
          "0-50",
          "0-50",
          "0-50",
          "0-50",
          "0-50",
          "0-50",
          "0-50",
          "0-50",
          "0-50",
          "0-50",
          "50-100",
          "100-200",
          "0-50",
          "0-50",
          "0-50",
          "0-50",
          "0-50",
          "200-500",
          "200-500",
          "0-50",
          "0-50",
          "0-50",
          "0-50",
          "0-50",
          "0-50",
          "0-50",
          "0-50",
          "0-50",
          "0-50",
          "0-50",
          "0-50",
          "0-50",
          "0-50",
          "0-50",
          "0-50",
          "0-50",
          "0-50",
          "0-50",
          "0-50",
          "100-200",
          "200-500",
          "100-200",
          "0-50",
          "0-50",
          "100-200",
          "0-50",
          "200-500",
          "100-200",
          "100-200",
          "0-50",
          "50-100",
          "100-200",
          "0-50",
          "100-200",
          "200-500",
          "500+",
          "0-50",
          "100-200",
          "0-50",
          "0-50",
          "500+",
          "500+",
          "100-200",
          "50-100",
          "100-200",
          "0-50",
          "0-50",
          "0-50",
          "0-50",
          "0-50",
          "0-50",
          "0-50",
          "50-100",
          "0-50",
          "0-50",
          "0-50",
          "0-50",
          "0-50",
          "0-50",
          "0-50",
          "0-50",
          "0-50",
          "0-50",
          "200-500",
          "0-50",
          "0-50",
          "0-50",
          "0-50",
          "0-50",
          "0-50",
          "0-50",
          "0-50",
          "0-50",
          "0-50",
          "0-50",
          "0-50",
          "0-50",
          "0-50",
          "200-500",
          "0-50",
          "0-50",
          "0-50",
          "0-50",
          "0-50",
          "0-50",
          "0-50",
          "0-50",
          "0-50",
          "0-50",
          "0-50",
          "0-50",
          "0-50",
          "0-50",
          "0-50",
          "200-500"
         ],
         "x0": " ",
         "xaxis": "x",
         "y": [
          4.044,
          6.1279,
          10.9,
          6.2024,
          8.814,
          10.95,
          11.02,
          10.93,
          11.35,
          11.8,
          6.1511,
          7.0227,
          6.0999,
          10,
          4.98,
          4.84,
          5.96,
          -0.25,
          0.16,
          -0.1,
          5.29,
          11.39,
          8.3,
          5,
          5,
          9.43,
          -0.11,
          3.36,
          23.624,
          6.0999,
          9.724,
          9.194,
          6.0999,
          6.7664,
          15.85,
          4.2,
          5.7,
          5.3,
          9.426,
          6.7,
          5.5,
          5,
          4.7,
          6,
          6.0999,
          5,
          8.0078,
          9.23,
          8.38,
          13.2,
          19.877,
          10.98,
          5,
          0.739,
          5.9326,
          11.57,
          12.24,
          12.96,
          12.06,
          12.85,
          10.17,
          11.09,
          13.7,
          10,
          11.98,
          11.6,
          0.8,
          6.4075,
          6.2537,
          9.657,
          2.84,
          7.26,
          19.57,
          3.4424,
          3.22,
          5.4333,
          10,
          6.757,
          5.5872,
          11.6,
          6.82,
          13.7,
          17.18,
          14.11,
          10,
          10,
          5.1,
          7.4,
          5.43,
          10,
          5.8,
          22,
          10,
          5.4077,
          10.052,
          5.946,
          8.828,
          16.77,
          7.5,
          7.6,
          10,
          224.338,
          20.71,
          97.552,
          29.068,
          10,
          8,
          69.136,
          10,
          10,
          10,
          10,
          3.426,
          7.148,
          10,
          10,
          10,
          13,
          204,
          10,
          45.057,
          10,
          15.733,
          7.204,
          12,
          10,
          25.706,
          13,
          10,
          36.648,
          209,
          15.711,
          28.953,
          14,
          11.732,
          402.166,
          18.196,
          24,
          91,
          34.723,
          9,
          392.698,
          59.788,
          11.296,
          28.949,
          23.605,
          40.475,
          37.767,
          10,
          12,
          8.991,
          5.83,
          17,
          10,
          9,
          8,
          10,
          10,
          32,
          7.556,
          26.386,
          29,
          41.798,
          26.363,
          16.869,
          14.297,
          10.789,
          15.864,
          13.931,
          40,
          73,
          35,
          20,
          44,
          45.09,
          10,
          6,
          10,
          10,
          10,
          10,
          10,
          10,
          31,
          42,
          84,
          77.731,
          31,
          13.261,
          10,
          10,
          10,
          10,
          10,
          10,
          10,
          10,
          10,
          10,
          8,
          10,
          10,
          10,
          6,
          10,
          30,
          12.765,
          8,
          51,
          176,
          40.452,
          10,
          34,
          12.851,
          10,
          4,
          442,
          314,
          123,
          222.966,
          267.235,
          127.291,
          28,
          33.936,
          113.11,
          10,
          202.477,
          175.245,
          117,
          16,
          61.708,
          191.769,
          112,
          34,
          101.15,
          253,
          571.448,
          8,
          110.914,
          21.043,
          36,
          554,
          575,
          186,
          99,
          135,
          47.174,
          8.078,
          10,
          9,
          65.051,
          19,
          21,
          59.701,
          9.471,
          10,
          10,
          34,
          54.787,
          575.691,
          88.891,
          37.801,
          76.421,
          9.237,
          79.702,
          71.1,
          251.843,
          95.514,
          10,
          10,
          15,
          170.476,
          0.9,
          38.471,
          44.338,
          25.7,
          126.3,
          8,
          25.6,
          26.3,
          20.4,
          33.6,
          5,
          67.586,
          43.6,
          12.1,
          62.587,
          10,
          38,
          48.2,
          49.3,
          35,
          37.7,
          41.343,
          48.4,
          66.53,
          25.4,
          35,
          25,
          28.58,
          12,
          39.8,
          35,
          141.837,
          41.3,
          22.817,
          18.9,
          0.3,
          10,
          10,
          15.3,
          38.7,
          10,
          7.9,
          30.9,
          32,
          10.334,
          20.1,
          19.601,
          11.1,
          64.8,
          4.7,
          44.3,
          34.9,
          35,
          40.7,
          12,
          10,
          8.764,
          3.5,
          50.524,
          34.21,
          14.8,
          87,
          31.1,
          8.3,
          10,
          44,
          69.273,
          52.8,
          10,
          35,
          87.8,
          5.7,
          253.714,
          90,
          44.879,
          35.6,
          10,
          2.8,
          10,
          9.8,
          9.4,
          193.361,
          50.42,
          25.7,
          40.972,
          39,
          82.626,
          1.9,
          10,
          10.8,
          40.163,
          16,
          26.873,
          16.067,
          39.269,
          10,
          10,
          13.116,
          53,
          4.044,
          6.1279,
          6.2024,
          8.814,
          6.1511,
          7.0227,
          6.0999,
          10,
          6.0999,
          9.724,
          9.194,
          6.0999,
          33.882,
          6.7664,
          6.0999,
          5,
          8.0078,
          5,
          3.7842,
          0.739,
          5.9326,
          140,
          6.4075,
          6.2537,
          9.657,
          1.155,
          8.1299,
          5,
          3.4424,
          1.534,
          3.2959,
          5,
          3.0029,
          5.4333,
          3.2959,
          3.1982,
          6.757,
          5.5872,
          262.297,
          6.304,
          8.6182,
          5.4077,
          10.052,
          5.946,
          8.828,
          7.8369,
          6.2665,
          4.9207,
          5,
          6.0999,
          6.2408,
          5.9076,
          3.902,
          7.5354,
          6.8433,
          61.91,
          6.1383,
          6.5228,
          6.2024,
          6.7151,
          8.0737,
          6.0999,
          5,
          8.7146,
          2.164,
          7.843,
          10,
          10,
          154,
          3.9722,
          4.7363,
          193.139,
          7.4841,
          10,
          48,
          9,
          5,
          6.2744,
          6.2024,
          6.933,
          6.51,
          8.4454,
          10,
          2.146,
          6.3232,
          4.944,
          7.2791,
          5,
          3.6865,
          6.8561,
          8.3252,
          2.841,
          2.1973,
          3,
          8.4473,
          10.756,
          7.9346,
          10,
          6.1316,
          6.0999,
          53.382,
          190.135,
          10,
          401.457,
          11.712,
          181.278,
          10,
          6,
          8,
          38.577,
          204,
          39.269,
          10,
          10,
          10,
          10,
          10,
          9,
          8,
          12.48,
          8,
          10.257,
          14,
          10,
          209,
          53,
          15.711,
          28.953,
          11.732,
          402.166,
          18.196,
          24,
          91,
          34.723,
          9,
          392.698,
          59.788,
          11.296,
          10,
          32,
          7.556,
          26.386,
          29,
          41.798,
          73,
          35,
          20,
          44,
          45.09,
          10,
          6,
          10,
          10,
          10,
          10,
          10,
          10,
          31,
          42,
          84,
          77.731,
          31,
          13.261,
          10,
          10,
          10,
          10,
          10,
          10,
          10,
          10,
          10,
          10,
          8,
          10,
          10,
          10,
          6,
          10,
          30,
          12.765,
          8,
          51,
          176,
          40.452,
          10,
          34,
          12.851,
          10,
          442,
          314,
          9.237,
          10.9,
          10,
          10,
          6.2024,
          8.814,
          10.95,
          11.02,
          10.93,
          11.35,
          11.8,
          6.1511,
          7.0227,
          6.0999,
          10,
          4.98,
          4.84,
          5.96,
          -0.25,
          0.16,
          -0.1,
          5.29,
          11.39,
          8.3,
          5,
          5,
          9.43,
          -0.11,
          3.36,
          23.624,
          9.194,
          6.0999,
          6.7664,
          15.85,
          4.2,
          5.7,
          5.3,
          9.426,
          6.7,
          5.5,
          5,
          4.7,
          6,
          6.0999,
          5,
          9.23,
          8.38,
          13.2,
          19.877,
          10.98,
          5,
          11.57,
          12.24,
          12.96,
          12.06,
          12.85,
          10.17,
          11.09,
          13.7,
          10,
          11.98,
          11.6,
          0.8,
          6.4075,
          6.2537,
          9.657,
          2.84,
          7.26,
          19.57,
          3.22,
          5.4333,
          10,
          6.757,
          5.5872,
          11.6,
          6.82,
          13.7,
          17.18,
          14.11,
          10,
          10,
          5.1,
          7.4,
          5.43,
          10,
          5.8,
          22,
          10,
          5.4077,
          10.052,
          5.946,
          8.828,
          16.77,
          7.5,
          7.6,
          2.3,
          5.9,
          13.48,
          12.07,
          10.55,
          10.649,
          72.165,
          47.174,
          40.983,
          65.317,
          15,
          32,
          40.646,
          639.503,
          9,
          45.789,
          39,
          9.9,
          19,
          127.916,
          10.208,
          59.701,
          22,
          62.174,
          9.471,
          10,
          39,
          115,
          10,
          42.374,
          18,
          14.569,
          10,
          34,
          35,
          50.159,
          32,
          21.643,
          39,
          62.574,
          81.212,
          16.406,
          35,
          12,
          26.021,
          19.697,
          40.403,
          66.931,
          27,
          55.451,
          46.818,
          66.391,
          24.222,
          47.433,
          20,
          13,
          28.046,
          42.849,
          36.128,
          39.402,
          45.264,
          19,
          63.392,
          26.181,
          9,
          63.645,
          22.227,
          48.935,
          46.378,
          64.275,
          51.478,
          35,
          79.813,
          36.091,
          46.557,
          58.952,
          52.821,
          44.034,
          35,
          66.805,
          60.468,
          61.311,
          61.655,
          43.301,
          66.534,
          40,
          102,
          52,
          289,
          42.657,
          13,
          51,
          24.286,
          10,
          8.494,
          113,
          94,
          151,
          13,
          512.824,
          47.151,
          481.974,
          514.072,
          500,
          28.833,
          15.711,
          28.953,
          11.732,
          402.166,
          18.196,
          24,
          91,
          34.723,
          9,
          392.698,
          59.788,
          11.296,
          10,
          32,
          7.556,
          26.386,
          29,
          41.798,
          73,
          35,
          20,
          44,
          45.09,
          10,
          6,
          10,
          10,
          10,
          10,
          10,
          10,
          31,
          42,
          84,
          77.731,
          31,
          13.261,
          10,
          10,
          10,
          10,
          10,
          10,
          10,
          10,
          10,
          10,
          8,
          10,
          10,
          10,
          6,
          10,
          30,
          12.765,
          8,
          51,
          176,
          40.452,
          10,
          34,
          12.851,
          10,
          442,
          314,
          4.044,
          6.1279,
          6.2024,
          8.814,
          6.1511,
          7.0227,
          6.0999,
          10,
          6.0999,
          9.724,
          9.194,
          6.0999,
          6.7664,
          6.0999,
          5,
          8.0078,
          5,
          3.7842,
          0.739,
          5.9326,
          2.65,
          140,
          6.4075,
          6.2537,
          9.657,
          1.155,
          8.1299,
          5,
          3.4424,
          1.534,
          3.2959,
          5,
          3.0029,
          5.4333,
          3.2959,
          3.1982,
          6.757,
          5.5872,
          6.304,
          8.6182,
          6.51,
          6.51,
          5.43,
          5.4077,
          10.052,
          5.946,
          8.828,
          7.8369,
          6.2665,
          4.9207,
          5,
          6.0999,
          6.2408,
          5.9076,
          3.902,
          7.5354,
          6.8433,
          7.55,
          6.1383,
          6.5228,
          6.2024,
          6.7151,
          8.0737,
          6.0999,
          5,
          8.7146,
          2.164,
          7.843,
          10,
          10,
          3.9722,
          4.7363,
          7.4841,
          10,
          5,
          6.2744,
          6.2024,
          6.933,
          6.51,
          8.4454,
          2.146,
          6.3232,
          4.944,
          7.2791,
          5,
          3.6865,
          6.8561,
          8.3252,
          2.841,
          2.1973,
          3,
          8.4473,
          10.756,
          7.9346,
          6.1316,
          6.0999,
          11.915,
          5.3556,
          7.991,
          3,
          17.533,
          16.067,
          222.966,
          267.235,
          127.291,
          176,
          23,
          13.49,
          21.807,
          18,
          24,
          106.228,
          27,
          621.081,
          113.11,
          202.477,
          607,
          175.245,
          61.708,
          93,
          191.769,
          14,
          112,
          253,
          571.448,
          8,
          110.914,
          21.043,
          554,
          40.35,
          23.218,
          135,
          15.711,
          28.953,
          14,
          11.732,
          402.166,
          18.196,
          24,
          91,
          34.723,
          9,
          392.698,
          59.788,
          11.296,
          28.949,
          23.605,
          40.475,
          37.767,
          10,
          12,
          8.991,
          5.83,
          17,
          10,
          9,
          8,
          10,
          10,
          32,
          7.556,
          26.386,
          29,
          41.798,
          26.363,
          16.869,
          14.297,
          10.789,
          15.864,
          13.931,
          40,
          73,
          35,
          20,
          44,
          45.09,
          10,
          6,
          10,
          10,
          10,
          10,
          10,
          10,
          42,
          31,
          13.261,
          10,
          10,
          10,
          10,
          10,
          10,
          10,
          10,
          10,
          10,
          8,
          10,
          10,
          10,
          6,
          10,
          12.765,
          8,
          51,
          176,
          40.452,
          34,
          12.851,
          18,
          10,
          442,
          314,
          1.108,
          2.65,
          6.51,
          6.51,
          7.55,
          4.111,
          2.624,
          3,
          6,
          8.879,
          6.58,
          6.354,
          6.71,
          5.03,
          11.2,
          5,
          5.688,
          5,
          19.89,
          5,
          123,
          267.235,
          127.291,
          28,
          33.936,
          113.11,
          10,
          202.477,
          175.245,
          117,
          16,
          61.708,
          191.769,
          34,
          101.15,
          253,
          571.448,
          8,
          110.914,
          21.043,
          36,
          554,
          575,
          186,
          99,
          135,
          16,
          26.873,
          16.067,
          39.269,
          10,
          10,
          13.116,
          53,
          17.533,
          26.873,
          16.067,
          10,
          10,
          9,
          9.462,
          7,
          10,
          10,
          224.338,
          29.068,
          10,
          8,
          6,
          8,
          38.577,
          10,
          10,
          3.426,
          7.148,
          10,
          10,
          10,
          13,
          204,
          10,
          7.204,
          12,
          25.706,
          10,
          10,
          10,
          10,
          9,
          8,
          12.48,
          8,
          10.257,
          14,
          13,
          209
         ],
         "y0": " ",
         "yaxis": "y"
        }
       ],
       "layout": {
        "autosize": true,
        "boxmode": "group",
        "legend": {
         "tracegroupgap": 0
        },
        "template": {
         "data": {
          "bar": [
           {
            "error_x": {
             "color": "#2a3f5f"
            },
            "error_y": {
             "color": "#2a3f5f"
            },
            "marker": {
             "line": {
              "color": "#E5ECF6",
              "width": 0.5
             },
             "pattern": {
              "fillmode": "overlay",
              "size": 10,
              "solidity": 0.2
             }
            },
            "type": "bar"
           }
          ],
          "barpolar": [
           {
            "marker": {
             "line": {
              "color": "#E5ECF6",
              "width": 0.5
             },
             "pattern": {
              "fillmode": "overlay",
              "size": 10,
              "solidity": 0.2
             }
            },
            "type": "barpolar"
           }
          ],
          "carpet": [
           {
            "aaxis": {
             "endlinecolor": "#2a3f5f",
             "gridcolor": "white",
             "linecolor": "white",
             "minorgridcolor": "white",
             "startlinecolor": "#2a3f5f"
            },
            "baxis": {
             "endlinecolor": "#2a3f5f",
             "gridcolor": "white",
             "linecolor": "white",
             "minorgridcolor": "white",
             "startlinecolor": "#2a3f5f"
            },
            "type": "carpet"
           }
          ],
          "choropleth": [
           {
            "colorbar": {
             "outlinewidth": 0,
             "ticks": ""
            },
            "type": "choropleth"
           }
          ],
          "contour": [
           {
            "colorbar": {
             "outlinewidth": 0,
             "ticks": ""
            },
            "colorscale": [
             [
              0,
              "#0d0887"
             ],
             [
              0.1111111111111111,
              "#46039f"
             ],
             [
              0.2222222222222222,
              "#7201a8"
             ],
             [
              0.3333333333333333,
              "#9c179e"
             ],
             [
              0.4444444444444444,
              "#bd3786"
             ],
             [
              0.5555555555555556,
              "#d8576b"
             ],
             [
              0.6666666666666666,
              "#ed7953"
             ],
             [
              0.7777777777777778,
              "#fb9f3a"
             ],
             [
              0.8888888888888888,
              "#fdca26"
             ],
             [
              1,
              "#f0f921"
             ]
            ],
            "type": "contour"
           }
          ],
          "contourcarpet": [
           {
            "colorbar": {
             "outlinewidth": 0,
             "ticks": ""
            },
            "type": "contourcarpet"
           }
          ],
          "heatmap": [
           {
            "colorbar": {
             "outlinewidth": 0,
             "ticks": ""
            },
            "colorscale": [
             [
              0,
              "#0d0887"
             ],
             [
              0.1111111111111111,
              "#46039f"
             ],
             [
              0.2222222222222222,
              "#7201a8"
             ],
             [
              0.3333333333333333,
              "#9c179e"
             ],
             [
              0.4444444444444444,
              "#bd3786"
             ],
             [
              0.5555555555555556,
              "#d8576b"
             ],
             [
              0.6666666666666666,
              "#ed7953"
             ],
             [
              0.7777777777777778,
              "#fb9f3a"
             ],
             [
              0.8888888888888888,
              "#fdca26"
             ],
             [
              1,
              "#f0f921"
             ]
            ],
            "type": "heatmap"
           }
          ],
          "heatmapgl": [
           {
            "colorbar": {
             "outlinewidth": 0,
             "ticks": ""
            },
            "colorscale": [
             [
              0,
              "#0d0887"
             ],
             [
              0.1111111111111111,
              "#46039f"
             ],
             [
              0.2222222222222222,
              "#7201a8"
             ],
             [
              0.3333333333333333,
              "#9c179e"
             ],
             [
              0.4444444444444444,
              "#bd3786"
             ],
             [
              0.5555555555555556,
              "#d8576b"
             ],
             [
              0.6666666666666666,
              "#ed7953"
             ],
             [
              0.7777777777777778,
              "#fb9f3a"
             ],
             [
              0.8888888888888888,
              "#fdca26"
             ],
             [
              1,
              "#f0f921"
             ]
            ],
            "type": "heatmapgl"
           }
          ],
          "histogram": [
           {
            "marker": {
             "pattern": {
              "fillmode": "overlay",
              "size": 10,
              "solidity": 0.2
             }
            },
            "type": "histogram"
           }
          ],
          "histogram2d": [
           {
            "colorbar": {
             "outlinewidth": 0,
             "ticks": ""
            },
            "colorscale": [
             [
              0,
              "#0d0887"
             ],
             [
              0.1111111111111111,
              "#46039f"
             ],
             [
              0.2222222222222222,
              "#7201a8"
             ],
             [
              0.3333333333333333,
              "#9c179e"
             ],
             [
              0.4444444444444444,
              "#bd3786"
             ],
             [
              0.5555555555555556,
              "#d8576b"
             ],
             [
              0.6666666666666666,
              "#ed7953"
             ],
             [
              0.7777777777777778,
              "#fb9f3a"
             ],
             [
              0.8888888888888888,
              "#fdca26"
             ],
             [
              1,
              "#f0f921"
             ]
            ],
            "type": "histogram2d"
           }
          ],
          "histogram2dcontour": [
           {
            "colorbar": {
             "outlinewidth": 0,
             "ticks": ""
            },
            "colorscale": [
             [
              0,
              "#0d0887"
             ],
             [
              0.1111111111111111,
              "#46039f"
             ],
             [
              0.2222222222222222,
              "#7201a8"
             ],
             [
              0.3333333333333333,
              "#9c179e"
             ],
             [
              0.4444444444444444,
              "#bd3786"
             ],
             [
              0.5555555555555556,
              "#d8576b"
             ],
             [
              0.6666666666666666,
              "#ed7953"
             ],
             [
              0.7777777777777778,
              "#fb9f3a"
             ],
             [
              0.8888888888888888,
              "#fdca26"
             ],
             [
              1,
              "#f0f921"
             ]
            ],
            "type": "histogram2dcontour"
           }
          ],
          "mesh3d": [
           {
            "colorbar": {
             "outlinewidth": 0,
             "ticks": ""
            },
            "type": "mesh3d"
           }
          ],
          "parcoords": [
           {
            "line": {
             "colorbar": {
              "outlinewidth": 0,
              "ticks": ""
             }
            },
            "type": "parcoords"
           }
          ],
          "pie": [
           {
            "automargin": true,
            "type": "pie"
           }
          ],
          "scatter": [
           {
            "fillpattern": {
             "fillmode": "overlay",
             "size": 10,
             "solidity": 0.2
            },
            "type": "scatter"
           }
          ],
          "scatter3d": [
           {
            "line": {
             "colorbar": {
              "outlinewidth": 0,
              "ticks": ""
             }
            },
            "marker": {
             "colorbar": {
              "outlinewidth": 0,
              "ticks": ""
             }
            },
            "type": "scatter3d"
           }
          ],
          "scattercarpet": [
           {
            "marker": {
             "colorbar": {
              "outlinewidth": 0,
              "ticks": ""
             }
            },
            "type": "scattercarpet"
           }
          ],
          "scattergeo": [
           {
            "marker": {
             "colorbar": {
              "outlinewidth": 0,
              "ticks": ""
             }
            },
            "type": "scattergeo"
           }
          ],
          "scattergl": [
           {
            "marker": {
             "colorbar": {
              "outlinewidth": 0,
              "ticks": ""
             }
            },
            "type": "scattergl"
           }
          ],
          "scattermapbox": [
           {
            "marker": {
             "colorbar": {
              "outlinewidth": 0,
              "ticks": ""
             }
            },
            "type": "scattermapbox"
           }
          ],
          "scatterpolar": [
           {
            "marker": {
             "colorbar": {
              "outlinewidth": 0,
              "ticks": ""
             }
            },
            "type": "scatterpolar"
           }
          ],
          "scatterpolargl": [
           {
            "marker": {
             "colorbar": {
              "outlinewidth": 0,
              "ticks": ""
             }
            },
            "type": "scatterpolargl"
           }
          ],
          "scatterternary": [
           {
            "marker": {
             "colorbar": {
              "outlinewidth": 0,
              "ticks": ""
             }
            },
            "type": "scatterternary"
           }
          ],
          "surface": [
           {
            "colorbar": {
             "outlinewidth": 0,
             "ticks": ""
            },
            "colorscale": [
             [
              0,
              "#0d0887"
             ],
             [
              0.1111111111111111,
              "#46039f"
             ],
             [
              0.2222222222222222,
              "#7201a8"
             ],
             [
              0.3333333333333333,
              "#9c179e"
             ],
             [
              0.4444444444444444,
              "#bd3786"
             ],
             [
              0.5555555555555556,
              "#d8576b"
             ],
             [
              0.6666666666666666,
              "#ed7953"
             ],
             [
              0.7777777777777778,
              "#fb9f3a"
             ],
             [
              0.8888888888888888,
              "#fdca26"
             ],
             [
              1,
              "#f0f921"
             ]
            ],
            "type": "surface"
           }
          ],
          "table": [
           {
            "cells": {
             "fill": {
              "color": "#EBF0F8"
             },
             "line": {
              "color": "white"
             }
            },
            "header": {
             "fill": {
              "color": "#C8D4E3"
             },
             "line": {
              "color": "white"
             }
            },
            "type": "table"
           }
          ]
         },
         "layout": {
          "annotationdefaults": {
           "arrowcolor": "#2a3f5f",
           "arrowhead": 0,
           "arrowwidth": 1
          },
          "autotypenumbers": "strict",
          "coloraxis": {
           "colorbar": {
            "outlinewidth": 0,
            "ticks": ""
           }
          },
          "colorscale": {
           "diverging": [
            [
             0,
             "#8e0152"
            ],
            [
             0.1,
             "#c51b7d"
            ],
            [
             0.2,
             "#de77ae"
            ],
            [
             0.3,
             "#f1b6da"
            ],
            [
             0.4,
             "#fde0ef"
            ],
            [
             0.5,
             "#f7f7f7"
            ],
            [
             0.6,
             "#e6f5d0"
            ],
            [
             0.7,
             "#b8e186"
            ],
            [
             0.8,
             "#7fbc41"
            ],
            [
             0.9,
             "#4d9221"
            ],
            [
             1,
             "#276419"
            ]
           ],
           "sequential": [
            [
             0,
             "#0d0887"
            ],
            [
             0.1111111111111111,
             "#46039f"
            ],
            [
             0.2222222222222222,
             "#7201a8"
            ],
            [
             0.3333333333333333,
             "#9c179e"
            ],
            [
             0.4444444444444444,
             "#bd3786"
            ],
            [
             0.5555555555555556,
             "#d8576b"
            ],
            [
             0.6666666666666666,
             "#ed7953"
            ],
            [
             0.7777777777777778,
             "#fb9f3a"
            ],
            [
             0.8888888888888888,
             "#fdca26"
            ],
            [
             1,
             "#f0f921"
            ]
           ],
           "sequentialminus": [
            [
             0,
             "#0d0887"
            ],
            [
             0.1111111111111111,
             "#46039f"
            ],
            [
             0.2222222222222222,
             "#7201a8"
            ],
            [
             0.3333333333333333,
             "#9c179e"
            ],
            [
             0.4444444444444444,
             "#bd3786"
            ],
            [
             0.5555555555555556,
             "#d8576b"
            ],
            [
             0.6666666666666666,
             "#ed7953"
            ],
            [
             0.7777777777777778,
             "#fb9f3a"
            ],
            [
             0.8888888888888888,
             "#fdca26"
            ],
            [
             1,
             "#f0f921"
            ]
           ]
          },
          "colorway": [
           "#636efa",
           "#EF553B",
           "#00cc96",
           "#ab63fa",
           "#FFA15A",
           "#19d3f3",
           "#FF6692",
           "#B6E880",
           "#FF97FF",
           "#FECB52"
          ],
          "font": {
           "color": "#2a3f5f"
          },
          "geo": {
           "bgcolor": "white",
           "lakecolor": "white",
           "landcolor": "#E5ECF6",
           "showlakes": true,
           "showland": true,
           "subunitcolor": "white"
          },
          "hoverlabel": {
           "align": "left"
          },
          "hovermode": "closest",
          "mapbox": {
           "style": "light"
          },
          "paper_bgcolor": "white",
          "plot_bgcolor": "#E5ECF6",
          "polar": {
           "angularaxis": {
            "gridcolor": "white",
            "linecolor": "white",
            "ticks": ""
           },
           "bgcolor": "#E5ECF6",
           "radialaxis": {
            "gridcolor": "white",
            "linecolor": "white",
            "ticks": ""
           }
          },
          "scene": {
           "xaxis": {
            "backgroundcolor": "#E5ECF6",
            "gridcolor": "white",
            "gridwidth": 2,
            "linecolor": "white",
            "showbackground": true,
            "ticks": "",
            "zerolinecolor": "white"
           },
           "yaxis": {
            "backgroundcolor": "#E5ECF6",
            "gridcolor": "white",
            "gridwidth": 2,
            "linecolor": "white",
            "showbackground": true,
            "ticks": "",
            "zerolinecolor": "white"
           },
           "zaxis": {
            "backgroundcolor": "#E5ECF6",
            "gridcolor": "white",
            "gridwidth": 2,
            "linecolor": "white",
            "showbackground": true,
            "ticks": "",
            "zerolinecolor": "white"
           }
          },
          "shapedefaults": {
           "line": {
            "color": "#2a3f5f"
           }
          },
          "ternary": {
           "aaxis": {
            "gridcolor": "white",
            "linecolor": "white",
            "ticks": ""
           },
           "baxis": {
            "gridcolor": "white",
            "linecolor": "white",
            "ticks": ""
           },
           "bgcolor": "#E5ECF6",
           "caxis": {
            "gridcolor": "white",
            "linecolor": "white",
            "ticks": ""
           }
          },
          "title": {
           "x": 0.05
          },
          "xaxis": {
           "automargin": true,
           "gridcolor": "white",
           "linecolor": "white",
           "ticks": "",
           "title": {
            "standoff": 15
           },
           "zerolinecolor": "white",
           "zerolinewidth": 2
          },
          "yaxis": {
           "automargin": true,
           "gridcolor": "white",
           "linecolor": "white",
           "ticks": "",
           "title": {
            "standoff": 15
           },
           "zerolinecolor": "white",
           "zerolinewidth": 2
          }
         }
        },
        "title": {
         "text": "Distribuição de Profundidade por Faixa de Categorização"
        },
        "xaxis": {
         "anchor": "y",
         "autorange": true,
         "domain": [
          0,
          1
         ],
         "range": [
          -0.5,
          4.5
         ],
         "title": {
          "text": "Categoria de Profundidade"
         },
         "type": "category"
        },
        "yaxis": {
         "anchor": "x",
         "autorange": true,
         "domain": [
          0,
          1
         ],
         "range": [
          -35.79183333333334,
          675.0448333333334
         ],
         "title": {
          "text": "Profundidade"
         },
         "type": "linear"
        }
       }
      },
      "image/png": "[encoded data removed]",
      "text/html": [
       "<div>                            <div id=\"01290907-139b-4978-b415-7781547bfd25\" class=\"plotly-graph-div\" style=\"height:525px; width:100%;\"></div>            <script type=\"text/javascript\">                require([\"plotly\"], function(Plotly) {                    window.PLOTLYENV=window.PLOTLYENV || {};                                    if (document.getElementById(\"01290907-139b-4978-b415-7781547bfd25\")) {                    Plotly.newPlot(                        \"01290907-139b-4978-b415-7781547bfd25\",                        [{\"alignmentgroup\":\"True\",\"hovertemplate\":\"Categoria de Profundidade=%{x}\\u003cbr\\u003eProfundidade=%{y}\\u003cextra\\u003e\\u003c\\u002fextra\\u003e\",\"legendgroup\":\"\",\"marker\":{\"color\":\"#636efa\"},\"name\":\"\",\"notched\":false,\"offsetgroup\":\"\",\"orientation\":\"v\",\"showlegend\":false,\"x\":[\"0-50\",\"0-50\",\"0-50\",\"0-50\",\"0-50\",\"0-50\",\"0-50\",\"0-50\",\"0-50\",\"0-50\",\"0-50\",\"0-50\",\"0-50\",\"0-50\",\"0-50\",\"0-50\",\"0-50\",null,\"0-50\",\"0-50\",\"0-50\",\"0-50\",\"0-50\",\"0-50\",\"0-50\",\"0-50\",\"0-50\",\"0-50\",\"0-50\",\"0-50\",\"0-50\",\"0-50\",\"0-50\",\"0-50\",\"0-50\",\"0-50\",\"0-50\",\"0-50\",\"0-50\",\"0-50\",\"0-50\",\"0-50\",\"0-50\",\"0-50\",\"0-50\",\"0-50\",\"0-50\",\"0-50\",\"0-50\",\"0-50\",\"0-50\",\"0-50\",\"0-50\",\"0-50\",\"0-50\",\"0-50\",\"0-50\",\"0-50\",\"0-50\",\"0-50\",\"0-50\",\"0-50\",\"0-50\",\"0-50\",\"0-50\",\"0-50\",\"0-50\",\"0-50\",\"0-50\",\"0-50\",\"0-50\",\"0-50\",\"0-50\",\"0-50\",\"0-50\",\"0-50\",\"0-50\",\"0-50\",\"0-50\",\"0-50\",\"0-50\",\"0-50\",\"0-50\",\"0-50\",\"0-50\",\"0-50\",\"0-50\",\"0-50\",\"0-50\",\"0-50\",\"0-50\",\"0-50\",\"0-50\",\"0-50\",\"0-50\",\"0-50\",\"0-50\",\"0-50\",\"0-50\",\"0-50\",\"0-50\",\"200-500\",\"0-50\",\"50-100\",\"0-50\",\"0-50\",\"0-50\",\"50-100\",\"0-50\",\"0-50\",\"0-50\",\"0-50\",\"0-50\",\"0-50\",\"0-50\",\"0-50\",\"0-50\",\"0-50\",\"200-500\",\"0-50\",\"0-50\",\"0-50\",\"0-50\",\"0-50\",\"0-50\",\"0-50\",\"0-50\",\"0-50\",\"0-50\",\"0-50\",\"200-500\",\"0-50\",\"0-50\",\"0-50\",\"0-50\",\"200-500\",\"0-50\",\"0-50\",\"50-100\",\"0-50\",\"0-50\",\"200-500\",\"50-100\",\"0-50\",\"0-50\",\"0-50\",\"0-50\",\"0-50\",\"0-50\",\"0-50\",\"0-50\",\"0-50\",\"0-50\",\"0-50\",\"0-50\",\"0-50\",\"0-50\",\"0-50\",\"0-50\",\"0-50\",\"0-50\",\"0-50\",\"0-50\",\"0-50\",\"0-50\",\"0-50\",\"0-50\",\"0-50\",\"0-50\",\"0-50\",\"50-100\",\"0-50\",\"0-50\",\"0-50\",\"0-50\",\"0-50\",\"0-50\",\"0-50\",\"0-50\",\"0-50\",\"0-50\",\"0-50\",\"0-50\",\"0-50\",\"0-50\",\"50-100\",\"50-100\",\"0-50\",\"0-50\",\"0-50\",\"0-50\",\"0-50\",\"0-50\",\"0-50\",\"0-50\",\"0-50\",\"0-50\",\"0-50\",\"0-50\",\"0-50\",\"0-50\",\"0-50\",\"0-50\",\"0-50\",\"0-50\",\"0-50\",\"0-50\",\"0-50\",\"50-100\",\"100-200\",\"0-50\",\"0-50\",\"0-50\",\"0-50\",\"0-50\",\"0-50\",\"200-500\",\"200-500\",\"100-200\",\"200-500\",\"200-500\",\"100-200\",\"0-50\",\"0-50\",\"100-200\",\"0-50\",\"200-500\",\"100-200\",\"100-200\",\"0-50\",\"50-100\",\"100-200\",\"100-200\",\"0-50\",\"100-200\",\"200-500\",\"500+\",\"0-50\",\"100-200\",\"0-50\",\"0-50\",\"500+\",\"500+\",\"100-200\",\"50-100\",\"100-200\",\"0-50\",\"0-50\",\"0-50\",\"0-50\",\"50-100\",\"0-50\",\"0-50\",\"50-100\",\"0-50\",\"0-50\",\"0-50\",\"0-50\",\"50-100\",\"500+\",\"50-100\",\"0-50\",\"50-100\",\"0-50\",\"50-100\",\"50-100\",\"200-500\",\"50-100\",\"0-50\",\"0-50\",\"0-50\",\"100-200\",\"0-50\",\"0-50\",\"0-50\",\"0-50\",\"100-200\",\"0-50\",\"0-50\",\"0-50\",\"0-50\",\"0-50\",\"0-50\",\"50-100\",\"0-50\",\"0-50\",\"50-100\",\"0-50\",\"0-50\",\"0-50\",\"0-50\",\"0-50\",\"0-50\",\"0-50\",\"0-50\",\"50-100\",\"0-50\",\"0-50\",\"0-50\",\"0-50\",\"0-50\",\"0-50\",\"0-50\",\"100-200\",\"0-50\",\"0-50\",\"0-50\",\"0-50\",\"0-50\",\"0-50\",\"0-50\",\"0-50\",\"0-50\",\"0-50\",\"0-50\",\"0-50\",\"0-50\",\"0-50\",\"0-50\",\"0-50\",\"50-100\",\"0-50\",\"0-50\",\"0-50\",\"0-50\",\"0-50\",\"0-50\",\"0-50\",\"0-50\",\"0-50\",\"50-100\",\"0-50\",\"0-50\",\"50-100\",\"0-50\",\"0-50\",\"0-50\",\"0-50\",\"50-100\",\"50-100\",\"0-50\",\"0-50\",\"50-100\",\"0-50\",\"200-500\",\"50-100\",\"0-50\",\"0-50\",\"0-50\",\"0-50\",\"0-50\",\"0-50\",\"0-50\",\"100-200\",\"50-100\",\"0-50\",\"0-50\",\"0-50\",\"50-100\",\"0-50\",\"0-50\",\"0-50\",\"0-50\",\"0-50\",\"0-50\",\"0-50\",\"0-50\",\"0-50\",\"0-50\",\"0-50\",\"50-100\",\"0-50\",\"0-50\",\"0-50\",\"0-50\",\"0-50\",\"0-50\",\"0-50\",\"0-50\",\"0-50\",\"0-50\",\"0-50\",\"0-50\",\"0-50\",\"0-50\",\"0-50\",\"0-50\",\"0-50\",\"0-50\",\"0-50\",\"0-50\",\"0-50\",\"100-200\",\"0-50\",\"0-50\",\"0-50\",\"0-50\",\"0-50\",\"0-50\",\"0-50\",\"0-50\",\"0-50\",\"0-50\",\"0-50\",\"0-50\",\"0-50\",\"0-50\",\"0-50\",\"0-50\",\"200-500\",\"0-50\",\"0-50\",\"0-50\",\"0-50\",\"0-50\",\"0-50\",\"0-50\",\"0-50\",\"0-50\",\"0-50\",\"0-50\",\"0-50\",\"0-50\",\"0-50\",\"0-50\",\"0-50\",\"50-100\",\"0-50\",\"0-50\",\"0-50\",\"0-50\",\"0-50\",\"0-50\",\"0-50\",\"0-50\",\"0-50\",\"0-50\",\"0-50\",\"0-50\",\"100-200\",\"0-50\",\"0-50\",\"100-200\",\"0-50\",\"0-50\",\"0-50\",\"0-50\",\"0-50\",\"0-50\",\"0-50\",\"0-50\",\"0-50\",\"0-50\",\"0-50\",\"0-50\",\"0-50\",\"0-50\",\"0-50\",\"0-50\",\"0-50\",\"0-50\",\"0-50\",\"0-50\",\"0-50\",\"0-50\",\"0-50\",\"0-50\",\"0-50\",\"0-50\",\"0-50\",\"0-50\",\"50-100\",\"100-200\",\"0-50\",\"200-500\",\"0-50\",\"100-200\",\"0-50\",\"0-50\",\"0-50\",\"0-50\",\"200-500\",\"0-50\",\"0-50\",\"0-50\",\"0-50\",\"0-50\",\"0-50\",\"0-50\",\"0-50\",\"0-50\",\"0-50\",\"0-50\",\"0-50\",\"0-50\",\"200-500\",\"50-100\",\"0-50\",\"0-50\",\"0-50\",\"200-500\",\"0-50\",\"0-50\",\"50-100\",\"0-50\",\"0-50\",\"200-500\",\"50-100\",\"0-50\",\"0-50\",\"0-50\",\"0-50\",\"0-50\",\"0-50\",\"0-50\",\"50-100\",\"0-50\",\"0-50\",\"0-50\",\"0-50\",\"0-50\",\"0-50\",\"0-50\",\"0-50\",\"0-50\",\"0-50\",\"0-50\",\"0-50\",\"0-50\",\"0-50\",\"50-100\",\"50-100\",\"0-50\",\"0-50\",\"0-50\",\"0-50\",\"0-50\",\"0-50\",\"0-50\",\"0-50\",\"0-50\",\"0-50\",\"0-50\",\"0-50\",\"0-50\",\"0-50\",\"0-50\",\"0-50\",\"0-50\",\"0-50\",\"0-50\",\"0-50\",\"0-50\",\"50-100\",\"100-200\",\"0-50\",\"0-50\",\"0-50\",\"0-50\",\"0-50\",\"200-500\",\"200-500\",\"0-50\",\"0-50\",\"0-50\",\"0-50\",\"0-50\",\"0-50\",\"0-50\",\"0-50\",\"0-50\",\"0-50\",\"0-50\",\"0-50\",\"0-50\",\"0-50\",\"0-50\",\"0-50\",\"0-50\",\"0-50\",null,\"0-50\",\"0-50\",\"0-50\",\"0-50\",\"0-50\",\"0-50\",\"0-50\",\"0-50\",\"0-50\",\"0-50\",\"0-50\",\"0-50\",\"0-50\",\"0-50\",\"0-50\",\"0-50\",\"0-50\",\"0-50\",\"0-50\",\"0-50\",\"0-50\",\"0-50\",\"0-50\",\"0-50\",\"0-50\",\"0-50\",\"0-50\",\"0-50\",\"0-50\",\"0-50\",\"0-50\",\"0-50\",\"0-50\",\"0-50\",\"0-50\",\"0-50\",\"0-50\",\"0-50\",\"0-50\",\"0-50\",\"0-50\",\"0-50\",\"0-50\",\"0-50\",\"0-50\",\"0-50\",\"0-50\",\"0-50\",\"0-50\",\"0-50\",\"0-50\",\"0-50\",\"0-50\",\"0-50\",\"0-50\",\"0-50\",\"0-50\",\"0-50\",\"0-50\",\"0-50\",\"0-50\",\"0-50\",\"0-50\",\"0-50\",\"0-50\",\"0-50\",\"0-50\",\"0-50\",\"0-50\",\"0-50\",\"0-50\",\"0-50\",\"0-50\",\"0-50\",\"0-50\",\"0-50\",\"0-50\",\"0-50\",\"0-50\",\"0-50\",\"0-50\",\"0-50\",\"50-100\",\"0-50\",\"0-50\",\"50-100\",\"0-50\",\"0-50\",\"0-50\",\"500+\",\"0-50\",\"0-50\",\"0-50\",\"0-50\",\"0-50\",\"100-200\",\"0-50\",\"50-100\",\"0-50\",\"50-100\",\"0-50\",\"0-50\",\"0-50\",\"100-200\",\"0-50\",\"0-50\",\"0-50\",\"0-50\",\"0-50\",\"0-50\",\"0-50\",\"50-100\",\"0-50\",\"0-50\",\"0-50\",\"50-100\",\"50-100\",\"0-50\",\"0-50\",\"0-50\",\"0-50\",\"0-50\",\"0-50\",\"50-100\",\"0-50\",\"50-100\",\"0-50\",\"50-100\",\"0-50\",\"0-50\",\"0-50\",\"0-50\",\"0-50\",\"0-50\",\"0-50\",\"0-50\",\"0-50\",\"0-50\",\"50-100\",\"0-50\",\"0-50\",\"50-100\",\"0-50\",\"0-50\",\"0-50\",\"50-100\",\"50-100\",\"0-50\",\"50-100\",\"0-50\",\"0-50\",\"50-100\",\"50-100\",\"0-50\",\"0-50\",\"50-100\",\"50-100\",\"50-100\",\"50-100\",\"0-50\",\"50-100\",\"0-50\",\"100-200\",\"50-100\",\"200-500\",\"0-50\",\"0-50\",\"50-100\",\"0-50\",\"0-50\",\"0-50\",\"100-200\",\"50-100\",\"100-200\",\"0-50\",\"500+\",\"0-50\",\"200-500\",\"500+\",\"200-500\",\"0-50\",\"0-50\",\"0-50\",\"0-50\",\"200-500\",\"0-50\",\"0-50\",\"50-100\",\"0-50\",\"0-50\",\"200-500\",\"50-100\",\"0-50\",\"0-50\",\"0-50\",\"0-50\",\"0-50\",\"0-50\",\"0-50\",\"50-100\",\"0-50\",\"0-50\",\"0-50\",\"0-50\",\"0-50\",\"0-50\",\"0-50\",\"0-50\",\"0-50\",\"0-50\",\"0-50\",\"0-50\",\"0-50\",\"0-50\",\"50-100\",\"50-100\",\"0-50\",\"0-50\",\"0-50\",\"0-50\",\"0-50\",\"0-50\",\"0-50\",\"0-50\",\"0-50\",\"0-50\",\"0-50\",\"0-50\",\"0-50\",\"0-50\",\"0-50\",\"0-50\",\"0-50\",\"0-50\",\"0-50\",\"0-50\",\"0-50\",\"50-100\",\"100-200\",\"0-50\",\"0-50\",\"0-50\",\"0-50\",\"0-50\",\"200-500\",\"200-500\",\"0-50\",\"0-50\",\"0-50\",\"0-50\",\"0-50\",\"0-50\",\"0-50\",\"0-50\",\"0-50\",\"0-50\",\"0-50\",\"0-50\",\"0-50\",\"0-50\",\"0-50\",\"0-50\",\"0-50\",\"0-50\",\"0-50\",\"0-50\",\"0-50\",\"100-200\",\"0-50\",\"0-50\",\"0-50\",\"0-50\",\"0-50\",\"0-50\",\"0-50\",\"0-50\",\"0-50\",\"0-50\",\"0-50\",\"0-50\",\"0-50\",\"0-50\",\"0-50\",\"0-50\",\"0-50\",\"0-50\",\"0-50\",\"0-50\",\"0-50\",\"0-50\",\"0-50\",\"0-50\",\"0-50\",\"0-50\",\"0-50\",\"0-50\",\"0-50\",\"0-50\",\"0-50\",\"0-50\",\"0-50\",\"0-50\",\"0-50\",\"0-50\",\"0-50\",\"0-50\",\"0-50\",\"0-50\",\"0-50\",\"0-50\",\"0-50\",\"0-50\",\"0-50\",\"0-50\",\"0-50\",\"0-50\",\"0-50\",\"0-50\",\"0-50\",\"0-50\",\"0-50\",\"0-50\",\"0-50\",\"0-50\",\"0-50\",\"0-50\",\"0-50\",\"0-50\",\"0-50\",\"0-50\",\"0-50\",\"0-50\",\"0-50\",\"0-50\",\"0-50\",\"0-50\",\"0-50\",\"0-50\",\"0-50\",\"0-50\",\"0-50\",\"0-50\",\"0-50\",\"0-50\",\"0-50\",\"0-50\",\"0-50\",\"0-50\",\"200-500\",\"200-500\",\"100-200\",\"100-200\",\"0-50\",\"0-50\",\"0-50\",\"0-50\",\"0-50\",\"100-200\",\"0-50\",\"500+\",\"100-200\",\"200-500\",\"500+\",\"100-200\",\"50-100\",\"50-100\",\"100-200\",\"0-50\",\"100-200\",\"200-500\",\"500+\",\"0-50\",\"100-200\",\"0-50\",\"500+\",\"0-50\",\"0-50\",\"100-200\",\"0-50\",\"0-50\",\"0-50\",\"0-50\",\"200-500\",\"0-50\",\"0-50\",\"50-100\",\"0-50\",\"0-50\",\"200-500\",\"50-100\",\"0-50\",\"0-50\",\"0-50\",\"0-50\",\"0-50\",\"0-50\",\"0-50\",\"0-50\",\"0-50\",\"0-50\",\"0-50\",\"0-50\",\"0-50\",\"0-50\",\"0-50\",\"0-50\",\"0-50\",\"0-50\",\"0-50\",\"0-50\",\"0-50\",\"0-50\",\"0-50\",\"0-50\",\"0-50\",\"0-50\",\"0-50\",\"50-100\",\"0-50\",\"0-50\",\"0-50\",\"0-50\",\"0-50\",\"0-50\",\"0-50\",\"0-50\",\"0-50\",\"0-50\",\"0-50\",\"0-50\",\"0-50\",\"0-50\",\"0-50\",\"0-50\",\"0-50\",\"0-50\",\"0-50\",\"0-50\",\"0-50\",\"0-50\",\"0-50\",\"0-50\",\"0-50\",\"0-50\",\"0-50\",\"0-50\",\"0-50\",\"0-50\",\"0-50\",\"0-50\",\"0-50\",\"50-100\",\"100-200\",\"0-50\",\"0-50\",\"0-50\",\"0-50\",\"0-50\",\"200-500\",\"200-500\",\"0-50\",\"0-50\",\"0-50\",\"0-50\",\"0-50\",\"0-50\",\"0-50\",\"0-50\",\"0-50\",\"0-50\",\"0-50\",\"0-50\",\"0-50\",\"0-50\",\"0-50\",\"0-50\",\"0-50\",\"0-50\",\"0-50\",\"0-50\",\"100-200\",\"200-500\",\"100-200\",\"0-50\",\"0-50\",\"100-200\",\"0-50\",\"200-500\",\"100-200\",\"100-200\",\"0-50\",\"50-100\",\"100-200\",\"0-50\",\"100-200\",\"200-500\",\"500+\",\"0-50\",\"100-200\",\"0-50\",\"0-50\",\"500+\",\"500+\",\"100-200\",\"50-100\",\"100-200\",\"0-50\",\"0-50\",\"0-50\",\"0-50\",\"0-50\",\"0-50\",\"0-50\",\"50-100\",\"0-50\",\"0-50\",\"0-50\",\"0-50\",\"0-50\",\"0-50\",\"0-50\",\"0-50\",\"0-50\",\"0-50\",\"200-500\",\"0-50\",\"0-50\",\"0-50\",\"0-50\",\"0-50\",\"0-50\",\"0-50\",\"0-50\",\"0-50\",\"0-50\",\"0-50\",\"0-50\",\"0-50\",\"0-50\",\"200-500\",\"0-50\",\"0-50\",\"0-50\",\"0-50\",\"0-50\",\"0-50\",\"0-50\",\"0-50\",\"0-50\",\"0-50\",\"0-50\",\"0-50\",\"0-50\",\"0-50\",\"0-50\",\"200-500\"],\"x0\":\" \",\"xaxis\":\"x\",\"y\":[4.044,6.1279,10.9,6.2024,8.814,10.95,11.02,10.93,11.35,11.8,6.1511,7.0227,6.0999,10.0,4.98,4.84,5.96,-0.25,0.16,-0.1,5.29,11.39,8.3,5.0,5.0,9.43,-0.11,3.36,23.624,6.0999,9.724,9.194,6.0999,6.7664,15.85,4.2,5.7,5.3,9.426,6.7,5.5,5.0,4.7,6.0,6.0999,5.0,8.0078,9.23,8.38,13.2,19.877,10.98,5.0,0.739,5.9326,11.57,12.24,12.96,12.06,12.85,10.17,11.09,13.7,10.0,11.98,11.6,0.8,6.4075,6.2537,9.657,2.84,7.26,19.57,3.4424,3.22,5.4333,10.0,6.757,5.5872,11.6,6.82,13.7,17.18,14.11,10.0,10.0,5.1,7.4,5.43,10.0,5.8,22.0,10.0,5.4077,10.052,5.946,8.828,16.77,7.5,7.6,10.0,224.338,20.71,97.552,29.068,10.0,8.0,69.136,10.0,10.0,10.0,10.0,3.426,7.148,10.0,10.0,10.0,13.0,204.0,10.0,45.057,10.0,15.733,7.204,12.0,10.0,25.706,13.0,10.0,36.648,209.0,15.711,28.953,14.0,11.732,402.166,18.196,24.0,91.0,34.723,9.0,392.698,59.788,11.296,28.949,23.605,40.475,37.767,10.0,12.0,8.991,5.83,17.0,10.0,9.0,8.0,10.0,10.0,32.0,7.556,26.386,29.0,41.798,26.363,16.869,14.297,10.789,15.864,13.931,40.0,73.0,35.0,20.0,44.0,45.09,10.0,6.0,10.0,10.0,10.0,10.0,10.0,10.0,31.0,42.0,84.0,77.731,31.0,13.261,10.0,10.0,10.0,10.0,10.0,10.0,10.0,10.0,10.0,10.0,8.0,10.0,10.0,10.0,6.0,10.0,30.0,12.765,8.0,51.0,176.0,40.452,10.0,34.0,12.851,10.0,4.0,442.0,314.0,123.0,222.966,267.235,127.291,28.0,33.936,113.11,10.0,202.477,175.245,117.0,16.0,61.708,191.769,112.0,34.0,101.15,253.0,571.448,8.0,110.914,21.043,36.0,554.0,575.0,186.0,99.0,135.0,47.174,8.078,10.0,9.0,65.051,19.0,21.0,59.701,9.471,10.0,10.0,34.0,54.787,575.691,88.891,37.801,76.421,9.237,79.702,71.1,251.843,95.514,10.0,10.0,15.0,170.476,0.9,38.471,44.338,25.7,126.3,8.0,25.6,26.3,20.4,33.6,5.0,67.586,43.6,12.1,62.587,10.0,38.0,48.2,49.3,35.0,37.7,41.343,48.4,66.53,25.4,35.0,25.0,28.58,12.0,39.8,35.0,141.837,41.3,22.817,18.9,0.3,10.0,10.0,15.3,38.7,10.0,7.9,30.9,32.0,10.334,20.1,19.601,11.1,64.8,4.7,44.3,34.9,35.0,40.7,12.0,10.0,8.764,3.5,50.524,34.21,14.8,87.0,31.1,8.3,10.0,44.0,69.273,52.8,10.0,35.0,87.8,5.7,253.714,90.0,44.879,35.6,10.0,2.8,10.0,9.8,9.4,193.361,50.42,25.7,40.972,39.0,82.626,1.9,10.0,10.8,40.163,16.0,26.873,16.067,39.269,10.0,10.0,13.116,53.0,4.044,6.1279,6.2024,8.814,6.1511,7.0227,6.0999,10.0,6.0999,9.724,9.194,6.0999,33.882,6.7664,6.0999,5.0,8.0078,5.0,3.7842,0.739,5.9326,140.0,6.4075,6.2537,9.657,1.155,8.1299,5.0,3.4424,1.534,3.2959,5.0,3.0029,5.4333,3.2959,3.1982,6.757,5.5872,262.297,6.304,8.6182,5.4077,10.052,5.946,8.828,7.8369,6.2665,4.9207,5.0,6.0999,6.2408,5.9076,3.902,7.5354,6.8433,61.91,6.1383,6.5228,6.2024,6.7151,8.0737,6.0999,5.0,8.7146,2.164,7.843,10.0,10.0,154.0,3.9722,4.7363,193.139,7.4841,10.0,48.0,9.0,5.0,6.2744,6.2024,6.933,6.51,8.4454,10.0,2.146,6.3232,4.944,7.2791,5.0,3.6865,6.8561,8.3252,2.841,2.1973,3.0,8.4473,10.756,7.9346,10.0,6.1316,6.0999,53.382,190.135,10.0,401.457,11.712,181.278,10.0,6.0,8.0,38.577,204.0,39.269,10.0,10.0,10.0,10.0,10.0,9.0,8.0,12.48,8.0,10.257,14.0,10.0,209.0,53.0,15.711,28.953,11.732,402.166,18.196,24.0,91.0,34.723,9.0,392.698,59.788,11.296,10.0,32.0,7.556,26.386,29.0,41.798,73.0,35.0,20.0,44.0,45.09,10.0,6.0,10.0,10.0,10.0,10.0,10.0,10.0,31.0,42.0,84.0,77.731,31.0,13.261,10.0,10.0,10.0,10.0,10.0,10.0,10.0,10.0,10.0,10.0,8.0,10.0,10.0,10.0,6.0,10.0,30.0,12.765,8.0,51.0,176.0,40.452,10.0,34.0,12.851,10.0,442.0,314.0,9.237,10.9,10.0,10.0,6.2024,8.814,10.95,11.02,10.93,11.35,11.8,6.1511,7.0227,6.0999,10.0,4.98,4.84,5.96,-0.25,0.16,-0.1,5.29,11.39,8.3,5.0,5.0,9.43,-0.11,3.36,23.624,9.194,6.0999,6.7664,15.85,4.2,5.7,5.3,9.426,6.7,5.5,5.0,4.7,6.0,6.0999,5.0,9.23,8.38,13.2,19.877,10.98,5.0,11.57,12.24,12.96,12.06,12.85,10.17,11.09,13.7,10.0,11.98,11.6,0.8,6.4075,6.2537,9.657,2.84,7.26,19.57,3.22,5.4333,10.0,6.757,5.5872,11.6,6.82,13.7,17.18,14.11,10.0,10.0,5.1,7.4,5.43,10.0,5.8,22.0,10.0,5.4077,10.052,5.946,8.828,16.77,7.5,7.6,2.3,5.9,13.48,12.07,10.55,10.649,72.165,47.174,40.983,65.317,15.0,32.0,40.646,639.503,9.0,45.789,39.0,9.9,19.0,127.916,10.208,59.701,22.0,62.174,9.471,10.0,39.0,115.0,10.0,42.374,18.0,14.569,10.0,34.0,35.0,50.159,32.0,21.643,39.0,62.574,81.212,16.406,35.0,12.0,26.021,19.697,40.403,66.931,27.0,55.451,46.818,66.391,24.222,47.433,20.0,13.0,28.046,42.849,36.128,39.402,45.264,19.0,63.392,26.181,9.0,63.645,22.227,48.935,46.378,64.275,51.478,35.0,79.813,36.091,46.557,58.952,52.821,44.034,35.0,66.805,60.468,61.311,61.655,43.301,66.534,40.0,102.0,52.0,289.0,42.657,13.0,51.0,24.286,10.0,8.494,113.0,94.0,151.0,13.0,512.824,47.151,481.974,514.072,500.0,28.833,15.711,28.953,11.732,402.166,18.196,24.0,91.0,34.723,9.0,392.698,59.788,11.296,10.0,32.0,7.556,26.386,29.0,41.798,73.0,35.0,20.0,44.0,45.09,10.0,6.0,10.0,10.0,10.0,10.0,10.0,10.0,31.0,42.0,84.0,77.731,31.0,13.261,10.0,10.0,10.0,10.0,10.0,10.0,10.0,10.0,10.0,10.0,8.0,10.0,10.0,10.0,6.0,10.0,30.0,12.765,8.0,51.0,176.0,40.452,10.0,34.0,12.851,10.0,442.0,314.0,4.044,6.1279,6.2024,8.814,6.1511,7.0227,6.0999,10.0,6.0999,9.724,9.194,6.0999,6.7664,6.0999,5.0,8.0078,5.0,3.7842,0.739,5.9326,2.65,140.0,6.4075,6.2537,9.657,1.155,8.1299,5.0,3.4424,1.534,3.2959,5.0,3.0029,5.4333,3.2959,3.1982,6.757,5.5872,6.304,8.6182,6.51,6.51,5.43,5.4077,10.052,5.946,8.828,7.8369,6.2665,4.9207,5.0,6.0999,6.2408,5.9076,3.902,7.5354,6.8433,7.55,6.1383,6.5228,6.2024,6.7151,8.0737,6.0999,5.0,8.7146,2.164,7.843,10.0,10.0,3.9722,4.7363,7.4841,10.0,5.0,6.2744,6.2024,6.933,6.51,8.4454,2.146,6.3232,4.944,7.2791,5.0,3.6865,6.8561,8.3252,2.841,2.1973,3.0,8.4473,10.756,7.9346,6.1316,6.0999,11.915,5.3556,7.991,3.0,17.533,16.067,222.966,267.235,127.291,176.0,23.0,13.49,21.807,18.0,24.0,106.228,27.0,621.081,113.11,202.477,607.0,175.245,61.708,93.0,191.769,14.0,112.0,253.0,571.448,8.0,110.914,21.043,554.0,40.35,23.218,135.0,15.711,28.953,14.0,11.732,402.166,18.196,24.0,91.0,34.723,9.0,392.698,59.788,11.296,28.949,23.605,40.475,37.767,10.0,12.0,8.991,5.83,17.0,10.0,9.0,8.0,10.0,10.0,32.0,7.556,26.386,29.0,41.798,26.363,16.869,14.297,10.789,15.864,13.931,40.0,73.0,35.0,20.0,44.0,45.09,10.0,6.0,10.0,10.0,10.0,10.0,10.0,10.0,42.0,31.0,13.261,10.0,10.0,10.0,10.0,10.0,10.0,10.0,10.0,10.0,10.0,8.0,10.0,10.0,10.0,6.0,10.0,12.765,8.0,51.0,176.0,40.452,34.0,12.851,18.0,10.0,442.0,314.0,1.108,2.65,6.51,6.51,7.55,4.111,2.624,3.0,6.0,8.879,6.58,6.354,6.71,5.03,11.2,5.0,5.688,5.0,19.89,5.0,123.0,267.235,127.291,28.0,33.936,113.11,10.0,202.477,175.245,117.0,16.0,61.708,191.769,34.0,101.15,253.0,571.448,8.0,110.914,21.043,36.0,554.0,575.0,186.0,99.0,135.0,16.0,26.873,16.067,39.269,10.0,10.0,13.116,53.0,17.533,26.873,16.067,10.0,10.0,9.0,9.462,7.0,10.0,10.0,224.338,29.068,10.0,8.0,6.0,8.0,38.577,10.0,10.0,3.426,7.148,10.0,10.0,10.0,13.0,204.0,10.0,7.204,12.0,25.706,10.0,10.0,10.0,10.0,9.0,8.0,12.48,8.0,10.257,14.0,13.0,209.0],\"y0\":\" \",\"yaxis\":\"y\",\"type\":\"box\"}],                        {\"template\":{\"data\":{\"histogram2dcontour\":[{\"type\":\"histogram2dcontour\",\"colorbar\":{\"outlinewidth\":0,\"ticks\":\"\"},\"colorscale\":[[0.0,\"#0d0887\"],[0.1111111111111111,\"#46039f\"],[0.2222222222222222,\"#7201a8\"],[0.3333333333333333,\"#9c179e\"],[0.4444444444444444,\"#bd3786\"],[0.5555555555555556,\"#d8576b\"],[0.6666666666666666,\"#ed7953\"],[0.7777777777777778,\"#fb9f3a\"],[0.8888888888888888,\"#fdca26\"],[1.0,\"#f0f921\"]]}],\"choropleth\":[{\"type\":\"choropleth\",\"colorbar\":{\"outlinewidth\":0,\"ticks\":\"\"}}],\"histogram2d\":[{\"type\":\"histogram2d\",\"colorbar\":{\"outlinewidth\":0,\"ticks\":\"\"},\"colorscale\":[[0.0,\"#0d0887\"],[0.1111111111111111,\"#46039f\"],[0.2222222222222222,\"#7201a8\"],[0.3333333333333333,\"#9c179e\"],[0.4444444444444444,\"#bd3786\"],[0.5555555555555556,\"#d8576b\"],[0.6666666666666666,\"#ed7953\"],[0.7777777777777778,\"#fb9f3a\"],[0.8888888888888888,\"#fdca26\"],[1.0,\"#f0f921\"]]}],\"heatmap\":[{\"type\":\"heatmap\",\"colorbar\":{\"outlinewidth\":0,\"ticks\":\"\"},\"colorscale\":[[0.0,\"#0d0887\"],[0.1111111111111111,\"#46039f\"],[0.2222222222222222,\"#7201a8\"],[0.3333333333333333,\"#9c179e\"],[0.4444444444444444,\"#bd3786\"],[0.5555555555555556,\"#d8576b\"],[0.6666666666666666,\"#ed7953\"],[0.7777777777777778,\"#fb9f3a\"],[0.8888888888888888,\"#fdca26\"],[1.0,\"#f0f921\"]]}],\"heatmapgl\":[{\"type\":\"heatmapgl\",\"colorbar\":{\"outlinewidth\":0,\"ticks\":\"\"},\"colorscale\":[[0.0,\"#0d0887\"],[0.1111111111111111,\"#46039f\"],[0.2222222222222222,\"#7201a8\"],[0.3333333333333333,\"#9c179e\"],[0.4444444444444444,\"#bd3786\"],[0.5555555555555556,\"#d8576b\"],[0.6666666666666666,\"#ed7953\"],[0.7777777777777778,\"#fb9f3a\"],[0.8888888888888888,\"#fdca26\"],[1.0,\"#f0f921\"]]}],\"contourcarpet\":[{\"type\":\"contourcarpet\",\"colorbar\":{\"outlinewidth\":0,\"ticks\":\"\"}}],\"contour\":[{\"type\":\"contour\",\"colorbar\":{\"outlinewidth\":0,\"ticks\":\"\"},\"colorscale\":[[0.0,\"#0d0887\"],[0.1111111111111111,\"#46039f\"],[0.2222222222222222,\"#7201a8\"],[0.3333333333333333,\"#9c179e\"],[0.4444444444444444,\"#bd3786\"],[0.5555555555555556,\"#d8576b\"],[0.6666666666666666,\"#ed7953\"],[0.7777777777777778,\"#fb9f3a\"],[0.8888888888888888,\"#fdca26\"],[1.0,\"#f0f921\"]]}],\"surface\":[{\"type\":\"surface\",\"colorbar\":{\"outlinewidth\":0,\"ticks\":\"\"},\"colorscale\":[[0.0,\"#0d0887\"],[0.1111111111111111,\"#46039f\"],[0.2222222222222222,\"#7201a8\"],[0.3333333333333333,\"#9c179e\"],[0.4444444444444444,\"#bd3786\"],[0.5555555555555556,\"#d8576b\"],[0.6666666666666666,\"#ed7953\"],[0.7777777777777778,\"#fb9f3a\"],[0.8888888888888888,\"#fdca26\"],[1.0,\"#f0f921\"]]}],\"mesh3d\":[{\"type\":\"mesh3d\",\"colorbar\":{\"outlinewidth\":0,\"ticks\":\"\"}}],\"scatter\":[{\"fillpattern\":{\"fillmode\":\"overlay\",\"size\":10,\"solidity\":0.2},\"type\":\"scatter\"}],\"parcoords\":[{\"type\":\"parcoords\",\"line\":{\"colorbar\":{\"outlinewidth\":0,\"ticks\":\"\"}}}],\"scatterpolargl\":[{\"type\":\"scatterpolargl\",\"marker\":{\"colorbar\":{\"outlinewidth\":0,\"ticks\":\"\"}}}],\"bar\":[{\"error_x\":{\"color\":\"#2a3f5f\"},\"error_y\":{\"color\":\"#2a3f5f\"},\"marker\":{\"line\":{\"color\":\"#E5ECF6\",\"width\":0.5},\"pattern\":{\"fillmode\":\"overlay\",\"size\":10,\"solidity\":0.2}},\"type\":\"bar\"}],\"scattergeo\":[{\"type\":\"scattergeo\",\"marker\":{\"colorbar\":{\"outlinewidth\":0,\"ticks\":\"\"}}}],\"scatterpolar\":[{\"type\":\"scatterpolar\",\"marker\":{\"colorbar\":{\"outlinewidth\":0,\"ticks\":\"\"}}}],\"histogram\":[{\"marker\":{\"pattern\":{\"fillmode\":\"overlay\",\"size\":10,\"solidity\":0.2}},\"type\":\"histogram\"}],\"scattergl\":[{\"type\":\"scattergl\",\"marker\":{\"colorbar\":{\"outlinewidth\":0,\"ticks\":\"\"}}}],\"scatter3d\":[{\"type\":\"scatter3d\",\"line\":{\"colorbar\":{\"outlinewidth\":0,\"ticks\":\"\"}},\"marker\":{\"colorbar\":{\"outlinewidth\":0,\"ticks\":\"\"}}}],\"scattermapbox\":[{\"type\":\"scattermapbox\",\"marker\":{\"colorbar\":{\"outlinewidth\":0,\"ticks\":\"\"}}}],\"scatterternary\":[{\"type\":\"scatterternary\",\"marker\":{\"colorbar\":{\"outlinewidth\":0,\"ticks\":\"\"}}}],\"scattercarpet\":[{\"type\":\"scattercarpet\",\"marker\":{\"colorbar\":{\"outlinewidth\":0,\"ticks\":\"\"}}}],\"carpet\":[{\"aaxis\":{\"endlinecolor\":\"#2a3f5f\",\"gridcolor\":\"white\",\"linecolor\":\"white\",\"minorgridcolor\":\"white\",\"startlinecolor\":\"#2a3f5f\"},\"baxis\":{\"endlinecolor\":\"#2a3f5f\",\"gridcolor\":\"white\",\"linecolor\":\"white\",\"minorgridcolor\":\"white\",\"startlinecolor\":\"#2a3f5f\"},\"type\":\"carpet\"}],\"table\":[{\"cells\":{\"fill\":{\"color\":\"#EBF0F8\"},\"line\":{\"color\":\"white\"}},\"header\":{\"fill\":{\"color\":\"#C8D4E3\"},\"line\":{\"color\":\"white\"}},\"type\":\"table\"}],\"barpolar\":[{\"marker\":{\"line\":{\"color\":\"#E5ECF6\",\"width\":0.5},\"pattern\":{\"fillmode\":\"overlay\",\"size\":10,\"solidity\":0.2}},\"type\":\"barpolar\"}],\"pie\":[{\"automargin\":true,\"type\":\"pie\"}]},\"layout\":{\"autotypenumbers\":\"strict\",\"colorway\":[\"#636efa\",\"#EF553B\",\"#00cc96\",\"#ab63fa\",\"#FFA15A\",\"#19d3f3\",\"#FF6692\",\"#B6E880\",\"#FF97FF\",\"#FECB52\"],\"font\":{\"color\":\"#2a3f5f\"},\"hovermode\":\"closest\",\"hoverlabel\":{\"align\":\"left\"},\"paper_bgcolor\":\"white\",\"plot_bgcolor\":\"#E5ECF6\",\"polar\":{\"bgcolor\":\"#E5ECF6\",\"angularaxis\":{\"gridcolor\":\"white\",\"linecolor\":\"white\",\"ticks\":\"\"},\"radialaxis\":{\"gridcolor\":\"white\",\"linecolor\":\"white\",\"ticks\":\"\"}},\"ternary\":{\"bgcolor\":\"#E5ECF6\",\"aaxis\":{\"gridcolor\":\"white\",\"linecolor\":\"white\",\"ticks\":\"\"},\"baxis\":{\"gridcolor\":\"white\",\"linecolor\":\"white\",\"ticks\":\"\"},\"caxis\":{\"gridcolor\":\"white\",\"linecolor\":\"white\",\"ticks\":\"\"}},\"coloraxis\":{\"colorbar\":{\"outlinewidth\":0,\"ticks\":\"\"}},\"colorscale\":{\"sequential\":[[0.0,\"#0d0887\"],[0.1111111111111111,\"#46039f\"],[0.2222222222222222,\"#7201a8\"],[0.3333333333333333,\"#9c179e\"],[0.4444444444444444,\"#bd3786\"],[0.5555555555555556,\"#d8576b\"],[0.6666666666666666,\"#ed7953\"],[0.7777777777777778,\"#fb9f3a\"],[0.8888888888888888,\"#fdca26\"],[1.0,\"#f0f921\"]],\"sequentialminus\":[[0.0,\"#0d0887\"],[0.1111111111111111,\"#46039f\"],[0.2222222222222222,\"#7201a8\"],[0.3333333333333333,\"#9c179e\"],[0.4444444444444444,\"#bd3786\"],[0.5555555555555556,\"#d8576b\"],[0.6666666666666666,\"#ed7953\"],[0.7777777777777778,\"#fb9f3a\"],[0.8888888888888888,\"#fdca26\"],[1.0,\"#f0f921\"]],\"diverging\":[[0,\"#8e0152\"],[0.1,\"#c51b7d\"],[0.2,\"#de77ae\"],[0.3,\"#f1b6da\"],[0.4,\"#fde0ef\"],[0.5,\"#f7f7f7\"],[0.6,\"#e6f5d0\"],[0.7,\"#b8e186\"],[0.8,\"#7fbc41\"],[0.9,\"#4d9221\"],[1,\"#276419\"]]},\"xaxis\":{\"gridcolor\":\"white\",\"linecolor\":\"white\",\"ticks\":\"\",\"title\":{\"standoff\":15},\"zerolinecolor\":\"white\",\"automargin\":true,\"zerolinewidth\":2},\"yaxis\":{\"gridcolor\":\"white\",\"linecolor\":\"white\",\"ticks\":\"\",\"title\":{\"standoff\":15},\"zerolinecolor\":\"white\",\"automargin\":true,\"zerolinewidth\":2},\"scene\":{\"xaxis\":{\"backgroundcolor\":\"#E5ECF6\",\"gridcolor\":\"white\",\"linecolor\":\"white\",\"showbackground\":true,\"ticks\":\"\",\"zerolinecolor\":\"white\",\"gridwidth\":2},\"yaxis\":{\"backgroundcolor\":\"#E5ECF6\",\"gridcolor\":\"white\",\"linecolor\":\"white\",\"showbackground\":true,\"ticks\":\"\",\"zerolinecolor\":\"white\",\"gridwidth\":2},\"zaxis\":{\"backgroundcolor\":\"#E5ECF6\",\"gridcolor\":\"white\",\"linecolor\":\"white\",\"showbackground\":true,\"ticks\":\"\",\"zerolinecolor\":\"white\",\"gridwidth\":2}},\"shapedefaults\":{\"line\":{\"color\":\"#2a3f5f\"}},\"annotationdefaults\":{\"arrowcolor\":\"#2a3f5f\",\"arrowhead\":0,\"arrowwidth\":1},\"geo\":{\"bgcolor\":\"white\",\"landcolor\":\"#E5ECF6\",\"subunitcolor\":\"white\",\"showland\":true,\"showlakes\":true,\"lakecolor\":\"white\"},\"title\":{\"x\":0.05},\"mapbox\":{\"style\":\"light\"}}},\"xaxis\":{\"anchor\":\"y\",\"domain\":[0.0,1.0],\"title\":{\"text\":\"Categoria de Profundidade\"}},\"yaxis\":{\"anchor\":\"x\",\"domain\":[0.0,1.0],\"title\":{\"text\":\"Profundidade\"}},\"legend\":{\"tracegroupgap\":0},\"title\":{\"text\":\"Distribui\\u00e7\\u00e3o de Profundidade por Faixa de Categoriza\\u00e7\\u00e3o\"},\"boxmode\":\"group\"},                        {\"responsive\": true}                    ).then(function(){\n",
       "                            \n",
       "var gd = document.getElementById('01290907-139b-4978-b415-7781547bfd25');\n",
       "var x = new MutationObserver(function (mutations, observer) {{\n",
       "        var display = window.getComputedStyle(gd).display;\n",
       "        if (!display || display === 'none') {{\n",
       "            console.log([gd, 'removed!']);\n",
       "            Plotly.purge(gd);\n",
       "            observer.disconnect();\n",
       "        }}\n",
       "}});\n",
       "\n",
       "// Listen for the removal of the full notebook cells\n",
       "var notebookContainer = gd.closest('#notebook-container');\n",
       "if (notebookContainer) {{\n",
       "    x.observe(notebookContainer, {childList: true});\n",
       "}}\n",
       "\n",
       "// Listen for the clearing of the current output cell\n",
       "var outputEl = gd.closest('.output');\n",
       "if (outputEl) {{\n",
       "    x.observe(outputEl, {childList: true});\n",
       "}}\n",
       "\n",
       "                        })                };                });            </script>        </div>"
      ]
     },
     "metadata": {},
     "output_type": "display_data"
    }
   ],
   "source": [
    "min_depth = -0.24\n",
    "max_depth = 639.503\n",
    "\n",
    "bins = [min_depth, 50, 100, 200, 500, max_depth]\n",
    "labels = ['0-50', '50-100', '100-200', '200-500', '500+']\n",
    "\n",
    "df_selecionado.loc[:, 'depth_categoria'] = pd.cut(df_selecionado['depth'], bins=bins, labels=labels)\n",
    "\n",
    "fig = px.box(\n",
    "    df_selecionado, \n",
    "    x='depth_categoria',  # Categorização da profundidade\n",
    "    y='depth',  # Coluna de profundidade para a análise\n",
    "    labels={'depth': 'Profundidade', 'depth_categoria': 'Categoria de Profundidade'},\n",
    "    title='Distribuição de Profundidade por Faixa de Categorização'\n",
    ")\n",
    "\n",
    "fig.show()\n"
   ]
  },
  {
   "cell_type": "code",
   "execution_count": null,
   "id": "ed941a19-61ba-44f0-add1-d0db1d8cf6ec",
   "metadata": {},
   "outputs": [],
   "source": []
  },
  {
   "cell_type": "code",
   "execution_count": null,
   "id": "df5737c1-444a-4756-a682-2c5330511fad",
   "metadata": {},
   "outputs": [],
   "source": []
  }
 ],
 "metadata": {
  "kernelspec": {
   "display_name": "Python 3 (ipykernel)",
   "language": "python",
   "name": "python3"
  },
  "language_info": {
   "codemirror_mode": {
    "name": "ipython",
    "version": 3
   },
   "file_extension": ".py",
   "mimetype": "text/x-python",
   "name": "python",
   "nbconvert_exporter": "python",
   "pygments_lexer": "ipython3",
   "version": "3.12.3"
  }
 },
 "nbformat": 4,
 "nbformat_minor": 5
}
